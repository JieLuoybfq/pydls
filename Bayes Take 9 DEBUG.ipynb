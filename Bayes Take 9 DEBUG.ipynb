{
 "cells": [
  {
   "cell_type": "code",
   "execution_count": 1,
   "metadata": {},
   "outputs": [],
   "source": [
    "import dlsfunctions as dls\n",
    "import numpy as np\n",
    "import matplotlib.pyplot as plt\n",
    "import emcee\n"
   ]
  },
  {
   "cell_type": "code",
   "execution_count": 5,
   "metadata": {},
   "outputs": [
    {
     "data": {
      "text/latex": [
       "Previously in Bayes take 9, the inferred distribution showed increased curvature and additional unexpected peaks.\n",
       "The problem still might lie in the normalization of the inferred distribution. This notebook will further investigate\n",
       "where that problem might be occuring\n"
      ],
      "text/plain": [
       "<IPython.core.display.Latex object>"
      ]
     },
     "metadata": {},
     "output_type": "display_data"
    }
   ],
   "source": [
    "%%latex\n",
    "Previously in Bayes take 9, the inferred distribution showed increased curvature and additional unexpected peaks.\n",
    "The problem still might lie in the normalization of the inferred distribution. This notebook will further investigate\n",
    "where that problem might be occuring"
   ]
  },
  {
   "cell_type": "code",
   "execution_count": 6,
   "metadata": {},
   "outputs": [],
   "source": [
    "r = 2.2439608235145855e-09    # in meters\n",
    "diameter = r * 2\n",
    "mean = diameter - 3e-9\n",
    "sigma = 2e-10\n",
    "c = 1\n",
    "d = np.linspace(5e-10, 9e-9, 20)\n",
    "f_1 = dls.generate_distribution(d, mean, sigma, c)"
   ]
  },
  {
   "cell_type": "code",
   "execution_count": 13,
   "metadata": {},
   "outputs": [],
   "source": [
    "m = 20\n",
    "# c is already defined\n",
    "eta = 1e-3\n",
    "n = 1.33 \n",
    "theta = np.pi/2\n",
    "k_b = 1.38e-23\n",
    "t = 298.15\n",
    "lambda_0 = 638e-9\n",
    "beta = 1\n",
    "\n",
    "time_in = np.linspace(1e-4, 1e-1, 200)*0.001\n",
    "gamma = dls.calc_gamma(m, c, eta, n, theta, k_b, t, lambda_0)"
   ]
  },
  {
   "cell_type": "code",
   "execution_count": 4,
   "metadata": {},
   "outputs": [],
   "source": [
    "theta_input = np.append(f_1, beta)"
   ]
  },
  {
   "cell_type": "code",
   "execution_count": 8,
   "metadata": {},
   "outputs": [],
   "source": [
    "simulated_data_0 = dls.g2(theta_input, d, m, gamma, np.zeros(200))"
   ]
  },
  {
   "cell_type": "code",
   "execution_count": 9,
   "metadata": {},
   "outputs": [
    {
     "data": {
      "text/plain": [
       "array([1.00000445, 1.00000445, 1.00000445, 1.00000445, 1.00000445,\n",
       "       1.00000445, 1.00000445, 1.00000445, 1.00000445, 1.00000445,\n",
       "       1.00000445, 1.00000445, 1.00000445, 1.00000445, 1.00000445,\n",
       "       1.00000445, 1.00000445, 1.00000445, 1.00000445, 1.00000445,\n",
       "       1.00000445, 1.00000445, 1.00000445, 1.00000445, 1.00000445,\n",
       "       1.00000445, 1.00000445, 1.00000445, 1.00000445, 1.00000445,\n",
       "       1.00000445, 1.00000445, 1.00000445, 1.00000445, 1.00000445,\n",
       "       1.00000445, 1.00000445, 1.00000445, 1.00000445, 1.00000445,\n",
       "       1.00000445, 1.00000445, 1.00000445, 1.00000445, 1.00000445,\n",
       "       1.00000445, 1.00000445, 1.00000445, 1.00000445, 1.00000445,\n",
       "       1.00000445, 1.00000445, 1.00000445, 1.00000445, 1.00000445,\n",
       "       1.00000445, 1.00000445, 1.00000445, 1.00000445, 1.00000445,\n",
       "       1.00000445, 1.00000445, 1.00000445, 1.00000445, 1.00000445,\n",
       "       1.00000445, 1.00000445, 1.00000445, 1.00000445, 1.00000445,\n",
       "       1.00000445, 1.00000445, 1.00000445, 1.00000445, 1.00000445,\n",
       "       1.00000445, 1.00000445, 1.00000445, 1.00000445, 1.00000445,\n",
       "       1.00000445, 1.00000445, 1.00000445, 1.00000445, 1.00000445,\n",
       "       1.00000445, 1.00000445, 1.00000445, 1.00000445, 1.00000445,\n",
       "       1.00000445, 1.00000445, 1.00000445, 1.00000445, 1.00000445,\n",
       "       1.00000445, 1.00000445, 1.00000445, 1.00000445, 1.00000445,\n",
       "       1.00000445, 1.00000445, 1.00000445, 1.00000445, 1.00000445,\n",
       "       1.00000445, 1.00000445, 1.00000445, 1.00000445, 1.00000445,\n",
       "       1.00000445, 1.00000445, 1.00000445, 1.00000445, 1.00000445,\n",
       "       1.00000445, 1.00000445, 1.00000445, 1.00000445, 1.00000445,\n",
       "       1.00000445, 1.00000445, 1.00000445, 1.00000445, 1.00000445,\n",
       "       1.00000445, 1.00000445, 1.00000445, 1.00000445, 1.00000445,\n",
       "       1.00000445, 1.00000445, 1.00000445, 1.00000445, 1.00000445,\n",
       "       1.00000445, 1.00000445, 1.00000445, 1.00000445, 1.00000445,\n",
       "       1.00000445, 1.00000445, 1.00000445, 1.00000445, 1.00000445,\n",
       "       1.00000445, 1.00000445, 1.00000445, 1.00000445, 1.00000445,\n",
       "       1.00000445, 1.00000445, 1.00000445, 1.00000445, 1.00000445,\n",
       "       1.00000445, 1.00000445, 1.00000445, 1.00000445, 1.00000445,\n",
       "       1.00000445, 1.00000445, 1.00000445, 1.00000445, 1.00000445,\n",
       "       1.00000445, 1.00000445, 1.00000445, 1.00000445, 1.00000445,\n",
       "       1.00000445, 1.00000445, 1.00000445, 1.00000445, 1.00000445,\n",
       "       1.00000445, 1.00000445, 1.00000445, 1.00000445, 1.00000445,\n",
       "       1.00000445, 1.00000445, 1.00000445, 1.00000445, 1.00000445,\n",
       "       1.00000445, 1.00000445, 1.00000445, 1.00000445, 1.00000445,\n",
       "       1.00000445, 1.00000445, 1.00000445, 1.00000445, 1.00000445,\n",
       "       1.00000445, 1.00000445, 1.00000445, 1.00000445, 1.00000445])"
      ]
     },
     "execution_count": 9,
     "metadata": {},
     "output_type": "execute_result"
    }
   ],
   "source": [
    "simulated_data_0"
   ]
  },
  {
   "cell_type": "code",
   "execution_count": 11,
   "metadata": {},
   "outputs": [
    {
     "data": {
      "text/plain": [
       "-1.7291521892550387e+18"
      ]
     },
     "execution_count": 11,
     "metadata": {},
     "output_type": "execute_result"
    }
   ],
   "source": [
    "dls.log_prior(theta_input, m)"
   ]
  },
  {
   "cell_type": "code",
   "execution_count": 15,
   "metadata": {},
   "outputs": [],
   "source": [
    "simulated_data = dls.g2(theta_input, d, m, gamma, time_in)"
   ]
  },
  {
   "cell_type": "code",
   "execution_count": 16,
   "metadata": {},
   "outputs": [
    {
     "data": {
      "text/plain": [
       "-0.0"
      ]
     },
     "execution_count": 16,
     "metadata": {},
     "output_type": "execute_result"
    }
   ],
   "source": [
    "dls.log_likelihood(theta_input, d, simulated_data, m, gamma, time_in)"
   ]
  },
  {
   "cell_type": "code",
   "execution_count": 17,
   "metadata": {},
   "outputs": [
    {
     "data": {
      "text/plain": [
       "-1.7291521892550387e+18"
      ]
     },
     "execution_count": 17,
     "metadata": {},
     "output_type": "execute_result"
    }
   ],
   "source": [
    "dls.log_posterior(theta_input, d, simulated_data, m , gamma, time_in)"
   ]
  },
  {
   "cell_type": "code",
   "execution_count": null,
   "metadata": {},
   "outputs": [],
   "source": [
    "#forward calculations for inferred distribution"
   ]
  }
 ],
 "metadata": {
  "kernelspec": {
   "display_name": "Python 3",
   "language": "python",
   "name": "python3"
  },
  "language_info": {
   "codemirror_mode": {
    "name": "ipython",
    "version": 3
   },
   "file_extension": ".py",
   "mimetype": "text/x-python",
   "name": "python",
   "nbconvert_exporter": "python",
   "pygments_lexer": "ipython3",
   "version": "3.7.3"
  }
 },
 "nbformat": 4,
 "nbformat_minor": 2
}
