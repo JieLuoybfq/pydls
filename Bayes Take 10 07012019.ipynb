{
 "cells": [
  {
   "cell_type": "code",
   "execution_count": 7,
   "metadata": {},
   "outputs": [],
   "source": [
    "import dlsfunctions as dls\n",
    "import emcee\n",
    "import numpy as np\n",
    "import seaborn as sns\n",
    "import pandas as pd\n",
    "import matplotlib.pyplot as plt"
   ]
  },
  {
   "cell_type": "code",
   "execution_count": 2,
   "metadata": {},
   "outputs": [],
   "source": [
    "r = 2.2439608235145855e-09    # in meters\n",
    "diameter = r * 2\n",
    "mean = diameter - 3e-9\n",
    "sigma = 2e-10\n",
    "c = 1\n",
    "d = np.linspace(5e-10, 9e-9, 20)\n",
    "f_1 = dls.generate_distribution(d, mean, sigma, c)"
   ]
  },
  {
   "cell_type": "code",
   "execution_count": 3,
   "metadata": {},
   "outputs": [],
   "source": [
    "m = 20\n",
    "# c is already defined\n",
    "eta = 1e-3\n",
    "n = 1.33 \n",
    "theta = np.pi/2\n",
    "k_b = 1.38e-23\n",
    "t = 298.15\n",
    "lambda_0 = 638e-9\n",
    "beta = 1\n",
    "\n",
    "time_in = np.linspace(1e-4, 1e-1, 200)*0.001\n",
    "gamma = dls.calc_gamma(m, c, eta, n, theta, k_b, t, lambda_0)"
   ]
  },
  {
   "cell_type": "code",
   "execution_count": 4,
   "metadata": {},
   "outputs": [],
   "source": [
    "theta_input = np.append(f_1, beta)"
   ]
  },
  {
   "cell_type": "code",
   "execution_count": 5,
   "metadata": {},
   "outputs": [],
   "source": [
    "simulated_data = dls.g2(theta_input, d, m, gamma, time_in)"
   ]
  },
  {
   "cell_type": "code",
   "execution_count": 8,
   "metadata": {},
   "outputs": [
    {
     "data": {
      "text/plain": [
       "[<matplotlib.lines.Line2D at 0x7f05b9f91a90>]"
      ]
     },
     "execution_count": 8,
     "metadata": {},
     "output_type": "execute_result"
    },
    {
     "data": {
      "image/png": "[encoded data removed]",
      "text/plain": [
       "<Figure size 432x288 with 1 Axes>"
      ]
     },
     "metadata": {
      "needs_background": "light"
     },
     "output_type": "display_data"
    }
   ],
   "source": [
    "plt.semilogx(time_in, simulated_data)"
   ]
  },
  {
   "cell_type": "code",
   "execution_count": 9,
   "metadata": {},
   "outputs": [],
   "source": [
    "ndim = 21\n",
    "nwalkers = 100\n",
    "nsteps = 3000"
   ]
  },
  {
   "cell_type": "code",
   "execution_count": 10,
   "metadata": {},
   "outputs": [],
   "source": [
    "start_pos = [theta_input + 1e-4*np.random.rand(ndim) for i in range(nwalkers)] "
   ]
  },
  {
   "cell_type": "code",
   "execution_count": 11,
   "metadata": {},
   "outputs": [],
   "source": [
    "sampler = emcee.EnsembleSampler(nwalkers, ndim, dls.log_posterior, args=(d, simulated_data, m, gamma, time_in))"
   ]
  },
  {
   "cell_type": "code",
   "execution_count": 12,
   "metadata": {},
   "outputs": [
    {
     "data": {
      "text/plain": [
       "array([0.37933333, 0.37766667, 0.37766667, 0.37      , 0.374     ,\n",
       "       0.382     , 0.377     , 0.38133333, 0.37733333, 0.39933333,\n",
       "       0.38733333, 0.386     , 0.37766667, 0.37333333, 0.383     ,\n",
       "       0.35966667, 0.38466667, 0.37166667, 0.37833333, 0.37666667,\n",
       "       0.37566667, 0.37033333, 0.36466667, 0.40333333, 0.36933333,\n",
       "       0.38      , 0.38233333, 0.36166667, 0.38533333, 0.38533333,\n",
       "       0.37866667, 0.38033333, 0.39866667, 0.40166667, 0.39166667,\n",
       "       0.388     , 0.38333333, 0.389     , 0.37633333, 0.375     ,\n",
       "       0.39033333, 0.387     , 0.374     , 0.38466667, 0.382     ,\n",
       "       0.38266667, 0.37133333, 0.375     , 0.366     , 0.389     ,\n",
       "       0.39133333, 0.393     , 0.36633333, 0.39333333, 0.38333333,\n",
       "       0.378     , 0.36566667, 0.38666667, 0.38433333, 0.37566667,\n",
       "       0.383     , 0.38533333, 0.37766667, 0.37466667, 0.38366667,\n",
       "       0.38066667, 0.388     , 0.388     , 0.38066667, 0.38266667,\n",
       "       0.38433333, 0.386     , 0.36833333, 0.378     , 0.37766667,\n",
       "       0.373     , 0.389     , 0.38766667, 0.37766667, 0.394     ,\n",
       "       0.374     , 0.37933333, 0.38033333, 0.39033333, 0.37866667,\n",
       "       0.374     , 0.379     , 0.37233333, 0.38266667, 0.377     ,\n",
       "       0.39      , 0.381     , 0.38633333, 0.38      , 0.38433333,\n",
       "       0.38266667, 0.376     , 0.371     , 0.389     , 0.388     ])"
      ]
     },
     "execution_count": 12,
     "metadata": {},
     "output_type": "execute_result"
    }
   ],
   "source": [
    "result = sampler.run_mcmc(start_pos, nsteps)\n",
    "sampler.acceptance_fraction"
   ]
  },
  {
   "cell_type": "code",
   "execution_count": 13,
   "metadata": {},
   "outputs": [
    {
     "name": "stderr",
     "output_type": "stream",
     "text": [
      "/home/tle3/anaconda3/lib/python3.7/site-packages/seaborn/timeseries.py:183: UserWarning: The `tsplot` function is deprecated and will be removed in a future release. Please update your code to use the new `lineplot` function.\n",
      "  warnings.warn(msg, UserWarning)\n",
      "/home/tle3/anaconda3/lib/python3.7/site-packages/seaborn/timeseries.py:183: UserWarning: The `tsplot` function is deprecated and will be removed in a future release. Please update your code to use the new `lineplot` function.\n",
      "  warnings.warn(msg, UserWarning)\n",
      "/home/tle3/anaconda3/lib/python3.7/site-packages/seaborn/timeseries.py:183: UserWarning: The `tsplot` function is deprecated and will be removed in a future release. Please update your code to use the new `lineplot` function.\n",
      "  warnings.warn(msg, UserWarning)\n",
      "/home/tle3/anaconda3/lib/python3.7/site-packages/seaborn/timeseries.py:183: UserWarning: The `tsplot` function is deprecated and will be removed in a future release. Please update your code to use the new `lineplot` function.\n",
      "  warnings.warn(msg, UserWarning)\n",
      "/home/tle3/anaconda3/lib/python3.7/site-packages/seaborn/timeseries.py:183: UserWarning: The `tsplot` function is deprecated and will be removed in a future release. Please update your code to use the new `lineplot` function.\n",
      "  warnings.warn(msg, UserWarning)\n",
      "/home/tle3/anaconda3/lib/python3.7/site-packages/seaborn/timeseries.py:183: UserWarning: The `tsplot` function is deprecated and will be removed in a future release. Please update your code to use the new `lineplot` function.\n",
      "  warnings.warn(msg, UserWarning)\n",
      "/home/tle3/anaconda3/lib/python3.7/site-packages/seaborn/timeseries.py:183: UserWarning: The `tsplot` function is deprecated and will be removed in a future release. Please update your code to use the new `lineplot` function.\n",
      "  warnings.warn(msg, UserWarning)\n",
      "/home/tle3/anaconda3/lib/python3.7/site-packages/seaborn/timeseries.py:183: UserWarning: The `tsplot` function is deprecated and will be removed in a future release. Please update your code to use the new `lineplot` function.\n",
      "  warnings.warn(msg, UserWarning)\n",
      "/home/tle3/anaconda3/lib/python3.7/site-packages/seaborn/timeseries.py:183: UserWarning: The `tsplot` function is deprecated and will be removed in a future release. Please update your code to use the new `lineplot` function.\n",
      "  warnings.warn(msg, UserWarning)\n",
      "/home/tle3/anaconda3/lib/python3.7/site-packages/seaborn/timeseries.py:183: UserWarning: The `tsplot` function is deprecated and will be removed in a future release. Please update your code to use the new `lineplot` function.\n",
      "  warnings.warn(msg, UserWarning)\n",
      "/home/tle3/anaconda3/lib/python3.7/site-packages/seaborn/timeseries.py:183: UserWarning: The `tsplot` function is deprecated and will be removed in a future release. Please update your code to use the new `lineplot` function.\n",
      "  warnings.warn(msg, UserWarning)\n",
      "/home/tle3/anaconda3/lib/python3.7/site-packages/seaborn/timeseries.py:183: UserWarning: The `tsplot` function is deprecated and will be removed in a future release. Please update your code to use the new `lineplot` function.\n",
      "  warnings.warn(msg, UserWarning)\n",
      "/home/tle3/anaconda3/lib/python3.7/site-packages/seaborn/timeseries.py:183: UserWarning: The `tsplot` function is deprecated and will be removed in a future release. Please update your code to use the new `lineplot` function.\n",
      "  warnings.warn(msg, UserWarning)\n",
      "/home/tle3/anaconda3/lib/python3.7/site-packages/seaborn/timeseries.py:183: UserWarning: The `tsplot` function is deprecated and will be removed in a future release. Please update your code to use the new `lineplot` function.\n",
      "  warnings.warn(msg, UserWarning)\n",
      "/home/tle3/anaconda3/lib/python3.7/site-packages/seaborn/timeseries.py:183: UserWarning: The `tsplot` function is deprecated and will be removed in a future release. Please update your code to use the new `lineplot` function.\n",
      "  warnings.warn(msg, UserWarning)\n",
      "/home/tle3/anaconda3/lib/python3.7/site-packages/seaborn/timeseries.py:183: UserWarning: The `tsplot` function is deprecated and will be removed in a future release. Please update your code to use the new `lineplot` function.\n",
      "  warnings.warn(msg, UserWarning)\n",
      "/home/tle3/anaconda3/lib/python3.7/site-packages/seaborn/timeseries.py:183: UserWarning: The `tsplot` function is deprecated and will be removed in a future release. Please update your code to use the new `lineplot` function.\n",
      "  warnings.warn(msg, UserWarning)\n",
      "/home/tle3/anaconda3/lib/python3.7/site-packages/seaborn/timeseries.py:183: UserWarning: The `tsplot` function is deprecated and will be removed in a future release. Please update your code to use the new `lineplot` function.\n",
      "  warnings.warn(msg, UserWarning)\n",
      "/home/tle3/anaconda3/lib/python3.7/site-packages/seaborn/timeseries.py:183: UserWarning: The `tsplot` function is deprecated and will be removed in a future release. Please update your code to use the new `lineplot` function.\n",
      "  warnings.warn(msg, UserWarning)\n",
      "/home/tle3/anaconda3/lib/python3.7/site-packages/seaborn/timeseries.py:183: UserWarning: The `tsplot` function is deprecated and will be removed in a future release. Please update your code to use the new `lineplot` function.\n",
      "  warnings.warn(msg, UserWarning)\n"
     ]
    },
    {
     "data": {
      "image/png": "[encoded data removed]",
      "text/plain": [
       "<Figure size 432x288 with 2 Axes>"
      ]
     },
     "metadata": {
      "needs_background": "light"
     },
     "output_type": "display_data"
    }
   ],
   "source": [
    "plt.style.use('seaborn-deep')\n",
    "plt.rcParams['mathtext.fontset'] = 'stix'\n",
    "plt.rcParams['font.family'] = 'STIXGeneral'\n",
    "params = {'legend.fontsize': 'x-large',\n",
    "          'figure.figsize': (15, 5),\n",
    "         'axes.labelsize': 'x-large',\n",
    "         'axes.titlesize':'x-large',\n",
    "         'xtick.labelsize':'x-large',\n",
    "         'ytick.labelsize':'x-large'}\n",
    "\n",
    "fig, (ax0, ax1) = plt.subplots(2)\n",
    "ax0.set(ylabel='f(d0)')\n",
    "ax1.set(ylabel='f(d1)')\n",
    "\n",
    "for j in range(10):\n",
    "    sns.tsplot(sampler.chain[j, :, 0], ax=ax0)\n",
    "    sns.tsplot(sampler.chain[j, :, 1], ax=ax1)"
   ]
  },
  {
   "cell_type": "code",
   "execution_count": 14,
   "metadata": {},
   "outputs": [
    {
     "name": "stderr",
     "output_type": "stream",
     "text": [
      "/home/tle3/anaconda3/lib/python3.7/site-packages/seaborn/timeseries.py:183: UserWarning: The `tsplot` function is deprecated and will be removed in a future release. Please update your code to use the new `lineplot` function.\n",
      "  warnings.warn(msg, UserWarning)\n",
      "/home/tle3/anaconda3/lib/python3.7/site-packages/seaborn/timeseries.py:183: UserWarning: The `tsplot` function is deprecated and will be removed in a future release. Please update your code to use the new `lineplot` function.\n",
      "  warnings.warn(msg, UserWarning)\n",
      "/home/tle3/anaconda3/lib/python3.7/site-packages/seaborn/timeseries.py:183: UserWarning: The `tsplot` function is deprecated and will be removed in a future release. Please update your code to use the new `lineplot` function.\n",
      "  warnings.warn(msg, UserWarning)\n",
      "/home/tle3/anaconda3/lib/python3.7/site-packages/seaborn/timeseries.py:183: UserWarning: The `tsplot` function is deprecated and will be removed in a future release. Please update your code to use the new `lineplot` function.\n",
      "  warnings.warn(msg, UserWarning)\n",
      "/home/tle3/anaconda3/lib/python3.7/site-packages/seaborn/timeseries.py:183: UserWarning: The `tsplot` function is deprecated and will be removed in a future release. Please update your code to use the new `lineplot` function.\n",
      "  warnings.warn(msg, UserWarning)\n",
      "/home/tle3/anaconda3/lib/python3.7/site-packages/seaborn/timeseries.py:183: UserWarning: The `tsplot` function is deprecated and will be removed in a future release. Please update your code to use the new `lineplot` function.\n",
      "  warnings.warn(msg, UserWarning)\n",
      "/home/tle3/anaconda3/lib/python3.7/site-packages/seaborn/timeseries.py:183: UserWarning: The `tsplot` function is deprecated and will be removed in a future release. Please update your code to use the new `lineplot` function.\n",
      "  warnings.warn(msg, UserWarning)\n",
      "/home/tle3/anaconda3/lib/python3.7/site-packages/seaborn/timeseries.py:183: UserWarning: The `tsplot` function is deprecated and will be removed in a future release. Please update your code to use the new `lineplot` function.\n",
      "  warnings.warn(msg, UserWarning)\n",
      "/home/tle3/anaconda3/lib/python3.7/site-packages/seaborn/timeseries.py:183: UserWarning: The `tsplot` function is deprecated and will be removed in a future release. Please update your code to use the new `lineplot` function.\n",
      "  warnings.warn(msg, UserWarning)\n",
      "/home/tle3/anaconda3/lib/python3.7/site-packages/seaborn/timeseries.py:183: UserWarning: The `tsplot` function is deprecated and will be removed in a future release. Please update your code to use the new `lineplot` function.\n",
      "  warnings.warn(msg, UserWarning)\n",
      "/home/tle3/anaconda3/lib/python3.7/site-packages/seaborn/timeseries.py:183: UserWarning: The `tsplot` function is deprecated and will be removed in a future release. Please update your code to use the new `lineplot` function.\n",
      "  warnings.warn(msg, UserWarning)\n",
      "/home/tle3/anaconda3/lib/python3.7/site-packages/seaborn/timeseries.py:183: UserWarning: The `tsplot` function is deprecated and will be removed in a future release. Please update your code to use the new `lineplot` function.\n",
      "  warnings.warn(msg, UserWarning)\n",
      "/home/tle3/anaconda3/lib/python3.7/site-packages/seaborn/timeseries.py:183: UserWarning: The `tsplot` function is deprecated and will be removed in a future release. Please update your code to use the new `lineplot` function.\n",
      "  warnings.warn(msg, UserWarning)\n",
      "/home/tle3/anaconda3/lib/python3.7/site-packages/seaborn/timeseries.py:183: UserWarning: The `tsplot` function is deprecated and will be removed in a future release. Please update your code to use the new `lineplot` function.\n",
      "  warnings.warn(msg, UserWarning)\n",
      "/home/tle3/anaconda3/lib/python3.7/site-packages/seaborn/timeseries.py:183: UserWarning: The `tsplot` function is deprecated and will be removed in a future release. Please update your code to use the new `lineplot` function.\n",
      "  warnings.warn(msg, UserWarning)\n",
      "/home/tle3/anaconda3/lib/python3.7/site-packages/seaborn/timeseries.py:183: UserWarning: The `tsplot` function is deprecated and will be removed in a future release. Please update your code to use the new `lineplot` function.\n",
      "  warnings.warn(msg, UserWarning)\n",
      "/home/tle3/anaconda3/lib/python3.7/site-packages/seaborn/timeseries.py:183: UserWarning: The `tsplot` function is deprecated and will be removed in a future release. Please update your code to use the new `lineplot` function.\n",
      "  warnings.warn(msg, UserWarning)\n",
      "/home/tle3/anaconda3/lib/python3.7/site-packages/seaborn/timeseries.py:183: UserWarning: The `tsplot` function is deprecated and will be removed in a future release. Please update your code to use the new `lineplot` function.\n",
      "  warnings.warn(msg, UserWarning)\n",
      "/home/tle3/anaconda3/lib/python3.7/site-packages/seaborn/timeseries.py:183: UserWarning: The `tsplot` function is deprecated and will be removed in a future release. Please update your code to use the new `lineplot` function.\n",
      "  warnings.warn(msg, UserWarning)\n",
      "/home/tle3/anaconda3/lib/python3.7/site-packages/seaborn/timeseries.py:183: UserWarning: The `tsplot` function is deprecated and will be removed in a future release. Please update your code to use the new `lineplot` function.\n",
      "  warnings.warn(msg, UserWarning)\n"
     ]
    },
    {
     "data": {
      "image/png": "[encoded data removed]",
      "text/plain": [
       "<Figure size 432x288 with 2 Axes>"
      ]
     },
     "metadata": {
      "needs_background": "light"
     },
     "output_type": "display_data"
    }
   ],
   "source": [
    "plt.style.use('seaborn-deep')\n",
    "plt.rcParams['mathtext.fontset'] = 'stix'\n",
    "plt.rcParams['font.family'] = 'STIXGeneral'\n",
    "params = {'legend.fontsize': 'x-large',\n",
    "          'figure.figsize': (15, 5),\n",
    "         'axes.labelsize': 'x-large',\n",
    "         'axes.titlesize':'x-large',\n",
    "         'xtick.labelsize':'x-large',\n",
    "         'ytick.labelsize':'x-large'}\n",
    "\n",
    "fig, (ax2, ax3) = plt.subplots(2)\n",
    "ax2.set(ylabel='f(d2)')\n",
    "ax3.set(ylabel='f(d3)')\n",
    "\n",
    "for j in range(10):\n",
    "    sns.tsplot(sampler.chain[j, :, 2], ax=ax2)\n",
    "    sns.tsplot(sampler.chain[j, :, 3], ax=ax3)"
   ]
  },
  {
   "cell_type": "code",
   "execution_count": 15,
   "metadata": {},
   "outputs": [],
   "source": [
    "samples = sampler.chain[:,2800:,:]\n",
    "\n",
    "# reshape the samples into a 1D array where the colums are the f(d) values\n",
    "traces = samples.reshape(-1, ndim).T\n",
    "\n",
    "parameter_samples = pd.DataFrame({'f(d0)': traces[0], 'f(d1)': traces[1], 'f(d2)': traces[2], 'f(d3)': traces[3], 'f(d4)': traces[4], 'f(d5)': traces[5], 'f(d6)': traces[6], 'f(d7)': traces[7], 'f(d8)': traces[8], 'f(d9)': traces[9], 'f(d10)': traces[10], 'f(d11)': traces[11], 'f(d12)': traces[12], 'f(d13)': traces[13], 'f(d14)': traces[14], 'f(d15)': traces[15], 'f(d16)': traces[16], 'f(d17)': traces[17], 'f(d18)': traces[18], 'f(d19)': traces[19]})\n",
    "\n",
    "# calculate the MAP and values using pandas\n",
    "q = parameter_samples.quantile([0.16,0.50,0.84], axis=0)"
   ]
  },
  {
   "cell_type": "code",
   "execution_count": 16,
   "metadata": {},
   "outputs": [
    {
     "data": {
      "text/html": [
       "<div>\n",
       "<style scoped>\n",
       "    .dataframe tbody tr th:only-of-type {\n",
       "        vertical-align: middle;\n",
       "    }\n",
       "\n",
       "    .dataframe tbody tr th {\n",
       "        vertical-align: top;\n",
       "    }\n",
       "\n",
       "    .dataframe thead th {\n",
       "        text-align: right;\n",
       "    }\n",
       "</style>\n",
       "<table border=\"1\" class=\"dataframe\">\n",
       "  <thead>\n",
       "    <tr style=\"text-align: right;\">\n",
       "      <th></th>\n",
       "      <th>f(d0)</th>\n",
       "      <th>f(d1)</th>\n",
       "      <th>f(d2)</th>\n",
       "      <th>f(d3)</th>\n",
       "      <th>f(d4)</th>\n",
       "      <th>f(d5)</th>\n",
       "      <th>f(d6)</th>\n",
       "      <th>f(d7)</th>\n",
       "      <th>f(d8)</th>\n",
       "      <th>f(d9)</th>\n",
       "      <th>f(d10)</th>\n",
       "      <th>f(d11)</th>\n",
       "      <th>f(d12)</th>\n",
       "      <th>f(d13)</th>\n",
       "      <th>f(d14)</th>\n",
       "      <th>f(d15)</th>\n",
       "      <th>f(d16)</th>\n",
       "      <th>f(d17)</th>\n",
       "      <th>f(d18)</th>\n",
       "      <th>f(d19)</th>\n",
       "    </tr>\n",
       "  </thead>\n",
       "  <tbody>\n",
       "    <tr>\n",
       "      <th>0.16</th>\n",
       "      <td>1.559992e+09</td>\n",
       "      <td>1.452887e+09</td>\n",
       "      <td>1.445277e+09</td>\n",
       "      <td>1.632756e+09</td>\n",
       "      <td>1.091942e+09</td>\n",
       "      <td>1.724360e+09</td>\n",
       "      <td>1.206183e+09</td>\n",
       "      <td>1.828310e+09</td>\n",
       "      <td>1.755154e+09</td>\n",
       "      <td>1.780608e+09</td>\n",
       "      <td>2.073538e+09</td>\n",
       "      <td>1.657835e+09</td>\n",
       "      <td>2.033467e+09</td>\n",
       "      <td>1.497243e+09</td>\n",
       "      <td>2.235379e+09</td>\n",
       "      <td>1.630887e+09</td>\n",
       "      <td>1.406807e+09</td>\n",
       "      <td>1.115318e+09</td>\n",
       "      <td>6.568165e+08</td>\n",
       "      <td>1.995194e+08</td>\n",
       "    </tr>\n",
       "    <tr>\n",
       "      <th>0.50</th>\n",
       "      <td>1.587407e+09</td>\n",
       "      <td>1.469979e+09</td>\n",
       "      <td>1.455315e+09</td>\n",
       "      <td>1.641540e+09</td>\n",
       "      <td>1.096599e+09</td>\n",
       "      <td>1.756238e+09</td>\n",
       "      <td>1.212363e+09</td>\n",
       "      <td>1.836185e+09</td>\n",
       "      <td>1.762172e+09</td>\n",
       "      <td>1.792649e+09</td>\n",
       "      <td>2.106561e+09</td>\n",
       "      <td>1.662223e+09</td>\n",
       "      <td>2.055547e+09</td>\n",
       "      <td>1.504360e+09</td>\n",
       "      <td>2.268076e+09</td>\n",
       "      <td>1.646799e+09</td>\n",
       "      <td>1.429953e+09</td>\n",
       "      <td>1.128678e+09</td>\n",
       "      <td>6.598396e+08</td>\n",
       "      <td>2.069554e+08</td>\n",
       "    </tr>\n",
       "    <tr>\n",
       "      <th>0.84</th>\n",
       "      <td>1.607361e+09</td>\n",
       "      <td>1.474800e+09</td>\n",
       "      <td>1.459474e+09</td>\n",
       "      <td>1.648042e+09</td>\n",
       "      <td>1.101986e+09</td>\n",
       "      <td>1.774870e+09</td>\n",
       "      <td>1.218569e+09</td>\n",
       "      <td>1.840480e+09</td>\n",
       "      <td>1.768439e+09</td>\n",
       "      <td>1.800435e+09</td>\n",
       "      <td>2.127335e+09</td>\n",
       "      <td>1.666307e+09</td>\n",
       "      <td>2.069504e+09</td>\n",
       "      <td>1.508991e+09</td>\n",
       "      <td>2.280587e+09</td>\n",
       "      <td>1.657177e+09</td>\n",
       "      <td>1.454286e+09</td>\n",
       "      <td>1.141481e+09</td>\n",
       "      <td>6.627714e+08</td>\n",
       "      <td>2.120584e+08</td>\n",
       "    </tr>\n",
       "  </tbody>\n",
       "</table>\n",
       "</div>"
      ],
      "text/plain": [
       "             f(d0)         f(d1)         f(d2)         f(d3)         f(d4)  \\\n",
       "0.16  1.559992e+09  1.452887e+09  1.445277e+09  1.632756e+09  1.091942e+09   \n",
       "0.50  1.587407e+09  1.469979e+09  1.455315e+09  1.641540e+09  1.096599e+09   \n",
       "0.84  1.607361e+09  1.474800e+09  1.459474e+09  1.648042e+09  1.101986e+09   \n",
       "\n",
       "             f(d5)         f(d6)         f(d7)         f(d8)         f(d9)  \\\n",
       "0.16  1.724360e+09  1.206183e+09  1.828310e+09  1.755154e+09  1.780608e+09   \n",
       "0.50  1.756238e+09  1.212363e+09  1.836185e+09  1.762172e+09  1.792649e+09   \n",
       "0.84  1.774870e+09  1.218569e+09  1.840480e+09  1.768439e+09  1.800435e+09   \n",
       "\n",
       "            f(d10)        f(d11)        f(d12)        f(d13)        f(d14)  \\\n",
       "0.16  2.073538e+09  1.657835e+09  2.033467e+09  1.497243e+09  2.235379e+09   \n",
       "0.50  2.106561e+09  1.662223e+09  2.055547e+09  1.504360e+09  2.268076e+09   \n",
       "0.84  2.127335e+09  1.666307e+09  2.069504e+09  1.508991e+09  2.280587e+09   \n",
       "\n",
       "            f(d15)        f(d16)        f(d17)        f(d18)        f(d19)  \n",
       "0.16  1.630887e+09  1.406807e+09  1.115318e+09  6.568165e+08  1.995194e+08  \n",
       "0.50  1.646799e+09  1.429953e+09  1.128678e+09  6.598396e+08  2.069554e+08  \n",
       "0.84  1.657177e+09  1.454286e+09  1.141481e+09  6.627714e+08  2.120584e+08  "
      ]
     },
     "execution_count": 16,
     "metadata": {},
     "output_type": "execute_result"
    }
   ],
   "source": [
    "q"
   ]
  },
  {
   "cell_type": "code",
   "execution_count": 17,
   "metadata": {},
   "outputs": [],
   "source": [
    "infer_d = np.zeros(20)\n",
    "infer_d[0] = 1.587e9\n",
    "infer_d[1] = 1.4699e9\n",
    "infer_d[2] = 1.455e9\n",
    "infer_d[3] = 1.6415e9\n",
    "infer_d[4] = 1.0966e9\n",
    "infer_d[5] = 1.7562e9\n",
    "infer_d[6] = 1.212e9\n",
    "infer_d[7] = 1.83618e9\n",
    "infer_d[8] = 1.762e9\n",
    "infer_d[9] = 1.7622e9\n",
    "infer_d[10] = 2.107e9\n",
    "infer_d[11] =1.6622e9\n",
    "infer_d[12] = 2.055e9\n",
    "infer_d[13] = 1.504e9\n",
    "infer_d[14] = 2.268e9\n",
    "infer_d[15] = 1.646e9\n",
    "infer_d[16] = 1.43e9\n",
    "infer_d[17] = 1.129e9\n",
    "infer_d[18] = 6.598e8\n",
    "infer_d[19] = 2.069e8"
   ]
  },
  {
   "cell_type": "code",
   "execution_count": 18,
   "metadata": {},
   "outputs": [
    {
     "data": {
      "text/plain": [
       "[<matplotlib.lines.Line2D at 0x7f05b971d828>]"
      ]
     },
     "execution_count": 18,
     "metadata": {},
     "output_type": "execute_result"
    },
    {
     "data": {
      "image/png": "[encoded data removed]",
      "text/plain": [
       "<Figure size 432x288 with 1 Axes>"
      ]
     },
     "metadata": {
      "needs_background": "light"
     },
     "output_type": "display_data"
    }
   ],
   "source": [
    "plt.plot(d, infer_d)"
   ]
  },
  {
   "cell_type": "code",
   "execution_count": null,
   "metadata": {},
   "outputs": [],
   "source": []
  }
 ],
 "metadata": {
  "kernelspec": {
   "display_name": "Python 3",
   "language": "python",
   "name": "python3"
  },
  "language_info": {
   "codemirror_mode": {
    "name": "ipython",
    "version": 3
   },
   "file_extension": ".py",
   "mimetype": "text/x-python",
   "name": "python",
   "nbconvert_exporter": "python",
   "pygments_lexer": "ipython3",
   "version": "3.7.3"
  }
 },
 "nbformat": 4,
 "nbformat_minor": 2
}
