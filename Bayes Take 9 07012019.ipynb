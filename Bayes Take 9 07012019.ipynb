{
 "cells": [
  {
   "cell_type": "code",
   "execution_count": 1,
   "metadata": {},
   "outputs": [],
   "source": [
    "import numpy as np\n",
    "import matplotlib.pyplot as plt\n",
    "import emcee\n",
    "import seaborn as sns\n",
    "import pandas as pd\n",
    "import dlsfunctions as dls"
   ]
  },
  {
   "cell_type": "code",
   "execution_count": 2,
   "metadata": {},
   "outputs": [
    {
     "data": {
      "text/latex": [
       "Redoing Bayes Take 7 06282019 in order to test the functionality of the new normalizing step in the likelihood \n",
       "function. Starts with forward calculations first before doing a Bayesian approach.\n"
      ],
      "text/plain": [
       "<IPython.core.display.Latex object>"
      ]
     },
     "metadata": {},
     "output_type": "display_data"
    }
   ],
   "source": [
    "%%latex\n",
    "Redoing Bayes Take 7 06282019 in order to test the functionality of the new normalizing step in the likelihood \n",
    "function. Starts with forward calculations first before doing a Bayesian approach."
   ]
  },
  {
   "cell_type": "code",
   "execution_count": 3,
   "metadata": {},
   "outputs": [],
   "source": [
    "r = 2.2439608235145855e-09    # in meters\n",
    "diameter = r * 2\n",
    "mean = diameter - 3e-9\n",
    "sigma = 2e-10\n",
    "c = 1\n",
    "d = np.linspace(5e-10, 9e-9, 20)\n",
    "f_1 = dls.generate_distribution(d, mean, sigma, c)"
   ]
  },
  {
   "cell_type": "code",
   "execution_count": 4,
   "metadata": {},
   "outputs": [],
   "source": [
    "m = 20\n",
    "# c is already defined\n",
    "eta = 1e-3\n",
    "n = 1.33 \n",
    "theta = np.pi/2\n",
    "k_b = 1.38e-23\n",
    "t = 298.15\n",
    "lambda_0 = 638e-9\n",
    "beta = 1\n",
    "\n",
    "time_in = np.linspace(1e-4, 1e-1, 200)*0.001\n",
    "gamma = dls.calc_gamma(m, c, eta, n, theta, k_b, t, lambda_0)"
   ]
  },
  {
   "cell_type": "code",
   "execution_count": 5,
   "metadata": {},
   "outputs": [],
   "source": [
    "theta_input = np.append(f_1, beta)"
   ]
  },
  {
   "cell_type": "code",
   "execution_count": null,
   "metadata": {},
   "outputs": [],
   "source": [
    "simulated_data = dls.g2(theta_input, d, m, gamma, time_in)"
   ]
  },
  {
   "cell_type": "code",
   "execution_count": 55,
   "metadata": {},
   "outputs": [
    {
     "data": {
      "text/plain": [
       "[<matplotlib.lines.Line2D at 0x7fe143b474e0>]"
      ]
     },
     "execution_count": 55,
     "metadata": {},
     "output_type": "execute_result"
    },
    {
     "data": {
      "image/png": "[encoded data removed]",
      "text/plain": [
       "<Figure size 432x288 with 1 Axes>"
      ]
     },
     "metadata": {
      "needs_background": "light"
     },
     "output_type": "display_data"
    }
   ],
   "source": [
    "plt.plot(d, f_1)"
   ]
  },
  {
   "cell_type": "code",
   "execution_count": 7,
   "metadata": {},
   "outputs": [
    {
     "data": {
      "text/plain": [
       "-1.7291521892550387e+18"
      ]
     },
     "execution_count": 7,
     "metadata": {},
     "output_type": "execute_result"
    }
   ],
   "source": [
    "dls.log_prior(theta_input, m)"
   ]
  },
  {
   "cell_type": "code",
   "execution_count": 57,
   "metadata": {},
   "outputs": [
    {
     "data": {
      "text/plain": [
       "[<matplotlib.lines.Line2D at 0x7fe1439052b0>]"
      ]
     },
     "execution_count": 57,
     "metadata": {},
     "output_type": "execute_result"
    },
    {
     "data": {
      "image/png": "[encoded data removed]",
      "text/plain": [
       "<Figure size 432x288 with 1 Axes>"
      ]
     },
     "metadata": {
      "needs_background": "light"
     },
     "output_type": "display_data"
    }
   ],
   "source": [
    "plt.semilogx(time_in, simulated_data)\n",
    "plt.semilogx(time_in, forward_calc_inferred)"
   ]
  },
  {
   "cell_type": "code",
   "execution_count": 8,
   "metadata": {},
   "outputs": [
    {
     "data": {
      "text/plain": [
       "-0.0"
      ]
     },
     "execution_count": 8,
     "metadata": {},
     "output_type": "execute_result"
    }
   ],
   "source": [
    "dls.log_likelihood(theta_input, d, simulated_data, m, gamma, time_in)"
   ]
  },
  {
   "cell_type": "code",
   "execution_count": 9,
   "metadata": {},
   "outputs": [
    {
     "data": {
      "text/plain": [
       "-1.7291521892550387e+18"
      ]
     },
     "execution_count": 9,
     "metadata": {},
     "output_type": "execute_result"
    }
   ],
   "source": [
    "dls.log_posterior(theta_input, d, simulated_data, m, gamma, time_in)"
   ]
  },
  {
   "cell_type": "code",
   "execution_count": 10,
   "metadata": {},
   "outputs": [
    {
     "data": {
      "text/latex": [
       "Forward calculations are go. Now we will check using a bayesian inference.\n"
      ],
      "text/plain": [
       "<IPython.core.display.Latex object>"
      ]
     },
     "metadata": {},
     "output_type": "display_data"
    }
   ],
   "source": [
    "%%latex\n",
    "Forward calculations are go. Now we will check using a bayesian inference."
   ]
  },
  {
   "cell_type": "code",
   "execution_count": 11,
   "metadata": {},
   "outputs": [],
   "source": [
    "ndim = 21\n",
    "nwalkers = 100\n",
    "nsteps = 3000"
   ]
  },
  {
   "cell_type": "code",
   "execution_count": 12,
   "metadata": {},
   "outputs": [],
   "source": [
    "start_pos = [theta_input + 1e-4*np.random.randn(ndim) for i in range(nwalkers)]"
   ]
  },
  {
   "cell_type": "code",
   "execution_count": 13,
   "metadata": {},
   "outputs": [],
   "source": [
    "sampler = emcee.EnsembleSampler(nwalkers, ndim, dls.log_posterior, args=(d, simulated_data, m, gamma, time_in))"
   ]
  },
  {
   "cell_type": "code",
   "execution_count": 14,
   "metadata": {},
   "outputs": [
    {
     "name": "stderr",
     "output_type": "stream",
     "text": [
      "/home/tle3/anaconda3/lib/python3.7/site-packages/emcee/ensemble.py:335: RuntimeWarning: invalid value encountered in subtract\n",
      "  lnpdiff = (self.dim - 1.) * np.log(zz) + newlnprob - lnprob0\n",
      "/home/tle3/anaconda3/lib/python3.7/site-packages/emcee/ensemble.py:336: RuntimeWarning: invalid value encountered in greater\n",
      "  accept = (lnpdiff > np.log(self._random.rand(len(lnpdiff))))\n"
     ]
    },
    {
     "data": {
      "text/plain": [
       "array([0.372     , 0.363     , 0.35433333, 0.36933333, 0.35133333,\n",
       "       0.359     , 0.345     , 0.34766667, 0.346     , 0.35933333,\n",
       "       0.35566667, 0.36      , 0.36933333, 0.345     , 0.38133333,\n",
       "       0.353     , 0.34933333, 0.35566667, 0.35666667, 0.36666667,\n",
       "       0.36066667, 0.367     , 0.356     , 0.34933333, 0.357     ,\n",
       "       0.36366667, 0.35933333, 0.371     , 0.373     , 0.36433333,\n",
       "       0.36266667, 0.36133333, 0.353     , 0.37333333, 0.36533333,\n",
       "       0.36166667, 0.35433333, 0.35533333, 0.36166667, 0.35533333,\n",
       "       0.35933333, 0.36833333, 0.35933333, 0.36033333, 0.351     ,\n",
       "       0.35633333, 0.34866667, 0.35733333, 0.34933333, 0.36166667,\n",
       "       0.37433333, 0.369     , 0.36266667, 0.35633333, 0.36833333,\n",
       "       0.35466667, 0.345     , 0.36566667, 0.36033333, 0.362     ,\n",
       "       0.37      , 0.352     , 0.36966667, 0.34633333, 0.36533333,\n",
       "       0.34966667, 0.36866667, 0.36266667, 0.361     , 0.36533333,\n",
       "       0.35833333, 0.35733333, 0.36733333, 0.36966667, 0.35833333,\n",
       "       0.35      , 0.365     , 0.36833333, 0.35566667, 0.358     ,\n",
       "       0.37      , 0.347     , 0.35633333, 0.36233333, 0.35866667,\n",
       "       0.36833333, 0.371     , 0.35833333, 0.35233333, 0.36566667,\n",
       "       0.373     , 0.36833333, 0.35066667, 0.36166667, 0.36633333,\n",
       "       0.34633333, 0.37266667, 0.36166667, 0.372     , 0.365     ])"
      ]
     },
     "execution_count": 14,
     "metadata": {},
     "output_type": "execute_result"
    }
   ],
   "source": [
    "result = sampler.run_mcmc(start_pos, nsteps)\n",
    "sampler.acceptance_fraction"
   ]
  },
  {
   "cell_type": "code",
   "execution_count": 15,
   "metadata": {},
   "outputs": [
    {
     "name": "stderr",
     "output_type": "stream",
     "text": [
      "/home/tle3/anaconda3/lib/python3.7/site-packages/seaborn/timeseries.py:183: UserWarning: The `tsplot` function is deprecated and will be removed in a future release. Please update your code to use the new `lineplot` function.\n",
      "  warnings.warn(msg, UserWarning)\n",
      "/home/tle3/anaconda3/lib/python3.7/site-packages/seaborn/timeseries.py:183: UserWarning: The `tsplot` function is deprecated and will be removed in a future release. Please update your code to use the new `lineplot` function.\n",
      "  warnings.warn(msg, UserWarning)\n",
      "/home/tle3/anaconda3/lib/python3.7/site-packages/seaborn/timeseries.py:183: UserWarning: The `tsplot` function is deprecated and will be removed in a future release. Please update your code to use the new `lineplot` function.\n",
      "  warnings.warn(msg, UserWarning)\n",
      "/home/tle3/anaconda3/lib/python3.7/site-packages/seaborn/timeseries.py:183: UserWarning: The `tsplot` function is deprecated and will be removed in a future release. Please update your code to use the new `lineplot` function.\n",
      "  warnings.warn(msg, UserWarning)\n",
      "/home/tle3/anaconda3/lib/python3.7/site-packages/seaborn/timeseries.py:183: UserWarning: The `tsplot` function is deprecated and will be removed in a future release. Please update your code to use the new `lineplot` function.\n",
      "  warnings.warn(msg, UserWarning)\n",
      "/home/tle3/anaconda3/lib/python3.7/site-packages/seaborn/timeseries.py:183: UserWarning: The `tsplot` function is deprecated and will be removed in a future release. Please update your code to use the new `lineplot` function.\n",
      "  warnings.warn(msg, UserWarning)\n",
      "/home/tle3/anaconda3/lib/python3.7/site-packages/seaborn/timeseries.py:183: UserWarning: The `tsplot` function is deprecated and will be removed in a future release. Please update your code to use the new `lineplot` function.\n",
      "  warnings.warn(msg, UserWarning)\n",
      "/home/tle3/anaconda3/lib/python3.7/site-packages/seaborn/timeseries.py:183: UserWarning: The `tsplot` function is deprecated and will be removed in a future release. Please update your code to use the new `lineplot` function.\n",
      "  warnings.warn(msg, UserWarning)\n",
      "/home/tle3/anaconda3/lib/python3.7/site-packages/seaborn/timeseries.py:183: UserWarning: The `tsplot` function is deprecated and will be removed in a future release. Please update your code to use the new `lineplot` function.\n",
      "  warnings.warn(msg, UserWarning)\n",
      "/home/tle3/anaconda3/lib/python3.7/site-packages/seaborn/timeseries.py:183: UserWarning: The `tsplot` function is deprecated and will be removed in a future release. Please update your code to use the new `lineplot` function.\n",
      "  warnings.warn(msg, UserWarning)\n",
      "/home/tle3/anaconda3/lib/python3.7/site-packages/seaborn/timeseries.py:183: UserWarning: The `tsplot` function is deprecated and will be removed in a future release. Please update your code to use the new `lineplot` function.\n",
      "  warnings.warn(msg, UserWarning)\n",
      "/home/tle3/anaconda3/lib/python3.7/site-packages/seaborn/timeseries.py:183: UserWarning: The `tsplot` function is deprecated and will be removed in a future release. Please update your code to use the new `lineplot` function.\n",
      "  warnings.warn(msg, UserWarning)\n",
      "/home/tle3/anaconda3/lib/python3.7/site-packages/seaborn/timeseries.py:183: UserWarning: The `tsplot` function is deprecated and will be removed in a future release. Please update your code to use the new `lineplot` function.\n",
      "  warnings.warn(msg, UserWarning)\n",
      "/home/tle3/anaconda3/lib/python3.7/site-packages/seaborn/timeseries.py:183: UserWarning: The `tsplot` function is deprecated and will be removed in a future release. Please update your code to use the new `lineplot` function.\n",
      "  warnings.warn(msg, UserWarning)\n",
      "/home/tle3/anaconda3/lib/python3.7/site-packages/seaborn/timeseries.py:183: UserWarning: The `tsplot` function is deprecated and will be removed in a future release. Please update your code to use the new `lineplot` function.\n",
      "  warnings.warn(msg, UserWarning)\n",
      "/home/tle3/anaconda3/lib/python3.7/site-packages/seaborn/timeseries.py:183: UserWarning: The `tsplot` function is deprecated and will be removed in a future release. Please update your code to use the new `lineplot` function.\n",
      "  warnings.warn(msg, UserWarning)\n",
      "/home/tle3/anaconda3/lib/python3.7/site-packages/seaborn/timeseries.py:183: UserWarning: The `tsplot` function is deprecated and will be removed in a future release. Please update your code to use the new `lineplot` function.\n",
      "  warnings.warn(msg, UserWarning)\n",
      "/home/tle3/anaconda3/lib/python3.7/site-packages/seaborn/timeseries.py:183: UserWarning: The `tsplot` function is deprecated and will be removed in a future release. Please update your code to use the new `lineplot` function.\n",
      "  warnings.warn(msg, UserWarning)\n",
      "/home/tle3/anaconda3/lib/python3.7/site-packages/seaborn/timeseries.py:183: UserWarning: The `tsplot` function is deprecated and will be removed in a future release. Please update your code to use the new `lineplot` function.\n",
      "  warnings.warn(msg, UserWarning)\n",
      "/home/tle3/anaconda3/lib/python3.7/site-packages/seaborn/timeseries.py:183: UserWarning: The `tsplot` function is deprecated and will be removed in a future release. Please update your code to use the new `lineplot` function.\n",
      "  warnings.warn(msg, UserWarning)\n"
     ]
    },
    {
     "data": {
      "image/png": "[encoded data removed]",
      "text/plain": [
       "<Figure size 432x288 with 2 Axes>"
      ]
     },
     "metadata": {
      "needs_background": "light"
     },
     "output_type": "display_data"
    }
   ],
   "source": [
    "plt.style.use('seaborn-deep')\n",
    "plt.rcParams['mathtext.fontset'] = 'stix'\n",
    "plt.rcParams['font.family'] = 'STIXGeneral'\n",
    "params = {'legend.fontsize': 'x-large',\n",
    "          'figure.figsize': (15, 5),\n",
    "         'axes.labelsize': 'x-large',\n",
    "         'axes.titlesize':'x-large',\n",
    "         'xtick.labelsize':'x-large',\n",
    "         'ytick.labelsize':'x-large'}\n",
    "\n",
    "fig, (ax0, ax1) = plt.subplots(2)\n",
    "ax0.set(ylabel='f(d0)')\n",
    "ax1.set(ylabel='f(d1)')\n",
    "\n",
    "for j in range(10):\n",
    "    sns.tsplot(sampler.chain[j, :, 0], ax=ax0)\n",
    "    sns.tsplot(sampler.chain[j, :, 1], ax=ax1)"
   ]
  },
  {
   "cell_type": "code",
   "execution_count": 16,
   "metadata": {},
   "outputs": [
    {
     "name": "stderr",
     "output_type": "stream",
     "text": [
      "/home/tle3/anaconda3/lib/python3.7/site-packages/seaborn/timeseries.py:183: UserWarning: The `tsplot` function is deprecated and will be removed in a future release. Please update your code to use the new `lineplot` function.\n",
      "  warnings.warn(msg, UserWarning)\n",
      "/home/tle3/anaconda3/lib/python3.7/site-packages/seaborn/timeseries.py:183: UserWarning: The `tsplot` function is deprecated and will be removed in a future release. Please update your code to use the new `lineplot` function.\n",
      "  warnings.warn(msg, UserWarning)\n",
      "/home/tle3/anaconda3/lib/python3.7/site-packages/seaborn/timeseries.py:183: UserWarning: The `tsplot` function is deprecated and will be removed in a future release. Please update your code to use the new `lineplot` function.\n",
      "  warnings.warn(msg, UserWarning)\n",
      "/home/tle3/anaconda3/lib/python3.7/site-packages/seaborn/timeseries.py:183: UserWarning: The `tsplot` function is deprecated and will be removed in a future release. Please update your code to use the new `lineplot` function.\n",
      "  warnings.warn(msg, UserWarning)\n",
      "/home/tle3/anaconda3/lib/python3.7/site-packages/seaborn/timeseries.py:183: UserWarning: The `tsplot` function is deprecated and will be removed in a future release. Please update your code to use the new `lineplot` function.\n",
      "  warnings.warn(msg, UserWarning)\n",
      "/home/tle3/anaconda3/lib/python3.7/site-packages/seaborn/timeseries.py:183: UserWarning: The `tsplot` function is deprecated and will be removed in a future release. Please update your code to use the new `lineplot` function.\n",
      "  warnings.warn(msg, UserWarning)\n",
      "/home/tle3/anaconda3/lib/python3.7/site-packages/seaborn/timeseries.py:183: UserWarning: The `tsplot` function is deprecated and will be removed in a future release. Please update your code to use the new `lineplot` function.\n",
      "  warnings.warn(msg, UserWarning)\n",
      "/home/tle3/anaconda3/lib/python3.7/site-packages/seaborn/timeseries.py:183: UserWarning: The `tsplot` function is deprecated and will be removed in a future release. Please update your code to use the new `lineplot` function.\n",
      "  warnings.warn(msg, UserWarning)\n",
      "/home/tle3/anaconda3/lib/python3.7/site-packages/seaborn/timeseries.py:183: UserWarning: The `tsplot` function is deprecated and will be removed in a future release. Please update your code to use the new `lineplot` function.\n",
      "  warnings.warn(msg, UserWarning)\n",
      "/home/tle3/anaconda3/lib/python3.7/site-packages/seaborn/timeseries.py:183: UserWarning: The `tsplot` function is deprecated and will be removed in a future release. Please update your code to use the new `lineplot` function.\n",
      "  warnings.warn(msg, UserWarning)\n",
      "/home/tle3/anaconda3/lib/python3.7/site-packages/seaborn/timeseries.py:183: UserWarning: The `tsplot` function is deprecated and will be removed in a future release. Please update your code to use the new `lineplot` function.\n",
      "  warnings.warn(msg, UserWarning)\n",
      "/home/tle3/anaconda3/lib/python3.7/site-packages/seaborn/timeseries.py:183: UserWarning: The `tsplot` function is deprecated and will be removed in a future release. Please update your code to use the new `lineplot` function.\n",
      "  warnings.warn(msg, UserWarning)\n",
      "/home/tle3/anaconda3/lib/python3.7/site-packages/seaborn/timeseries.py:183: UserWarning: The `tsplot` function is deprecated and will be removed in a future release. Please update your code to use the new `lineplot` function.\n",
      "  warnings.warn(msg, UserWarning)\n",
      "/home/tle3/anaconda3/lib/python3.7/site-packages/seaborn/timeseries.py:183: UserWarning: The `tsplot` function is deprecated and will be removed in a future release. Please update your code to use the new `lineplot` function.\n",
      "  warnings.warn(msg, UserWarning)\n",
      "/home/tle3/anaconda3/lib/python3.7/site-packages/seaborn/timeseries.py:183: UserWarning: The `tsplot` function is deprecated and will be removed in a future release. Please update your code to use the new `lineplot` function.\n",
      "  warnings.warn(msg, UserWarning)\n",
      "/home/tle3/anaconda3/lib/python3.7/site-packages/seaborn/timeseries.py:183: UserWarning: The `tsplot` function is deprecated and will be removed in a future release. Please update your code to use the new `lineplot` function.\n",
      "  warnings.warn(msg, UserWarning)\n",
      "/home/tle3/anaconda3/lib/python3.7/site-packages/seaborn/timeseries.py:183: UserWarning: The `tsplot` function is deprecated and will be removed in a future release. Please update your code to use the new `lineplot` function.\n",
      "  warnings.warn(msg, UserWarning)\n",
      "/home/tle3/anaconda3/lib/python3.7/site-packages/seaborn/timeseries.py:183: UserWarning: The `tsplot` function is deprecated and will be removed in a future release. Please update your code to use the new `lineplot` function.\n",
      "  warnings.warn(msg, UserWarning)\n",
      "/home/tle3/anaconda3/lib/python3.7/site-packages/seaborn/timeseries.py:183: UserWarning: The `tsplot` function is deprecated and will be removed in a future release. Please update your code to use the new `lineplot` function.\n",
      "  warnings.warn(msg, UserWarning)\n",
      "/home/tle3/anaconda3/lib/python3.7/site-packages/seaborn/timeseries.py:183: UserWarning: The `tsplot` function is deprecated and will be removed in a future release. Please update your code to use the new `lineplot` function.\n",
      "  warnings.warn(msg, UserWarning)\n"
     ]
    },
    {
     "data": {
      "image/png": "[encoded data removed]",
      "text/plain": [
       "<Figure size 432x288 with 2 Axes>"
      ]
     },
     "metadata": {
      "needs_background": "light"
     },
     "output_type": "display_data"
    }
   ],
   "source": [
    "plt.style.use('seaborn-deep')\n",
    "plt.rcParams['mathtext.fontset'] = 'stix'\n",
    "plt.rcParams['font.family'] = 'STIXGeneral'\n",
    "params = {'legend.fontsize': 'x-large',\n",
    "          'figure.figsize': (15, 5),\n",
    "         'axes.labelsize': 'x-large',\n",
    "         'axes.titlesize':'x-large',\n",
    "         'xtick.labelsize':'x-large',\n",
    "         'ytick.labelsize':'x-large'}\n",
    "\n",
    "fig, (ax2, ax3) = plt.subplots(2)\n",
    "ax2.set(ylabel='f(d2)')\n",
    "ax3.set(ylabel='f(d3)')\n",
    "\n",
    "for j in range(10):\n",
    "    sns.tsplot(sampler.chain[j, :, 2], ax=ax2)\n",
    "    sns.tsplot(sampler.chain[j, :, 3], ax=ax3)"
   ]
  },
  {
   "cell_type": "code",
   "execution_count": 19,
   "metadata": {},
   "outputs": [],
   "source": [
    "samples = sampler.chain[:,2800:,:]\n",
    "\n",
    "# reshape the samples into a 1D array where the colums are the f(d) values\n",
    "traces = samples.reshape(-1, ndim).T\n",
    "\n",
    "parameter_samples = pd.DataFrame({'f(d0)': traces[0], 'f(d1)': traces[1], 'f(d2)': traces[2], 'f(d3)': traces[3], 'f(d4)': traces[4], 'f(d5)': traces[5], 'f(d6)': traces[6], 'f(d7)': traces[7], 'f(d8)': traces[8], 'f(d9)': traces[9], 'f(d10)': traces[10], 'f(d11)': traces[11], 'f(d12)': traces[12], 'f(d13)': traces[13], 'f(d14)': traces[14], 'f(d15)': traces[15], 'f(d16)': traces[16], 'f(d17)': traces[17], 'f(d18)': traces[18], 'f(d19)': traces[19]})\n",
    "\n",
    "# calculate the MAP and values using pandas\n",
    "q = parameter_samples.quantile([0.16,0.50,0.84], axis=0)"
   ]
  },
  {
   "cell_type": "code",
   "execution_count": 20,
   "metadata": {},
   "outputs": [
    {
     "data": {
      "text/html": [
       "<div>\n",
       "<style scoped>\n",
       "    .dataframe tbody tr th:only-of-type {\n",
       "        vertical-align: middle;\n",
       "    }\n",
       "\n",
       "    .dataframe tbody tr th {\n",
       "        vertical-align: top;\n",
       "    }\n",
       "\n",
       "    .dataframe thead th {\n",
       "        text-align: right;\n",
       "    }\n",
       "</style>\n",
       "<table border=\"1\" class=\"dataframe\">\n",
       "  <thead>\n",
       "    <tr style=\"text-align: right;\">\n",
       "      <th></th>\n",
       "      <th>f(d0)</th>\n",
       "      <th>f(d1)</th>\n",
       "      <th>f(d2)</th>\n",
       "      <th>f(d3)</th>\n",
       "      <th>f(d4)</th>\n",
       "      <th>f(d5)</th>\n",
       "      <th>f(d6)</th>\n",
       "      <th>f(d7)</th>\n",
       "      <th>f(d8)</th>\n",
       "      <th>f(d9)</th>\n",
       "      <th>f(d10)</th>\n",
       "      <th>f(d11)</th>\n",
       "      <th>f(d12)</th>\n",
       "      <th>f(d13)</th>\n",
       "      <th>f(d14)</th>\n",
       "      <th>f(d15)</th>\n",
       "      <th>f(d16)</th>\n",
       "      <th>f(d17)</th>\n",
       "      <th>f(d18)</th>\n",
       "      <th>f(d19)</th>\n",
       "    </tr>\n",
       "  </thead>\n",
       "  <tbody>\n",
       "    <tr>\n",
       "      <th>0.16</th>\n",
       "      <td>1.057322e+08</td>\n",
       "      <td>4.170998e+08</td>\n",
       "      <td>1.017412e+09</td>\n",
       "      <td>6.479223e+08</td>\n",
       "      <td>4.071718e+08</td>\n",
       "      <td>1.241221e+07</td>\n",
       "      <td>1.648664e+07</td>\n",
       "      <td>2.649124e+08</td>\n",
       "      <td>1.100224e+07</td>\n",
       "      <td>1.826536e+08</td>\n",
       "      <td>4.512725e+08</td>\n",
       "      <td>9.003124e+07</td>\n",
       "      <td>4.433981e+08</td>\n",
       "      <td>2.077908e+07</td>\n",
       "      <td>5.700153e+08</td>\n",
       "      <td>2.097016e+07</td>\n",
       "      <td>4.451702e+08</td>\n",
       "      <td>9.651544e+08</td>\n",
       "      <td>6.819765e+08</td>\n",
       "      <td>7.159604e+08</td>\n",
       "    </tr>\n",
       "    <tr>\n",
       "      <th>0.50</th>\n",
       "      <td>1.250619e+08</td>\n",
       "      <td>4.381935e+08</td>\n",
       "      <td>1.039907e+09</td>\n",
       "      <td>6.708338e+08</td>\n",
       "      <td>4.647494e+08</td>\n",
       "      <td>1.624780e+07</td>\n",
       "      <td>4.328068e+07</td>\n",
       "      <td>3.474337e+08</td>\n",
       "      <td>3.147997e+07</td>\n",
       "      <td>2.063436e+08</td>\n",
       "      <td>4.731776e+08</td>\n",
       "      <td>1.332796e+08</td>\n",
       "      <td>4.626314e+08</td>\n",
       "      <td>5.390670e+07</td>\n",
       "      <td>6.043825e+08</td>\n",
       "      <td>6.875853e+07</td>\n",
       "      <td>5.020821e+08</td>\n",
       "      <td>1.001532e+09</td>\n",
       "      <td>7.273980e+08</td>\n",
       "      <td>7.705090e+08</td>\n",
       "    </tr>\n",
       "    <tr>\n",
       "      <th>0.84</th>\n",
       "      <td>1.456191e+08</td>\n",
       "      <td>4.527560e+08</td>\n",
       "      <td>1.064107e+09</td>\n",
       "      <td>7.417687e+08</td>\n",
       "      <td>5.055369e+08</td>\n",
       "      <td>2.788359e+07</td>\n",
       "      <td>6.349548e+07</td>\n",
       "      <td>3.821568e+08</td>\n",
       "      <td>5.567266e+07</td>\n",
       "      <td>2.269011e+08</td>\n",
       "      <td>4.995548e+08</td>\n",
       "      <td>1.872737e+08</td>\n",
       "      <td>4.769449e+08</td>\n",
       "      <td>1.321529e+08</td>\n",
       "      <td>7.006576e+08</td>\n",
       "      <td>1.168628e+08</td>\n",
       "      <td>5.723820e+08</td>\n",
       "      <td>1.038942e+09</td>\n",
       "      <td>7.652225e+08</td>\n",
       "      <td>8.351421e+08</td>\n",
       "    </tr>\n",
       "  </tbody>\n",
       "</table>\n",
       "</div>"
      ],
      "text/plain": [
       "             f(d0)         f(d1)         f(d2)         f(d3)         f(d4)  \\\n",
       "0.16  1.057322e+08  4.170998e+08  1.017412e+09  6.479223e+08  4.071718e+08   \n",
       "0.50  1.250619e+08  4.381935e+08  1.039907e+09  6.708338e+08  4.647494e+08   \n",
       "0.84  1.456191e+08  4.527560e+08  1.064107e+09  7.417687e+08  5.055369e+08   \n",
       "\n",
       "             f(d5)         f(d6)         f(d7)         f(d8)         f(d9)  \\\n",
       "0.16  1.241221e+07  1.648664e+07  2.649124e+08  1.100224e+07  1.826536e+08   \n",
       "0.50  1.624780e+07  4.328068e+07  3.474337e+08  3.147997e+07  2.063436e+08   \n",
       "0.84  2.788359e+07  6.349548e+07  3.821568e+08  5.567266e+07  2.269011e+08   \n",
       "\n",
       "            f(d10)        f(d11)        f(d12)        f(d13)        f(d14)  \\\n",
       "0.16  4.512725e+08  9.003124e+07  4.433981e+08  2.077908e+07  5.700153e+08   \n",
       "0.50  4.731776e+08  1.332796e+08  4.626314e+08  5.390670e+07  6.043825e+08   \n",
       "0.84  4.995548e+08  1.872737e+08  4.769449e+08  1.321529e+08  7.006576e+08   \n",
       "\n",
       "            f(d15)        f(d16)        f(d17)        f(d18)        f(d19)  \n",
       "0.16  2.097016e+07  4.451702e+08  9.651544e+08  6.819765e+08  7.159604e+08  \n",
       "0.50  6.875853e+07  5.020821e+08  1.001532e+09  7.273980e+08  7.705090e+08  \n",
       "0.84  1.168628e+08  5.723820e+08  1.038942e+09  7.652225e+08  8.351421e+08  "
      ]
     },
     "execution_count": 20,
     "metadata": {},
     "output_type": "execute_result"
    }
   ],
   "source": [
    "q"
   ]
  },
  {
   "cell_type": "code",
   "execution_count": 42,
   "metadata": {},
   "outputs": [],
   "source": [
    "fifty_q = np.zeros(20)\n",
    "fifty_q[0] = 1.251e8\n",
    "fifty_q[1] = 4.382e8\n",
    "fifty_q[2] = 1.04e9\n",
    "fifty_q[3] = 6.71e8\n",
    "fifty_q[4] = 4.647e8\n",
    "fifty_q[5] = 1.624e7\n",
    "fifty_q[6] = 4.328e7\n",
    "fifty_q[7] = 3.474e8\n",
    "fifty_q[8] = 3.148e7\n",
    "fifty_q[9] = 2.0634e8\n",
    "fifty_q[10] = 4.732e8\n",
    "fifty_q[11] = 1.332e8\n",
    "fifty_q[12] = 4.63e8\n",
    "fifty_q[13] = 5.391e7\n",
    "fifty_q[14] = 6.044e8\n",
    "fifty_q[15] = 6.875e7\n",
    "fifty_q[16] = 5.021e8\n",
    "fifty_q[17] = 1.001e9\n",
    "fifty_q[18] = 7.274e8\n",
    "fifty_q[19] = 7.71e8"
   ]
  },
  {
   "cell_type": "code",
   "execution_count": 43,
   "metadata": {},
   "outputs": [
    {
     "data": {
      "text/plain": [
       "Text(0.5, 1.0, 'Inferred Distribution')"
      ]
     },
     "execution_count": 43,
     "metadata": {},
     "output_type": "execute_result"
    },
    {
     "data": {
      "image/png": "[encoded data removed]",
      "text/plain": [
       "<Figure size 432x288 with 1 Axes>"
      ]
     },
     "metadata": {
      "needs_background": "light"
     },
     "output_type": "display_data"
    }
   ],
   "source": [
    "plt.plot(d, fifty_q)\n",
    "plt.xlabel('Particle size (m)')\n",
    "plt.ylabel('Frequency')\n",
    "plt.title('Inferred Distribution')"
   ]
  },
  {
   "cell_type": "code",
   "execution_count": 25,
   "metadata": {},
   "outputs": [],
   "source": [
    "beta_16 = 0.84\n",
    "beta_50 = 1.186\n",
    "beta_84 = 1.496"
   ]
  },
  {
   "cell_type": "code",
   "execution_count": 26,
   "metadata": {},
   "outputs": [
    {
     "data": {
      "text/latex": [
       "The inferred distribution with 3000 steps is extremely spikey which is very bad. So let's go back and revisit the g2 implementation\n",
       "and check to see if we can move the normalization step outside of the loop\n"
      ],
      "text/plain": [
       "<IPython.core.display.Latex object>"
      ]
     },
     "metadata": {},
     "output_type": "display_data"
    }
   ],
   "source": [
    "%%latex\n",
    "The inferred distribution with 3000 steps is extremely spikey which is very bad. So let's go back and revisit the g2 implementation\n",
    "and check to see if we can move the normalization step outside of the loop"
   ]
  },
  {
   "cell_type": "code",
   "execution_count": 36,
   "metadata": {},
   "outputs": [],
   "source": [
    "import dlsfunctions as dls"
   ]
  },
  {
   "cell_type": "code",
   "execution_count": 45,
   "metadata": {},
   "outputs": [],
   "source": [
    "# forward calculations using the inferred distribution\n",
    "d_infer = fifty_q\n",
    "theta_inferred = np.append(d_infer, 1)"
   ]
  },
  {
   "cell_type": "code",
   "execution_count": 46,
   "metadata": {},
   "outputs": [],
   "source": [
    "forward_calc_inferred = dls.g2(theta_inferred, d, m, gamma, time_in)"
   ]
  },
  {
   "cell_type": "code",
   "execution_count": 47,
   "metadata": {},
   "outputs": [
    {
     "data": {
      "text/plain": [
       "[<matplotlib.lines.Line2D at 0x7fe1443fc470>]"
      ]
     },
     "execution_count": 47,
     "metadata": {},
     "output_type": "execute_result"
    },
    {
     "data": {
      "image/png": "[encoded data removed]",
      "text/plain": [
       "<Figure size 432x288 with 1 Axes>"
      ]
     },
     "metadata": {
      "needs_background": "light"
     },
     "output_type": "display_data"
    }
   ],
   "source": [
    "plt.semilogx(time_in, forward_calc_inferred)"
   ]
  },
  {
   "cell_type": "code",
   "execution_count": 49,
   "metadata": {},
   "outputs": [
    {
     "data": {
      "text/plain": [
       "-5.0688933252499994e+17"
      ]
     },
     "execution_count": 49,
     "metadata": {},
     "output_type": "execute_result"
    }
   ],
   "source": [
    "dls.log_prior(theta_inferred, m)"
   ]
  },
  {
   "cell_type": "code",
   "execution_count": 50,
   "metadata": {},
   "outputs": [
    {
     "data": {
      "text/plain": [
       "-0.0"
      ]
     },
     "execution_count": 50,
     "metadata": {},
     "output_type": "execute_result"
    }
   ],
   "source": [
    "dls.log_likelihood(theta_inferred, d, forward_calc_inferred, m, gamma, time_in)"
   ]
  },
  {
   "cell_type": "code",
   "execution_count": 51,
   "metadata": {},
   "outputs": [
    {
     "data": {
      "text/plain": [
       "-5.0688933252499994e+17"
      ]
     },
     "execution_count": 51,
     "metadata": {},
     "output_type": "execute_result"
    }
   ],
   "source": [
    "dls.log_posterior(theta_inferred, d, forward_calc_inferred, m, gamma, time_in)"
   ]
  },
  {
   "cell_type": "code",
   "execution_count": 52,
   "metadata": {},
   "outputs": [
    {
     "data": {
      "text/plain": [
       "array([1.11922673, 1.11922673, 1.11922673, 1.11922673, 1.11922673,\n",
       "       1.11922673, 1.11922673, 1.11922673, 1.11922673, 1.11922673,\n",
       "       1.11922673, 1.11922673, 1.11922673, 1.11922673, 1.11922673,\n",
       "       1.11922673, 1.11922673, 1.11922673, 1.11922673, 1.11922673,\n",
       "       1.11922673, 1.11922673, 1.11922673, 1.11922673, 1.11922673,\n",
       "       1.11922673, 1.11922673, 1.11922673, 1.11922673, 1.11922673,\n",
       "       1.11922673, 1.11922673, 1.11922673, 1.11922673, 1.11922673,\n",
       "       1.11922673, 1.11922673, 1.11922673, 1.11922673, 1.11922673,\n",
       "       1.11922673, 1.11922673, 1.11922673, 1.11922673, 1.11922673,\n",
       "       1.11922673, 1.11922673, 1.11922673, 1.11922673, 1.11922673,\n",
       "       1.11922673, 1.11922673, 1.11922673, 1.11922673, 1.11922673,\n",
       "       1.11922673, 1.11922673, 1.11922673, 1.11922673, 1.11922673,\n",
       "       1.11922673, 1.11922673, 1.11922673, 1.11922673, 1.11922673,\n",
       "       1.11922673, 1.11922673, 1.11922673, 1.11922673, 1.11922673,\n",
       "       1.11922673, 1.11922673, 1.11922673, 1.11922673, 1.11922673,\n",
       "       1.11922673, 1.11922673, 1.11922673, 1.11922673, 1.11922673,\n",
       "       1.11922673, 1.11922673, 1.11922673, 1.11922673, 1.11922673,\n",
       "       1.11922673, 1.11922673, 1.11922673, 1.11922673, 1.11922673,\n",
       "       1.11922673, 1.11922673, 1.11922673, 1.11922673, 1.11922673,\n",
       "       1.11922673, 1.11922673, 1.11922673, 1.11922673, 1.11922673,\n",
       "       1.11922673, 1.11922673, 1.11922673, 1.11922673, 1.11922673,\n",
       "       1.11922673, 1.11922673, 1.11922673, 1.11922673, 1.11922673,\n",
       "       1.11922673, 1.11922673, 1.11922673, 1.11922673, 1.11922673,\n",
       "       1.11922673, 1.11922673, 1.11922673, 1.11922673, 1.11922673,\n",
       "       1.11922673, 1.11922673, 1.11922673, 1.11922673, 1.11922673,\n",
       "       1.11922673, 1.11922673, 1.11922673, 1.11922673, 1.11922673,\n",
       "       1.11922673, 1.11922673, 1.11922673, 1.11922673, 1.11922673,\n",
       "       1.11922673, 1.11922673, 1.11922673, 1.11922673, 1.11922673,\n",
       "       1.11922673, 1.11922673, 1.11922673, 1.11922673, 1.11922673,\n",
       "       1.11922673, 1.11922673, 1.11922673, 1.11922673, 1.11922673,\n",
       "       1.11922673, 1.11922673, 1.11922673, 1.11922673, 1.11922673,\n",
       "       1.11922673, 1.11922673, 1.11922673, 1.11922673, 1.11922673,\n",
       "       1.11922673, 1.11922673, 1.11922673, 1.11922673, 1.11922673,\n",
       "       1.11922673, 1.11922673, 1.11922673, 1.11922673, 1.11922673,\n",
       "       1.11922673, 1.11922673, 1.11922673, 1.11922673, 1.11922673,\n",
       "       1.11922673, 1.11922673, 1.11922673, 1.11922673, 1.11922673,\n",
       "       1.11922673, 1.11922673, 1.11922673, 1.11922673, 1.11922673,\n",
       "       1.11922673, 1.11922673, 1.11922673, 1.11922673, 1.11922673,\n",
       "       1.11922673, 1.11922673, 1.11922673, 1.11922673, 1.11922673,\n",
       "       1.11922673, 1.11922673, 1.11922673, 1.11922673, 1.11922673])"
      ]
     },
     "execution_count": 52,
     "metadata": {},
     "output_type": "execute_result"
    }
   ],
   "source": [
    "dls.g2(theta_inferred, d, m ,gamma, np.zeros(200))"
   ]
  },
  {
   "cell_type": "code",
   "execution_count": 54,
   "metadata": {},
   "outputs": [
    {
     "data": {
      "text/plain": [
       "3.4597907894736846"
      ]
     },
     "execution_count": 54,
     "metadata": {},
     "output_type": "execute_result"
    }
   ],
   "source": [
    "dls.check_distribution_norm(fifty_q, d[1] - d[0])"
   ]
  },
  {
   "cell_type": "code",
   "execution_count": null,
   "metadata": {},
   "outputs": [],
   "source": []
  }
 ],
 "metadata": {
  "kernelspec": {
   "display_name": "Python 2",
   "language": "python",
   "name": "python2"
  },
  "language_info": {
   "codemirror_mode": {
    "name": "ipython",
    "version": 2
   },
   "file_extension": ".py",
   "mimetype": "text/x-python",
   "name": "python",
   "nbconvert_exporter": "python",
   "pygments_lexer": "ipython2",
   "version": "2.7.16"
  }
 },
 "nbformat": 4,
 "nbformat_minor": 2
}
