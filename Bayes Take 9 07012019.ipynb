{
 "cells": [
  {
   "cell_type": "code",
   "execution_count": 1,
   "metadata": {},
   "outputs": [],
   "source": [
    "import numpy as np\n",
    "import matplotlib.pyplot as plt\n",
    "import emcee\n",
    "import seaborn as sns\n",
    "import pandas as pd\n",
    "import dlsfunctions as dls"
   ]
  },
  {
   "cell_type": "code",
   "execution_count": 2,
   "metadata": {},
   "outputs": [
    {
     "data": {
      "text/latex": [
       "Redoing Bayes Take 7 06282019 in order to test the functionality of the new normalizing step in the likelihood \n",
       "function. Starts with forward calculations first before doing a Bayesian approach."
      ],
      "text/plain": [
       "<IPython.core.display.Latex object>"
      ]
     },
     "metadata": {},
     "output_type": "display_data"
    }
   ],
   "source": [
    "%%latex\n",
    "Redoing Bayes Take 7 06282019 in order to test the functionality of the new normalizing step in the likelihood \n",
    "function. Starts with forward calculations first before doing a Bayesian approach."
   ]
  },
  {
   "cell_type": "code",
   "execution_count": 3,
   "metadata": {},
   "outputs": [],
   "source": [
    "r = 2.2439608235145855e-09    # in meters\n",
    "diameter = r * 2\n",
    "mean = diameter - 3e-9\n",
    "sigma = 2e-10\n",
    "c = 1\n",
    "d = np.linspace(5e-10, 9e-9, 20)\n",
    "f_1 = dls.generate_distribution(d, mean, sigma, c)"
   ]
  },
  {
   "cell_type": "code",
   "execution_count": 4,
   "metadata": {},
   "outputs": [],
   "source": [
    "m = 20\n",
    "# c is already defined\n",
    "eta = 1e-3\n",
    "n = 1.33 \n",
    "theta = np.pi/2\n",
    "k_b = 1.38e-23\n",
    "t = 298.15\n",
    "lambda_0 = 638e-9\n",
    "beta = 1\n",
    "\n",
    "time_in = np.linspace(1e-4, 1e-1, 200)*0.001\n",
    "gamma = dls.calc_gamma(m, c, eta, n, theta, k_b, t, lambda_0)"
   ]
  },
  {
   "cell_type": "code",
   "execution_count": 8,
   "metadata": {},
   "outputs": [],
   "source": [
    "theta_input = np.append(f_1, beta)"
   ]
  },
  {
   "cell_type": "code",
   "execution_count": 9,
   "metadata": {},
   "outputs": [],
   "source": [
    "simulated_data = dls.g2(theta_input, d, m, gamma, time_in)"
   ]
  },
  {
   "cell_type": "code",
   "execution_count": 10,
   "metadata": {},
   "outputs": [
    {
     "data": {
      "text/plain": [
       "-1.7291521892550385e+18"
      ]
     },
     "execution_count": 10,
     "metadata": {},
     "output_type": "execute_result"
    }
   ],
   "source": [
    "dls.log_prior(theta_input, m)"
   ]
  },
  {
   "cell_type": "code",
   "execution_count": 11,
   "metadata": {},
   "outputs": [
    {
     "data": {
      "text/plain": [
       "-0.0"
      ]
     },
     "execution_count": 11,
     "metadata": {},
     "output_type": "execute_result"
    }
   ],
   "source": [
    "dls.log_likelihood(theta_input, d, simulated_data, m, gamma, time_in)"
   ]
  },
  {
   "cell_type": "code",
   "execution_count": 12,
   "metadata": {},
   "outputs": [
    {
     "data": {
      "text/plain": [
       "-1.7291521892550385e+18"
      ]
     },
     "execution_count": 12,
     "metadata": {},
     "output_type": "execute_result"
    }
   ],
   "source": [
    "dls.log_posterior(theta_input, d, simulated_data, m, gamma, time_in)"
   ]
  },
  {
   "cell_type": "code",
   "execution_count": 13,
   "metadata": {},
   "outputs": [
    {
     "data": {
      "text/latex": [
       "Forward calculations are go. Now we will check using a bayesian inference."
      ],
      "text/plain": [
       "<IPython.core.display.Latex object>"
      ]
     },
     "metadata": {},
     "output_type": "display_data"
    }
   ],
   "source": [
    "%%latex\n",
    "Forward calculations are go. Now we will check using a bayesian inference."
   ]
  },
  {
   "cell_type": "code",
   "execution_count": 14,
   "metadata": {},
   "outputs": [],
   "source": [
    "ndim = 21\n",
    "nwalkers = 100\n",
    "nsteps = 3000"
   ]
  },
  {
   "cell_type": "code",
   "execution_count": 15,
   "metadata": {},
   "outputs": [],
   "source": [
    "start_pos = [theta_input + 1e-4*np.random.randn(ndim) for i in range(nwalkers)]"
   ]
  },
  {
   "cell_type": "code",
   "execution_count": 16,
   "metadata": {},
   "outputs": [],
   "source": [
    "sampler = emcee.EnsembleSampler(nwalkers, ndim, dls.log_posterior, args=(d, simulated_data, m, gamma, time_in))"
   ]
  },
  {
   "cell_type": "code",
   "execution_count": 17,
   "metadata": {},
   "outputs": [
    {
     "name": "stderr",
     "output_type": "stream",
     "text": [
      "/usr/local/lib/python2.7/site-packages/emcee/ensemble.py:335: RuntimeWarning: invalid value encountered in subtract\n",
      "  lnpdiff = (self.dim - 1.) * np.log(zz) + newlnprob - lnprob0\n",
      "/usr/local/lib/python2.7/site-packages/emcee/ensemble.py:336: RuntimeWarning: invalid value encountered in greater\n",
      "  accept = (lnpdiff > np.log(self._random.rand(len(lnpdiff))))\n"
     ]
    },
    {
     "name": "stdout",
     "output_type": "stream",
     "text": [
      "emcee: Exception while calling your likelihood function:\n",
      "  params: [ 9.93608252e+03  5.12036047e+07  1.77177954e+09  4.11663754e+08\n",
      "  6.42242999e+05  6.72799103e+00 -1.50691881e-04 -2.73371686e-04\n",
      "  1.31642459e-05 -1.99415524e-04  6.22607711e-05 -6.24114202e-05\n",
      "  1.06539867e-04 -7.16641435e-05  1.37300630e-05  7.11833836e-05\n",
      "  1.49565902e-04  1.12755377e-04  1.16795253e-04  5.90425004e-05\n",
      "  9.99945633e-01]\n",
      "  args: (array([5.00000000e-10, 9.47368421e-10, 1.39473684e-09, 1.84210526e-09,\n",
      "       2.28947368e-09, 2.73684211e-09, 3.18421053e-09, 3.63157895e-09,\n",
      "       4.07894737e-09, 4.52631579e-09, 4.97368421e-09, 5.42105263e-09,\n",
      "       5.86842105e-09, 6.31578947e-09, 6.76315789e-09, 7.21052632e-09,\n",
      "       7.65789474e-09, 8.10526316e-09, 8.55263158e-09, 9.00000000e-09]), array([9.46239106e-01, 7.17252595e-01, 5.44008982e-01, 4.12857337e-01,\n",
      "       3.13510164e-01, 2.38209447e-01, 1.81100845e-01, 1.37763711e-01,\n",
      "       1.04857878e-01, 7.98580066e-02, 6.08536421e-02, 4.63986311e-02,\n",
      "       3.53976332e-02, 2.70205333e-02, 2.06378564e-02, 1.57719987e-02,\n",
      "       1.20603797e-02, 9.22758562e-03, 7.06429600e-03, 5.41133388e-03,\n",
      "       4.14758616e-03, 3.18085011e-03, 2.44089331e-03, 1.87418874e-03,\n",
      "       1.43991855e-03, 1.10693917e-03, 8.51475072e-04, 6.55365528e-04,\n",
      "       5.04730796e-04, 3.88957011e-04, 2.99923146e-04, 2.31411993e-04,\n",
      "       1.78661138e-04, 1.38020456e-04, 1.06690718e-04, 8.25239922e-05,\n",
      "       6.38711486e-05, 4.94652851e-05, 3.83325648e-05, 2.97239807e-05,\n",
      "       2.30631082e-05, 1.79060746e-05, 1.39108741e-05, 1.08138311e-05,\n",
      "       8.41153794e-06, 6.54698410e-06, 5.09889977e-06, 3.97356294e-06,\n",
      "       3.09849741e-06, 2.41762228e-06, 1.88751647e-06, 1.47454021e-06,\n",
      "       1.15261566e-06, 9.01514596e-07, 7.05536610e-07, 5.52488148e-07,\n",
      "       4.32893386e-07, 3.39383985e-07, 2.66226861e-07, 2.08958550e-07,\n",
      "       1.64101925e-07, 1.28946594e-07, 1.01378545e-07, 7.97479329e-08,\n",
      "       6.27663913e-08, 4.94272317e-08, 3.89433941e-08, 3.06991683e-08,\n",
      "       2.42126079e-08, 1.91062505e-08, 1.50842959e-08, 1.19148062e-08,\n",
      "       9.41581549e-09, 7.44448258e-09, 5.88861684e-09, 4.66005268e-09,\n",
      "       3.68946705e-09, 2.92232314e-09, 2.31569378e-09, 1.83577226e-09,\n",
      "       1.45592080e-09, 1.15513957e-09, 9.16865073e-10, 7.28026456e-10,\n",
      "       5.78303976e-10, 4.59546026e-10, 3.65310562e-10, 2.90504191e-10,\n",
      "       2.31097976e-10, 1.83903540e-10, 1.46396574e-10, 1.16577657e-10,\n",
      "       9.28624343e-11, 7.39949228e-11, 5.89790432e-11, 4.70245168e-11,\n",
      "       3.75040956e-11, 2.99197357e-11, 2.38758327e-11, 1.90580334e-11,\n",
      "       1.52164570e-11, 1.21524004e-11, 9.70780160e-12, 7.75688380e-12,\n",
      "       6.19952739e-12, 4.95600998e-12, 3.96283050e-12, 3.16939272e-12,\n",
      "       2.53537035e-12, 2.02861279e-12, 1.62348016e-12, 1.29951892e-12,\n",
      "       1.04040829e-12, 8.33121642e-13, 6.67258839e-13, 5.34514523e-13,\n",
      "       4.28254506e-13, 3.43178197e-13, 2.75049501e-13, 2.20482247e-13,\n",
      "       1.76769038e-13, 1.41744707e-13, 1.13677340e-13, 9.11812890e-14,\n",
      "       7.31477122e-14, 5.86890980e-14, 4.70949468e-14, 3.77963571e-14,\n",
      "       3.03377208e-14, 2.43540949e-14, 1.95531072e-14, 1.57004849e-14,\n",
      "       1.26084775e-14, 1.01265932e-14, 8.13418604e-15, 6.53452135e-15,\n",
      "       5.25002500e-15, 4.21847887e-15, 3.38997382e-15, 2.72446891e-15,\n",
      "       2.18983571e-15, 1.76029128e-15, 1.41514212e-15, 1.13777747e-15,\n",
      "       9.14862061e-16, 7.35688927e-16, 5.91660351e-16, 4.75871534e-16,\n",
      "       3.82776613e-16, 3.07920711e-16, 2.47724924e-16, 1.99313764e-16,\n",
      "       1.60376667e-16, 1.29056810e-16, 1.03861860e-16, 8.35923037e-17,\n",
      "       6.72838993e-17, 5.41614553e-17, 4.36017074e-17, 3.51034961e-17,\n",
      "       2.82638088e-17, 2.27585294e-17, 1.83269704e-17, 1.47594421e-17,\n",
      "       1.18872613e-17, 9.57472112e-18, 7.71263509e-18, 6.21314736e-18,\n",
      "       5.00555985e-18, 4.03297688e-18, 3.24960692e-18, 2.61859255e-18,\n",
      "       2.11026513e-18, 1.70074078e-18, 1.37079109e-18, 1.10493445e-18,\n",
      "       8.90705065e-19, 7.18064711e-19, 5.78929403e-19, 4.66788464e-19,\n",
      "       3.76397948e-19, 3.03533872e-19, 2.44793586e-19, 1.97435869e-19,\n",
      "       1.59252196e-19, 1.28463095e-19, 1.03634689e-19, 8.36114940e-20,\n",
      "       6.74623020e-20, 5.44365947e-20, 4.39294395e-20, 3.54532135e-20,\n",
      "       2.86148259e-20, 2.30973688e-20, 1.86453339e-20, 1.50527013e-20,\n",
      "       1.21533423e-20, 9.81328501e-21, 7.92448240e-21, 6.39978858e-21]), 20, 0.0003990545613756757, array([1.00000000e-07, 6.02010050e-07, 1.10402010e-06, 1.60603015e-06,\n",
      "       2.10804020e-06, 2.61005025e-06, 3.11206030e-06, 3.61407035e-06,\n",
      "       4.11608040e-06, 4.61809045e-06, 5.12010050e-06, 5.62211055e-06,\n",
      "       6.12412060e-06, 6.62613065e-06, 7.12814070e-06, 7.63015075e-06,\n",
      "       8.13216080e-06, 8.63417085e-06, 9.13618090e-06, 9.63819095e-06,\n",
      "       1.01402010e-05, 1.06422111e-05, 1.11442211e-05, 1.16462312e-05,\n",
      "       1.21482412e-05, 1.26502513e-05, 1.31522613e-05, 1.36542714e-05,\n",
      "       1.41562814e-05, 1.46582915e-05, 1.51603015e-05, 1.56623116e-05,\n",
      "       1.61643216e-05, 1.66663317e-05, 1.71683417e-05, 1.76703518e-05,\n",
      "       1.81723618e-05, 1.86743719e-05, 1.91763819e-05, 1.96783920e-05,\n",
      "       2.01804020e-05, 2.06824121e-05, 2.11844221e-05, 2.16864322e-05,\n",
      "       2.21884422e-05, 2.26904523e-05, 2.31924623e-05, 2.36944724e-05,\n",
      "       2.41964824e-05, 2.46984925e-05, 2.52005025e-05, 2.57025126e-05,\n",
      "       2.62045226e-05, 2.67065327e-05, 2.72085427e-05, 2.77105528e-05,\n",
      "       2.82125628e-05, 2.87145729e-05, 2.92165829e-05, 2.97185930e-05,\n",
      "       3.02206030e-05, 3.07226131e-05, 3.12246231e-05, 3.17266332e-05,\n",
      "       3.22286432e-05, 3.27306533e-05, 3.32326633e-05, 3.37346734e-05,\n",
      "       3.42366834e-05, 3.47386935e-05, 3.52407035e-05, 3.57427136e-05,\n",
      "       3.62447236e-05, 3.67467337e-05, 3.72487437e-05, 3.77507538e-05,\n",
      "       3.82527638e-05, 3.87547739e-05, 3.92567839e-05, 3.97587940e-05,\n",
      "       4.02608040e-05, 4.07628141e-05, 4.12648241e-05, 4.17668342e-05,\n",
      "       4.22688442e-05, 4.27708543e-05, 4.32728643e-05, 4.37748744e-05,\n",
      "       4.42768844e-05, 4.47788945e-05, 4.52809045e-05, 4.57829146e-05,\n",
      "       4.62849246e-05, 4.67869347e-05, 4.72889447e-05, 4.77909548e-05,\n",
      "       4.82929648e-05, 4.87949749e-05, 4.92969849e-05, 4.97989950e-05,\n",
      "       5.03010050e-05, 5.08030151e-05, 5.13050251e-05, 5.18070352e-05,\n",
      "       5.23090452e-05, 5.28110553e-05, 5.33130653e-05, 5.38150754e-05,\n",
      "       5.43170854e-05, 5.48190955e-05, 5.53211055e-05, 5.58231156e-05,\n",
      "       5.63251256e-05, 5.68271357e-05, 5.73291457e-05, 5.78311558e-05,\n",
      "       5.83331658e-05, 5.88351759e-05, 5.93371859e-05, 5.98391960e-05,\n",
      "       6.03412060e-05, 6.08432161e-05, 6.13452261e-05, 6.18472362e-05,\n",
      "       6.23492462e-05, 6.28512563e-05, 6.33532663e-05, 6.38552764e-05,\n",
      "       6.43572864e-05, 6.48592965e-05, 6.53613065e-05, 6.58633166e-05,\n",
      "       6.63653266e-05, 6.68673367e-05, 6.73693467e-05, 6.78713568e-05,\n",
      "       6.83733668e-05, 6.88753769e-05, 6.93773869e-05, 6.98793970e-05,\n",
      "       7.03814070e-05, 7.08834171e-05, 7.13854271e-05, 7.18874372e-05,\n",
      "       7.23894472e-05, 7.28914573e-05, 7.33934673e-05, 7.38954774e-05,\n",
      "       7.43974874e-05, 7.48994975e-05, 7.54015075e-05, 7.59035176e-05,\n",
      "       7.64055276e-05, 7.69075377e-05, 7.74095477e-05, 7.79115578e-05,\n",
      "       7.84135678e-05, 7.89155779e-05, 7.94175879e-05, 7.99195980e-05,\n",
      "       8.04216080e-05, 8.09236181e-05, 8.14256281e-05, 8.19276382e-05,\n",
      "       8.24296482e-05, 8.29316583e-05, 8.34336683e-05, 8.39356784e-05,\n",
      "       8.44376884e-05, 8.49396985e-05, 8.54417085e-05, 8.59437186e-05,\n",
      "       8.64457286e-05, 8.69477387e-05, 8.74497487e-05, 8.79517588e-05,\n",
      "       8.84537688e-05, 8.89557789e-05, 8.94577889e-05, 8.99597990e-05,\n",
      "       9.04618090e-05, 9.09638191e-05, 9.14658291e-05, 9.19678392e-05,\n",
      "       9.24698492e-05, 9.29718593e-05, 9.34738693e-05, 9.39758794e-05,\n",
      "       9.44778894e-05, 9.49798995e-05, 9.54819095e-05, 9.59839196e-05,\n",
      "       9.64859296e-05, 9.69879397e-05, 9.74899497e-05, 9.79919598e-05,\n",
      "       9.84939698e-05, 9.89959799e-05, 9.94979899e-05, 1.00000000e-04]))\n",
      "  kwargs: {}\n",
      "  exception:\n"
     ]
    },
    {
     "name": "stderr",
     "output_type": "stream",
     "text": [
      "Traceback (most recent call last):\n",
      "  File \"/usr/local/lib/python2.7/site-packages/emcee/ensemble.py\", line 519, in __call__\n",
      "    return self.f(x, *self.args, **self.kwargs)\n",
      "  File \"dlsfunctions.py\", line 119, in log_posterior\n",
      "    return log_prior(theta, m) + log_likelihood(theta, d, y, m, gamma, time)\n",
      "  File \"dlsfunctions.py\", line 106, in log_likelihood\n",
      "    g2_result = g2(theta, d, m, gamma, time)\n",
      "  File \"dlsfunctions.py\", line 69, in g2\n",
      "    f = f*normalize(f, 1, delta_d)\n",
      "KeyboardInterrupt\n"
     ]
    },
    {
     "ename": "KeyboardInterrupt",
     "evalue": "",
     "output_type": "error",
     "traceback": [
      "\u001b[0;31m---------------------------------------------------------------------------\u001b[0m",
      "\u001b[0;31mKeyboardInterrupt\u001b[0m                         Traceback (most recent call last)",
      "\u001b[0;32m<ipython-input-17-3abee289697a>\u001b[0m in \u001b[0;36m<module>\u001b[0;34m()\u001b[0m\n\u001b[0;32m----> 1\u001b[0;31m \u001b[0mresult\u001b[0m \u001b[0;34m=\u001b[0m \u001b[0msampler\u001b[0m\u001b[0;34m.\u001b[0m\u001b[0mrun_mcmc\u001b[0m\u001b[0;34m(\u001b[0m\u001b[0mstart_pos\u001b[0m\u001b[0;34m,\u001b[0m \u001b[0mnsteps\u001b[0m\u001b[0;34m)\u001b[0m\u001b[0;34m\u001b[0m\u001b[0m\n\u001b[0m\u001b[1;32m      2\u001b[0m \u001b[0msampler\u001b[0m\u001b[0;34m.\u001b[0m\u001b[0macceptance_fraction\u001b[0m\u001b[0;34m\u001b[0m\u001b[0m\n",
      "\u001b[0;32m/usr/local/lib/python2.7/site-packages/emcee/sampler.pyc\u001b[0m in \u001b[0;36mrun_mcmc\u001b[0;34m(self, pos0, N, rstate0, lnprob0, **kwargs)\u001b[0m\n\u001b[1;32m    170\u001b[0m \u001b[0;34m\u001b[0m\u001b[0m\n\u001b[1;32m    171\u001b[0m         for results in self.sample(pos0, lnprob0, rstate0, iterations=N,\n\u001b[0;32m--> 172\u001b[0;31m                                    **kwargs):\n\u001b[0m\u001b[1;32m    173\u001b[0m             \u001b[0;32mpass\u001b[0m\u001b[0;34m\u001b[0m\u001b[0m\n\u001b[1;32m    174\u001b[0m \u001b[0;34m\u001b[0m\u001b[0m\n",
      "\u001b[0;32m/usr/local/lib/python2.7/site-packages/emcee/ensemble.pyc\u001b[0m in \u001b[0;36msample\u001b[0;34m(self, p0, lnprob0, rstate0, blobs0, iterations, thin, storechain, mh_proposal)\u001b[0m\n\u001b[1;32m    257\u001b[0m                 \u001b[0;32mfor\u001b[0m \u001b[0mS0\u001b[0m\u001b[0;34m,\u001b[0m \u001b[0mS1\u001b[0m \u001b[0;32min\u001b[0m \u001b[0;34m[\u001b[0m\u001b[0;34m(\u001b[0m\u001b[0mfirst\u001b[0m\u001b[0;34m,\u001b[0m \u001b[0msecond\u001b[0m\u001b[0;34m)\u001b[0m\u001b[0;34m,\u001b[0m \u001b[0;34m(\u001b[0m\u001b[0msecond\u001b[0m\u001b[0;34m,\u001b[0m \u001b[0mfirst\u001b[0m\u001b[0;34m)\u001b[0m\u001b[0;34m]\u001b[0m\u001b[0;34m:\u001b[0m\u001b[0;34m\u001b[0m\u001b[0m\n\u001b[1;32m    258\u001b[0m                     q, newlnp, acc, blob = self._propose_stretch(p[S0], p[S1],\n\u001b[0;32m--> 259\u001b[0;31m                                                                  lnprob[S0])\n\u001b[0m\u001b[1;32m    260\u001b[0m                     \u001b[0;32mif\u001b[0m \u001b[0mnp\u001b[0m\u001b[0;34m.\u001b[0m\u001b[0many\u001b[0m\u001b[0;34m(\u001b[0m\u001b[0macc\u001b[0m\u001b[0;34m)\u001b[0m\u001b[0;34m:\u001b[0m\u001b[0;34m\u001b[0m\u001b[0m\n\u001b[1;32m    261\u001b[0m                         \u001b[0;31m# Update the positions, log probabilities and\u001b[0m\u001b[0;34m\u001b[0m\u001b[0;34m\u001b[0m\u001b[0m\n",
      "\u001b[0;32m/usr/local/lib/python2.7/site-packages/emcee/ensemble.pyc\u001b[0m in \u001b[0;36m_propose_stretch\u001b[0;34m(self, p0, p1, lnprob0)\u001b[0m\n\u001b[1;32m    330\u001b[0m         \u001b[0;31m# Calculate the proposed positions and the log-probability there.\u001b[0m\u001b[0;34m\u001b[0m\u001b[0;34m\u001b[0m\u001b[0m\n\u001b[1;32m    331\u001b[0m         \u001b[0mq\u001b[0m \u001b[0;34m=\u001b[0m \u001b[0mc\u001b[0m\u001b[0;34m[\u001b[0m\u001b[0mrint\u001b[0m\u001b[0;34m]\u001b[0m \u001b[0;34m-\u001b[0m \u001b[0mzz\u001b[0m\u001b[0;34m[\u001b[0m\u001b[0;34m:\u001b[0m\u001b[0;34m,\u001b[0m \u001b[0mnp\u001b[0m\u001b[0;34m.\u001b[0m\u001b[0mnewaxis\u001b[0m\u001b[0;34m]\u001b[0m \u001b[0;34m*\u001b[0m \u001b[0;34m(\u001b[0m\u001b[0mc\u001b[0m\u001b[0;34m[\u001b[0m\u001b[0mrint\u001b[0m\u001b[0;34m]\u001b[0m \u001b[0;34m-\u001b[0m \u001b[0ms\u001b[0m\u001b[0;34m)\u001b[0m\u001b[0;34m\u001b[0m\u001b[0m\n\u001b[0;32m--> 332\u001b[0;31m         \u001b[0mnewlnprob\u001b[0m\u001b[0;34m,\u001b[0m \u001b[0mblob\u001b[0m \u001b[0;34m=\u001b[0m \u001b[0mself\u001b[0m\u001b[0;34m.\u001b[0m\u001b[0m_get_lnprob\u001b[0m\u001b[0;34m(\u001b[0m\u001b[0mq\u001b[0m\u001b[0;34m)\u001b[0m\u001b[0;34m\u001b[0m\u001b[0m\n\u001b[0m\u001b[1;32m    333\u001b[0m \u001b[0;34m\u001b[0m\u001b[0m\n\u001b[1;32m    334\u001b[0m         \u001b[0;31m# Decide whether or not the proposals should be accepted.\u001b[0m\u001b[0;34m\u001b[0m\u001b[0;34m\u001b[0m\u001b[0m\n",
      "\u001b[0;32m/usr/local/lib/python2.7/site-packages/emcee/ensemble.pyc\u001b[0m in \u001b[0;36m_get_lnprob\u001b[0;34m(self, pos)\u001b[0m\n\u001b[1;32m    380\u001b[0m \u001b[0;34m\u001b[0m\u001b[0m\n\u001b[1;32m    381\u001b[0m         \u001b[0;31m# Run the log-probability calculations (optionally in parallel).\u001b[0m\u001b[0;34m\u001b[0m\u001b[0;34m\u001b[0m\u001b[0m\n\u001b[0;32m--> 382\u001b[0;31m         \u001b[0mresults\u001b[0m \u001b[0;34m=\u001b[0m \u001b[0mlist\u001b[0m\u001b[0;34m(\u001b[0m\u001b[0mM\u001b[0m\u001b[0;34m(\u001b[0m\u001b[0mself\u001b[0m\u001b[0;34m.\u001b[0m\u001b[0mlnprobfn\u001b[0m\u001b[0;34m,\u001b[0m \u001b[0;34m[\u001b[0m\u001b[0mp\u001b[0m\u001b[0;34m[\u001b[0m\u001b[0mi\u001b[0m\u001b[0;34m]\u001b[0m \u001b[0;32mfor\u001b[0m \u001b[0mi\u001b[0m \u001b[0;32min\u001b[0m \u001b[0mrange\u001b[0m\u001b[0;34m(\u001b[0m\u001b[0mlen\u001b[0m\u001b[0;34m(\u001b[0m\u001b[0mp\u001b[0m\u001b[0;34m)\u001b[0m\u001b[0;34m)\u001b[0m\u001b[0;34m]\u001b[0m\u001b[0;34m)\u001b[0m\u001b[0;34m)\u001b[0m\u001b[0;34m\u001b[0m\u001b[0m\n\u001b[0m\u001b[1;32m    383\u001b[0m \u001b[0;34m\u001b[0m\u001b[0m\n\u001b[1;32m    384\u001b[0m         \u001b[0;32mtry\u001b[0m\u001b[0;34m:\u001b[0m\u001b[0;34m\u001b[0m\u001b[0m\n",
      "\u001b[0;32m/usr/local/lib/python2.7/site-packages/emcee/ensemble.pyc\u001b[0m in \u001b[0;36m__call__\u001b[0;34m(self, x)\u001b[0m\n\u001b[1;32m    517\u001b[0m     \u001b[0;32mdef\u001b[0m \u001b[0m__call__\u001b[0m\u001b[0;34m(\u001b[0m\u001b[0mself\u001b[0m\u001b[0;34m,\u001b[0m \u001b[0mx\u001b[0m\u001b[0;34m)\u001b[0m\u001b[0;34m:\u001b[0m\u001b[0;34m\u001b[0m\u001b[0m\n\u001b[1;32m    518\u001b[0m         \u001b[0;32mtry\u001b[0m\u001b[0;34m:\u001b[0m\u001b[0;34m\u001b[0m\u001b[0m\n\u001b[0;32m--> 519\u001b[0;31m             \u001b[0;32mreturn\u001b[0m \u001b[0mself\u001b[0m\u001b[0;34m.\u001b[0m\u001b[0mf\u001b[0m\u001b[0;34m(\u001b[0m\u001b[0mx\u001b[0m\u001b[0;34m,\u001b[0m \u001b[0;34m*\u001b[0m\u001b[0mself\u001b[0m\u001b[0;34m.\u001b[0m\u001b[0margs\u001b[0m\u001b[0;34m,\u001b[0m \u001b[0;34m**\u001b[0m\u001b[0mself\u001b[0m\u001b[0;34m.\u001b[0m\u001b[0mkwargs\u001b[0m\u001b[0;34m)\u001b[0m\u001b[0;34m\u001b[0m\u001b[0m\n\u001b[0m\u001b[1;32m    520\u001b[0m         \u001b[0;32mexcept\u001b[0m\u001b[0;34m:\u001b[0m\u001b[0;34m\u001b[0m\u001b[0m\n\u001b[1;32m    521\u001b[0m             \u001b[0;32mimport\u001b[0m \u001b[0mtraceback\u001b[0m\u001b[0;34m\u001b[0m\u001b[0m\n",
      "\u001b[0;32m/Users/thyle/Desktop/Personal/Research/pydls/dlsfunctions.py\u001b[0m in \u001b[0;36mlog_posterior\u001b[0;34m(theta, d, y, m, gamma, time)\u001b[0m\n\u001b[1;32m    117\u001b[0m     \u001b[0;31m# log_prior and log_likelihood will need to slice theta correctly\u001b[0m\u001b[0;34m\u001b[0m\u001b[0;34m\u001b[0m\u001b[0m\n\u001b[1;32m    118\u001b[0m \u001b[0;34m\u001b[0m\u001b[0m\n\u001b[0;32m--> 119\u001b[0;31m     \u001b[0;32mreturn\u001b[0m \u001b[0mlog_prior\u001b[0m\u001b[0;34m(\u001b[0m\u001b[0mtheta\u001b[0m\u001b[0;34m,\u001b[0m \u001b[0mm\u001b[0m\u001b[0;34m)\u001b[0m \u001b[0;34m+\u001b[0m \u001b[0mlog_likelihood\u001b[0m\u001b[0;34m(\u001b[0m\u001b[0mtheta\u001b[0m\u001b[0;34m,\u001b[0m \u001b[0md\u001b[0m\u001b[0;34m,\u001b[0m \u001b[0my\u001b[0m\u001b[0;34m,\u001b[0m \u001b[0mm\u001b[0m\u001b[0;34m,\u001b[0m \u001b[0mgamma\u001b[0m\u001b[0;34m,\u001b[0m \u001b[0mtime\u001b[0m\u001b[0;34m)\u001b[0m\u001b[0;34m\u001b[0m\u001b[0m\n\u001b[0m\u001b[1;32m    120\u001b[0m \u001b[0;34m\u001b[0m\u001b[0m\n\u001b[1;32m    121\u001b[0m \u001b[0;34m\u001b[0m\u001b[0m\n",
      "\u001b[0;32m/Users/thyle/Desktop/Personal/Research/pydls/dlsfunctions.py\u001b[0m in \u001b[0;36mlog_likelihood\u001b[0;34m(theta, d, y, m, gamma, time)\u001b[0m\n\u001b[1;32m    104\u001b[0m \u001b[0;34m\u001b[0m\u001b[0m\n\u001b[1;32m    105\u001b[0m \u001b[0;32mdef\u001b[0m \u001b[0mlog_likelihood\u001b[0m\u001b[0;34m(\u001b[0m\u001b[0mtheta\u001b[0m\u001b[0;34m,\u001b[0m \u001b[0md\u001b[0m\u001b[0;34m,\u001b[0m \u001b[0my\u001b[0m\u001b[0;34m,\u001b[0m \u001b[0mm\u001b[0m\u001b[0;34m,\u001b[0m \u001b[0mgamma\u001b[0m\u001b[0;34m,\u001b[0m \u001b[0mtime\u001b[0m\u001b[0;34m)\u001b[0m\u001b[0;34m:\u001b[0m\u001b[0;34m\u001b[0m\u001b[0m\n\u001b[0;32m--> 106\u001b[0;31m     \u001b[0mg2_result\u001b[0m \u001b[0;34m=\u001b[0m \u001b[0mg2\u001b[0m\u001b[0;34m(\u001b[0m\u001b[0mtheta\u001b[0m\u001b[0;34m,\u001b[0m \u001b[0md\u001b[0m\u001b[0;34m,\u001b[0m \u001b[0mm\u001b[0m\u001b[0;34m,\u001b[0m \u001b[0mgamma\u001b[0m\u001b[0;34m,\u001b[0m \u001b[0mtime\u001b[0m\u001b[0;34m)\u001b[0m\u001b[0;34m\u001b[0m\u001b[0m\n\u001b[0m\u001b[1;32m    107\u001b[0m     \u001b[0;31m# keep in mind that g2 will require beta factor in the future\u001b[0m\u001b[0;34m\u001b[0m\u001b[0;34m\u001b[0m\u001b[0m\n\u001b[1;32m    108\u001b[0m \u001b[0;34m\u001b[0m\u001b[0m\n",
      "\u001b[0;32m/Users/thyle/Desktop/Personal/Research/pydls/dlsfunctions.py\u001b[0m in \u001b[0;36mg2\u001b[0;34m(theta, d, m, gamma, time)\u001b[0m\n\u001b[1;32m     67\u001b[0m     \u001b[0;32mfor\u001b[0m \u001b[0mi\u001b[0m \u001b[0;32min\u001b[0m \u001b[0mrange\u001b[0m\u001b[0;34m(\u001b[0m\u001b[0msize\u001b[0m\u001b[0;34m)\u001b[0m\u001b[0;34m:\u001b[0m\u001b[0;34m\u001b[0m\u001b[0m\n\u001b[1;32m     68\u001b[0m         \u001b[0mexpo\u001b[0m \u001b[0;34m=\u001b[0m \u001b[0mnp\u001b[0m\u001b[0;34m.\u001b[0m\u001b[0mexp\u001b[0m\u001b[0;34m(\u001b[0m\u001b[0;34m-\u001b[0m\u001b[0;34m(\u001b[0m\u001b[0mgamma\u001b[0m\u001b[0;34m*\u001b[0m\u001b[0mtime\u001b[0m\u001b[0;34m[\u001b[0m\u001b[0mi\u001b[0m\u001b[0;34m]\u001b[0m\u001b[0;34m)\u001b[0m\u001b[0;34m/\u001b[0m\u001b[0md\u001b[0m\u001b[0;34m)\u001b[0m\u001b[0;34m\u001b[0m\u001b[0m\n\u001b[0;32m---> 69\u001b[0;31m         \u001b[0mf\u001b[0m \u001b[0;34m=\u001b[0m \u001b[0mf\u001b[0m\u001b[0;34m*\u001b[0m\u001b[0mnormalize\u001b[0m\u001b[0;34m(\u001b[0m\u001b[0mf\u001b[0m\u001b[0;34m,\u001b[0m \u001b[0;36m1\u001b[0m\u001b[0;34m,\u001b[0m \u001b[0mdelta_d\u001b[0m\u001b[0;34m)\u001b[0m\u001b[0;34m\u001b[0m\u001b[0m\n\u001b[0m\u001b[1;32m     70\u001b[0m         \u001b[0msum_squared\u001b[0m \u001b[0;34m=\u001b[0m \u001b[0;34m(\u001b[0m\u001b[0mnp\u001b[0m\u001b[0;34m.\u001b[0m\u001b[0msum\u001b[0m\u001b[0;34m(\u001b[0m\u001b[0mf\u001b[0m\u001b[0;34m*\u001b[0m\u001b[0mexpo\u001b[0m\u001b[0;34m*\u001b[0m\u001b[0mdelta_d\u001b[0m\u001b[0;34m)\u001b[0m\u001b[0;34m)\u001b[0m\u001b[0;34m**\u001b[0m\u001b[0;36m2\u001b[0m\u001b[0;34m\u001b[0m\u001b[0m\n\u001b[1;32m     71\u001b[0m         \u001b[0mg2\u001b[0m\u001b[0;34m[\u001b[0m\u001b[0mi\u001b[0m\u001b[0;34m]\u001b[0m \u001b[0;34m=\u001b[0m \u001b[0mbeta\u001b[0m\u001b[0;34m*\u001b[0m\u001b[0msum_squared\u001b[0m\u001b[0;34m\u001b[0m\u001b[0m\n",
      "\u001b[0;31mKeyboardInterrupt\u001b[0m: "
     ]
    }
   ],
   "source": [
    "result = sampler.run_mcmc(start_pos, nsteps)\n",
    "sampler.acceptance_fraction"
   ]
  },
  {
   "cell_type": "code",
   "execution_count": null,
   "metadata": {},
   "outputs": [],
   "source": []
  }
 ],
 "metadata": {
  "kernelspec": {
   "display_name": "Python 2",
   "language": "python",
   "name": "python2"
  },
  "language_info": {
   "codemirror_mode": {
    "name": "ipython",
    "version": 2
   },
   "file_extension": ".py",
   "mimetype": "text/x-python",
   "name": "python",
   "nbconvert_exporter": "python",
   "pygments_lexer": "ipython2",
   "version": "2.7.16"
  }
 },
 "nbformat": 4,
 "nbformat_minor": 2
}
