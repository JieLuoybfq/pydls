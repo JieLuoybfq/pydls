{
 "cells": [
  {
   "cell_type": "code",
   "execution_count": 1,
   "metadata": {},
   "outputs": [],
   "source": [
    "import numpy as np\n",
    "import emcee\n",
    "import seaborn as sns\n",
    "import pandas as pd\n",
    "import scipy\n",
    "import dlsfunctions as dls\n",
    "import matplotlib.pyplot as plt"
   ]
  },
  {
   "cell_type": "code",
   "execution_count": 2,
   "metadata": {},
   "outputs": [
    {
     "data": {
      "text/latex": [
       "This Bayes Take 6 tests the current code for pydls using a unimodal, Gaussian simulated particle size distribution with a mean that is slanted towards the right of the simulated distribution. "
      ],
      "text/plain": [
       "<IPython.core.display.Latex object>"
      ]
     },
     "metadata": {},
     "output_type": "display_data"
    }
   ],
   "source": [
    "%%latex\n",
    "This Bayes Take 6 tests the current code for pydls using a unimodal, Gaussian simulated particle size distribution with a mean that is slanted towards the right of the simulated distribution. "
   ]
  },
  {
   "cell_type": "code",
   "execution_count": 3,
   "metadata": {},
   "outputs": [],
   "source": [
    "r = 2.2439608235145855e-09    # in meters\n",
    "diameter = r * 2\n",
    "mean = diameter + 3e-9\n",
    "sigma = 2e-10\n",
    "c = 1\n",
    "d = np.linspace(5e-10, 9e-9, 20)\n",
    "f_1 = dls.generate_distribution(d, mean, sigma, c)"
   ]
  },
  {
   "cell_type": "code",
   "execution_count": 4,
   "metadata": {},
   "outputs": [],
   "source": [
    "m = 20\n",
    "# c is already defined\n",
    "eta = 1e-3\n",
    "n = 1.33 \n",
    "theta = np.pi/2\n",
    "k_b = 1.38e-23\n",
    "t = 298.15\n",
    "lambda_0 = 638e-9\n",
    "beta = 1\n",
    "\n",
    "time_in = np.linspace(1e-4, 1e-1, 200)*0.001\n",
    "gamma = dls.calc_gamma(m, c, eta, n, theta, k_b, t, lambda_0)"
   ]
  },
  {
   "cell_type": "code",
   "execution_count": 5,
   "metadata": {},
   "outputs": [
    {
     "data": {
      "text/plain": [
       "[<matplotlib.lines.Line2D at 0x11d70a910>]"
      ]
     },
     "execution_count": 5,
     "metadata": {},
     "output_type": "execute_result"
    },
    {
     "data": {
      "image/png": "[encoded data removed]",
      "text/plain": [
       "<Figure size 432x288 with 1 Axes>"
      ]
     },
     "metadata": {
      "needs_background": "light"
     },
     "output_type": "display_data"
    }
   ],
   "source": [
    "plt.plot(d,f_1)"
   ]
  },
  {
   "cell_type": "code",
   "execution_count": 6,
   "metadata": {},
   "outputs": [
    {
     "data": {
      "text/plain": [
       "1.0"
      ]
     },
     "execution_count": 6,
     "metadata": {},
     "output_type": "execute_result"
    }
   ],
   "source": [
    "dls.check_distribution_norm(f_1, d[1] - d[0])"
   ]
  },
  {
   "cell_type": "code",
   "execution_count": 7,
   "metadata": {},
   "outputs": [],
   "source": [
    "theta_input = np.append(f_1, beta)"
   ]
  },
  {
   "cell_type": "code",
   "execution_count": 8,
   "metadata": {},
   "outputs": [],
   "source": [
    "simulated_data = dls.g2(theta_input, d, m, gamma, time_in)"
   ]
  },
  {
   "cell_type": "code",
   "execution_count": 9,
   "metadata": {},
   "outputs": [
    {
     "data": {
      "text/plain": [
       "[<matplotlib.lines.Line2D at 0x11d776e10>]"
      ]
     },
     "execution_count": 9,
     "metadata": {},
     "output_type": "execute_result"
    },
    {
     "data": {
      "image/png": "[encoded data removed]",
      "text/plain": [
       "<Figure size 432x288 with 1 Axes>"
      ]
     },
     "metadata": {
      "needs_background": "light"
     },
     "output_type": "display_data"
    }
   ],
   "source": [
    "plt.semilogx(time_in, simulated_data)"
   ]
  },
  {
   "cell_type": "code",
   "execution_count": 28,
   "metadata": {},
   "outputs": [],
   "source": [
    "ndim = 21\n",
    "nwalkers = 100\n",
    "nsteps = 2500"
   ]
  },
  {
   "cell_type": "code",
   "execution_count": 29,
   "metadata": {},
   "outputs": [],
   "source": [
    "start_pos = [theta_input + 1e-4*np.random.randn(ndim) for i in range(nwalkers)]"
   ]
  },
  {
   "cell_type": "code",
   "execution_count": 30,
   "metadata": {},
   "outputs": [],
   "source": [
    "sampler = emcee.EnsembleSampler(nwalkers, ndim, dls.log_posterior, args=(d, simulated_data, m, gamma, time_in))"
   ]
  },
  {
   "cell_type": "code",
   "execution_count": 31,
   "metadata": {},
   "outputs": [],
   "source": [
    "result = sampler.run_mcmc(start_pos, nsteps)"
   ]
  },
  {
   "cell_type": "code",
   "execution_count": 32,
   "metadata": {},
   "outputs": [
    {
     "data": {
      "text/plain": [
       "array([0.2876, 0.2848, 0.2864, 0.2832, 0.28  , 0.2684, 0.296 , 0.2736,\n",
       "       0.2756, 0.2816, 0.286 , 0.2656, 0.2712, 0.2856, 0.2964, 0.2988,\n",
       "       0.272 , 0.276 , 0.2808, 0.2604, 0.2768, 0.2772, 0.278 , 0.2732,\n",
       "       0.2876, 0.2748, 0.2872, 0.2784, 0.2696, 0.2608, 0.2788, 0.2764,\n",
       "       0.3004, 0.2924, 0.2836, 0.2884, 0.2776, 0.2832, 0.2868, 0.272 ,\n",
       "       0.2828, 0.2856, 0.2712, 0.2956, 0.2724, 0.2796, 0.2904, 0.268 ,\n",
       "       0.294 , 0.2904, 0.26  , 0.274 , 0.2856, 0.2792, 0.2856, 0.27  ,\n",
       "       0.2864, 0.2728, 0.27  , 0.2868, 0.2848, 0.2848, 0.2768, 0.288 ,\n",
       "       0.2992, 0.2836, 0.2724, 0.2748, 0.2748, 0.2712, 0.2596, 0.2808,\n",
       "       0.2776, 0.2828, 0.272 , 0.292 , 0.2804, 0.2964, 0.2912, 0.2952,\n",
       "       0.2856, 0.2652, 0.2776, 0.2676, 0.2784, 0.3052, 0.2688, 0.2796,\n",
       "       0.272 , 0.2732, 0.2804, 0.2772, 0.2848, 0.2696, 0.2896, 0.268 ,\n",
       "       0.2828, 0.2912, 0.284 , 0.2728])"
      ]
     },
     "execution_count": 32,
     "metadata": {},
     "output_type": "execute_result"
    }
   ],
   "source": [
    "sampler.acceptance_fraction"
   ]
  },
  {
   "cell_type": "code",
   "execution_count": 33,
   "metadata": {},
   "outputs": [
    {
     "data": {
      "text/plain": [
       "-9.892998328563087e+17"
      ]
     },
     "execution_count": 33,
     "metadata": {},
     "output_type": "execute_result"
    }
   ],
   "source": [
    "# this is not good let's check forward calculations\n",
    "dls.log_prior(theta_input, m)"
   ]
  },
  {
   "cell_type": "code",
   "execution_count": null,
   "metadata": {},
   "outputs": [],
   "source": [
    "dls.log_likelihood(theta_input, d, simulated_data, m, gamma, time_in)"
   ]
  },
  {
   "cell_type": "code",
   "execution_count": null,
   "metadata": {},
   "outputs": [],
   "source": [
    "dls.log_posterior(theta_input, d, simulated_data, m, gamma, time_in)"
   ]
  },
  {
   "cell_type": "code",
   "execution_count": 16,
   "metadata": {},
   "outputs": [],
   "source": [
    "# forward calculations checked out, I don't know why the \n",
    "# acceptance fractions turned out so badly"
   ]
  },
  {
   "cell_type": "code",
   "execution_count": null,
   "metadata": {},
   "outputs": [],
   "source": [
    "# ok now they're fine but the acceptance fraction is still low"
   ]
  },
  {
   "cell_type": "code",
   "execution_count": 34,
   "metadata": {},
   "outputs": [
    {
     "data": {
      "image/png": "[encoded data removed]",
      "text/plain": [
       "<Figure size 432x288 with 2 Axes>"
      ]
     },
     "metadata": {
      "needs_background": "light"
     },
     "output_type": "display_data"
    }
   ],
   "source": [
    "plt.style.use('seaborn-deep')\n",
    "plt.rcParams['mathtext.fontset'] = 'stix'\n",
    "plt.rcParams['font.family'] = 'STIXGeneral'\n",
    "params = {'legend.fontsize': 'x-large',\n",
    "          'figure.figsize': (15, 5),\n",
    "         'axes.labelsize': 'x-large',\n",
    "         'axes.titlesize':'x-large',\n",
    "         'xtick.labelsize':'x-large',\n",
    "         'ytick.labelsize':'x-large'}\n",
    "\n",
    "fig, (ax0, ax1) = plt.subplots(2)\n",
    "ax0.set(ylabel='f(d0)')\n",
    "ax1.set(ylabel='f(d1)')\n",
    "\n",
    "for j in range(10):\n",
    "    sns.tsplot(sampler.chain[j, :, 0], ax=ax0)\n",
    "    sns.tsplot(sampler.chain[j, :, 1], ax=ax1)"
   ]
  },
  {
   "cell_type": "code",
   "execution_count": 35,
   "metadata": {},
   "outputs": [
    {
     "data": {
      "image/png": "[encoded data removed]",
      "text/plain": [
       "<Figure size 432x288 with 2 Axes>"
      ]
     },
     "metadata": {
      "needs_background": "light"
     },
     "output_type": "display_data"
    }
   ],
   "source": [
    "plt.style.use('seaborn-deep')\n",
    "plt.rcParams['mathtext.fontset'] = 'stix'\n",
    "plt.rcParams['font.family'] = 'STIXGeneral'\n",
    "params = {'legend.fontsize': 'x-large',\n",
    "          'figure.figsize': (15, 5),\n",
    "         'axes.labelsize': 'x-large',\n",
    "         'axes.titlesize':'x-large',\n",
    "         'xtick.labelsize':'x-large',\n",
    "         'ytick.labelsize':'x-large'}\n",
    "\n",
    "fig, (ax2, ax3) = plt.subplots(2)\n",
    "ax2.set(ylabel='f(d2)')\n",
    "ax3.set(ylabel='f(d3)')\n",
    "\n",
    "for j in range(10):\n",
    "    sns.tsplot(sampler.chain[j, :, 2], ax=ax2)\n",
    "    sns.tsplot(sampler.chain[j, :, 3], ax=ax3)"
   ]
  },
  {
   "cell_type": "code",
   "execution_count": 36,
   "metadata": {},
   "outputs": [
    {
     "data": {
      "image/png": "[encoded data removed]",
      "text/plain": [
       "<Figure size 432x288 with 2 Axes>"
      ]
     },
     "metadata": {
      "needs_background": "light"
     },
     "output_type": "display_data"
    }
   ],
   "source": [
    "plt.style.use('seaborn-deep')\n",
    "plt.rcParams['mathtext.fontset'] = 'stix'\n",
    "plt.rcParams['font.family'] = 'STIXGeneral'\n",
    "params = {'legend.fontsize': 'x-large',\n",
    "          'figure.figsize': (15, 5),\n",
    "         'axes.labelsize': 'x-large',\n",
    "         'axes.titlesize':'x-large',\n",
    "         'xtick.labelsize':'x-large',\n",
    "         'ytick.labelsize':'x-large'}\n",
    "\n",
    "fig, (ax4, ax5) = plt.subplots(2)\n",
    "ax4.set(ylabel='f(d4)')\n",
    "ax5.set(ylabel='f(d5)')\n",
    "\n",
    "for j in range(10):\n",
    "    sns.tsplot(sampler.chain[j, :, 4], ax=ax4)\n",
    "    sns.tsplot(sampler.chain[j, :, 5], ax=ax5)"
   ]
  },
  {
   "cell_type": "code",
   "execution_count": 45,
   "metadata": {},
   "outputs": [],
   "source": [
    "samples = sampler.chain[:,2300:,:]\n",
    "\n",
    "# reshape the samples into a 1D array where the colums are the f(d) values\n",
    "traces = samples.reshape(-1, ndim).T\n",
    "\n",
    "parameter_samples = pd.DataFrame({'f(d0)': traces[0], 'f(d1)': traces[1], 'f(d2)': traces[2], 'f(d3)': traces[3], 'f(d4)': traces[4], 'f(d5)': traces[5], 'f(d6)': traces[6], 'f(d7)': traces[7], 'f(d8)': traces[8], 'f(d9)': traces[9], 'f(d10)': traces[10], 'f(d11)': traces[11], 'f(d12)': traces[12], 'f(d13)': traces[13], 'f(d14)': traces[14], 'f(d15)': traces[15], 'f(d16)': traces[16], 'f(d17)': traces[17], 'f(d18)': traces[18], 'f(d19)': traces[19], 'beta': traces[20]})\n",
    "\n",
    "# calculate the MAP and values using pandas\n",
    "q = parameter_samples.quantile([0.16,0.50,0.84], axis=0)"
   ]
  },
  {
   "cell_type": "code",
   "execution_count": 46,
   "metadata": {},
   "outputs": [
    {
     "data": {
      "text/html": [
       "<div>\n",
       "<style scoped>\n",
       "    .dataframe tbody tr th:only-of-type {\n",
       "        vertical-align: middle;\n",
       "    }\n",
       "\n",
       "    .dataframe tbody tr th {\n",
       "        vertical-align: top;\n",
       "    }\n",
       "\n",
       "    .dataframe thead th {\n",
       "        text-align: right;\n",
       "    }\n",
       "</style>\n",
       "<table border=\"1\" class=\"dataframe\">\n",
       "  <thead>\n",
       "    <tr style=\"text-align: right;\">\n",
       "      <th></th>\n",
       "      <th>beta</th>\n",
       "      <th>f(d0)</th>\n",
       "      <th>f(d1)</th>\n",
       "      <th>f(d10)</th>\n",
       "      <th>f(d11)</th>\n",
       "      <th>f(d12)</th>\n",
       "      <th>f(d13)</th>\n",
       "      <th>f(d14)</th>\n",
       "      <th>f(d15)</th>\n",
       "      <th>f(d16)</th>\n",
       "      <th>...</th>\n",
       "      <th>f(d18)</th>\n",
       "      <th>f(d19)</th>\n",
       "      <th>f(d2)</th>\n",
       "      <th>f(d3)</th>\n",
       "      <th>f(d4)</th>\n",
       "      <th>f(d5)</th>\n",
       "      <th>f(d6)</th>\n",
       "      <th>f(d7)</th>\n",
       "      <th>f(d8)</th>\n",
       "      <th>f(d9)</th>\n",
       "    </tr>\n",
       "  </thead>\n",
       "  <tbody>\n",
       "    <tr>\n",
       "      <th>0.16</th>\n",
       "      <td>0.250125</td>\n",
       "      <td>4.341790e+05</td>\n",
       "      <td>1.064709e+08</td>\n",
       "      <td>3.093531e+05</td>\n",
       "      <td>2.149140e+08</td>\n",
       "      <td>1.449613e+08</td>\n",
       "      <td>1.713206e+08</td>\n",
       "      <td>2.762720e+06</td>\n",
       "      <td>5.677693e+08</td>\n",
       "      <td>1.193004e+09</td>\n",
       "      <td>...</td>\n",
       "      <td>4.397443e+08</td>\n",
       "      <td>1.827621e+08</td>\n",
       "      <td>1.623399e+08</td>\n",
       "      <td>1.423587e+08</td>\n",
       "      <td>2.517749e+08</td>\n",
       "      <td>4.776809e+08</td>\n",
       "      <td>4.000890e+08</td>\n",
       "      <td>2.907929e+08</td>\n",
       "      <td>6.769499e+07</td>\n",
       "      <td>4.783375e+06</td>\n",
       "    </tr>\n",
       "    <tr>\n",
       "      <th>0.50</th>\n",
       "      <td>0.368289</td>\n",
       "      <td>9.373340e+05</td>\n",
       "      <td>1.110176e+08</td>\n",
       "      <td>8.493503e+05</td>\n",
       "      <td>2.192217e+08</td>\n",
       "      <td>1.513013e+08</td>\n",
       "      <td>1.828800e+08</td>\n",
       "      <td>8.057053e+06</td>\n",
       "      <td>5.739112e+08</td>\n",
       "      <td>1.196114e+09</td>\n",
       "      <td>...</td>\n",
       "      <td>4.434132e+08</td>\n",
       "      <td>1.863972e+08</td>\n",
       "      <td>1.690419e+08</td>\n",
       "      <td>1.469930e+08</td>\n",
       "      <td>2.659759e+08</td>\n",
       "      <td>4.853412e+08</td>\n",
       "      <td>4.045619e+08</td>\n",
       "      <td>2.941838e+08</td>\n",
       "      <td>7.864333e+07</td>\n",
       "      <td>7.503347e+06</td>\n",
       "    </tr>\n",
       "    <tr>\n",
       "      <th>0.84</th>\n",
       "      <td>0.480256</td>\n",
       "      <td>4.176389e+06</td>\n",
       "      <td>1.152680e+08</td>\n",
       "      <td>2.313111e+06</td>\n",
       "      <td>2.245974e+08</td>\n",
       "      <td>1.566365e+08</td>\n",
       "      <td>1.871303e+08</td>\n",
       "      <td>1.700433e+07</td>\n",
       "      <td>5.800982e+08</td>\n",
       "      <td>1.200305e+09</td>\n",
       "      <td>...</td>\n",
       "      <td>4.477551e+08</td>\n",
       "      <td>1.907490e+08</td>\n",
       "      <td>1.801834e+08</td>\n",
       "      <td>1.506547e+08</td>\n",
       "      <td>2.748671e+08</td>\n",
       "      <td>4.888918e+08</td>\n",
       "      <td>4.107572e+08</td>\n",
       "      <td>3.005976e+08</td>\n",
       "      <td>8.909211e+07</td>\n",
       "      <td>9.913247e+06</td>\n",
       "    </tr>\n",
       "  </tbody>\n",
       "</table>\n",
       "<p>3 rows × 21 columns</p>\n",
       "</div>"
      ],
      "text/plain": [
       "          beta         f(d0)         f(d1)        f(d10)        f(d11)  \\\n",
       "0.16  0.250125  4.341790e+05  1.064709e+08  3.093531e+05  2.149140e+08   \n",
       "0.50  0.368289  9.373340e+05  1.110176e+08  8.493503e+05  2.192217e+08   \n",
       "0.84  0.480256  4.176389e+06  1.152680e+08  2.313111e+06  2.245974e+08   \n",
       "\n",
       "            f(d12)        f(d13)        f(d14)        f(d15)        f(d16)  \\\n",
       "0.16  1.449613e+08  1.713206e+08  2.762720e+06  5.677693e+08  1.193004e+09   \n",
       "0.50  1.513013e+08  1.828800e+08  8.057053e+06  5.739112e+08  1.196114e+09   \n",
       "0.84  1.566365e+08  1.871303e+08  1.700433e+07  5.800982e+08  1.200305e+09   \n",
       "\n",
       "      ...        f(d18)        f(d19)         f(d2)         f(d3)  \\\n",
       "0.16  ...  4.397443e+08  1.827621e+08  1.623399e+08  1.423587e+08   \n",
       "0.50  ...  4.434132e+08  1.863972e+08  1.690419e+08  1.469930e+08   \n",
       "0.84  ...  4.477551e+08  1.907490e+08  1.801834e+08  1.506547e+08   \n",
       "\n",
       "             f(d4)         f(d5)         f(d6)         f(d7)         f(d8)  \\\n",
       "0.16  2.517749e+08  4.776809e+08  4.000890e+08  2.907929e+08  6.769499e+07   \n",
       "0.50  2.659759e+08  4.853412e+08  4.045619e+08  2.941838e+08  7.864333e+07   \n",
       "0.84  2.748671e+08  4.888918e+08  4.107572e+08  3.005976e+08  8.909211e+07   \n",
       "\n",
       "             f(d9)  \n",
       "0.16  4.783375e+06  \n",
       "0.50  7.503347e+06  \n",
       "0.84  9.913247e+06  \n",
       "\n",
       "[3 rows x 21 columns]"
      ]
     },
     "execution_count": 46,
     "metadata": {},
     "output_type": "execute_result"
    }
   ],
   "source": [
    "q"
   ]
  },
  {
   "cell_type": "code",
   "execution_count": 40,
   "metadata": {},
   "outputs": [],
   "source": [
    "fifty_q = np.zeros(20)\n",
    "fifty_q[0] = 9.3733e5\n",
    "fifty_q[1] = 1.11e8\n",
    "fifty_q[2] = 1.69e8\n",
    "fifty_q[3] = 1.469e8\n",
    "fifty_q[4] = 2.659e8\n",
    "fifty_q[5] = 4.8534e8\n",
    "fifty_q[6] = 4.0456e8\n",
    "fifty_q[7] = 2.9418e8\n",
    "fifty_q[8] = 7.8643e7\n",
    "fifty_q[9] = 7.503e6\n",
    "fifty_q[10] = 8.4935e5\n",
    "fifty_q[11] = 2.192e8\n",
    "fifty_q[12] = 1.513e8\n",
    "fifty_q[13] = 1.828e8\n",
    "fifty_q[14] = 8.057e6\n",
    "fifty_q[15] = 5.7391e8\n",
    "fifty_q[16] = 1.196e9\n",
    "fifty_q[17] = 2.154e7\n",
    "fifty_q[18] = 4.434e8\n",
    "fifty_q[19] = 1.8639e8"
   ]
  },
  {
   "cell_type": "code",
   "execution_count": 43,
   "metadata": {},
   "outputs": [
    {
     "data": {
      "text/plain": [
       "Text(0.5,1,'Inferred Distribution')"
      ]
     },
     "execution_count": 43,
     "metadata": {},
     "output_type": "execute_result"
    },
    {
     "data": {
      "image/png": "[encoded data removed]",
      "text/plain": [
       "<Figure size 432x288 with 1 Axes>"
      ]
     },
     "metadata": {
      "needs_background": "light"
     },
     "output_type": "display_data"
    }
   ],
   "source": [
    "plt.plot(d, fifty_q)\n",
    "plt.xlabel('Particle size (m)')\n",
    "plt.ylabel('Frequency')\n",
    "plt.title('Inferred Distribution')"
   ]
  },
  {
   "cell_type": "code",
   "execution_count": 44,
   "metadata": {},
   "outputs": [
    {
     "data": {
      "text/plain": [
       "Text(0.5,1,'Actual simulated distribution')"
      ]
     },
     "execution_count": 44,
     "metadata": {},
     "output_type": "execute_result"
    },
    {
     "data": {
      "image/png": "[encoded data removed]",
      "text/plain": [
       "<Figure size 432x288 with 1 Axes>"
      ]
     },
     "metadata": {
      "needs_background": "light"
     },
     "output_type": "display_data"
    }
   ],
   "source": [
    "plt.plot(d, f_1)\n",
    "plt.xlabel('Particle size (m)')\n",
    "plt.ylabel('Frequency')\n",
    "plt.title('Actual simulated distribution')"
   ]
  },
  {
   "cell_type": "code",
   "execution_count": 47,
   "metadata": {},
   "outputs": [],
   "source": [
    "nsteps = 3000"
   ]
  },
  {
   "cell_type": "code",
   "execution_count": null,
   "metadata": {},
   "outputs": [],
   "source": []
  }
 ],
 "metadata": {
  "kernelspec": {
   "display_name": "Python 2",
   "language": "python",
   "name": "python2"
  },
  "language_info": {
   "codemirror_mode": {
    "name": "ipython",
    "version": 2
   },
   "file_extension": ".py",
   "mimetype": "text/x-python",
   "name": "python",
   "nbconvert_exporter": "python",
   "pygments_lexer": "ipython2",
   "version": "2.7.16"
  }
 },
 "nbformat": 4,
 "nbformat_minor": 2
}
