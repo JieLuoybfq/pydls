{
 "cells": [
  {
   "cell_type": "code",
   "execution_count": 1,
   "metadata": {},
   "outputs": [],
   "source": [
    "import numpy as np\n",
    "import matplotlib.pyplot as plt\n",
    "import emcee\n",
    "import dlsfunctions as dls\n",
    "import seaborn as sns\n",
    "import pandas as pd"
   ]
  },
  {
   "cell_type": "code",
   "execution_count": 2,
   "metadata": {},
   "outputs": [
    {
     "data": {
      "text/latex": [
       "Let's see if we can normalize the output distribution in Bayes Take 13\n"
      ],
      "text/plain": [
       "<IPython.core.display.Latex object>"
      ]
     },
     "metadata": {},
     "output_type": "display_data"
    }
   ],
   "source": [
    "%%latex\n",
    "Let's see if we can normalize the output distribution in Bayes Take 13"
   ]
  },
  {
   "cell_type": "code",
   "execution_count": 3,
   "metadata": {},
   "outputs": [],
   "source": [
    "r = 2.24e-09\n",
    "diameter = r * 2 + 3e-9\n",
    "sigma = 2e-10\n",
    "\n",
    "m = 20\n",
    "c = 1\n",
    "eta = 1e-3\n",
    "n = 1.33 \n",
    "theta = np.pi/2\n",
    "k_b = 1.38e-23\n",
    "t = 298.15\n",
    "lambda_0 = 638e-9\n",
    "beta = 1\n",
    "\n",
    "time_in = np.linspace(1e-4, 1e-1, 200)*0.001\n",
    "gamma = dls.calc_gamma(m, c, eta, n, theta, k_b, t, lambda_0)\n",
    "\n",
    "d = np.linspace(5e-10, 9e-9, 20)\n",
    "f_1 = dls.generate_distribution(d, diameter, sigma, c)"
   ]
  },
  {
   "cell_type": "code",
   "execution_count": 4,
   "metadata": {},
   "outputs": [
    {
     "data": {
      "text/plain": [
       "[<matplotlib.lines.Line2D at 0x7f65c69cdb00>]"
      ]
     },
     "execution_count": 4,
     "metadata": {},
     "output_type": "execute_result"
    },
    {
     "data": {
      "image/png": "[encoded data removed]",
      "text/plain": [
       "<Figure size 432x288 with 1 Axes>"
      ]
     },
     "metadata": {
      "needs_background": "light"
     },
     "output_type": "display_data"
    }
   ],
   "source": [
    "theta_input = np.append(f_1, beta)\n",
    "plt.plot(d, f_1)"
   ]
  },
  {
   "cell_type": "code",
   "execution_count": 5,
   "metadata": {},
   "outputs": [
    {
     "data": {
      "text/plain": [
       "[<matplotlib.lines.Line2D at 0x7f65c699d978>]"
      ]
     },
     "execution_count": 5,
     "metadata": {},
     "output_type": "execute_result"
    },
    {
     "data": {
      "image/png": "[encoded data removed]",
      "text/plain": [
       "<Figure size 432x288 with 1 Axes>"
      ]
     },
     "metadata": {
      "needs_background": "light"
     },
     "output_type": "display_data"
    }
   ],
   "source": [
    "sim_data = dls.g2(theta_input, d, m, gamma, time_in)\n",
    "plt.semilogx(time_in, sim_data)"
   ]
  },
  {
   "cell_type": "code",
   "execution_count": 10,
   "metadata": {},
   "outputs": [],
   "source": [
    "ndim = 21\n",
    "nwalkers = 100\n",
    "nsteps = 2500"
   ]
  },
  {
   "cell_type": "code",
   "execution_count": 11,
   "metadata": {},
   "outputs": [],
   "source": [
    "start_pos = [theta_input + 1e-4*np.random.randn(ndim) for i in range(nwalkers)]\n",
    "sampler = emcee.EnsembleSampler(nwalkers, ndim, dls.log_posterior, args=(d, sim_data, m, gamma, time_in))"
   ]
  },
  {
   "cell_type": "code",
   "execution_count": null,
   "metadata": {},
   "outputs": [],
   "source": []
  },
  {
   "cell_type": "code",
   "execution_count": 12,
   "metadata": {},
   "outputs": [
    {
     "data": {
      "text/plain": [
       "array([0.3244, 0.3388, 0.3148, 0.3456, 0.3244, 0.346 , 0.3392, 0.3204,\n",
       "       0.3044, 0.3356, 0.3416, 0.3468, 0.3128, 0.328 , 0.3344, 0.3352,\n",
       "       0.3296, 0.3396, 0.3428, 0.3456, 0.324 , 0.3452, 0.3172, 0.3312,\n",
       "       0.3284, 0.3348, 0.3412, 0.322 , 0.3304, 0.3312, 0.3496, 0.3468,\n",
       "       0.338 , 0.3356, 0.3268, 0.3324, 0.3212, 0.3156, 0.3212, 0.336 ,\n",
       "       0.3268, 0.3284, 0.3392, 0.3196, 0.3368, 0.3204, 0.3164, 0.3288,\n",
       "       0.3508, 0.3348, 0.3432, 0.3404, 0.3336, 0.3204, 0.3388, 0.3212,\n",
       "       0.3412, 0.33  , 0.3376, 0.3464, 0.3324, 0.3384, 0.3532, 0.3436,\n",
       "       0.3352, 0.326 , 0.3152, 0.344 , 0.3152, 0.3512, 0.3444, 0.3384,\n",
       "       0.3364, 0.3396, 0.3176, 0.3324, 0.3412, 0.342 , 0.3172, 0.3316,\n",
       "       0.3348, 0.344 , 0.3068, 0.33  , 0.3624, 0.3304, 0.324 , 0.3388,\n",
       "       0.3432, 0.3356, 0.3296, 0.3352, 0.3064, 0.3128, 0.3348, 0.3208,\n",
       "       0.3196, 0.3268, 0.3288, 0.3112])"
      ]
     },
     "execution_count": 12,
     "metadata": {},
     "output_type": "execute_result"
    }
   ],
   "source": [
    "result = sampler.run_mcmc(start_pos, nsteps)\n",
    "sampler.acceptance_fraction"
   ]
  },
  {
   "cell_type": "code",
   "execution_count": 12,
   "metadata": {},
   "outputs": [
    {
     "name": "stdout",
     "output_type": "stream",
     "text": [
      "emcee: Exception while calling your likelihood function:\n",
      "  params: [ 1.10996379e+08  1.07759710e+08  2.89518596e+06  6.38478874e+07\n",
      "  9.22320936e+05  1.47415445e+08  7.82781722e+07  9.45539822e+05\n",
      "  2.47145104e+08 -5.56752771e+04  1.59249783e+08  1.29703523e+05\n",
      "  2.04296181e+05  3.54472056e+08  2.81910874e+07  1.63923287e+08\n",
      "  2.01327284e+09  2.99544015e+05  2.29770074e+08  3.28204776e+06\n",
      "  8.18507857e-01]\n",
      "  args: (array([5.00000000e-10, 9.47368421e-10, 1.39473684e-09, 1.84210526e-09,\n",
      "       2.28947368e-09, 2.73684211e-09, 3.18421053e-09, 3.63157895e-09,\n",
      "       4.07894737e-09, 4.52631579e-09, 4.97368421e-09, 5.42105263e-09,\n",
      "       5.86842105e-09, 6.31578947e-09, 6.76315789e-09, 7.21052632e-09,\n",
      "       7.65789474e-09, 8.10526316e-09, 8.55263158e-09, 9.00000000e-09]), array([9.89559008e-01, 9.38768901e-01, 8.90586121e-01, 8.44876795e-01,\n",
      "       8.01513926e-01, 7.60377036e-01, 7.21351838e-01, 6.84329911e-01,\n",
      "       6.49208403e-01, 6.15889742e-01, 5.84281369e-01, 5.54295476e-01,\n",
      "       5.25848764e-01, 4.98862214e-01, 4.73260861e-01, 4.48973591e-01,\n",
      "       4.25932943e-01, 4.04074916e-01, 3.83338800e-01, 3.63666999e-01,\n",
      "       3.45004876e-01, 3.27300597e-01, 3.10504993e-01, 2.94571417e-01,\n",
      "       2.79455618e-01, 2.65115616e-01, 2.51511588e-01, 2.38605754e-01,\n",
      "       2.26362275e-01, 2.14747151e-01, 2.03728128e-01, 1.93274608e-01,\n",
      "       1.83357564e-01, 1.73949458e-01, 1.65024169e-01, 1.56556913e-01,\n",
      "       1.48524181e-01, 1.40903669e-01, 1.33674221e-01, 1.26815763e-01,\n",
      "       1.20309256e-01, 1.14136633e-01, 1.08280761e-01, 1.02725380e-01,\n",
      "       9.74550691e-02, 9.24551974e-02, 8.77118852e-02, 8.32119652e-02,\n",
      "       7.89429462e-02, 7.48929779e-02, 7.10508187e-02, 6.74058036e-02,\n",
      "       6.39478152e-02, 6.06672556e-02, 5.75550192e-02, 5.46024681e-02,\n",
      "       5.18014074e-02, 4.91440632e-02, 4.66230604e-02, 4.42314025e-02,\n",
      "       4.19624519e-02, 3.98099120e-02, 3.77678092e-02, 3.58304764e-02,\n",
      "       3.39925375e-02, 3.22488922e-02, 3.05947022e-02, 2.90253772e-02,\n",
      "       2.75365627e-02, 2.61241275e-02, 2.47841525e-02, 2.35129199e-02,\n",
      "       2.23069023e-02, 2.11627538e-02, 2.00772998e-02, 1.90475288e-02,\n",
      "       1.80705838e-02, 1.71437545e-02, 1.62644696e-02, 1.54302897e-02,\n",
      "       1.46389006e-02, 1.38881071e-02, 1.31758262e-02, 1.25000822e-02,\n",
      "       1.18590005e-02, 1.12508028e-02, 1.06738021e-02, 1.01263979e-02,\n",
      "       9.60707178e-03, 9.11438335e-03, 8.64696603e-03, 8.20352340e-03,\n",
      "       7.78282554e-03, 7.38370566e-03, 7.00505680e-03, 6.64582884e-03,\n",
      "       6.30502551e-03, 5.98170166e-03, 5.67496064e-03, 5.38395179e-03,\n",
      "       5.10786812e-03, 4.84594402e-03, 4.59745315e-03, 4.36170647e-03,\n",
      "       4.13805027e-03, 3.92586436e-03, 3.72456040e-03, 3.53358022e-03,\n",
      "       3.35239427e-03, 3.18050019e-03, 3.01742139e-03, 2.86270570e-03,\n",
      "       2.71592418e-03, 2.57666989e-03, 2.44455674e-03, 2.31921848e-03,\n",
      "       2.20030762e-03, 2.08749451e-03, 1.98046641e-03, 1.87892661e-03,\n",
      "       1.78259365e-03, 1.69120046e-03, 1.60449372e-03, 1.52223307e-03,\n",
      "       1.44419049e-03, 1.37014965e-03, 1.29990534e-03, 1.23326284e-03,\n",
      "       1.17003745e-03, 1.11005392e-03, 1.05314600e-03, 9.99155972e-04,\n",
      "       9.47934191e-04, 8.99338702e-04, 8.53234826e-04, 8.09494790e-04,\n",
      "       7.67997379e-04, 7.28627589e-04, 6.91276318e-04, 6.55840060e-04,\n",
      "       6.22220614e-04, 5.90324820e-04, 5.60064293e-04, 5.31355180e-04,\n",
      "       5.04117931e-04, 4.78277074e-04, 4.53761008e-04, 4.30501805e-04,\n",
      "       4.08435018e-04, 3.87499508e-04, 3.67637269e-04, 3.48793271e-04,\n",
      "       3.30915306e-04, 3.13953842e-04, 2.97861889e-04, 2.82594865e-04,\n",
      "       2.68110476e-04, 2.54368593e-04, 2.41331150e-04, 2.28962030e-04,\n",
      "       2.17226967e-04, 2.06093454e-04, 1.95530651e-04, 1.85509298e-04,\n",
      "       1.76001636e-04, 1.66981329e-04, 1.58423393e-04, 1.50304123e-04,\n",
      "       1.42601031e-04, 1.35292780e-04, 1.28359130e-04, 1.21780876e-04,\n",
      "       1.15539798e-04, 1.09618613e-04, 1.04000922e-04, 9.86711651e-05,\n",
      "       9.36145834e-05, 8.88171731e-05, 8.42656484e-05, 7.99474051e-05,\n",
      "       7.58504847e-05, 7.19635421e-05, 6.82758139e-05, 6.47770884e-05,\n",
      "       6.14576773e-05, 5.83083893e-05, 5.53205041e-05, 5.24857485e-05,\n",
      "       4.97962733e-05, 4.72446320e-05, 4.48237596e-05, 4.25269533e-05,\n",
      "       4.03478541e-05, 3.82804287e-05, 3.63189533e-05, 3.44579975e-05,\n",
      "       3.26924092e-05, 3.10173004e-05, 2.94280337e-05, 2.79202095e-05]), 20, 0.0003990545613756757, array([1.00000000e-07, 6.02010050e-07, 1.10402010e-06, 1.60603015e-06,\n",
      "       2.10804020e-06, 2.61005025e-06, 3.11206030e-06, 3.61407035e-06,\n",
      "       4.11608040e-06, 4.61809045e-06, 5.12010050e-06, 5.62211055e-06,\n",
      "       6.12412060e-06, 6.62613065e-06, 7.12814070e-06, 7.63015075e-06,\n",
      "       8.13216080e-06, 8.63417085e-06, 9.13618090e-06, 9.63819095e-06,\n",
      "       1.01402010e-05, 1.06422111e-05, 1.11442211e-05, 1.16462312e-05,\n",
      "       1.21482412e-05, 1.26502513e-05, 1.31522613e-05, 1.36542714e-05,\n",
      "       1.41562814e-05, 1.46582915e-05, 1.51603015e-05, 1.56623116e-05,\n",
      "       1.61643216e-05, 1.66663317e-05, 1.71683417e-05, 1.76703518e-05,\n",
      "       1.81723618e-05, 1.86743719e-05, 1.91763819e-05, 1.96783920e-05,\n",
      "       2.01804020e-05, 2.06824121e-05, 2.11844221e-05, 2.16864322e-05,\n",
      "       2.21884422e-05, 2.26904523e-05, 2.31924623e-05, 2.36944724e-05,\n",
      "       2.41964824e-05, 2.46984925e-05, 2.52005025e-05, 2.57025126e-05,\n",
      "       2.62045226e-05, 2.67065327e-05, 2.72085427e-05, 2.77105528e-05,\n",
      "       2.82125628e-05, 2.87145729e-05, 2.92165829e-05, 2.97185930e-05,\n",
      "       3.02206030e-05, 3.07226131e-05, 3.12246231e-05, 3.17266332e-05,\n",
      "       3.22286432e-05, 3.27306533e-05, 3.32326633e-05, 3.37346734e-05,\n",
      "       3.42366834e-05, 3.47386935e-05, 3.52407035e-05, 3.57427136e-05,\n",
      "       3.62447236e-05, 3.67467337e-05, 3.72487437e-05, 3.77507538e-05,\n",
      "       3.82527638e-05, 3.87547739e-05, 3.92567839e-05, 3.97587940e-05,\n",
      "       4.02608040e-05, 4.07628141e-05, 4.12648241e-05, 4.17668342e-05,\n",
      "       4.22688442e-05, 4.27708543e-05, 4.32728643e-05, 4.37748744e-05,\n",
      "       4.42768844e-05, 4.47788945e-05, 4.52809045e-05, 4.57829146e-05,\n",
      "       4.62849246e-05, 4.67869347e-05, 4.72889447e-05, 4.77909548e-05,\n",
      "       4.82929648e-05, 4.87949749e-05, 4.92969849e-05, 4.97989950e-05,\n",
      "       5.03010050e-05, 5.08030151e-05, 5.13050251e-05, 5.18070352e-05,\n",
      "       5.23090452e-05, 5.28110553e-05, 5.33130653e-05, 5.38150754e-05,\n",
      "       5.43170854e-05, 5.48190955e-05, 5.53211055e-05, 5.58231156e-05,\n",
      "       5.63251256e-05, 5.68271357e-05, 5.73291457e-05, 5.78311558e-05,\n",
      "       5.83331658e-05, 5.88351759e-05, 5.93371859e-05, 5.98391960e-05,\n",
      "       6.03412060e-05, 6.08432161e-05, 6.13452261e-05, 6.18472362e-05,\n",
      "       6.23492462e-05, 6.28512563e-05, 6.33532663e-05, 6.38552764e-05,\n",
      "       6.43572864e-05, 6.48592965e-05, 6.53613065e-05, 6.58633166e-05,\n",
      "       6.63653266e-05, 6.68673367e-05, 6.73693467e-05, 6.78713568e-05,\n",
      "       6.83733668e-05, 6.88753769e-05, 6.93773869e-05, 6.98793970e-05,\n",
      "       7.03814070e-05, 7.08834171e-05, 7.13854271e-05, 7.18874372e-05,\n",
      "       7.23894472e-05, 7.28914573e-05, 7.33934673e-05, 7.38954774e-05,\n",
      "       7.43974874e-05, 7.48994975e-05, 7.54015075e-05, 7.59035176e-05,\n",
      "       7.64055276e-05, 7.69075377e-05, 7.74095477e-05, 7.79115578e-05,\n",
      "       7.84135678e-05, 7.89155779e-05, 7.94175879e-05, 7.99195980e-05,\n",
      "       8.04216080e-05, 8.09236181e-05, 8.14256281e-05, 8.19276382e-05,\n",
      "       8.24296482e-05, 8.29316583e-05, 8.34336683e-05, 8.39356784e-05,\n",
      "       8.44376884e-05, 8.49396985e-05, 8.54417085e-05, 8.59437186e-05,\n",
      "       8.64457286e-05, 8.69477387e-05, 8.74497487e-05, 8.79517588e-05,\n",
      "       8.84537688e-05, 8.89557789e-05, 8.94577889e-05, 8.99597990e-05,\n",
      "       9.04618090e-05, 9.09638191e-05, 9.14658291e-05, 9.19678392e-05,\n",
      "       9.24698492e-05, 9.29718593e-05, 9.34738693e-05, 9.39758794e-05,\n",
      "       9.44778894e-05, 9.49798995e-05, 9.54819095e-05, 9.59839196e-05,\n",
      "       9.64859296e-05, 9.69879397e-05, 9.74899497e-05, 9.79919598e-05,\n",
      "       9.84939698e-05, 9.89959799e-05, 9.94979899e-05, 1.00000000e-04]))\n",
      "  kwargs: {}\n",
      "  exception:\n"
     ]
    },
    {
     "name": "stderr",
     "output_type": "stream",
     "text": [
      "Traceback (most recent call last):\n",
      "  File \"/usr/local/lib/python2.7/site-packages/emcee/ensemble.py\", line 519, in __call__\n",
      "    return self.f(x, *self.args, **self.kwargs)\n",
      "  File \"dlsfunctions.py\", line 121, in log_posterior\n",
      "    return log_prior(theta, m) + log_likelihood(theta, d, y, m, gamma, time)\n",
      "  File \"dlsfunctions.py\", line 108, in log_likelihood\n",
      "    g2_result = g2(theta, d, m, gamma, time)\n",
      "  File \"dlsfunctions.py\", line 71, in g2\n",
      "    sum_squared = (np.sum(f*expo*delta_d))**2\n",
      "  File \"/usr/local/lib/python2.7/site-packages/numpy/core/fromnumeric.py\", line 2076, in sum\n",
      "    initial=initial)\n",
      "  File \"/usr/local/lib/python2.7/site-packages/numpy/core/fromnumeric.py\", line 70, in _wrapreduction\n",
      "    passkwargs = {k: v for k, v in kwargs.items()\n",
      "KeyboardInterrupt\n"
     ]
    },
    {
     "ename": "KeyboardInterrupt",
     "evalue": "",
     "output_type": "error",
     "traceback": [
      "\u001b[0;31m---------------------------------------------------------------------------\u001b[0m",
      "\u001b[0;31mKeyboardInterrupt\u001b[0m                         Traceback (most recent call last)",
      "\u001b[0;32m<ipython-input-12-3abee289697a>\u001b[0m in \u001b[0;36m<module>\u001b[0;34m()\u001b[0m\n\u001b[0;32m----> 1\u001b[0;31m \u001b[0mresult\u001b[0m \u001b[0;34m=\u001b[0m \u001b[0msampler\u001b[0m\u001b[0;34m.\u001b[0m\u001b[0mrun_mcmc\u001b[0m\u001b[0;34m(\u001b[0m\u001b[0mstart_pos\u001b[0m\u001b[0;34m,\u001b[0m \u001b[0mnsteps\u001b[0m\u001b[0;34m)\u001b[0m\u001b[0;34m\u001b[0m\u001b[0m\n\u001b[0m\u001b[1;32m      2\u001b[0m \u001b[0msampler\u001b[0m\u001b[0;34m.\u001b[0m\u001b[0macceptance_fraction\u001b[0m\u001b[0;34m\u001b[0m\u001b[0m\n",
      "\u001b[0;32m/usr/local/lib/python2.7/site-packages/emcee/sampler.pyc\u001b[0m in \u001b[0;36mrun_mcmc\u001b[0;34m(self, pos0, N, rstate0, lnprob0, **kwargs)\u001b[0m\n\u001b[1;32m    170\u001b[0m \u001b[0;34m\u001b[0m\u001b[0m\n\u001b[1;32m    171\u001b[0m         for results in self.sample(pos0, lnprob0, rstate0, iterations=N,\n\u001b[0;32m--> 172\u001b[0;31m                                    **kwargs):\n\u001b[0m\u001b[1;32m    173\u001b[0m             \u001b[0;32mpass\u001b[0m\u001b[0;34m\u001b[0m\u001b[0m\n\u001b[1;32m    174\u001b[0m \u001b[0;34m\u001b[0m\u001b[0m\n",
      "\u001b[0;32m/usr/local/lib/python2.7/site-packages/emcee/ensemble.pyc\u001b[0m in \u001b[0;36msample\u001b[0;34m(self, p0, lnprob0, rstate0, blobs0, iterations, thin, storechain, mh_proposal)\u001b[0m\n\u001b[1;32m    257\u001b[0m                 \u001b[0;32mfor\u001b[0m \u001b[0mS0\u001b[0m\u001b[0;34m,\u001b[0m \u001b[0mS1\u001b[0m \u001b[0;32min\u001b[0m \u001b[0;34m[\u001b[0m\u001b[0;34m(\u001b[0m\u001b[0mfirst\u001b[0m\u001b[0;34m,\u001b[0m \u001b[0msecond\u001b[0m\u001b[0;34m)\u001b[0m\u001b[0;34m,\u001b[0m \u001b[0;34m(\u001b[0m\u001b[0msecond\u001b[0m\u001b[0;34m,\u001b[0m \u001b[0mfirst\u001b[0m\u001b[0;34m)\u001b[0m\u001b[0;34m]\u001b[0m\u001b[0;34m:\u001b[0m\u001b[0;34m\u001b[0m\u001b[0m\n\u001b[1;32m    258\u001b[0m                     q, newlnp, acc, blob = self._propose_stretch(p[S0], p[S1],\n\u001b[0;32m--> 259\u001b[0;31m                                                                  lnprob[S0])\n\u001b[0m\u001b[1;32m    260\u001b[0m                     \u001b[0;32mif\u001b[0m \u001b[0mnp\u001b[0m\u001b[0;34m.\u001b[0m\u001b[0many\u001b[0m\u001b[0;34m(\u001b[0m\u001b[0macc\u001b[0m\u001b[0;34m)\u001b[0m\u001b[0;34m:\u001b[0m\u001b[0;34m\u001b[0m\u001b[0m\n\u001b[1;32m    261\u001b[0m                         \u001b[0;31m# Update the positions, log probabilities and\u001b[0m\u001b[0;34m\u001b[0m\u001b[0;34m\u001b[0m\u001b[0m\n",
      "\u001b[0;32m/usr/local/lib/python2.7/site-packages/emcee/ensemble.pyc\u001b[0m in \u001b[0;36m_propose_stretch\u001b[0;34m(self, p0, p1, lnprob0)\u001b[0m\n\u001b[1;32m    330\u001b[0m         \u001b[0;31m# Calculate the proposed positions and the log-probability there.\u001b[0m\u001b[0;34m\u001b[0m\u001b[0;34m\u001b[0m\u001b[0m\n\u001b[1;32m    331\u001b[0m         \u001b[0mq\u001b[0m \u001b[0;34m=\u001b[0m \u001b[0mc\u001b[0m\u001b[0;34m[\u001b[0m\u001b[0mrint\u001b[0m\u001b[0;34m]\u001b[0m \u001b[0;34m-\u001b[0m \u001b[0mzz\u001b[0m\u001b[0;34m[\u001b[0m\u001b[0;34m:\u001b[0m\u001b[0;34m,\u001b[0m \u001b[0mnp\u001b[0m\u001b[0;34m.\u001b[0m\u001b[0mnewaxis\u001b[0m\u001b[0;34m]\u001b[0m \u001b[0;34m*\u001b[0m \u001b[0;34m(\u001b[0m\u001b[0mc\u001b[0m\u001b[0;34m[\u001b[0m\u001b[0mrint\u001b[0m\u001b[0;34m]\u001b[0m \u001b[0;34m-\u001b[0m \u001b[0ms\u001b[0m\u001b[0;34m)\u001b[0m\u001b[0;34m\u001b[0m\u001b[0m\n\u001b[0;32m--> 332\u001b[0;31m         \u001b[0mnewlnprob\u001b[0m\u001b[0;34m,\u001b[0m \u001b[0mblob\u001b[0m \u001b[0;34m=\u001b[0m \u001b[0mself\u001b[0m\u001b[0;34m.\u001b[0m\u001b[0m_get_lnprob\u001b[0m\u001b[0;34m(\u001b[0m\u001b[0mq\u001b[0m\u001b[0;34m)\u001b[0m\u001b[0;34m\u001b[0m\u001b[0m\n\u001b[0m\u001b[1;32m    333\u001b[0m \u001b[0;34m\u001b[0m\u001b[0m\n\u001b[1;32m    334\u001b[0m         \u001b[0;31m# Decide whether or not the proposals should be accepted.\u001b[0m\u001b[0;34m\u001b[0m\u001b[0;34m\u001b[0m\u001b[0m\n",
      "\u001b[0;32m/usr/local/lib/python2.7/site-packages/emcee/ensemble.pyc\u001b[0m in \u001b[0;36m_get_lnprob\u001b[0;34m(self, pos)\u001b[0m\n\u001b[1;32m    380\u001b[0m \u001b[0;34m\u001b[0m\u001b[0m\n\u001b[1;32m    381\u001b[0m         \u001b[0;31m# Run the log-probability calculations (optionally in parallel).\u001b[0m\u001b[0;34m\u001b[0m\u001b[0;34m\u001b[0m\u001b[0m\n\u001b[0;32m--> 382\u001b[0;31m         \u001b[0mresults\u001b[0m \u001b[0;34m=\u001b[0m \u001b[0mlist\u001b[0m\u001b[0;34m(\u001b[0m\u001b[0mM\u001b[0m\u001b[0;34m(\u001b[0m\u001b[0mself\u001b[0m\u001b[0;34m.\u001b[0m\u001b[0mlnprobfn\u001b[0m\u001b[0;34m,\u001b[0m \u001b[0;34m[\u001b[0m\u001b[0mp\u001b[0m\u001b[0;34m[\u001b[0m\u001b[0mi\u001b[0m\u001b[0;34m]\u001b[0m \u001b[0;32mfor\u001b[0m \u001b[0mi\u001b[0m \u001b[0;32min\u001b[0m \u001b[0mrange\u001b[0m\u001b[0;34m(\u001b[0m\u001b[0mlen\u001b[0m\u001b[0;34m(\u001b[0m\u001b[0mp\u001b[0m\u001b[0;34m)\u001b[0m\u001b[0;34m)\u001b[0m\u001b[0;34m]\u001b[0m\u001b[0;34m)\u001b[0m\u001b[0;34m)\u001b[0m\u001b[0;34m\u001b[0m\u001b[0m\n\u001b[0m\u001b[1;32m    383\u001b[0m \u001b[0;34m\u001b[0m\u001b[0m\n\u001b[1;32m    384\u001b[0m         \u001b[0;32mtry\u001b[0m\u001b[0;34m:\u001b[0m\u001b[0;34m\u001b[0m\u001b[0m\n",
      "\u001b[0;32m/usr/local/lib/python2.7/site-packages/emcee/ensemble.pyc\u001b[0m in \u001b[0;36m__call__\u001b[0;34m(self, x)\u001b[0m\n\u001b[1;32m    517\u001b[0m     \u001b[0;32mdef\u001b[0m \u001b[0m__call__\u001b[0m\u001b[0;34m(\u001b[0m\u001b[0mself\u001b[0m\u001b[0;34m,\u001b[0m \u001b[0mx\u001b[0m\u001b[0;34m)\u001b[0m\u001b[0;34m:\u001b[0m\u001b[0;34m\u001b[0m\u001b[0m\n\u001b[1;32m    518\u001b[0m         \u001b[0;32mtry\u001b[0m\u001b[0;34m:\u001b[0m\u001b[0;34m\u001b[0m\u001b[0m\n\u001b[0;32m--> 519\u001b[0;31m             \u001b[0;32mreturn\u001b[0m \u001b[0mself\u001b[0m\u001b[0;34m.\u001b[0m\u001b[0mf\u001b[0m\u001b[0;34m(\u001b[0m\u001b[0mx\u001b[0m\u001b[0;34m,\u001b[0m \u001b[0;34m*\u001b[0m\u001b[0mself\u001b[0m\u001b[0;34m.\u001b[0m\u001b[0margs\u001b[0m\u001b[0;34m,\u001b[0m \u001b[0;34m**\u001b[0m\u001b[0mself\u001b[0m\u001b[0;34m.\u001b[0m\u001b[0mkwargs\u001b[0m\u001b[0;34m)\u001b[0m\u001b[0;34m\u001b[0m\u001b[0m\n\u001b[0m\u001b[1;32m    520\u001b[0m         \u001b[0;32mexcept\u001b[0m\u001b[0;34m:\u001b[0m\u001b[0;34m\u001b[0m\u001b[0m\n\u001b[1;32m    521\u001b[0m             \u001b[0;32mimport\u001b[0m \u001b[0mtraceback\u001b[0m\u001b[0;34m\u001b[0m\u001b[0m\n",
      "\u001b[0;32m/Users/thyle/Desktop/Personal/Research/pydls/dlsfunctions.py\u001b[0m in \u001b[0;36mlog_posterior\u001b[0;34m(theta, d, y, m, gamma, time)\u001b[0m\n\u001b[1;32m    119\u001b[0m     \u001b[0;31m# log_prior and log_likelihood will need to slice theta correctly\u001b[0m\u001b[0;34m\u001b[0m\u001b[0;34m\u001b[0m\u001b[0m\n\u001b[1;32m    120\u001b[0m \u001b[0;34m\u001b[0m\u001b[0m\n\u001b[0;32m--> 121\u001b[0;31m     \u001b[0;32mreturn\u001b[0m \u001b[0mlog_prior\u001b[0m\u001b[0;34m(\u001b[0m\u001b[0mtheta\u001b[0m\u001b[0;34m,\u001b[0m \u001b[0mm\u001b[0m\u001b[0;34m)\u001b[0m \u001b[0;34m+\u001b[0m \u001b[0mlog_likelihood\u001b[0m\u001b[0;34m(\u001b[0m\u001b[0mtheta\u001b[0m\u001b[0;34m,\u001b[0m \u001b[0md\u001b[0m\u001b[0;34m,\u001b[0m \u001b[0my\u001b[0m\u001b[0;34m,\u001b[0m \u001b[0mm\u001b[0m\u001b[0;34m,\u001b[0m \u001b[0mgamma\u001b[0m\u001b[0;34m,\u001b[0m \u001b[0mtime\u001b[0m\u001b[0;34m)\u001b[0m\u001b[0;34m\u001b[0m\u001b[0m\n\u001b[0m\u001b[1;32m    122\u001b[0m \u001b[0;34m\u001b[0m\u001b[0m\n\u001b[1;32m    123\u001b[0m \u001b[0;34m\u001b[0m\u001b[0m\n",
      "\u001b[0;32m/Users/thyle/Desktop/Personal/Research/pydls/dlsfunctions.py\u001b[0m in \u001b[0;36mlog_likelihood\u001b[0;34m(theta, d, y, m, gamma, time)\u001b[0m\n\u001b[1;32m    106\u001b[0m \u001b[0;34m\u001b[0m\u001b[0m\n\u001b[1;32m    107\u001b[0m \u001b[0;32mdef\u001b[0m \u001b[0mlog_likelihood\u001b[0m\u001b[0;34m(\u001b[0m\u001b[0mtheta\u001b[0m\u001b[0;34m,\u001b[0m \u001b[0md\u001b[0m\u001b[0;34m,\u001b[0m \u001b[0my\u001b[0m\u001b[0;34m,\u001b[0m \u001b[0mm\u001b[0m\u001b[0;34m,\u001b[0m \u001b[0mgamma\u001b[0m\u001b[0;34m,\u001b[0m \u001b[0mtime\u001b[0m\u001b[0;34m)\u001b[0m\u001b[0;34m:\u001b[0m\u001b[0;34m\u001b[0m\u001b[0m\n\u001b[0;32m--> 108\u001b[0;31m     \u001b[0mg2_result\u001b[0m \u001b[0;34m=\u001b[0m \u001b[0mg2\u001b[0m\u001b[0;34m(\u001b[0m\u001b[0mtheta\u001b[0m\u001b[0;34m,\u001b[0m \u001b[0md\u001b[0m\u001b[0;34m,\u001b[0m \u001b[0mm\u001b[0m\u001b[0;34m,\u001b[0m \u001b[0mgamma\u001b[0m\u001b[0;34m,\u001b[0m \u001b[0mtime\u001b[0m\u001b[0;34m)\u001b[0m\u001b[0;34m\u001b[0m\u001b[0m\n\u001b[0m\u001b[1;32m    109\u001b[0m     \u001b[0;31m# keep in mind that g2 will require beta factor in the future\u001b[0m\u001b[0;34m\u001b[0m\u001b[0;34m\u001b[0m\u001b[0m\n\u001b[1;32m    110\u001b[0m \u001b[0;34m\u001b[0m\u001b[0m\n",
      "\u001b[0;32m/Users/thyle/Desktop/Personal/Research/pydls/dlsfunctions.py\u001b[0m in \u001b[0;36mg2\u001b[0;34m(theta, d, m, gamma, time)\u001b[0m\n\u001b[1;32m     69\u001b[0m         \u001b[0mexpo\u001b[0m \u001b[0;34m=\u001b[0m \u001b[0mnp\u001b[0m\u001b[0;34m.\u001b[0m\u001b[0mexp\u001b[0m\u001b[0;34m(\u001b[0m\u001b[0;34m-\u001b[0m\u001b[0;34m(\u001b[0m\u001b[0mgamma\u001b[0m\u001b[0;34m*\u001b[0m\u001b[0mtime\u001b[0m\u001b[0;34m[\u001b[0m\u001b[0mi\u001b[0m\u001b[0;34m]\u001b[0m\u001b[0;34m)\u001b[0m\u001b[0;34m/\u001b[0m\u001b[0md\u001b[0m\u001b[0;34m)\u001b[0m\u001b[0;34m\u001b[0m\u001b[0m\n\u001b[1;32m     70\u001b[0m \u001b[0;34m\u001b[0m\u001b[0m\n\u001b[0;32m---> 71\u001b[0;31m         \u001b[0msum_squared\u001b[0m \u001b[0;34m=\u001b[0m \u001b[0;34m(\u001b[0m\u001b[0mnp\u001b[0m\u001b[0;34m.\u001b[0m\u001b[0msum\u001b[0m\u001b[0;34m(\u001b[0m\u001b[0mf\u001b[0m\u001b[0;34m*\u001b[0m\u001b[0mexpo\u001b[0m\u001b[0;34m*\u001b[0m\u001b[0mdelta_d\u001b[0m\u001b[0;34m)\u001b[0m\u001b[0;34m)\u001b[0m\u001b[0;34m**\u001b[0m\u001b[0;36m2\u001b[0m\u001b[0;34m\u001b[0m\u001b[0m\n\u001b[0m\u001b[1;32m     72\u001b[0m         \u001b[0mg2\u001b[0m\u001b[0;34m[\u001b[0m\u001b[0mi\u001b[0m\u001b[0;34m]\u001b[0m \u001b[0;34m=\u001b[0m \u001b[0mbeta\u001b[0m\u001b[0;34m*\u001b[0m\u001b[0msum_squared\u001b[0m\u001b[0;34m\u001b[0m\u001b[0m\n\u001b[1;32m     73\u001b[0m     \u001b[0;32mreturn\u001b[0m \u001b[0mg2\u001b[0m\u001b[0;34m\u001b[0m\u001b[0m\n",
      "\u001b[0;32m/usr/local/lib/python2.7/site-packages/numpy/core/fromnumeric.pyc\u001b[0m in \u001b[0;36msum\u001b[0;34m(a, axis, dtype, out, keepdims, initial)\u001b[0m\n\u001b[1;32m   2074\u001b[0m \u001b[0;34m\u001b[0m\u001b[0m\n\u001b[1;32m   2075\u001b[0m     return _wrapreduction(a, np.add, 'sum', axis, dtype, out, keepdims=keepdims,\n\u001b[0;32m-> 2076\u001b[0;31m                           initial=initial)\n\u001b[0m\u001b[1;32m   2077\u001b[0m \u001b[0;34m\u001b[0m\u001b[0m\n\u001b[1;32m   2078\u001b[0m \u001b[0;34m\u001b[0m\u001b[0m\n",
      "\u001b[0;32m/usr/local/lib/python2.7/site-packages/numpy/core/fromnumeric.pyc\u001b[0m in \u001b[0;36m_wrapreduction\u001b[0;34m(obj, ufunc, method, axis, dtype, out, **kwargs)\u001b[0m\n\u001b[1;32m     68\u001b[0m \u001b[0;34m\u001b[0m\u001b[0m\n\u001b[1;32m     69\u001b[0m \u001b[0;32mdef\u001b[0m \u001b[0m_wrapreduction\u001b[0m\u001b[0;34m(\u001b[0m\u001b[0mobj\u001b[0m\u001b[0;34m,\u001b[0m \u001b[0mufunc\u001b[0m\u001b[0;34m,\u001b[0m \u001b[0mmethod\u001b[0m\u001b[0;34m,\u001b[0m \u001b[0maxis\u001b[0m\u001b[0;34m,\u001b[0m \u001b[0mdtype\u001b[0m\u001b[0;34m,\u001b[0m \u001b[0mout\u001b[0m\u001b[0;34m,\u001b[0m \u001b[0;34m**\u001b[0m\u001b[0mkwargs\u001b[0m\u001b[0;34m)\u001b[0m\u001b[0;34m:\u001b[0m\u001b[0;34m\u001b[0m\u001b[0m\n\u001b[0;32m---> 70\u001b[0;31m     passkwargs = {k: v for k, v in kwargs.items()\n\u001b[0m\u001b[1;32m     71\u001b[0m                   if v is not np._NoValue}\n\u001b[1;32m     72\u001b[0m \u001b[0;34m\u001b[0m\u001b[0m\n",
      "\u001b[0;31mKeyboardInterrupt\u001b[0m: "
     ]
    }
   ],
   "source": [
    "start_pos1 = [theta_input + 1e-4*np.random.randn(ndim) for i in range(nwalkers)]"
   ]
  },
  {
   "cell_type": "code",
   "execution_count": null,
   "metadata": {},
   "outputs": [],
   "source": [
    "sampler1 = emcee.EnsembleSampler(nwalkers, ndim, dls.log_posterior,args=(d, sim_data, m, gamma, time_in))"
   ]
  },
  {
   "cell_type": "code",
   "execution_count": null,
   "metadata": {},
   "outputs": [],
   "source": [
    "result1 = sampler1.run_mcmc(start_pos, nsteps)\n",
    "sampler1.acceptance_fraction"
   ]
  },
  {
   "cell_type": "code",
   "execution_count": null,
   "metadata": {},
   "outputs": [],
   "source": [
    "dls.check_distribution_norm(f_1, d[1] - d[0])"
   ]
  },
  {
   "cell_type": "code",
   "execution_count": null,
   "metadata": {},
   "outputs": [],
   "source": [
    "plt.semilogx(time_in, sim_data)"
   ]
  },
  {
   "cell_type": "code",
   "execution_count": null,
   "metadata": {},
   "outputs": [],
   "source": []
  }
 ],
 "metadata": {
  "kernelspec": {
   "display_name": "Python 3",
   "language": "python",
   "name": "python3"
  },
  "language_info": {
   "codemirror_mode": {
    "name": "ipython",
    "version": 3
   },
   "file_extension": ".py",
   "mimetype": "text/x-python",
   "name": "python",
   "nbconvert_exporter": "python",
   "pygments_lexer": "ipython3",
   "version": "3.7.3"
  }
 },
 "nbformat": 4,
 "nbformat_minor": 2
}
