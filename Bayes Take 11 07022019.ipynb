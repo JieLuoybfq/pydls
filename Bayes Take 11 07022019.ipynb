{
 "cells": [
  {
   "cell_type": "code",
   "execution_count": 1,
   "metadata": {},
   "outputs": [],
   "source": [
    "import dlsfunctions as dls\n",
    "import numpy as np\n",
    "import matplotlib.pyplot as plt\n",
    "import emcee\n",
    "import seaborn as sns\n",
    "import pandas as pd"
   ]
  },
  {
   "cell_type": "code",
   "execution_count": 3,
   "metadata": {},
   "outputs": [],
   "source": [
    "r = 2.24e-9 \n",
    "diameter = r*2\n",
    "sigma = 2e-10\n",
    "c = 1\n",
    "\n",
    "m = 20\n",
    "# c is already defined\n",
    "eta = 1e-3\n",
    "n = 1.33 \n",
    "theta = np.pi/2\n",
    "k_b = 1.38e-23\n",
    "t = 298.15\n",
    "lambda_0 = 638e-9\n",
    "beta = 1\n",
    "\n",
    "\n",
    "\n",
    "d = np.linspace(5e-10, 9e-9, 20)\n",
    "f_1 = dls.generate_distribution(d, diameter, sigma, c)\n",
    "time_in = np.linspace(1e-4, 1e-1, 200)*0.001\n",
    "gamma = dls.calc_gamma(m, c, eta, n, theta, k_b, t, lambda_0)"
   ]
  },
  {
   "cell_type": "code",
   "execution_count": 4,
   "metadata": {},
   "outputs": [],
   "source": [
    "theta_input = np.append(f_1, beta)"
   ]
  },
  {
   "cell_type": "code",
   "execution_count": 8,
   "metadata": {},
   "outputs": [],
   "source": [
    "sim_data = dls.g2(theta_input, d, m, gamma, time_in)"
   ]
  },
  {
   "cell_type": "code",
   "execution_count": 25,
   "metadata": {},
   "outputs": [],
   "source": [
    "ndim = 21\n",
    "nwalkers = 150\n",
    "nsteps = 4000"
   ]
  },
  {
   "cell_type": "code",
   "execution_count": 26,
   "metadata": {},
   "outputs": [],
   "source": [
    "start_pos = [theta_input + 1e-4*np.random.randn(ndim) for i in range(nwalkers)]"
   ]
  },
  {
   "cell_type": "code",
   "execution_count": 27,
   "metadata": {},
   "outputs": [],
   "source": [
    "sampler = emcee.EnsembleSampler(nwalkers, ndim, dls.log_posterior, args=(d, sim_data, m, gamma, time_in))"
   ]
  },
  {
   "cell_type": "code",
   "execution_count": 28,
   "metadata": {},
   "outputs": [
    {
     "name": "stdout",
     "output_type": "stream",
     "text": [
      "emcee: Exception while calling your likelihood function:\n",
      "  params: [6.25585983e+07 8.81348073e+06 1.26119316e+07 1.51737337e+07\n",
      " 1.31904694e+07 2.90409688e+07 5.39415201e+06 1.33088644e+06\n",
      " 2.53199343e+08 1.83462829e+09 7.17320320e+06 9.35972322e+07\n",
      " 1.41520008e+07 1.79682434e+07 9.49120204e+07 1.48966519e+06\n",
      " 9.12036072e+07 1.87014353e+07 1.76094310e+07 1.98141081e+07\n",
      " 1.51784712e+00]\n",
      "  args: (array([5.00000000e-10, 9.47368421e-10, 1.39473684e-09, 1.84210526e-09,\n",
      "       2.28947368e-09, 2.73684211e-09, 3.18421053e-09, 3.63157895e-09,\n",
      "       4.07894737e-09, 4.52631579e-09, 4.97368421e-09, 5.42105263e-09,\n",
      "       5.86842105e-09, 6.31578947e-09, 6.76315789e-09, 7.21052632e-09,\n",
      "       7.65789474e-09, 8.10526316e-09, 8.55263158e-09, 9.00000000e-09]), array([9.82365447e-01, 8.98431231e-01, 8.21673739e-01, 7.51478867e-01,\n",
      "       6.87285102e-01, 6.28579011e-01, 5.74891121e-01, 5.25792156e-01,\n",
      "       4.80889588e-01, 4.39824492e-01, 4.02268664e-01, 3.67921993e-01,\n",
      "       3.36510052e-01, 3.07781899e-01, 2.81508067e-01, 2.57478721e-01,\n",
      "       2.35501983e-01, 2.15402386e-01, 1.97019479e-01, 1.80206533e-01,\n",
      "       1.64829370e-01, 1.50765288e-01, 1.37902080e-01, 1.26137134e-01,\n",
      "       1.15376612e-01, 1.05534700e-01, 9.65329215e-02, 8.82995081e-02,\n",
      "       8.07688276e-02, 7.38808576e-02, 6.75807064e-02, 6.18181737e-02,\n",
      "       5.65473495e-02, 5.17262471e-02, 4.73164678e-02, 4.32828936e-02,\n",
      "       3.95934073e-02, 3.62186353e-02, 3.31317134e-02, 3.03080722e-02,\n",
      "       2.77252411e-02, 2.53626684e-02, 2.32015578e-02, 2.12247182e-02,\n",
      "       1.94164264e-02, 1.77623018e-02, 1.62491916e-02, 1.48650659e-02,\n",
      "       1.35989220e-02, 1.24406961e-02, 1.13811837e-02, 1.04119658e-02,\n",
      "       9.52534194e-03, 8.71426888e-03, 7.97230438e-03, 7.29355592e-03,\n",
      "       6.67263376e-03, 6.10460798e-03, 5.58496928e-03, 5.10959301e-03,\n",
      "       4.67470638e-03, 4.27685839e-03, 3.91289238e-03, 3.57992090e-03,\n",
      "       3.27530274e-03, 2.99662193e-03, 2.74166850e-03, 2.50842089e-03,\n",
      "       2.29502991e-03, 2.09980402e-03, 1.92119585e-03, 1.75778997e-03,\n",
      "       1.60829155e-03, 1.47151616e-03, 1.34638027e-03, 1.23189273e-03,\n",
      "       1.12714681e-03, 1.03131307e-03, 9.43632718e-04, 8.63411625e-04,\n",
      "       7.90014788e-04, 7.22861300e-04, 6.61419734e-04, 6.05203930e-04,\n",
      "       5.53769132e-04, 5.06708462e-04, 4.63649694e-04, 4.24252295e-04,\n",
      "       3.88204730e-04, 3.55221988e-04, 3.25043324e-04, 2.97430190e-04,\n",
      "       2.72164347e-04, 2.49046131e-04, 2.27892874e-04, 2.08537453e-04,\n",
      "       1.90826972e-04, 1.74621543e-04, 1.59793183e-04, 1.46224801e-04,\n",
      "       1.33809266e-04, 1.22448563e-04, 1.12053017e-04, 1.02540579e-04,\n",
      "       9.38361801e-05, 8.58711385e-05, 7.85826125e-05, 7.19131054e-05,\n",
      "       6.58100103e-05, 6.02251939e-05, 5.51146158e-05, 5.04379804e-05,\n",
      "       4.61584181e-05, 4.22421940e-05, 3.86584408e-05, 3.53789156e-05,\n",
      "       3.23777760e-05, 2.96313761e-05, 2.71180798e-05, 2.48180900e-05,\n",
      "       2.27132916e-05, 2.07871092e-05, 1.90243759e-05, 1.74112131e-05,\n",
      "       1.59349219e-05, 1.45838818e-05, 1.33474598e-05, 1.22159259e-05,\n",
      "       1.11803769e-05, 1.02326655e-05, 9.36533655e-06, 8.57156803e-06,\n",
      "       7.84511724e-06, 7.18027159e-06, 6.57180357e-06, 6.01492954e-06,\n",
      "       5.50527198e-06, 5.03882503e-06, 4.61192289e-06, 4.22121094e-06,\n",
      "       3.86361933e-06, 3.53633876e-06, 3.23679835e-06, 2.96264543e-06,\n",
      "       2.71172698e-06, 2.48207267e-06, 2.27187938e-06, 2.07949696e-06,\n",
      "       1.90341528e-06, 1.74225233e-06, 1.59474333e-06, 1.45973080e-06,\n",
      "       1.33615544e-06, 1.22304780e-06, 1.11952065e-06, 1.02476201e-06,\n",
      "       9.38028757e-07, 8.58640791e-07, 7.85975675e-07, 7.19463753e-07,\n",
      "       6.58583665e-07, 6.02858255e-07, 5.51850816e-07, 5.05161663e-07,\n",
      "       4.62424991e-07, 4.23306001e-07, 3.87498270e-07, 3.54721346e-07,\n",
      "       3.24718545e-07, 2.97254933e-07, 2.72115487e-07, 2.49103401e-07,\n",
      "       2.28038545e-07, 2.08756050e-07, 1.91105016e-07, 1.74947325e-07,\n",
      "       1.60156559e-07, 1.46617009e-07, 1.34222765e-07, 1.22876889e-07,\n",
      "       1.12490652e-07, 1.02982838e-07, 9.42791111e-08, 8.63114271e-08,\n",
      "       7.90175048e-08, 7.23403359e-08, 6.62277384e-08, 6.06319481e-08,\n",
      "       5.55092440e-08, 5.08196062e-08, 4.65264021e-08, 4.25960997e-08,\n",
      "       3.89980050e-08, 3.57040216e-08, 3.26884306e-08, 2.99276898e-08,\n",
      "       2.74002488e-08, 2.50863805e-08, 2.29680272e-08, 2.10286584e-08]), 20, 0.0003990545613756757, array([1.00000000e-07, 6.02010050e-07, 1.10402010e-06, 1.60603015e-06,\n",
      "       2.10804020e-06, 2.61005025e-06, 3.11206030e-06, 3.61407035e-06,\n",
      "       4.11608040e-06, 4.61809045e-06, 5.12010050e-06, 5.62211055e-06,\n",
      "       6.12412060e-06, 6.62613065e-06, 7.12814070e-06, 7.63015075e-06,\n",
      "       8.13216080e-06, 8.63417085e-06, 9.13618090e-06, 9.63819095e-06,\n",
      "       1.01402010e-05, 1.06422111e-05, 1.11442211e-05, 1.16462312e-05,\n",
      "       1.21482412e-05, 1.26502513e-05, 1.31522613e-05, 1.36542714e-05,\n",
      "       1.41562814e-05, 1.46582915e-05, 1.51603015e-05, 1.56623116e-05,\n",
      "       1.61643216e-05, 1.66663317e-05, 1.71683417e-05, 1.76703518e-05,\n",
      "       1.81723618e-05, 1.86743719e-05, 1.91763819e-05, 1.96783920e-05,\n",
      "       2.01804020e-05, 2.06824121e-05, 2.11844221e-05, 2.16864322e-05,\n",
      "       2.21884422e-05, 2.26904523e-05, 2.31924623e-05, 2.36944724e-05,\n",
      "       2.41964824e-05, 2.46984925e-05, 2.52005025e-05, 2.57025126e-05,\n",
      "       2.62045226e-05, 2.67065327e-05, 2.72085427e-05, 2.77105528e-05,\n",
      "       2.82125628e-05, 2.87145729e-05, 2.92165829e-05, 2.97185930e-05,\n",
      "       3.02206030e-05, 3.07226131e-05, 3.12246231e-05, 3.17266332e-05,\n",
      "       3.22286432e-05, 3.27306533e-05, 3.32326633e-05, 3.37346734e-05,\n",
      "       3.42366834e-05, 3.47386935e-05, 3.52407035e-05, 3.57427136e-05,\n",
      "       3.62447236e-05, 3.67467337e-05, 3.72487437e-05, 3.77507538e-05,\n",
      "       3.82527638e-05, 3.87547739e-05, 3.92567839e-05, 3.97587940e-05,\n",
      "       4.02608040e-05, 4.07628141e-05, 4.12648241e-05, 4.17668342e-05,\n",
      "       4.22688442e-05, 4.27708543e-05, 4.32728643e-05, 4.37748744e-05,\n",
      "       4.42768844e-05, 4.47788945e-05, 4.52809045e-05, 4.57829146e-05,\n",
      "       4.62849246e-05, 4.67869347e-05, 4.72889447e-05, 4.77909548e-05,\n",
      "       4.82929648e-05, 4.87949749e-05, 4.92969849e-05, 4.97989950e-05,\n",
      "       5.03010050e-05, 5.08030151e-05, 5.13050251e-05, 5.18070352e-05,\n",
      "       5.23090452e-05, 5.28110553e-05, 5.33130653e-05, 5.38150754e-05,\n",
      "       5.43170854e-05, 5.48190955e-05, 5.53211055e-05, 5.58231156e-05,\n",
      "       5.63251256e-05, 5.68271357e-05, 5.73291457e-05, 5.78311558e-05,\n",
      "       5.83331658e-05, 5.88351759e-05, 5.93371859e-05, 5.98391960e-05,\n",
      "       6.03412060e-05, 6.08432161e-05, 6.13452261e-05, 6.18472362e-05,\n",
      "       6.23492462e-05, 6.28512563e-05, 6.33532663e-05, 6.38552764e-05,\n",
      "       6.43572864e-05, 6.48592965e-05, 6.53613065e-05, 6.58633166e-05,\n",
      "       6.63653266e-05, 6.68673367e-05, 6.73693467e-05, 6.78713568e-05,\n",
      "       6.83733668e-05, 6.88753769e-05, 6.93773869e-05, 6.98793970e-05,\n",
      "       7.03814070e-05, 7.08834171e-05, 7.13854271e-05, 7.18874372e-05,\n",
      "       7.23894472e-05, 7.28914573e-05, 7.33934673e-05, 7.38954774e-05,\n",
      "       7.43974874e-05, 7.48994975e-05, 7.54015075e-05, 7.59035176e-05,\n",
      "       7.64055276e-05, 7.69075377e-05, 7.74095477e-05, 7.79115578e-05,\n",
      "       7.84135678e-05, 7.89155779e-05, 7.94175879e-05, 7.99195980e-05,\n",
      "       8.04216080e-05, 8.09236181e-05, 8.14256281e-05, 8.19276382e-05,\n",
      "       8.24296482e-05, 8.29316583e-05, 8.34336683e-05, 8.39356784e-05,\n",
      "       8.44376884e-05, 8.49396985e-05, 8.54417085e-05, 8.59437186e-05,\n",
      "       8.64457286e-05, 8.69477387e-05, 8.74497487e-05, 8.79517588e-05,\n",
      "       8.84537688e-05, 8.89557789e-05, 8.94577889e-05, 8.99597990e-05,\n",
      "       9.04618090e-05, 9.09638191e-05, 9.14658291e-05, 9.19678392e-05,\n",
      "       9.24698492e-05, 9.29718593e-05, 9.34738693e-05, 9.39758794e-05,\n",
      "       9.44778894e-05, 9.49798995e-05, 9.54819095e-05, 9.59839196e-05,\n",
      "       9.64859296e-05, 9.69879397e-05, 9.74899497e-05, 9.79919598e-05,\n",
      "       9.84939698e-05, 9.89959799e-05, 9.94979899e-05, 1.00000000e-04]))\n",
      "  kwargs: {}\n",
      "  exception:\n"
     ]
    },
    {
     "name": "stderr",
     "output_type": "stream",
     "text": [
      "Traceback (most recent call last):\n",
      "  File \"/usr/local/lib/python2.7/site-packages/emcee/ensemble.py\", line 519, in __call__\n",
      "    return self.f(x, *self.args, **self.kwargs)\n",
      "  File \"dlsfunctions.py\", line 120, in log_posterior\n",
      "    \n",
      "  File \"dlsfunctions.py\", line 107, in log_likelihood\n",
      "    def log_likelihood(theta, d, y, m, gamma, time):\n",
      "  File \"dlsfunctions.py\", line 69, in g2\n",
      "    expo = np.exp(-(gamma*time[i])/d)\n",
      "KeyboardInterrupt\n"
     ]
    },
    {
     "ename": "KeyboardInterrupt",
     "evalue": "",
     "output_type": "error",
     "traceback": [
      "\u001b[0;31m---------------------------------------------------------------------------\u001b[0m",
      "\u001b[0;31mKeyboardInterrupt\u001b[0m                         Traceback (most recent call last)",
      "\u001b[0;32m<ipython-input-28-3abee289697a>\u001b[0m in \u001b[0;36m<module>\u001b[0;34m()\u001b[0m\n\u001b[0;32m----> 1\u001b[0;31m \u001b[0mresult\u001b[0m \u001b[0;34m=\u001b[0m \u001b[0msampler\u001b[0m\u001b[0;34m.\u001b[0m\u001b[0mrun_mcmc\u001b[0m\u001b[0;34m(\u001b[0m\u001b[0mstart_pos\u001b[0m\u001b[0;34m,\u001b[0m \u001b[0mnsteps\u001b[0m\u001b[0;34m)\u001b[0m\u001b[0;34m\u001b[0m\u001b[0m\n\u001b[0m\u001b[1;32m      2\u001b[0m \u001b[0msampler\u001b[0m\u001b[0;34m.\u001b[0m\u001b[0macceptance_fraction\u001b[0m\u001b[0;34m\u001b[0m\u001b[0m\n",
      "\u001b[0;32m/usr/local/lib/python2.7/site-packages/emcee/sampler.pyc\u001b[0m in \u001b[0;36mrun_mcmc\u001b[0;34m(self, pos0, N, rstate0, lnprob0, **kwargs)\u001b[0m\n\u001b[1;32m    170\u001b[0m \u001b[0;34m\u001b[0m\u001b[0m\n\u001b[1;32m    171\u001b[0m         for results in self.sample(pos0, lnprob0, rstate0, iterations=N,\n\u001b[0;32m--> 172\u001b[0;31m                                    **kwargs):\n\u001b[0m\u001b[1;32m    173\u001b[0m             \u001b[0;32mpass\u001b[0m\u001b[0;34m\u001b[0m\u001b[0m\n\u001b[1;32m    174\u001b[0m \u001b[0;34m\u001b[0m\u001b[0m\n",
      "\u001b[0;32m/usr/local/lib/python2.7/site-packages/emcee/ensemble.pyc\u001b[0m in \u001b[0;36msample\u001b[0;34m(self, p0, lnprob0, rstate0, blobs0, iterations, thin, storechain, mh_proposal)\u001b[0m\n\u001b[1;32m    257\u001b[0m                 \u001b[0;32mfor\u001b[0m \u001b[0mS0\u001b[0m\u001b[0;34m,\u001b[0m \u001b[0mS1\u001b[0m \u001b[0;32min\u001b[0m \u001b[0;34m[\u001b[0m\u001b[0;34m(\u001b[0m\u001b[0mfirst\u001b[0m\u001b[0;34m,\u001b[0m \u001b[0msecond\u001b[0m\u001b[0;34m)\u001b[0m\u001b[0;34m,\u001b[0m \u001b[0;34m(\u001b[0m\u001b[0msecond\u001b[0m\u001b[0;34m,\u001b[0m \u001b[0mfirst\u001b[0m\u001b[0;34m)\u001b[0m\u001b[0;34m]\u001b[0m\u001b[0;34m:\u001b[0m\u001b[0;34m\u001b[0m\u001b[0m\n\u001b[1;32m    258\u001b[0m                     q, newlnp, acc, blob = self._propose_stretch(p[S0], p[S1],\n\u001b[0;32m--> 259\u001b[0;31m                                                                  lnprob[S0])\n\u001b[0m\u001b[1;32m    260\u001b[0m                     \u001b[0;32mif\u001b[0m \u001b[0mnp\u001b[0m\u001b[0;34m.\u001b[0m\u001b[0many\u001b[0m\u001b[0;34m(\u001b[0m\u001b[0macc\u001b[0m\u001b[0;34m)\u001b[0m\u001b[0;34m:\u001b[0m\u001b[0;34m\u001b[0m\u001b[0m\n\u001b[1;32m    261\u001b[0m                         \u001b[0;31m# Update the positions, log probabilities and\u001b[0m\u001b[0;34m\u001b[0m\u001b[0;34m\u001b[0m\u001b[0m\n",
      "\u001b[0;32m/usr/local/lib/python2.7/site-packages/emcee/ensemble.pyc\u001b[0m in \u001b[0;36m_propose_stretch\u001b[0;34m(self, p0, p1, lnprob0)\u001b[0m\n\u001b[1;32m    330\u001b[0m         \u001b[0;31m# Calculate the proposed positions and the log-probability there.\u001b[0m\u001b[0;34m\u001b[0m\u001b[0;34m\u001b[0m\u001b[0m\n\u001b[1;32m    331\u001b[0m         \u001b[0mq\u001b[0m \u001b[0;34m=\u001b[0m \u001b[0mc\u001b[0m\u001b[0;34m[\u001b[0m\u001b[0mrint\u001b[0m\u001b[0;34m]\u001b[0m \u001b[0;34m-\u001b[0m \u001b[0mzz\u001b[0m\u001b[0;34m[\u001b[0m\u001b[0;34m:\u001b[0m\u001b[0;34m,\u001b[0m \u001b[0mnp\u001b[0m\u001b[0;34m.\u001b[0m\u001b[0mnewaxis\u001b[0m\u001b[0;34m]\u001b[0m \u001b[0;34m*\u001b[0m \u001b[0;34m(\u001b[0m\u001b[0mc\u001b[0m\u001b[0;34m[\u001b[0m\u001b[0mrint\u001b[0m\u001b[0;34m]\u001b[0m \u001b[0;34m-\u001b[0m \u001b[0ms\u001b[0m\u001b[0;34m)\u001b[0m\u001b[0;34m\u001b[0m\u001b[0m\n\u001b[0;32m--> 332\u001b[0;31m         \u001b[0mnewlnprob\u001b[0m\u001b[0;34m,\u001b[0m \u001b[0mblob\u001b[0m \u001b[0;34m=\u001b[0m \u001b[0mself\u001b[0m\u001b[0;34m.\u001b[0m\u001b[0m_get_lnprob\u001b[0m\u001b[0;34m(\u001b[0m\u001b[0mq\u001b[0m\u001b[0;34m)\u001b[0m\u001b[0;34m\u001b[0m\u001b[0m\n\u001b[0m\u001b[1;32m    333\u001b[0m \u001b[0;34m\u001b[0m\u001b[0m\n\u001b[1;32m    334\u001b[0m         \u001b[0;31m# Decide whether or not the proposals should be accepted.\u001b[0m\u001b[0;34m\u001b[0m\u001b[0;34m\u001b[0m\u001b[0m\n",
      "\u001b[0;32m/usr/local/lib/python2.7/site-packages/emcee/ensemble.pyc\u001b[0m in \u001b[0;36m_get_lnprob\u001b[0;34m(self, pos)\u001b[0m\n\u001b[1;32m    380\u001b[0m \u001b[0;34m\u001b[0m\u001b[0m\n\u001b[1;32m    381\u001b[0m         \u001b[0;31m# Run the log-probability calculations (optionally in parallel).\u001b[0m\u001b[0;34m\u001b[0m\u001b[0;34m\u001b[0m\u001b[0m\n\u001b[0;32m--> 382\u001b[0;31m         \u001b[0mresults\u001b[0m \u001b[0;34m=\u001b[0m \u001b[0mlist\u001b[0m\u001b[0;34m(\u001b[0m\u001b[0mM\u001b[0m\u001b[0;34m(\u001b[0m\u001b[0mself\u001b[0m\u001b[0;34m.\u001b[0m\u001b[0mlnprobfn\u001b[0m\u001b[0;34m,\u001b[0m \u001b[0;34m[\u001b[0m\u001b[0mp\u001b[0m\u001b[0;34m[\u001b[0m\u001b[0mi\u001b[0m\u001b[0;34m]\u001b[0m \u001b[0;32mfor\u001b[0m \u001b[0mi\u001b[0m \u001b[0;32min\u001b[0m \u001b[0mrange\u001b[0m\u001b[0;34m(\u001b[0m\u001b[0mlen\u001b[0m\u001b[0;34m(\u001b[0m\u001b[0mp\u001b[0m\u001b[0;34m)\u001b[0m\u001b[0;34m)\u001b[0m\u001b[0;34m]\u001b[0m\u001b[0;34m)\u001b[0m\u001b[0;34m)\u001b[0m\u001b[0;34m\u001b[0m\u001b[0m\n\u001b[0m\u001b[1;32m    383\u001b[0m \u001b[0;34m\u001b[0m\u001b[0m\n\u001b[1;32m    384\u001b[0m         \u001b[0;32mtry\u001b[0m\u001b[0;34m:\u001b[0m\u001b[0;34m\u001b[0m\u001b[0m\n",
      "\u001b[0;32m/usr/local/lib/python2.7/site-packages/emcee/ensemble.pyc\u001b[0m in \u001b[0;36m__call__\u001b[0;34m(self, x)\u001b[0m\n\u001b[1;32m    517\u001b[0m     \u001b[0;32mdef\u001b[0m \u001b[0m__call__\u001b[0m\u001b[0;34m(\u001b[0m\u001b[0mself\u001b[0m\u001b[0;34m,\u001b[0m \u001b[0mx\u001b[0m\u001b[0;34m)\u001b[0m\u001b[0;34m:\u001b[0m\u001b[0;34m\u001b[0m\u001b[0m\n\u001b[1;32m    518\u001b[0m         \u001b[0;32mtry\u001b[0m\u001b[0;34m:\u001b[0m\u001b[0;34m\u001b[0m\u001b[0m\n\u001b[0;32m--> 519\u001b[0;31m             \u001b[0;32mreturn\u001b[0m \u001b[0mself\u001b[0m\u001b[0;34m.\u001b[0m\u001b[0mf\u001b[0m\u001b[0;34m(\u001b[0m\u001b[0mx\u001b[0m\u001b[0;34m,\u001b[0m \u001b[0;34m*\u001b[0m\u001b[0mself\u001b[0m\u001b[0;34m.\u001b[0m\u001b[0margs\u001b[0m\u001b[0;34m,\u001b[0m \u001b[0;34m**\u001b[0m\u001b[0mself\u001b[0m\u001b[0;34m.\u001b[0m\u001b[0mkwargs\u001b[0m\u001b[0;34m)\u001b[0m\u001b[0;34m\u001b[0m\u001b[0m\n\u001b[0m\u001b[1;32m    520\u001b[0m         \u001b[0;32mexcept\u001b[0m\u001b[0;34m:\u001b[0m\u001b[0;34m\u001b[0m\u001b[0m\n\u001b[1;32m    521\u001b[0m             \u001b[0;32mimport\u001b[0m \u001b[0mtraceback\u001b[0m\u001b[0;34m\u001b[0m\u001b[0m\n",
      "\u001b[0;32m/Users/thyle/Desktop/Personal/Research/pydls/dlsfunctions.pyc\u001b[0m in \u001b[0;36mlog_posterior\u001b[0;34m(theta, d, y, m, gamma, time)\u001b[0m\n\u001b[1;32m    118\u001b[0m     \u001b[0;31m# theta will be an array of size (m+1, )\u001b[0m\u001b[0;34m\u001b[0m\u001b[0;34m\u001b[0m\u001b[0m\n\u001b[1;32m    119\u001b[0m     \u001b[0;31m# log_prior and log_likelihood will need to slice theta correctly\u001b[0m\u001b[0;34m\u001b[0m\u001b[0;34m\u001b[0m\u001b[0m\n\u001b[0;32m--> 120\u001b[0;31m \u001b[0;34m\u001b[0m\u001b[0m\n\u001b[0m\u001b[1;32m    121\u001b[0m     \u001b[0;32mreturn\u001b[0m \u001b[0mlog_prior\u001b[0m\u001b[0;34m(\u001b[0m\u001b[0mtheta\u001b[0m\u001b[0;34m,\u001b[0m \u001b[0mm\u001b[0m\u001b[0;34m)\u001b[0m \u001b[0;34m+\u001b[0m \u001b[0mlog_likelihood\u001b[0m\u001b[0;34m(\u001b[0m\u001b[0mtheta\u001b[0m\u001b[0;34m,\u001b[0m \u001b[0md\u001b[0m\u001b[0;34m,\u001b[0m \u001b[0my\u001b[0m\u001b[0;34m,\u001b[0m \u001b[0mm\u001b[0m\u001b[0;34m,\u001b[0m \u001b[0mgamma\u001b[0m\u001b[0;34m,\u001b[0m \u001b[0mtime\u001b[0m\u001b[0;34m)\u001b[0m\u001b[0;34m\u001b[0m\u001b[0m\n\u001b[1;32m    122\u001b[0m \u001b[0;34m\u001b[0m\u001b[0m\n",
      "\u001b[0;32m/Users/thyle/Desktop/Personal/Research/pydls/dlsfunctions.pyc\u001b[0m in \u001b[0;36mlog_likelihood\u001b[0;34m(theta, d, y, m, gamma, time)\u001b[0m\n\u001b[1;32m    105\u001b[0m \u001b[0;34m\u001b[0m\u001b[0m\n\u001b[1;32m    106\u001b[0m \u001b[0;34m\u001b[0m\u001b[0m\n\u001b[0;32m--> 107\u001b[0;31m \u001b[0;32mdef\u001b[0m \u001b[0mlog_likelihood\u001b[0m\u001b[0;34m(\u001b[0m\u001b[0mtheta\u001b[0m\u001b[0;34m,\u001b[0m \u001b[0md\u001b[0m\u001b[0;34m,\u001b[0m \u001b[0my\u001b[0m\u001b[0;34m,\u001b[0m \u001b[0mm\u001b[0m\u001b[0;34m,\u001b[0m \u001b[0mgamma\u001b[0m\u001b[0;34m,\u001b[0m \u001b[0mtime\u001b[0m\u001b[0;34m)\u001b[0m\u001b[0;34m:\u001b[0m\u001b[0;34m\u001b[0m\u001b[0m\n\u001b[0m\u001b[1;32m    108\u001b[0m     \u001b[0mg2_result\u001b[0m \u001b[0;34m=\u001b[0m \u001b[0mg2\u001b[0m\u001b[0;34m(\u001b[0m\u001b[0mtheta\u001b[0m\u001b[0;34m,\u001b[0m \u001b[0md\u001b[0m\u001b[0;34m,\u001b[0m \u001b[0mm\u001b[0m\u001b[0;34m,\u001b[0m \u001b[0mgamma\u001b[0m\u001b[0;34m,\u001b[0m \u001b[0mtime\u001b[0m\u001b[0;34m)\u001b[0m\u001b[0;34m\u001b[0m\u001b[0m\n\u001b[1;32m    109\u001b[0m     \u001b[0;31m# keep in mind that g2 will require beta factor in the future\u001b[0m\u001b[0;34m\u001b[0m\u001b[0;34m\u001b[0m\u001b[0m\n",
      "\u001b[0;32m/Users/thyle/Desktop/Personal/Research/pydls/dlsfunctions.pyc\u001b[0m in \u001b[0;36mg2\u001b[0;34m(theta, d, m, gamma, time)\u001b[0m\n\u001b[1;32m     67\u001b[0m     \u001b[0mf\u001b[0m \u001b[0;34m=\u001b[0m \u001b[0mf\u001b[0m\u001b[0;34m*\u001b[0m\u001b[0mnormalize\u001b[0m\u001b[0;34m(\u001b[0m\u001b[0mf\u001b[0m\u001b[0;34m,\u001b[0m \u001b[0;36m1\u001b[0m\u001b[0;34m,\u001b[0m \u001b[0mdelta_d\u001b[0m\u001b[0;34m)\u001b[0m\u001b[0;34m\u001b[0m\u001b[0m\n\u001b[1;32m     68\u001b[0m     \u001b[0;32mfor\u001b[0m \u001b[0mi\u001b[0m \u001b[0;32min\u001b[0m \u001b[0mrange\u001b[0m\u001b[0;34m(\u001b[0m\u001b[0msize\u001b[0m\u001b[0;34m)\u001b[0m\u001b[0;34m:\u001b[0m\u001b[0;34m\u001b[0m\u001b[0m\n\u001b[0;32m---> 69\u001b[0;31m         \u001b[0mexpo\u001b[0m \u001b[0;34m=\u001b[0m \u001b[0mnp\u001b[0m\u001b[0;34m.\u001b[0m\u001b[0mexp\u001b[0m\u001b[0;34m(\u001b[0m\u001b[0;34m-\u001b[0m\u001b[0;34m(\u001b[0m\u001b[0mgamma\u001b[0m\u001b[0;34m*\u001b[0m\u001b[0mtime\u001b[0m\u001b[0;34m[\u001b[0m\u001b[0mi\u001b[0m\u001b[0;34m]\u001b[0m\u001b[0;34m)\u001b[0m\u001b[0;34m/\u001b[0m\u001b[0md\u001b[0m\u001b[0;34m)\u001b[0m\u001b[0;34m\u001b[0m\u001b[0m\n\u001b[0m\u001b[1;32m     70\u001b[0m \u001b[0;34m\u001b[0m\u001b[0m\n\u001b[1;32m     71\u001b[0m         \u001b[0msum_squared\u001b[0m \u001b[0;34m=\u001b[0m \u001b[0;34m(\u001b[0m\u001b[0mnp\u001b[0m\u001b[0;34m.\u001b[0m\u001b[0msum\u001b[0m\u001b[0;34m(\u001b[0m\u001b[0mf\u001b[0m\u001b[0;34m*\u001b[0m\u001b[0mexpo\u001b[0m\u001b[0;34m*\u001b[0m\u001b[0mdelta_d\u001b[0m\u001b[0;34m)\u001b[0m\u001b[0;34m)\u001b[0m\u001b[0;34m**\u001b[0m\u001b[0;36m2\u001b[0m\u001b[0;34m\u001b[0m\u001b[0m\n",
      "\u001b[0;31mKeyboardInterrupt\u001b[0m: "
     ]
    }
   ],
   "source": [
    "result = sampler.run_mcmc(start_pos, nsteps)\n",
    "sampler.acceptance_fraction"
   ]
  },
  {
   "cell_type": "code",
   "execution_count": 16,
   "metadata": {},
   "outputs": [
    {
     "data": {
      "image/png": "[encoded data removed]",
      "text/plain": [
       "<Figure size 432x288 with 2 Axes>"
      ]
     },
     "metadata": {
      "needs_background": "light"
     },
     "output_type": "display_data"
    }
   ],
   "source": [
    "plt.style.use('seaborn-deep')\n",
    "plt.rcParams['mathtext.fontset'] = 'stix'\n",
    "plt.rcParams['font.family'] = 'STIXGeneral'\n",
    "params = {'legend.fontsize': 'x-large',\n",
    "          'figure.figsize': (15, 5),\n",
    "         'axes.labelsize': 'x-large',\n",
    "         'axes.titlesize':'x-large',\n",
    "         'xtick.labelsize':'x-large',\n",
    "         'ytick.labelsize':'x-large'}\n",
    "\n",
    "fig, (ax0, ax1) = plt.subplots(2)\n",
    "ax0.set(ylabel='f(d0)')\n",
    "ax1.set(ylabel='f(d1)')\n",
    "\n",
    "for j in range(10):\n",
    "    sns.tsplot(sampler.chain[j, :, 0], ax=ax0)\n",
    "    sns.tsplot(sampler.chain[j, :, 1], ax=ax1)"
   ]
  },
  {
   "cell_type": "code",
   "execution_count": 17,
   "metadata": {},
   "outputs": [],
   "source": [
    "samples = sampler.chain[:,2900:,:]\n",
    "\n",
    "# reshape the samples into a 1D array where the colums are the f(d) values\n",
    "traces = samples.reshape(-1, ndim).T\n",
    "\n",
    "parameter_samples = pd.DataFrame({'f(d0)': traces[0], 'f(d1)': traces[1], 'f(d2)': traces[2], 'f(d3)': traces[3], 'f(d4)': traces[4], 'f(d5)': traces[5], 'f(d6)': traces[6], 'f(d7)': traces[7], 'f(d8)': traces[8], 'f(d9)': traces[9], 'f(d10)': traces[10], 'f(d11)': traces[11], 'f(d12)': traces[12], 'f(d13)': traces[13], 'f(d14)': traces[14], 'f(d15)': traces[15], 'f(d16)': traces[16], 'f(d17)': traces[17], 'f(d18)': traces[18], 'f(d19)': traces[19]})\n",
    "\n",
    "# calculate the MAP and values using pandas\n",
    "q = parameter_samples.quantile([0.16,0.50,0.84], axis=0)"
   ]
  },
  {
   "cell_type": "code",
   "execution_count": 18,
   "metadata": {},
   "outputs": [
    {
     "data": {
      "text/html": [
       "<div>\n",
       "<style scoped>\n",
       "    .dataframe tbody tr th:only-of-type {\n",
       "        vertical-align: middle;\n",
       "    }\n",
       "\n",
       "    .dataframe tbody tr th {\n",
       "        vertical-align: top;\n",
       "    }\n",
       "\n",
       "    .dataframe thead th {\n",
       "        text-align: right;\n",
       "    }\n",
       "</style>\n",
       "<table border=\"1\" class=\"dataframe\">\n",
       "  <thead>\n",
       "    <tr style=\"text-align: right;\">\n",
       "      <th></th>\n",
       "      <th>f(d0)</th>\n",
       "      <th>f(d1)</th>\n",
       "      <th>f(d10)</th>\n",
       "      <th>f(d11)</th>\n",
       "      <th>f(d12)</th>\n",
       "      <th>f(d13)</th>\n",
       "      <th>f(d14)</th>\n",
       "      <th>f(d15)</th>\n",
       "      <th>f(d16)</th>\n",
       "      <th>f(d17)</th>\n",
       "      <th>f(d18)</th>\n",
       "      <th>f(d19)</th>\n",
       "      <th>f(d2)</th>\n",
       "      <th>f(d3)</th>\n",
       "      <th>f(d4)</th>\n",
       "      <th>f(d5)</th>\n",
       "      <th>f(d6)</th>\n",
       "      <th>f(d7)</th>\n",
       "      <th>f(d8)</th>\n",
       "      <th>f(d9)</th>\n",
       "    </tr>\n",
       "  </thead>\n",
       "  <tbody>\n",
       "    <tr>\n",
       "      <th>0.16</th>\n",
       "      <td>1.426978e+08</td>\n",
       "      <td>2.251808e+08</td>\n",
       "      <td>2.657984e+08</td>\n",
       "      <td>4.727951e+08</td>\n",
       "      <td>1.189335e+08</td>\n",
       "      <td>3.006921e+08</td>\n",
       "      <td>4.334939e+08</td>\n",
       "      <td>1.235496e+08</td>\n",
       "      <td>1.467489e+09</td>\n",
       "      <td>8.536240e+08</td>\n",
       "      <td>1.209857e+09</td>\n",
       "      <td>1.387065e+09</td>\n",
       "      <td>5.405303e+08</td>\n",
       "      <td>6.433650e+07</td>\n",
       "      <td>5.237635e+08</td>\n",
       "      <td>4.562657e+08</td>\n",
       "      <td>5.573247e+08</td>\n",
       "      <td>9.502983e+08</td>\n",
       "      <td>8.168358e+08</td>\n",
       "      <td>1.584312e+09</td>\n",
       "    </tr>\n",
       "    <tr>\n",
       "      <th>0.50</th>\n",
       "      <td>1.651792e+08</td>\n",
       "      <td>2.539077e+08</td>\n",
       "      <td>3.160773e+08</td>\n",
       "      <td>5.385268e+08</td>\n",
       "      <td>1.492042e+08</td>\n",
       "      <td>3.746932e+08</td>\n",
       "      <td>5.155289e+08</td>\n",
       "      <td>2.585239e+08</td>\n",
       "      <td>1.584174e+09</td>\n",
       "      <td>1.124482e+09</td>\n",
       "      <td>1.465301e+09</td>\n",
       "      <td>1.676275e+09</td>\n",
       "      <td>6.055601e+08</td>\n",
       "      <td>1.013501e+08</td>\n",
       "      <td>5.810328e+08</td>\n",
       "      <td>5.050778e+08</td>\n",
       "      <td>5.799343e+08</td>\n",
       "      <td>9.646733e+08</td>\n",
       "      <td>8.597063e+08</td>\n",
       "      <td>1.639242e+09</td>\n",
       "    </tr>\n",
       "    <tr>\n",
       "      <th>0.84</th>\n",
       "      <td>1.872617e+08</td>\n",
       "      <td>2.773995e+08</td>\n",
       "      <td>3.535416e+08</td>\n",
       "      <td>5.710906e+08</td>\n",
       "      <td>1.661069e+08</td>\n",
       "      <td>4.072293e+08</td>\n",
       "      <td>5.487642e+08</td>\n",
       "      <td>3.399952e+08</td>\n",
       "      <td>1.633964e+09</td>\n",
       "      <td>1.274405e+09</td>\n",
       "      <td>1.608091e+09</td>\n",
       "      <td>1.848529e+09</td>\n",
       "      <td>7.089124e+08</td>\n",
       "      <td>1.387053e+08</td>\n",
       "      <td>6.449394e+08</td>\n",
       "      <td>5.610978e+08</td>\n",
       "      <td>6.026530e+08</td>\n",
       "      <td>9.783747e+08</td>\n",
       "      <td>8.979932e+08</td>\n",
       "      <td>1.674553e+09</td>\n",
       "    </tr>\n",
       "  </tbody>\n",
       "</table>\n",
       "</div>"
      ],
      "text/plain": [
       "             f(d0)         f(d1)        f(d10)        f(d11)        f(d12)  \\\n",
       "0.16  1.426978e+08  2.251808e+08  2.657984e+08  4.727951e+08  1.189335e+08   \n",
       "0.50  1.651792e+08  2.539077e+08  3.160773e+08  5.385268e+08  1.492042e+08   \n",
       "0.84  1.872617e+08  2.773995e+08  3.535416e+08  5.710906e+08  1.661069e+08   \n",
       "\n",
       "            f(d13)        f(d14)        f(d15)        f(d16)        f(d17)  \\\n",
       "0.16  3.006921e+08  4.334939e+08  1.235496e+08  1.467489e+09  8.536240e+08   \n",
       "0.50  3.746932e+08  5.155289e+08  2.585239e+08  1.584174e+09  1.124482e+09   \n",
       "0.84  4.072293e+08  5.487642e+08  3.399952e+08  1.633964e+09  1.274405e+09   \n",
       "\n",
       "            f(d18)        f(d19)         f(d2)         f(d3)         f(d4)  \\\n",
       "0.16  1.209857e+09  1.387065e+09  5.405303e+08  6.433650e+07  5.237635e+08   \n",
       "0.50  1.465301e+09  1.676275e+09  6.055601e+08  1.013501e+08  5.810328e+08   \n",
       "0.84  1.608091e+09  1.848529e+09  7.089124e+08  1.387053e+08  6.449394e+08   \n",
       "\n",
       "             f(d5)         f(d6)         f(d7)         f(d8)         f(d9)  \n",
       "0.16  4.562657e+08  5.573247e+08  9.502983e+08  8.168358e+08  1.584312e+09  \n",
       "0.50  5.050778e+08  5.799343e+08  9.646733e+08  8.597063e+08  1.639242e+09  \n",
       "0.84  5.610978e+08  6.026530e+08  9.783747e+08  8.979932e+08  1.674553e+09  "
      ]
     },
     "execution_count": 18,
     "metadata": {},
     "output_type": "execute_result"
    }
   ],
   "source": [
    "q"
   ]
  },
  {
   "cell_type": "code",
   "execution_count": 21,
   "metadata": {},
   "outputs": [],
   "source": [
    "q_50 = q.quantile([0.5], axis=0)\n",
    "q_50_array = q_50.values"
   ]
  },
  {
   "cell_type": "code",
   "execution_count": 22,
   "metadata": {},
   "outputs": [],
   "source": [
    "q_50_array = q_50_array.flatten()"
   ]
  },
  {
   "cell_type": "code",
   "execution_count": 23,
   "metadata": {},
   "outputs": [
    {
     "data": {
      "text/plain": [
       "(20,)"
      ]
     },
     "execution_count": 23,
     "metadata": {},
     "output_type": "execute_result"
    }
   ],
   "source": [
    "q_50_array.shape"
   ]
  },
  {
   "cell_type": "code",
   "execution_count": 24,
   "metadata": {},
   "outputs": [
    {
     "data": {
      "text/plain": [
       "[<matplotlib.lines.Line2D at 0x12b9ea6d0>]"
      ]
     },
     "execution_count": 24,
     "metadata": {},
     "output_type": "execute_result"
    },
    {
     "data": {
      "image/png": "[encoded data removed]",
      "text/plain": [
       "<Figure size 432x288 with 1 Axes>"
      ]
     },
     "metadata": {
      "needs_background": "light"
     },
     "output_type": "display_data"
    }
   ],
   "source": [
    "plt.plot(d, q_50_array)"
   ]
  },
  {
   "cell_type": "code",
   "execution_count": null,
   "metadata": {},
   "outputs": [],
   "source": []
  }
 ],
 "metadata": {
  "kernelspec": {
   "display_name": "Python 2",
   "language": "python",
   "name": "python2"
  },
  "language_info": {
   "codemirror_mode": {
    "name": "ipython",
    "version": 2
   },
   "file_extension": ".py",
   "mimetype": "text/x-python",
   "name": "python",
   "nbconvert_exporter": "python",
   "pygments_lexer": "ipython2",
   "version": "2.7.16"
  }
 },
 "nbformat": 4,
 "nbformat_minor": 2
}
