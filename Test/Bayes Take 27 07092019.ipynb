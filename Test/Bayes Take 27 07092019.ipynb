{
 "cells": [
  {
   "cell_type": "code",
   "execution_count": 1,
   "metadata": {},
   "outputs": [],
   "source": [
    "import dlsfunctions as dls\n",
    "import initialization_data as init\n",
    "import numpy as np\n",
    "import matplotlib.pyplot as plt"
   ]
  },
  {
   "cell_type": "code",
   "execution_count": 2,
   "metadata": {},
   "outputs": [],
   "source": [
    "dls_data = np.loadtxt('2015_07_22_Eonly0005_MILLISECONDS.asc', encoding='latin1', skiprows=28, max_rows=214)"
   ]
  },
  {
   "cell_type": "code",
   "execution_count": 3,
   "metadata": {},
   "outputs": [],
   "source": [
    "tau = dls_data[:,0]\n",
    "intensity = dls_data[:,1]"
   ]
  },
  {
   "cell_type": "code",
   "execution_count": 4,
   "metadata": {},
   "outputs": [],
   "source": [
    "m = init.m\n",
    "beta = init.beta\n",
    "c = init.c"
   ]
  },
  {
   "cell_type": "code",
   "execution_count": 5,
   "metadata": {},
   "outputs": [],
   "source": [
    "gamma = init.get_gamma()"
   ]
  },
  {
   "cell_type": "code",
   "execution_count": 6,
   "metadata": {},
   "outputs": [],
   "source": [
    "d = init.get_distance()"
   ]
  },
  {
   "cell_type": "code",
   "execution_count": 7,
   "metadata": {},
   "outputs": [],
   "source": [
    "mean = 4.487921647029171e-09\n",
    "sigma = init.get_normal_sigma()"
   ]
  },
  {
   "cell_type": "code",
   "execution_count": 8,
   "metadata": {},
   "outputs": [],
   "source": [
    "f = dls.generate_distribution(d, mean, sigma, c)"
   ]
  },
  {
   "cell_type": "code",
   "execution_count": 9,
   "metadata": {},
   "outputs": [],
   "source": [
    "theta_input = np.append(f, c)\n"
   ]
  },
  {
   "cell_type": "code",
   "execution_count": 10,
   "metadata": {},
   "outputs": [],
   "source": [
    "ndim = 21\n",
    "nwalkers = 100\n",
    "nsteps = 1500"
   ]
  },
  {
   "cell_type": "code",
   "execution_count": 11,
   "metadata": {},
   "outputs": [],
   "source": [
    "start_pos = dls.create_start_pos(theta_input, ndim, nwalkers)\n",
    "sampler = dls.create_sampler(nwalkers, ndim, d, intensity, m, gamma, tau*0.001)"
   ]
  },
  {
   "cell_type": "code",
   "execution_count": 12,
   "metadata": {},
   "outputs": [
    {
     "data": {
      "text/plain": [
       "array([0.382     , 0.37333333, 0.37933333, 0.38466667, 0.37      ,\n",
       "       0.36866667, 0.39      , 0.34266667, 0.38      , 0.36533333,\n",
       "       0.36733333, 0.37733333, 0.36866667, 0.37      , 0.37666667,\n",
       "       0.36066667, 0.374     , 0.362     , 0.368     , 0.32666667,\n",
       "       0.368     , 0.37533333, 0.34866667, 0.374     , 0.36333333,\n",
       "       0.36666667, 0.37733333, 0.36666667, 0.35066667, 0.37933333,\n",
       "       0.35333333, 0.352     , 0.36      , 0.37266667, 0.37866667,\n",
       "       0.374     , 0.36333333, 0.35533333, 0.37866667, 0.382     ,\n",
       "       0.366     , 0.36466667, 0.364     , 0.35333333, 0.34866667,\n",
       "       0.37333333, 0.332     , 0.372     , 0.37266667, 0.382     ,\n",
       "       0.35266667, 0.368     , 0.382     , 0.35333333, 0.38066667,\n",
       "       0.33733333, 0.356     , 0.37866667, 0.338     , 0.34466667,\n",
       "       0.376     , 0.35333333, 0.37133333, 0.37533333, 0.36733333,\n",
       "       0.39133333, 0.37933333, 0.372     , 0.36333333, 0.37666667,\n",
       "       0.36066667, 0.392     , 0.36066667, 0.39733333, 0.36066667,\n",
       "       0.392     , 0.368     , 0.36666667, 0.36666667, 0.37733333,\n",
       "       0.374     , 0.35733333, 0.364     , 0.36      , 0.364     ,\n",
       "       0.34466667, 0.36066667, 0.37066667, 0.38      , 0.336     ,\n",
       "       0.37733333, 0.36      , 0.38266667, 0.37333333, 0.37533333,\n",
       "       0.38066667, 0.37066667, 0.386     , 0.36933333, 0.354     ])"
      ]
     },
     "execution_count": 12,
     "metadata": {},
     "output_type": "execute_result"
    }
   ],
   "source": [
    "result = dls.infer(sampler, start_pos, nsteps)\n",
    "result.acceptance_fraction"
   ]
  },
  {
   "cell_type": "code",
   "execution_count": 13,
   "metadata": {},
   "outputs": [
    {
     "name": "stderr",
     "output_type": "stream",
     "text": [
      "/usr/local/lib/python2.7/site-packages/seaborn/timeseries.py:183: UserWarning: The `tsplot` function is deprecated and will be removed in a future release. Please update your code to use the new `lineplot` function.\n",
      "  warnings.warn(msg, UserWarning)\n"
     ]
    },
    {
     "data": {
      "image/png": "[encoded data removed]",
      "text/plain": [
       "<Figure size 432x288 with 2 Axes>"
      ]
     },
     "metadata": {
      "needs_background": "light"
     },
     "output_type": "display_data"
    }
   ],
   "source": [
    "dls.view_burnin_plot(result, 0, 1)"
   ]
  },
  {
   "cell_type": "code",
   "execution_count": 14,
   "metadata": {},
   "outputs": [
    {
     "data": {
      "text/html": [
       "<div>\n",
       "<style scoped>\n",
       "    .dataframe tbody tr th:only-of-type {\n",
       "        vertical-align: middle;\n",
       "    }\n",
       "\n",
       "    .dataframe tbody tr th {\n",
       "        vertical-align: top;\n",
       "    }\n",
       "\n",
       "    .dataframe thead th {\n",
       "        text-align: right;\n",
       "    }\n",
       "</style>\n",
       "<table border=\"1\" class=\"dataframe\">\n",
       "  <thead>\n",
       "    <tr style=\"text-align: right;\">\n",
       "      <th></th>\n",
       "      <th>f0</th>\n",
       "      <th>f1</th>\n",
       "      <th>f10</th>\n",
       "      <th>f11</th>\n",
       "      <th>f12</th>\n",
       "      <th>f13</th>\n",
       "      <th>f14</th>\n",
       "      <th>f15</th>\n",
       "      <th>f16</th>\n",
       "      <th>f17</th>\n",
       "      <th>f18</th>\n",
       "      <th>f19</th>\n",
       "      <th>f2</th>\n",
       "      <th>f3</th>\n",
       "      <th>f4</th>\n",
       "      <th>f5</th>\n",
       "      <th>f6</th>\n",
       "      <th>f7</th>\n",
       "      <th>f8</th>\n",
       "      <th>f9</th>\n",
       "    </tr>\n",
       "  </thead>\n",
       "  <tbody>\n",
       "    <tr>\n",
       "      <th>0.5</th>\n",
       "      <td>7.605378e+07</td>\n",
       "      <td>2.872232e+07</td>\n",
       "      <td>2.672876e+08</td>\n",
       "      <td>3.357870e+08</td>\n",
       "      <td>2.410864e+08</td>\n",
       "      <td>1.534427e+08</td>\n",
       "      <td>2.257737e+08</td>\n",
       "      <td>6.608563e+07</td>\n",
       "      <td>5.225111e+07</td>\n",
       "      <td>1.118120e+08</td>\n",
       "      <td>3.191471e+08</td>\n",
       "      <td>3.983281e+08</td>\n",
       "      <td>6.376057e+07</td>\n",
       "      <td>3.253748e+08</td>\n",
       "      <td>1.251217e+08</td>\n",
       "      <td>3.219310e+07</td>\n",
       "      <td>2.719109e+07</td>\n",
       "      <td>5.711214e+07</td>\n",
       "      <td>1.813752e+09</td>\n",
       "      <td>1.461341e+08</td>\n",
       "    </tr>\n",
       "  </tbody>\n",
       "</table>\n",
       "</div>"
      ],
      "text/plain": [
       "               f0            f1           f10           f11           f12  \\\n",
       "0.5  7.605378e+07  2.872232e+07  2.672876e+08  3.357870e+08  2.410864e+08   \n",
       "\n",
       "              f13           f14           f15           f16           f17  \\\n",
       "0.5  1.534427e+08  2.257737e+08  6.608563e+07  5.225111e+07  1.118120e+08   \n",
       "\n",
       "              f18           f19            f2            f3            f4  \\\n",
       "0.5  3.191471e+08  3.983281e+08  6.376057e+07  3.253748e+08  1.251217e+08   \n",
       "\n",
       "               f5            f6            f7            f8            f9  \n",
       "0.5  3.219310e+07  2.719109e+07  5.711214e+07  1.813752e+09  1.461341e+08  "
      ]
     },
     "execution_count": 14,
     "metadata": {},
     "output_type": "execute_result"
    }
   ],
   "source": [
    "chained_sampler = dls.chain(result, 1200, ndim)\n",
    "samples_df = dls.create_dataframe(chained_sampler, ndim)\n",
    "q = samples_df.quantile([0.5], axis=0)\n",
    "q"
   ]
  },
  {
   "cell_type": "code",
   "execution_count": 15,
   "metadata": {},
   "outputs": [],
   "source": [
    "infer = np.zeros(20)\n",
    "infer[0] = 7.605378e+07\n",
    "infer[1] = 2.872232e+07\n",
    "infer[2] = 6.376057e+07\n",
    "infer[3] = 3.253748e+08\n",
    "infer[4] = 1.251217e+08\n",
    "infer[5] = 3.219310e+07\n",
    "infer[6] = 2.719109e+07\n",
    "infer[7] = 5.711214e+07\n",
    "infer[8] = 1.813752e+09\n",
    "infer[9] = 1.461341e+08\n",
    "infer[10] = 2.672876e+08\n",
    "infer[11] = 3.357870e+08\n",
    "infer[12] = 2.410864e+08\n",
    "infer[13] = 1.534427e+08\n",
    "infer[14] = 2.257737e+08\n",
    "infer[15] = 6.608563e+07\n",
    "infer[16] = 5.225111e+07\n",
    "infer[17] = 1.118120e+08\n",
    "infer[18] = 3.191471e+08\n",
    "infer[19] = 3.983281e+08"
   ]
  },
  {
   "cell_type": "code",
   "execution_count": 16,
   "metadata": {},
   "outputs": [
    {
     "data": {
      "text/plain": [
       "[<matplotlib.lines.Line2D at 0x122bd1c50>]"
      ]
     },
     "execution_count": 16,
     "metadata": {},
     "output_type": "execute_result"
    },
    {
     "data": {
      "image/png": "[encoded data removed]",
      "text/plain": [
       "<Figure size 432x288 with 1 Axes>"
      ]
     },
     "metadata": {
      "needs_background": "light"
     },
     "output_type": "display_data"
    }
   ],
   "source": [
    "plt.plot(d, infer)"
   ]
  },
  {
   "cell_type": "code",
   "execution_count": 17,
   "metadata": {},
   "outputs": [
    {
     "data": {
      "text/html": [
       "<div>\n",
       "<style scoped>\n",
       "    .dataframe tbody tr th:only-of-type {\n",
       "        vertical-align: middle;\n",
       "    }\n",
       "\n",
       "    .dataframe tbody tr th {\n",
       "        vertical-align: top;\n",
       "    }\n",
       "\n",
       "    .dataframe thead th {\n",
       "        text-align: right;\n",
       "    }\n",
       "</style>\n",
       "<table border=\"1\" class=\"dataframe\">\n",
       "  <thead>\n",
       "    <tr style=\"text-align: right;\">\n",
       "      <th></th>\n",
       "      <th>f0</th>\n",
       "      <th>f1</th>\n",
       "      <th>f10</th>\n",
       "      <th>f11</th>\n",
       "      <th>f12</th>\n",
       "      <th>f13</th>\n",
       "      <th>f14</th>\n",
       "      <th>f15</th>\n",
       "      <th>f16</th>\n",
       "      <th>f17</th>\n",
       "      <th>f18</th>\n",
       "      <th>f19</th>\n",
       "      <th>f2</th>\n",
       "      <th>f3</th>\n",
       "      <th>f4</th>\n",
       "      <th>f5</th>\n",
       "      <th>f6</th>\n",
       "      <th>f7</th>\n",
       "      <th>f8</th>\n",
       "      <th>f9</th>\n",
       "    </tr>\n",
       "  </thead>\n",
       "  <tbody>\n",
       "    <tr>\n",
       "      <th>0.8</th>\n",
       "      <td>9.759269e+07</td>\n",
       "      <td>4.897663e+07</td>\n",
       "      <td>2.891785e+08</td>\n",
       "      <td>3.590867e+08</td>\n",
       "      <td>2.592057e+08</td>\n",
       "      <td>1.681305e+08</td>\n",
       "      <td>2.548440e+08</td>\n",
       "      <td>7.607351e+07</td>\n",
       "      <td>6.452468e+07</td>\n",
       "      <td>1.258338e+08</td>\n",
       "      <td>3.514530e+08</td>\n",
       "      <td>4.300703e+08</td>\n",
       "      <td>7.846992e+07</td>\n",
       "      <td>3.395159e+08</td>\n",
       "      <td>1.456941e+08</td>\n",
       "      <td>7.776420e+07</td>\n",
       "      <td>6.560739e+07</td>\n",
       "      <td>8.100196e+07</td>\n",
       "      <td>1.834257e+09</td>\n",
       "      <td>1.845493e+08</td>\n",
       "    </tr>\n",
       "  </tbody>\n",
       "</table>\n",
       "</div>"
      ],
      "text/plain": [
       "               f0            f1           f10           f11           f12  \\\n",
       "0.8  9.759269e+07  4.897663e+07  2.891785e+08  3.590867e+08  2.592057e+08   \n",
       "\n",
       "              f13           f14           f15           f16           f17  \\\n",
       "0.8  1.681305e+08  2.548440e+08  7.607351e+07  6.452468e+07  1.258338e+08   \n",
       "\n",
       "              f18           f19            f2            f3            f4  \\\n",
       "0.8  3.514530e+08  4.300703e+08  7.846992e+07  3.395159e+08  1.456941e+08   \n",
       "\n",
       "               f5            f6            f7            f8            f9  \n",
       "0.8  7.776420e+07  6.560739e+07  8.100196e+07  1.834257e+09  1.845493e+08  "
      ]
     },
     "execution_count": 17,
     "metadata": {},
     "output_type": "execute_result"
    }
   ],
   "source": [
    "q1 = samples_df.quantile([0.8], axis=0)\n",
    "q1"
   ]
  },
  {
   "cell_type": "code",
   "execution_count": 18,
   "metadata": {},
   "outputs": [
    {
     "data": {
      "text/plain": [
       "[<matplotlib.lines.Line2D at 0x122cb71d0>]"
      ]
     },
     "execution_count": 18,
     "metadata": {},
     "output_type": "execute_result"
    },
    {
     "data": {
      "image/png": "[encoded data removed]",
      "text/plain": [
       "<Figure size 432x288 with 1 Axes>"
      ]
     },
     "metadata": {
      "needs_background": "light"
     },
     "output_type": "display_data"
    }
   ],
   "source": [
    "plt.plot(d,f)"
   ]
  },
  {
   "cell_type": "code",
   "execution_count": null,
   "metadata": {},
   "outputs": [],
   "source": []
  }
 ],
 "metadata": {
  "kernelspec": {
   "display_name": "Python 2",
   "language": "python",
   "name": "python2"
  },
  "language_info": {
   "codemirror_mode": {
    "name": "ipython",
    "version": 2
   },
   "file_extension": ".py",
   "mimetype": "text/x-python",
   "name": "python",
   "nbconvert_exporter": "python",
   "pygments_lexer": "ipython2",
   "version": "2.7.16"
  }
 },
 "nbformat": 4,
 "nbformat_minor": 2
}
