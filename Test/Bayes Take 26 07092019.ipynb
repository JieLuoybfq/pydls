{
 "cells": [
  {
   "cell_type": "code",
   "execution_count": 1,
   "metadata": {},
   "outputs": [],
   "source": [
    "import dlsfunctions as dls\n",
    "import initialization_data as init\n",
    "import numpy as np\n",
    "import matplotlib.pyplot as plt"
   ]
  },
  {
   "cell_type": "code",
   "execution_count": 3,
   "metadata": {},
   "outputs": [],
   "source": [
    "time = init.get_log_time()\n",
    "d = init.get_distance()\n",
    "\n",
    "gamma = init.get_gamma()\n",
    "\n",
    "mean = init.get_right_mean()\n",
    "\n",
    "sigma = init.get_wide_sigma()\n",
    "\n",
    "m = init.m\n",
    "c = init.c\n",
    "beta = init.beta\n",
    "\n",
    "f = dls.generate_distribution(d, mean, sigma, c)\n",
    "noise = np.random.normal(mean, sigma, 200)*1e7"
   ]
  },
  {
   "cell_type": "code",
   "execution_count": 4,
   "metadata": {},
   "outputs": [
    {
     "data": {
      "text/plain": [
       "[<matplotlib.lines.Line2D at 0x120ee4c50>]"
      ]
     },
     "execution_count": 4,
     "metadata": {},
     "output_type": "execute_result"
    },
    {
     "data": {
      "image/png": "[encoded data removed]",
      "text/plain": [
       "<Figure size 432x288 with 1 Axes>"
      ]
     },
     "metadata": {
      "needs_background": "light"
     },
     "output_type": "display_data"
    }
   ],
   "source": [
    "theta_input = np.append(f, beta)\n",
    "sim_data = dls.g2(theta_input, d, m, gamma, time) + noise\n",
    "plt.semilogx(time, sim_data)"
   ]
  },
  {
   "cell_type": "code",
   "execution_count": 5,
   "metadata": {},
   "outputs": [
    {
     "data": {
      "text/plain": [
       "array([0.337, 0.311, 0.362, 0.373, 0.382, 0.315, 0.357, 0.363, 0.345,\n",
       "       0.343, 0.333, 0.315, 0.377, 0.353, 0.338, 0.333, 0.355, 0.362,\n",
       "       0.322, 0.369, 0.331, 0.373, 0.342, 0.357, 0.353, 0.368, 0.329,\n",
       "       0.353, 0.343, 0.352, 0.345, 0.343, 0.39 , 0.346, 0.359, 0.303,\n",
       "       0.366, 0.363, 0.357, 0.369, 0.371, 0.34 , 0.366, 0.3  , 0.343,\n",
       "       0.38 , 0.344, 0.347, 0.351, 0.382, 0.358, 0.383, 0.349, 0.336,\n",
       "       0.356, 0.321, 0.358, 0.335, 0.358, 0.387, 0.358, 0.363, 0.364,\n",
       "       0.362, 0.351, 0.319, 0.337, 0.353, 0.37 , 0.319, 0.343, 0.361,\n",
       "       0.385, 0.309, 0.365, 0.352, 0.32 , 0.307, 0.354, 0.353, 0.378,\n",
       "       0.364, 0.36 , 0.355, 0.384, 0.366, 0.356, 0.354, 0.394, 0.371,\n",
       "       0.343, 0.313, 0.367, 0.312, 0.347, 0.324, 0.345, 0.357, 0.337,\n",
       "       0.359])"
      ]
     },
     "execution_count": 5,
     "metadata": {},
     "output_type": "execute_result"
    }
   ],
   "source": [
    "ndim = 21\n",
    "nwalkers = 100\n",
    "nsteps = 1000\n",
    "\n",
    "start_pos = dls.create_start_pos(theta_input, ndim, nwalkers)\n",
    "sampler = dls.create_sampler(nwalkers, ndim, d, sim_data, m, gamma, time)\n",
    "result = dls.infer(sampler, start_pos, nsteps)\n",
    "result.acceptance_fraction"
   ]
  },
  {
   "cell_type": "code",
   "execution_count": 6,
   "metadata": {},
   "outputs": [
    {
     "data": {
      "text/html": [
       "<div>\n",
       "<style scoped>\n",
       "    .dataframe tbody tr th:only-of-type {\n",
       "        vertical-align: middle;\n",
       "    }\n",
       "\n",
       "    .dataframe tbody tr th {\n",
       "        vertical-align: top;\n",
       "    }\n",
       "\n",
       "    .dataframe thead th {\n",
       "        text-align: right;\n",
       "    }\n",
       "</style>\n",
       "<table border=\"1\" class=\"dataframe\">\n",
       "  <thead>\n",
       "    <tr style=\"text-align: right;\">\n",
       "      <th></th>\n",
       "      <th>f0</th>\n",
       "      <th>f1</th>\n",
       "      <th>f10</th>\n",
       "      <th>f11</th>\n",
       "      <th>f12</th>\n",
       "      <th>f13</th>\n",
       "      <th>f14</th>\n",
       "      <th>f15</th>\n",
       "      <th>f16</th>\n",
       "      <th>f17</th>\n",
       "      <th>f18</th>\n",
       "      <th>f19</th>\n",
       "      <th>f2</th>\n",
       "      <th>f3</th>\n",
       "      <th>f4</th>\n",
       "      <th>f5</th>\n",
       "      <th>f6</th>\n",
       "      <th>f7</th>\n",
       "      <th>f8</th>\n",
       "      <th>f9</th>\n",
       "    </tr>\n",
       "  </thead>\n",
       "  <tbody>\n",
       "    <tr>\n",
       "      <th>0.5</th>\n",
       "      <td>315830.030037</td>\n",
       "      <td>1.007634e+06</td>\n",
       "      <td>4.214826e+06</td>\n",
       "      <td>2.963904e+07</td>\n",
       "      <td>1.709074e+08</td>\n",
       "      <td>4.783548e+08</td>\n",
       "      <td>6.649839e+08</td>\n",
       "      <td>4.618639e+08</td>\n",
       "      <td>1.612878e+08</td>\n",
       "      <td>2.962584e+07</td>\n",
       "      <td>4.300054e+06</td>\n",
       "      <td>16020.316526</td>\n",
       "      <td>70548.530897</td>\n",
       "      <td>1.008238e+06</td>\n",
       "      <td>464635.856467</td>\n",
       "      <td>115039.391169</td>\n",
       "      <td>112323.690313</td>\n",
       "      <td>852085.746847</td>\n",
       "      <td>64509.613109</td>\n",
       "      <td>218151.118077</td>\n",
       "    </tr>\n",
       "  </tbody>\n",
       "</table>\n",
       "</div>"
      ],
      "text/plain": [
       "                f0            f1           f10           f11           f12  \\\n",
       "0.5  315830.030037  1.007634e+06  4.214826e+06  2.963904e+07  1.709074e+08   \n",
       "\n",
       "              f13           f14           f15           f16           f17  \\\n",
       "0.5  4.783548e+08  6.649839e+08  4.618639e+08  1.612878e+08  2.962584e+07   \n",
       "\n",
       "              f18           f19            f2            f3             f4  \\\n",
       "0.5  4.300054e+06  16020.316526  70548.530897  1.008238e+06  464635.856467   \n",
       "\n",
       "                f5             f6             f7            f8             f9  \n",
       "0.5  115039.391169  112323.690313  852085.746847  64509.613109  218151.118077  "
      ]
     },
     "execution_count": 6,
     "metadata": {},
     "output_type": "execute_result"
    }
   ],
   "source": [
    "chained_sampler = dls.chain(result, 850, ndim)\n",
    "samples_df = dls.create_dataframe(chained_sampler, ndim)\n",
    "q = samples_df.quantile([0.5], axis=0)\n",
    "q"
   ]
  },
  {
   "cell_type": "code",
   "execution_count": 7,
   "metadata": {},
   "outputs": [],
   "source": [
    "infer = np.zeros(20)\n",
    "infer[0] = 315830.030037\n",
    "infer[1] = 1.007634e+06\n",
    "infer[2] = 70548.530897\n",
    "infer[3] = 1.008238e+06\n",
    "infer[4] = 1464635.856467\n",
    "infer[5] = 115039.391169\n",
    "infer[6] = 112323.690313\n",
    "infer[7] = 852085.746847\n",
    "infer[8] = 64509.613109\n",
    "infer[9] = 218151.118077\n",
    "infer[10] = 4.214826e+06\n",
    "infer[11] = 2.963904e+07\n",
    "infer[12] = 1.709074e+08\n",
    "infer[13] = 4.783548e+08\n",
    "infer[14] = 6.649839e+08\n",
    "infer[15] = 4.618639e+08\n",
    "infer[16] = 1.612878e+08\n",
    "infer[17] = 2.962584e+07\n",
    "infer[18] = 4.300054e+06\n",
    "infer[19] = 16020.316526"
   ]
  },
  {
   "cell_type": "code",
   "execution_count": 8,
   "metadata": {},
   "outputs": [
    {
     "data": {
      "text/plain": [
       "[<matplotlib.lines.Line2D at 0x125992910>]"
      ]
     },
     "execution_count": 8,
     "metadata": {},
     "output_type": "execute_result"
    },
    {
     "data": {
      "image/png": "[encoded data removed]",
      "text/plain": [
       "<Figure size 432x288 with 1 Axes>"
      ]
     },
     "metadata": {
      "needs_background": "light"
     },
     "output_type": "display_data"
    }
   ],
   "source": [
    "plt.plot(d, infer)"
   ]
  },
  {
   "cell_type": "code",
   "execution_count": 9,
   "metadata": {},
   "outputs": [
    {
     "data": {
      "text/plain": [
       "[<matplotlib.lines.Line2D at 0x125a02ed0>]"
      ]
     },
     "execution_count": 9,
     "metadata": {},
     "output_type": "execute_result"
    },
    {
     "data": {
      "image/png": "[encoded data removed]",
      "text/plain": [
       "<Figure size 432x288 with 1 Axes>"
      ]
     },
     "metadata": {
      "needs_background": "light"
     },
     "output_type": "display_data"
    }
   ],
   "source": [
    "plt.plot(d, f)"
   ]
  },
  {
   "cell_type": "code",
   "execution_count": 10,
   "metadata": {},
   "outputs": [
    {
     "data": {
      "text/html": [
       "<div>\n",
       "<style scoped>\n",
       "    .dataframe tbody tr th:only-of-type {\n",
       "        vertical-align: middle;\n",
       "    }\n",
       "\n",
       "    .dataframe tbody tr th {\n",
       "        vertical-align: top;\n",
       "    }\n",
       "\n",
       "    .dataframe thead th {\n",
       "        text-align: right;\n",
       "    }\n",
       "</style>\n",
       "<table border=\"1\" class=\"dataframe\">\n",
       "  <thead>\n",
       "    <tr style=\"text-align: right;\">\n",
       "      <th></th>\n",
       "      <th>beta</th>\n",
       "    </tr>\n",
       "  </thead>\n",
       "  <tbody>\n",
       "    <tr>\n",
       "      <th>0.5</th>\n",
       "      <td>1.243533</td>\n",
       "    </tr>\n",
       "  </tbody>\n",
       "</table>\n",
       "</div>"
      ],
      "text/plain": [
       "         beta\n",
       "0.5  1.243533"
      ]
     },
     "execution_count": 10,
     "metadata": {},
     "output_type": "execute_result"
    }
   ],
   "source": [
    "beta_samples = dls.get_beta(chained_sampler, ndim)\n",
    "beta_q = beta_samples.quantile([0.5], axis=0)\n",
    "beta_q"
   ]
  },
  {
   "cell_type": "code",
   "execution_count": 11,
   "metadata": {},
   "outputs": [
    {
     "data": {
      "text/plain": [
       "<matplotlib.legend.Legend at 0x125aef210>"
      ]
     },
     "execution_count": 11,
     "metadata": {},
     "output_type": "execute_result"
    },
    {
     "data": {
      "image/png": "[encoded data removed]",
      "text/plain": [
       "<Figure size 432x288 with 1 Axes>"
      ]
     },
     "metadata": {
      "needs_background": "light"
     },
     "output_type": "display_data"
    }
   ],
   "source": [
    "theta_infer = np.append(infer, 0.70079)\n",
    "infer_g2 = dls.g2(theta_infer, d, m, gamma, time)\n",
    "plt.semilogx(time, infer_g2, 'ro', label='Inferred')\n",
    "plt.semilogx(time, sim_data, label='Simulated')\n",
    "plt.legend()"
   ]
  },
  {
   "cell_type": "code",
   "execution_count": null,
   "metadata": {},
   "outputs": [],
   "source": [
    "plt.plot(d, f - infer)"
   ]
  },
  {
   "cell_type": "code",
   "execution_count": 12,
   "metadata": {},
   "outputs": [
    {
     "data": {
      "text/plain": [
       "(array([ 349.,  317.,  824., 1127., 1627., 2708., 3097., 2435., 1534.,\n",
       "         982.]),\n",
       " array([1.06349325e-03, 2.00871926e-01, 4.00680358e-01, 6.00488791e-01,\n",
       "        8.00297223e-01, 1.00010566e+00, 1.19991409e+00, 1.39972252e+00,\n",
       "        1.59953095e+00, 1.79933939e+00, 1.99914782e+00]),\n",
       " <a list of 10 Patch objects>)"
      ]
     },
     "execution_count": 12,
     "metadata": {},
     "output_type": "execute_result"
    },
    {
     "data": {
      "image/png": "[encoded data removed]",
      "text/plain": [
       "<Figure size 432x288 with 1 Axes>"
      ]
     },
     "metadata": {
      "needs_background": "light"
     },
     "output_type": "display_data"
    }
   ],
   "source": [
    "beta_posterior = beta_samples.values.flatten()\n",
    "plt.hist(beta_posterior)"
   ]
  },
  {
   "cell_type": "code",
   "execution_count": null,
   "metadata": {},
   "outputs": [],
   "source": []
  }
 ],
 "metadata": {
  "kernelspec": {
   "display_name": "Python 2",
   "language": "python",
   "name": "python2"
  },
  "language_info": {
   "codemirror_mode": {
    "name": "ipython",
    "version": 2
   },
   "file_extension": ".py",
   "mimetype": "text/x-python",
   "name": "python",
   "nbconvert_exporter": "python",
   "pygments_lexer": "ipython2",
   "version": "2.7.16"
  }
 },
 "nbformat": 4,
 "nbformat_minor": 2
}
