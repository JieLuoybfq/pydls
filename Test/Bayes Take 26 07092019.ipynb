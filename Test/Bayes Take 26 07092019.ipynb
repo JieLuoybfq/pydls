{
 "cells": [
  {
   "cell_type": "code",
   "execution_count": 1,
   "metadata": {},
   "outputs": [],
   "source": [
    "import dlsfunctions as dls\n",
    "import initialization_data as init\n",
    "import numpy as np\n",
    "import matplotlib.pyplot as plt"
   ]
  },
  {
   "cell_type": "code",
   "execution_count": 2,
   "metadata": {},
   "outputs": [],
   "source": [
    "time = init.get_log_time()\n",
    "d = init.get_distance()\n",
    "\n",
    "gamma = init.get_gamma()\n",
    "\n",
    "mean = init.get_right_mean()\n",
    "\n",
    "sigma = init.get_wide_sigma()\n",
    "\n",
    "m = init.m\n",
    "c = init.c\n",
    "beta = init.beta\n",
    "\n",
    "f = dls.generate_distribution(d, mean, sigma, c)\n",
    "noise = np.random.normal(mean, sigma, 200)*1e7"
   ]
  },
  {
   "cell_type": "code",
   "execution_count": 3,
   "metadata": {},
   "outputs": [
    {
     "data": {
      "text/plain": [
       "[<matplotlib.lines.Line2D at 0x11ea3db50>]"
      ]
     },
     "execution_count": 3,
     "metadata": {},
     "output_type": "execute_result"
    },
    {
     "data": {
      "image/png": "[encoded data removed]",
      "text/plain": [
       "<Figure size 432x288 with 1 Axes>"
      ]
     },
     "metadata": {
      "needs_background": "light"
     },
     "output_type": "display_data"
    }
   ],
   "source": [
    "theta_input = np.append(f, beta)\n",
    "sim_data = dls.g2(theta_input, d, m, gamma, time) + noise\n",
    "plt.semilogx(time, sim_data)"
   ]
  },
  {
   "cell_type": "code",
   "execution_count": 4,
   "metadata": {},
   "outputs": [
    {
     "data": {
      "text/plain": [
       "array([0.362, 0.371, 0.358, 0.381, 0.331, 0.36 , 0.348, 0.371, 0.356,\n",
       "       0.357, 0.373, 0.38 , 0.386, 0.373, 0.375, 0.359, 0.335, 0.351,\n",
       "       0.398, 0.385, 0.382, 0.351, 0.374, 0.359, 0.334, 0.368, 0.328,\n",
       "       0.337, 0.336, 0.351, 0.367, 0.368, 0.368, 0.37 , 0.344, 0.343,\n",
       "       0.387, 0.388, 0.37 , 0.356, 0.331, 0.375, 0.38 , 0.378, 0.381,\n",
       "       0.352, 0.362, 0.364, 0.38 , 0.362, 0.335, 0.36 , 0.389, 0.339,\n",
       "       0.32 , 0.378, 0.354, 0.362, 0.381, 0.341, 0.351, 0.34 , 0.391,\n",
       "       0.329, 0.357, 0.369, 0.378, 0.393, 0.333, 0.384, 0.366, 0.364,\n",
       "       0.338, 0.377, 0.355, 0.35 , 0.365, 0.347, 0.344, 0.333, 0.369,\n",
       "       0.349, 0.403, 0.351, 0.364, 0.393, 0.393, 0.37 , 0.357, 0.374,\n",
       "       0.36 , 0.395, 0.372, 0.381, 0.372, 0.344, 0.346, 0.365, 0.38 ,\n",
       "       0.356])"
      ]
     },
     "execution_count": 4,
     "metadata": {},
     "output_type": "execute_result"
    }
   ],
   "source": [
    "ndim = 21\n",
    "nwalkers = 100\n",
    "nsteps = 1000\n",
    "\n",
    "start_pos = dls.create_start_pos(theta_input, ndim, nwalkers)\n",
    "sampler = dls.create_sampler(nwalkers, ndim, d, sim_data, m, gamma, time)\n",
    "result = dls.infer(sampler, start_pos, nsteps)\n",
    "result.acceptance_fraction"
   ]
  },
  {
   "cell_type": "code",
   "execution_count": 5,
   "metadata": {},
   "outputs": [
    {
     "data": {
      "text/html": [
       "<div>\n",
       "<style scoped>\n",
       "    .dataframe tbody tr th:only-of-type {\n",
       "        vertical-align: middle;\n",
       "    }\n",
       "\n",
       "    .dataframe tbody tr th {\n",
       "        vertical-align: top;\n",
       "    }\n",
       "\n",
       "    .dataframe thead th {\n",
       "        text-align: right;\n",
       "    }\n",
       "</style>\n",
       "<table border=\"1\" class=\"dataframe\">\n",
       "  <thead>\n",
       "    <tr style=\"text-align: right;\">\n",
       "      <th></th>\n",
       "      <th>f0</th>\n",
       "      <th>f1</th>\n",
       "      <th>f10</th>\n",
       "      <th>f11</th>\n",
       "      <th>f12</th>\n",
       "      <th>f13</th>\n",
       "      <th>f14</th>\n",
       "      <th>f15</th>\n",
       "      <th>f16</th>\n",
       "      <th>f17</th>\n",
       "      <th>f18</th>\n",
       "      <th>f19</th>\n",
       "      <th>f2</th>\n",
       "      <th>f3</th>\n",
       "      <th>f4</th>\n",
       "      <th>f5</th>\n",
       "      <th>f6</th>\n",
       "      <th>f7</th>\n",
       "      <th>f8</th>\n",
       "      <th>f9</th>\n",
       "    </tr>\n",
       "  </thead>\n",
       "  <tbody>\n",
       "    <tr>\n",
       "      <th>0.5</th>\n",
       "      <td>1.416562e+07</td>\n",
       "      <td>7.449333e+06</td>\n",
       "      <td>4.042943e+07</td>\n",
       "      <td>4.020529e+07</td>\n",
       "      <td>1.961046e+08</td>\n",
       "      <td>4.595378e+08</td>\n",
       "      <td>6.732124e+08</td>\n",
       "      <td>4.628066e+08</td>\n",
       "      <td>1.740574e+08</td>\n",
       "      <td>3.472593e+07</td>\n",
       "      <td>4.992088e+07</td>\n",
       "      <td>3.897742e+07</td>\n",
       "      <td>1.246055e+07</td>\n",
       "      <td>2.209497e+06</td>\n",
       "      <td>2.281467e+07</td>\n",
       "      <td>1.574043e+06</td>\n",
       "      <td>689917.754619</td>\n",
       "      <td>840363.874812</td>\n",
       "      <td>4.269179e+06</td>\n",
       "      <td>4.890290e+07</td>\n",
       "    </tr>\n",
       "  </tbody>\n",
       "</table>\n",
       "</div>"
      ],
      "text/plain": [
       "               f0            f1           f10           f11           f12  \\\n",
       "0.5  1.416562e+07  7.449333e+06  4.042943e+07  4.020529e+07  1.961046e+08   \n",
       "\n",
       "              f13           f14           f15           f16           f17  \\\n",
       "0.5  4.595378e+08  6.732124e+08  4.628066e+08  1.740574e+08  3.472593e+07   \n",
       "\n",
       "              f18           f19            f2            f3            f4  \\\n",
       "0.5  4.992088e+07  3.897742e+07  1.246055e+07  2.209497e+06  2.281467e+07   \n",
       "\n",
       "               f5             f6             f7            f8            f9  \n",
       "0.5  1.574043e+06  689917.754619  840363.874812  4.269179e+06  4.890290e+07  "
      ]
     },
     "execution_count": 5,
     "metadata": {},
     "output_type": "execute_result"
    }
   ],
   "source": [
    "chained_sampler = dls.chain(result, 800, ndim)\n",
    "samples_df = dls.create_dataframe(chained_sampler, ndim)\n",
    "q = samples_df.quantile([0.5], axis=0)\n",
    "q"
   ]
  },
  {
   "cell_type": "code",
   "execution_count": 6,
   "metadata": {},
   "outputs": [],
   "source": [
    "infer = np.zeros(20)\n",
    "infer[0] = 1.416562e+07\n",
    "infer[1] = 7.449333e+06\n",
    "infer[2] = 1.246055e+07\n",
    "infer[3] = 2.209497e+06\n",
    "infer[4] = 2.281467e+07\n",
    "infer[5] = 1.574043e+06\n",
    "infer[6] = 689917.754619\n",
    "infer[7] = 840363.874812\n",
    "infer[8] = 4.269179e+06\n",
    "infer[9] = 4.890290e+07\n",
    "infer[10] = 4.042943e+07\n",
    "infer[11] = 4.020529e+07\n",
    "infer[12] = 1.961046e+08\n",
    "infer[13] = 4.595378e+08\n",
    "infer[14] = 6.732124e+08\n",
    "infer[15] = 4.628066e+08\n",
    "infer[16] = 1.740574e+08\n",
    "infer[17] = 3.472593e+07\n",
    "infer[18] = 4.992088e+07\n",
    "infer[19] = 3.897742e+07"
   ]
  },
  {
   "cell_type": "code",
   "execution_count": 7,
   "metadata": {},
   "outputs": [
    {
     "data": {
      "text/plain": [
       "[<matplotlib.lines.Line2D at 0x11ed3c850>]"
      ]
     },
     "execution_count": 7,
     "metadata": {},
     "output_type": "execute_result"
    },
    {
     "data": {
      "image/png": "[encoded data removed]",
      "text/plain": [
       "<Figure size 432x288 with 1 Axes>"
      ]
     },
     "metadata": {
      "needs_background": "light"
     },
     "output_type": "display_data"
    }
   ],
   "source": [
    "plt.plot(d, infer)"
   ]
  },
  {
   "cell_type": "code",
   "execution_count": 8,
   "metadata": {},
   "outputs": [
    {
     "data": {
      "text/plain": [
       "[<matplotlib.lines.Line2D at 0x1217da3d0>]"
      ]
     },
     "execution_count": 8,
     "metadata": {},
     "output_type": "execute_result"
    },
    {
     "data": {
      "image/png": "[encoded data removed]",
      "text/plain": [
       "<Figure size 432x288 with 1 Axes>"
      ]
     },
     "metadata": {
      "needs_background": "light"
     },
     "output_type": "display_data"
    }
   ],
   "source": [
    "plt.plot(d, f)"
   ]
  },
  {
   "cell_type": "code",
   "execution_count": 9,
   "metadata": {},
   "outputs": [
    {
     "data": {
      "text/html": [
       "<div>\n",
       "<style scoped>\n",
       "    .dataframe tbody tr th:only-of-type {\n",
       "        vertical-align: middle;\n",
       "    }\n",
       "\n",
       "    .dataframe tbody tr th {\n",
       "        vertical-align: top;\n",
       "    }\n",
       "\n",
       "    .dataframe thead th {\n",
       "        text-align: right;\n",
       "    }\n",
       "</style>\n",
       "<table border=\"1\" class=\"dataframe\">\n",
       "  <thead>\n",
       "    <tr style=\"text-align: right;\">\n",
       "      <th></th>\n",
       "      <th>beta</th>\n",
       "    </tr>\n",
       "  </thead>\n",
       "  <tbody>\n",
       "    <tr>\n",
       "      <th>0.5</th>\n",
       "      <td>0.943006</td>\n",
       "    </tr>\n",
       "  </tbody>\n",
       "</table>\n",
       "</div>"
      ],
      "text/plain": [
       "         beta\n",
       "0.5  0.943006"
      ]
     },
     "execution_count": 9,
     "metadata": {},
     "output_type": "execute_result"
    }
   ],
   "source": [
    "beta_samples = dls.get_beta(chained_sampler, ndim)\n",
    "beta_q = beta_samples.quantile([0.5], axis=0)\n",
    "beta_q"
   ]
  },
  {
   "cell_type": "code",
   "execution_count": 12,
   "metadata": {},
   "outputs": [
    {
     "data": {
      "text/plain": [
       "<matplotlib.legend.Legend at 0x121a8b1d0>"
      ]
     },
     "execution_count": 12,
     "metadata": {},
     "output_type": "execute_result"
    },
    {
     "data": {
      "image/png": "[encoded data removed]",
      "text/plain": [
       "<Figure size 432x288 with 1 Axes>"
      ]
     },
     "metadata": {
      "needs_background": "light"
     },
     "output_type": "display_data"
    }
   ],
   "source": [
    "theta_infer = np.append(infer, 0.943)\n",
    "infer_g2 = dls.g2(theta_infer, d, m, gamma, time)\n",
    "plt.semilogx(time, infer_g2, 'ro', label='Inferred')\n",
    "plt.semilogx(time, sim_data, label='Simulated')\n",
    "plt.legend()"
   ]
  },
  {
   "cell_type": "code",
   "execution_count": 11,
   "metadata": {},
   "outputs": [
    {
     "data": {
      "text/plain": [
       "[<matplotlib.lines.Line2D at 0x121a454d0>]"
      ]
     },
     "execution_count": 11,
     "metadata": {},
     "output_type": "execute_result"
    },
    {
     "data": {
      "image/png": "[encoded data removed]",
      "text/plain": [
       "<Figure size 432x288 with 1 Axes>"
      ]
     },
     "metadata": {
      "needs_background": "light"
     },
     "output_type": "display_data"
    }
   ],
   "source": [
    "plt.plot(d, f - infer)"
   ]
  },
  {
   "cell_type": "code",
   "execution_count": 13,
   "metadata": {},
   "outputs": [
    {
     "data": {
      "text/plain": [
       "(array([1205., 1708., 2456., 2713., 2722., 2882., 2799., 1654., 1073.,\n",
       "         788.]),\n",
       " array([0.00229857, 0.20187646, 0.40145436, 0.60103225, 0.80061014,\n",
       "        1.00018804, 1.19976593, 1.39934383, 1.59892172, 1.79849961,\n",
       "        1.99807751]),\n",
       " <a list of 10 Patch objects>)"
      ]
     },
     "execution_count": 13,
     "metadata": {},
     "output_type": "execute_result"
    },
    {
     "data": {
      "image/png": "[encoded data removed]",
      "text/plain": [
       "<Figure size 432x288 with 1 Axes>"
      ]
     },
     "metadata": {
      "needs_background": "light"
     },
     "output_type": "display_data"
    }
   ],
   "source": [
    "beta_posterior = beta_samples.values.flatten()\n",
    "plt.hist(beta_posterior)"
   ]
  },
  {
   "cell_type": "code",
   "execution_count": null,
   "metadata": {},
   "outputs": [],
   "source": []
  }
 ],
 "metadata": {
  "kernelspec": {
   "display_name": "Python 2",
   "language": "python",
   "name": "python2"
  },
  "language_info": {
   "codemirror_mode": {
    "name": "ipython",
    "version": 2
   },
   "file_extension": ".py",
   "mimetype": "text/x-python",
   "name": "python",
   "nbconvert_exporter": "python",
   "pygments_lexer": "ipython2",
   "version": "2.7.16"
  }
 },
 "nbformat": 4,
 "nbformat_minor": 2
}
