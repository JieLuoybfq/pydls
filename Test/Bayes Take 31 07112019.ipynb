{
 "cells": [
  {
   "cell_type": "code",
   "execution_count": 1,
   "metadata": {},
   "outputs": [],
   "source": [
    "import numpy as np\n",
    "import dlsfunctions as dls\n",
    "import initialization_data as init\n",
    "import matplotlib.pyplot as plt"
   ]
  },
  {
   "cell_type": "code",
   "execution_count": 2,
   "metadata": {},
   "outputs": [],
   "source": [
    "# generates unequal-amplitude bimodal distribution\n",
    "def generate_bimodal_distribution(d, mean1, sigma1, mean2, sigma2, mie_fract):\n",
    "    f1 = 1/(sigma1*np.sqrt(2*np.pi**2))*np.exp(-(d-mean1)**2/(2*sigma1**2))\n",
    "    f1 = f1* dls.normalize(f1, 1, d[1] - d[0])\n",
    "    \n",
    "    f2 = 1/(sigma2*np.sqrt(2*np.pi**2))*np.exp(-(d-mean2)**2/(2*sigma2**2))\n",
    "    f2 = f2 * dls.normalize(f2, 1, d[1] - d[0])\n",
    "    \n",
    "    f = f1 + 2*f2\n",
    "    f = f * dls.normalize(f, 1, d[1] - d[0])\n",
    "    return f"
   ]
  },
  {
   "cell_type": "code",
   "execution_count": 22,
   "metadata": {},
   "outputs": [],
   "source": [
    "d = init.get_distance()\n",
    "\n",
    "mean1 = init.get_left_mean()\n",
    "sigma1 = init.get_narrow_sigma()\n",
    "\n",
    "mean2 = init.get_right_mean()\n",
    "sigma2 = init.get_narrow_sigma()\n",
    "\n",
    "c = init.c\n",
    "m = init.m\n",
    "beta = init.beta\n",
    "\n",
    "f = generate_bimodal_distribution(d, mean1, sigma1, mean2, sigma2, c)\n",
    "\n",
    "time = init.get_log_time()\n",
    "gamma = init.get_gamma()\n",
    "\n",
    "noise = np.random.normal(mean1, sigma1, 200)*5e7"
   ]
  },
  {
   "cell_type": "code",
   "execution_count": 23,
   "metadata": {},
   "outputs": [
    {
     "data": {
      "text/plain": [
       "[<matplotlib.lines.Line2D at 0x11cd8b810>]"
      ]
     },
     "execution_count": 23,
     "metadata": {},
     "output_type": "execute_result"
    },
    {
     "data": {
      "image/png": "[encoded data removed]",
      "text/plain": [
       "<Figure size 432x288 with 1 Axes>"
      ]
     },
     "metadata": {
      "needs_background": "light"
     },
     "output_type": "display_data"
    }
   ],
   "source": [
    "plt.plot(d,f)"
   ]
  },
  {
   "cell_type": "code",
   "execution_count": 24,
   "metadata": {},
   "outputs": [
    {
     "data": {
      "text/plain": [
       "1.0"
      ]
     },
     "execution_count": 24,
     "metadata": {},
     "output_type": "execute_result"
    }
   ],
   "source": [
    "dls.check_distribution_norm(f, d[1] - d[0])"
   ]
  },
  {
   "cell_type": "code",
   "execution_count": 25,
   "metadata": {},
   "outputs": [],
   "source": [
    "theta_input = np.append(f, beta)\n",
    "sim_data = dls.g2(theta_input, d, m, gamma, time) + noise"
   ]
  },
  {
   "cell_type": "code",
   "execution_count": 26,
   "metadata": {},
   "outputs": [
    {
     "data": {
      "text/plain": [
       "[<matplotlib.lines.Line2D at 0x11cdc6c90>]"
      ]
     },
     "execution_count": 26,
     "metadata": {},
     "output_type": "execute_result"
    },
    {
     "data": {
      "image/png": "[encoded data removed]",
      "text/plain": [
       "<Figure size 432x288 with 1 Axes>"
      ]
     },
     "metadata": {
      "needs_background": "light"
     },
     "output_type": "display_data"
    }
   ],
   "source": [
    "plt.semilogx(time, sim_data)"
   ]
  },
  {
   "cell_type": "code",
   "execution_count": 27,
   "metadata": {},
   "outputs": [],
   "source": [
    "ndim = 21\n",
    "nwalkers = 100\n",
    "nsteps = 1000"
   ]
  },
  {
   "cell_type": "code",
   "execution_count": 28,
   "metadata": {},
   "outputs": [
    {
     "data": {
      "text/plain": [
       "array([0.369, 0.387, 0.349, 0.382, 0.361, 0.369, 0.391, 0.386, 0.356,\n",
       "       0.358, 0.357, 0.369, 0.363, 0.364, 0.361, 0.339, 0.35 , 0.387,\n",
       "       0.383, 0.339, 0.365, 0.362, 0.37 , 0.342, 0.359, 0.391, 0.376,\n",
       "       0.355, 0.372, 0.37 , 0.362, 0.369, 0.343, 0.354, 0.386, 0.362,\n",
       "       0.405, 0.364, 0.361, 0.387, 0.368, 0.354, 0.351, 0.35 , 0.37 ,\n",
       "       0.352, 0.378, 0.367, 0.391, 0.36 , 0.349, 0.338, 0.374, 0.388,\n",
       "       0.366, 0.38 , 0.371, 0.35 , 0.346, 0.356, 0.354, 0.366, 0.358,\n",
       "       0.341, 0.38 , 0.331, 0.341, 0.381, 0.389, 0.364, 0.378, 0.366,\n",
       "       0.377, 0.346, 0.379, 0.348, 0.351, 0.356, 0.366, 0.351, 0.367,\n",
       "       0.393, 0.336, 0.386, 0.395, 0.349, 0.394, 0.357, 0.39 , 0.377,\n",
       "       0.342, 0.388, 0.376, 0.348, 0.351, 0.382, 0.338, 0.36 , 0.375,\n",
       "       0.361])"
      ]
     },
     "execution_count": 28,
     "metadata": {},
     "output_type": "execute_result"
    }
   ],
   "source": [
    "start_pos = dls.create_start_pos(theta_input, ndim, nwalkers)\n",
    "sampler = dls.create_sampler(nwalkers, ndim, d, sim_data, m, gamma, time)\n",
    "result = dls.infer(sampler, start_pos, nsteps)\n",
    "result.acceptance_fraction"
   ]
  },
  {
   "cell_type": "code",
   "execution_count": 29,
   "metadata": {},
   "outputs": [
    {
     "data": {
      "text/html": [
       "<div>\n",
       "<style scoped>\n",
       "    .dataframe tbody tr th:only-of-type {\n",
       "        vertical-align: middle;\n",
       "    }\n",
       "\n",
       "    .dataframe tbody tr th {\n",
       "        vertical-align: top;\n",
       "    }\n",
       "\n",
       "    .dataframe thead th {\n",
       "        text-align: right;\n",
       "    }\n",
       "</style>\n",
       "<table border=\"1\" class=\"dataframe\">\n",
       "  <thead>\n",
       "    <tr style=\"text-align: right;\">\n",
       "      <th></th>\n",
       "      <th>f0</th>\n",
       "      <th>f1</th>\n",
       "      <th>f10</th>\n",
       "      <th>f11</th>\n",
       "      <th>f12</th>\n",
       "      <th>f13</th>\n",
       "      <th>f14</th>\n",
       "      <th>f15</th>\n",
       "      <th>f16</th>\n",
       "      <th>f17</th>\n",
       "      <th>f18</th>\n",
       "      <th>f19</th>\n",
       "      <th>f2</th>\n",
       "      <th>f3</th>\n",
       "      <th>f4</th>\n",
       "      <th>f5</th>\n",
       "      <th>f6</th>\n",
       "      <th>f7</th>\n",
       "      <th>f8</th>\n",
       "      <th>f9</th>\n",
       "    </tr>\n",
       "  </thead>\n",
       "  <tbody>\n",
       "    <tr>\n",
       "      <th>0.5</th>\n",
       "      <td>2.528529e+07</td>\n",
       "      <td>1.409708e+07</td>\n",
       "      <td>3.111625e+07</td>\n",
       "      <td>8.218741e+06</td>\n",
       "      <td>3.842731e+07</td>\n",
       "      <td>5.364228e+07</td>\n",
       "      <td>1.352951e+09</td>\n",
       "      <td>3.148342e+07</td>\n",
       "      <td>810218.113554</td>\n",
       "      <td>1.882111e+07</td>\n",
       "      <td>6.257719e+06</td>\n",
       "      <td>3.289120e+07</td>\n",
       "      <td>6.700169e+08</td>\n",
       "      <td>7.760238e+07</td>\n",
       "      <td>1.772881e+07</td>\n",
       "      <td>1.220940e+07</td>\n",
       "      <td>2.139727e+07</td>\n",
       "      <td>2.283382e+07</td>\n",
       "      <td>1.894625e+06</td>\n",
       "      <td>4.404176e+07</td>\n",
       "    </tr>\n",
       "  </tbody>\n",
       "</table>\n",
       "</div>"
      ],
      "text/plain": [
       "               f0            f1           f10           f11           f12  \\\n",
       "0.5  2.528529e+07  1.409708e+07  3.111625e+07  8.218741e+06  3.842731e+07   \n",
       "\n",
       "              f13           f14           f15            f16           f17  \\\n",
       "0.5  5.364228e+07  1.352951e+09  3.148342e+07  810218.113554  1.882111e+07   \n",
       "\n",
       "              f18           f19            f2            f3            f4  \\\n",
       "0.5  6.257719e+06  3.289120e+07  6.700169e+08  7.760238e+07  1.772881e+07   \n",
       "\n",
       "               f5            f6            f7            f8            f9  \n",
       "0.5  1.220940e+07  2.139727e+07  2.283382e+07  1.894625e+06  4.404176e+07  "
      ]
     },
     "execution_count": 29,
     "metadata": {},
     "output_type": "execute_result"
    }
   ],
   "source": [
    "chained_sampler = dls.chain(result, 850, ndim)\n",
    "samples_df = dls.create_dataframe(chained_sampler, ndim)\n",
    "q = samples_df.quantile([0.5], axis=0)\n",
    "q"
   ]
  },
  {
   "cell_type": "code",
   "execution_count": 30,
   "metadata": {},
   "outputs": [],
   "source": [
    "infer = np.zeros(20)\n",
    "infer[0] = 2.528529e+07\n",
    "infer[1] = 1.409708e+07\n",
    "infer[2] = 6.700169e+08\n",
    "infer[3] = 7.760238e+07\n",
    "infer[4] = 1.772881e+07\n",
    "infer[5] = 1.220940e+07\n",
    "infer[6] = 2.139727e+07\n",
    "infer[7] = 2.283382e+07\n",
    "infer[8] = 1.894625e+06\n",
    "infer[9] = 4.404176e+07\n",
    "infer[10] = 3.111625e+07\n",
    "infer[11] = 8.218741e+06\n",
    "infer[12] = 3.842731e+07\n",
    "infer[13] = 5.364228e+07\n",
    "infer[14] = 1.352951e+09\n",
    "infer[15] = 3.148342e+07\n",
    "infer[16] = 810218.113554\n",
    "infer[17] = 1.882111e+07\n",
    "infer[18] = 6.257719e+06\n",
    "infer[19] = 3.289120e+07"
   ]
  },
  {
   "cell_type": "code",
   "execution_count": 35,
   "metadata": {},
   "outputs": [
    {
     "data": {
      "text/plain": [
       "<matplotlib.legend.Legend at 0x11d351d10>"
      ]
     },
     "execution_count": 35,
     "metadata": {},
     "output_type": "execute_result"
    },
    {
     "data": {
      "image/png": "[encoded data removed]",
      "text/plain": [
       "<Figure size 432x288 with 1 Axes>"
      ]
     },
     "metadata": {
      "needs_background": "light"
     },
     "output_type": "display_data"
    }
   ],
   "source": [
    "plt.plot(d, infer, '--', label='Inferred')\n",
    "plt.plot(d, f, label='Simulated')\n",
    "plt.legend()"
   ]
  },
  {
   "cell_type": "code",
   "execution_count": 16,
   "metadata": {},
   "outputs": [
    {
     "data": {
      "text/plain": [
       "[<matplotlib.lines.Line2D at 0x118f6de10>]"
      ]
     },
     "execution_count": 16,
     "metadata": {},
     "output_type": "execute_result"
    },
    {
     "data": {
      "image/png": "[encoded data removed]",
      "text/plain": [
       "<Figure size 432x288 with 1 Axes>"
      ]
     },
     "metadata": {
      "needs_background": "light"
     },
     "output_type": "display_data"
    }
   ],
   "source": [
    "plt.plot(d, f)"
   ]
  },
  {
   "cell_type": "code",
   "execution_count": 32,
   "metadata": {},
   "outputs": [
    {
     "data": {
      "text/html": [
       "<div>\n",
       "<style scoped>\n",
       "    .dataframe tbody tr th:only-of-type {\n",
       "        vertical-align: middle;\n",
       "    }\n",
       "\n",
       "    .dataframe tbody tr th {\n",
       "        vertical-align: top;\n",
       "    }\n",
       "\n",
       "    .dataframe thead th {\n",
       "        text-align: right;\n",
       "    }\n",
       "</style>\n",
       "<table border=\"1\" class=\"dataframe\">\n",
       "  <thead>\n",
       "    <tr style=\"text-align: right;\">\n",
       "      <th></th>\n",
       "      <th>beta</th>\n",
       "    </tr>\n",
       "  </thead>\n",
       "  <tbody>\n",
       "    <tr>\n",
       "      <th>0.5</th>\n",
       "      <td>1.141112</td>\n",
       "    </tr>\n",
       "  </tbody>\n",
       "</table>\n",
       "</div>"
      ],
      "text/plain": [
       "         beta\n",
       "0.5  1.141112"
      ]
     },
     "execution_count": 32,
     "metadata": {},
     "output_type": "execute_result"
    }
   ],
   "source": [
    "beta_post = dls.get_beta(chained_sampler, ndim)\n",
    "betaq = beta_post.quantile([0.5], axis=0)\n",
    "betaq"
   ]
  },
  {
   "cell_type": "code",
   "execution_count": 33,
   "metadata": {},
   "outputs": [
    {
     "data": {
      "text/plain": [
       "<matplotlib.legend.Legend at 0x11d12d490>"
      ]
     },
     "execution_count": 33,
     "metadata": {},
     "output_type": "execute_result"
    },
    {
     "data": {
      "image/png": "[encoded data removed]",
      "text/plain": [
       "<Figure size 432x288 with 1 Axes>"
      ]
     },
     "metadata": {
      "needs_background": "light"
     },
     "output_type": "display_data"
    }
   ],
   "source": [
    "theta_infer = np.append(infer, 1.14112)\n",
    "inferg2 = dls.g2(theta_infer, d, m, gamma, time)\n",
    "\n",
    "plt.semilogx(time, inferg2, 'ro', label='Inferred')\n",
    "plt.semilogx(time, sim_data, label='simulated')\n",
    "plt.legend()"
   ]
  },
  {
   "cell_type": "code",
   "execution_count": 34,
   "metadata": {},
   "outputs": [
    {
     "data": {
      "text/plain": [
       "(array([ 400.,  542., 1022., 1454., 1953., 3184., 3127., 1764., 1033.,\n",
       "         521.]),\n",
       " array([4.65425429e-04, 1.99919985e-01, 3.99374546e-01, 5.98829106e-01,\n",
       "        7.98283666e-01, 9.97738226e-01, 1.19719279e+00, 1.39664735e+00,\n",
       "        1.59610191e+00, 1.79555647e+00, 1.99501103e+00]),\n",
       " <a list of 10 Patch objects>)"
      ]
     },
     "execution_count": 34,
     "metadata": {},
     "output_type": "execute_result"
    },
    {
     "data": {
      "image/png": "[encoded data removed]",
      "text/plain": [
       "<Figure size 432x288 with 1 Axes>"
      ]
     },
     "metadata": {
      "needs_background": "light"
     },
     "output_type": "display_data"
    }
   ],
   "source": [
    "beta_posterior = beta_post.values.flatten()\n",
    "plt.hist(beta_posterior)"
   ]
  },
  {
   "cell_type": "code",
   "execution_count": null,
   "metadata": {},
   "outputs": [],
   "source": []
  }
 ],
 "metadata": {
  "kernelspec": {
   "display_name": "Python 2",
   "language": "python",
   "name": "python2"
  },
  "language_info": {
   "codemirror_mode": {
    "name": "ipython",
    "version": 2
   },
   "file_extension": ".py",
   "mimetype": "text/x-python",
   "name": "python",
   "nbconvert_exporter": "python",
   "pygments_lexer": "ipython2",
   "version": "2.7.16"
  }
 },
 "nbformat": 4,
 "nbformat_minor": 2
}
