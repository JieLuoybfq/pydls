{
 "cells": [
  {
   "cell_type": "code",
   "execution_count": 1,
   "metadata": {},
   "outputs": [],
   "source": [
    "import numpy as np\n",
    "import dlsfunctions as dls\n",
    "import initialization_data as init\n",
    "import matplotlib.pyplot as plt"
   ]
  },
  {
   "cell_type": "code",
   "execution_count": 2,
   "metadata": {},
   "outputs": [],
   "source": [
    "# generates unequal-amplitude bimodal distribution\n",
    "def generate_bimodal_distribution(d, mean1, sigma1, mean2, sigma2, mie_fract):\n",
    "    f1 = 1/(sigma1*np.sqrt(2*np.pi**2))*np.exp(-(d-mean1)**2/(2*sigma1**2))\n",
    "    f1 = f1* dls.normalize(f1, 1, d[1] - d[0])\n",
    "    \n",
    "    f2 = 1/(sigma2*np.sqrt(2*np.pi**2))*np.exp(-(d-mean2)**2/(2*sigma2**2))\n",
    "    f2 = f2 * dls.normalize(f2, 1, d[1] - d[0])\n",
    "    \n",
    "    f = f1 + 2*f2\n",
    "    f = f * dls.normalize(f, 1, d[1] - d[0])\n",
    "    return f"
   ]
  },
  {
   "cell_type": "code",
   "execution_count": 3,
   "metadata": {},
   "outputs": [],
   "source": [
    "d = init.get_distance()\n",
    "\n",
    "mean1 = init.get_left_mean()\n",
    "sigma1 = init.get_narrow_sigma()\n",
    "\n",
    "mean2 = init.get_right_mean()\n",
    "sigma2 = init.get_narrow_sigma()\n",
    "\n",
    "c = init.c\n",
    "m = init.m\n",
    "beta = init.beta\n",
    "\n",
    "f = generate_bimodal_distribution(d, mean1, sigma1, mean2, sigma2, c)\n",
    "\n",
    "time = init.get_log_time()\n",
    "gamma = init.get_gamma()\n",
    "\n",
    "noise = np.random.normal(mean1, sigma1, 200)*5e7"
   ]
  },
  {
   "cell_type": "code",
   "execution_count": 4,
   "metadata": {},
   "outputs": [
    {
     "data": {
      "text/plain": [
       "[<matplotlib.lines.Line2D at 0x119225450>]"
      ]
     },
     "execution_count": 4,
     "metadata": {},
     "output_type": "execute_result"
    },
    {
     "data": {
      "image/png": "[encoded data removed]",
      "text/plain": [
       "<Figure size 432x288 with 1 Axes>"
      ]
     },
     "metadata": {
      "needs_background": "light"
     },
     "output_type": "display_data"
    }
   ],
   "source": [
    "plt.plot(d,f)"
   ]
  },
  {
   "cell_type": "code",
   "execution_count": 5,
   "metadata": {},
   "outputs": [
    {
     "data": {
      "text/plain": [
       "1.0"
      ]
     },
     "execution_count": 5,
     "metadata": {},
     "output_type": "execute_result"
    }
   ],
   "source": [
    "dls.check_distribution_norm(f, d[1] - d[0])"
   ]
  },
  {
   "cell_type": "code",
   "execution_count": 6,
   "metadata": {},
   "outputs": [],
   "source": [
    "theta_input = np.append(f, beta)\n",
    "sim_data = dls.g2(theta_input, d, m, gamma, time) + noise"
   ]
  },
  {
   "cell_type": "code",
   "execution_count": 7,
   "metadata": {},
   "outputs": [
    {
     "data": {
      "text/plain": [
       "[<matplotlib.lines.Line2D at 0x11926f790>]"
      ]
     },
     "execution_count": 7,
     "metadata": {},
     "output_type": "execute_result"
    },
    {
     "data": {
      "image/png": "[encoded data removed]",
      "text/plain": [
       "<Figure size 432x288 with 1 Axes>"
      ]
     },
     "metadata": {
      "needs_background": "light"
     },
     "output_type": "display_data"
    }
   ],
   "source": [
    "plt.semilogx(time, sim_data)"
   ]
  },
  {
   "cell_type": "code",
   "execution_count": 8,
   "metadata": {},
   "outputs": [],
   "source": [
    "ndim = 21\n",
    "nwalkers = 100\n",
    "nsteps = 1000"
   ]
  },
  {
   "cell_type": "code",
   "execution_count": 9,
   "metadata": {},
   "outputs": [
    {
     "data": {
      "text/plain": [
       "array([0.346, 0.304, 0.355, 0.334, 0.311, 0.348, 0.351, 0.334, 0.33 ,\n",
       "       0.341, 0.328, 0.302, 0.342, 0.324, 0.311, 0.31 , 0.352, 0.324,\n",
       "       0.366, 0.353, 0.321, 0.332, 0.343, 0.35 , 0.345, 0.305, 0.351,\n",
       "       0.309, 0.341, 0.313, 0.313, 0.365, 0.329, 0.382, 0.334, 0.318,\n",
       "       0.344, 0.294, 0.376, 0.301, 0.317, 0.326, 0.343, 0.333, 0.359,\n",
       "       0.318, 0.343, 0.324, 0.318, 0.315, 0.334, 0.317, 0.339, 0.334,\n",
       "       0.358, 0.319, 0.286, 0.345, 0.293, 0.325, 0.345, 0.343, 0.312,\n",
       "       0.332, 0.34 , 0.332, 0.363, 0.297, 0.351, 0.341, 0.319, 0.343,\n",
       "       0.344, 0.35 , 0.351, 0.356, 0.304, 0.361, 0.336, 0.338, 0.343,\n",
       "       0.33 , 0.368, 0.349, 0.298, 0.311, 0.334, 0.36 , 0.338, 0.314,\n",
       "       0.325, 0.318, 0.323, 0.325, 0.34 , 0.31 , 0.342, 0.32 , 0.336,\n",
       "       0.326])"
      ]
     },
     "execution_count": 9,
     "metadata": {},
     "output_type": "execute_result"
    }
   ],
   "source": [
    "start_pos = dls.create_start_pos(theta_input, ndim, nwalkers)\n",
    "sampler = dls.create_sampler(nwalkers, ndim, d, sim_data, m, gamma, time)\n",
    "result = dls.infer(sampler, start_pos, nsteps)\n",
    "result.acceptance_fraction"
   ]
  },
  {
   "cell_type": "code",
   "execution_count": 10,
   "metadata": {},
   "outputs": [
    {
     "data": {
      "text/html": [
       "<div>\n",
       "<style scoped>\n",
       "    .dataframe tbody tr th:only-of-type {\n",
       "        vertical-align: middle;\n",
       "    }\n",
       "\n",
       "    .dataframe tbody tr th {\n",
       "        vertical-align: top;\n",
       "    }\n",
       "\n",
       "    .dataframe thead th {\n",
       "        text-align: right;\n",
       "    }\n",
       "</style>\n",
       "<table border=\"1\" class=\"dataframe\">\n",
       "  <thead>\n",
       "    <tr style=\"text-align: right;\">\n",
       "      <th></th>\n",
       "      <th>f0</th>\n",
       "      <th>f1</th>\n",
       "      <th>f10</th>\n",
       "      <th>f11</th>\n",
       "      <th>f12</th>\n",
       "      <th>f13</th>\n",
       "      <th>f14</th>\n",
       "      <th>f15</th>\n",
       "      <th>f16</th>\n",
       "      <th>f17</th>\n",
       "      <th>f18</th>\n",
       "      <th>f19</th>\n",
       "      <th>f2</th>\n",
       "      <th>f3</th>\n",
       "      <th>f4</th>\n",
       "      <th>f5</th>\n",
       "      <th>f6</th>\n",
       "      <th>f7</th>\n",
       "      <th>f8</th>\n",
       "      <th>f9</th>\n",
       "    </tr>\n",
       "  </thead>\n",
       "  <tbody>\n",
       "    <tr>\n",
       "      <th>0.5</th>\n",
       "      <td>5.297305</td>\n",
       "      <td>10.027504</td>\n",
       "      <td>1.012616</td>\n",
       "      <td>20.04013</td>\n",
       "      <td>7.295544</td>\n",
       "      <td>0.230164</td>\n",
       "      <td>1.333333e+09</td>\n",
       "      <td>19.206371</td>\n",
       "      <td>1.636351</td>\n",
       "      <td>38.436268</td>\n",
       "      <td>11.062473</td>\n",
       "      <td>0.126164</td>\n",
       "      <td>6.666667e+08</td>\n",
       "      <td>1.531201</td>\n",
       "      <td>39.16679</td>\n",
       "      <td>0.282599</td>\n",
       "      <td>2.794147</td>\n",
       "      <td>3.79387</td>\n",
       "      <td>0.466208</td>\n",
       "      <td>7.514758</td>\n",
       "    </tr>\n",
       "  </tbody>\n",
       "</table>\n",
       "</div>"
      ],
      "text/plain": [
       "           f0         f1       f10       f11       f12       f13  \\\n",
       "0.5  5.297305  10.027504  1.012616  20.04013  7.295544  0.230164   \n",
       "\n",
       "              f14        f15       f16        f17        f18       f19  \\\n",
       "0.5  1.333333e+09  19.206371  1.636351  38.436268  11.062473  0.126164   \n",
       "\n",
       "               f2        f3        f4        f5        f6       f7        f8  \\\n",
       "0.5  6.666667e+08  1.531201  39.16679  0.282599  2.794147  3.79387  0.466208   \n",
       "\n",
       "           f9  \n",
       "0.5  7.514758  "
      ]
     },
     "execution_count": 10,
     "metadata": {},
     "output_type": "execute_result"
    }
   ],
   "source": [
    "chained_sampler = dls.chain(result, 850, ndim)\n",
    "samples_df = dls.create_dataframe(chained_sampler, ndim)\n",
    "q = samples_df.quantile([0.5], axis=0)\n",
    "q"
   ]
  },
  {
   "cell_type": "code",
   "execution_count": 11,
   "metadata": {},
   "outputs": [],
   "source": [
    "infer = dls.get_infer_f(q, m)"
   ]
  },
  {
   "cell_type": "code",
   "execution_count": 12,
   "metadata": {},
   "outputs": [
    {
     "data": {
      "text/plain": [
       "<matplotlib.legend.Legend at 0x11bdfc3d0>"
      ]
     },
     "execution_count": 12,
     "metadata": {},
     "output_type": "execute_result"
    },
    {
     "data": {
      "image/png": "[encoded data removed]",
      "text/plain": [
       "<Figure size 432x288 with 1 Axes>"
      ]
     },
     "metadata": {
      "needs_background": "light"
     },
     "output_type": "display_data"
    }
   ],
   "source": [
    "plt.plot(d, infer, '--', label='Inferred')\n",
    "plt.plot(d, f, label='Simulated')\n",
    "plt.legend()"
   ]
  },
  {
   "cell_type": "code",
   "execution_count": 13,
   "metadata": {},
   "outputs": [
    {
     "data": {
      "text/plain": [
       "[<matplotlib.lines.Line2D at 0x11be80210>]"
      ]
     },
     "execution_count": 13,
     "metadata": {},
     "output_type": "execute_result"
    },
    {
     "data": {
      "image/png": "[encoded data removed]",
      "text/plain": [
       "<Figure size 432x288 with 1 Axes>"
      ]
     },
     "metadata": {
      "needs_background": "light"
     },
     "output_type": "display_data"
    }
   ],
   "source": [
    "plt.plot(d, f)"
   ]
  },
  {
   "cell_type": "code",
   "execution_count": null,
   "metadata": {},
   "outputs": [],
   "source": [
    "beta_post = dls.get_beta(chained_sampler, ndim)\n",
    "betaq = beta_post.quantile([0.5], axis=0)\n",
    "betaq"
   ]
  },
  {
   "cell_type": "code",
   "execution_count": null,
   "metadata": {},
   "outputs": [],
   "source": [
    "theta_infer = np.append(infer, 1.14112)\n",
    "inferg2 = dls.g2(theta_infer, d, m, gamma, time)\n",
    "\n",
    "plt.semilogx(time, inferg2, 'ro', label='Inferred')\n",
    "plt.semilogx(time, sim_data, label='simulated')\n",
    "plt.legend()"
   ]
  },
  {
   "cell_type": "code",
   "execution_count": null,
   "metadata": {},
   "outputs": [],
   "source": [
    "beta_posterior = beta_post.values.flatten()\n",
    "plt.hist(beta_posterior)"
   ]
  },
  {
   "cell_type": "code",
   "execution_count": null,
   "metadata": {},
   "outputs": [],
   "source": []
  }
 ],
 "metadata": {
  "kernelspec": {
   "display_name": "Python 2",
   "language": "python",
   "name": "python2"
  },
  "language_info": {
   "codemirror_mode": {
    "name": "ipython",
    "version": 2
   },
   "file_extension": ".py",
   "mimetype": "text/x-python",
   "name": "python",
   "nbconvert_exporter": "python",
   "pygments_lexer": "ipython2",
   "version": "2.7.16"
  }
 },
 "nbformat": 4,
 "nbformat_minor": 2
}
