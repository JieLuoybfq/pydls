{
 "cells": [
  {
   "cell_type": "code",
   "execution_count": 1,
   "metadata": {},
   "outputs": [],
   "source": [
    "import numpy as np\n",
    "import emcee\n",
    "import dlsfunctions as dls\n",
    "import matplotlib.pyplot as plt"
   ]
  },
  {
   "cell_type": "code",
   "execution_count": 19,
   "metadata": {},
   "outputs": [],
   "source": [
    "r = 2.2439608235145855e-09\n",
    "diameter = r*2 + 3e-9\n",
    "sigma = 2e-10\n",
    "\n",
    "m = 20\n",
    "c = 1\n",
    "eta = 1e-3\n",
    "n = 1.33\n",
    "angle = np.pi/2\n",
    "k_b = 1.38e-23\n",
    "t = 298.15\n",
    "lambda_0 = 638e-9\n",
    "beta = 1\n",
    "\n",
    "time_in = np.linspace(1e-4, 1e-1, 200)*0.001\n",
    "gamma = dls.calc_gamma(eta, n, angle, k_b, t, lambda_0)\n",
    "\n",
    "d = np.linspace(5e-10, 9e-9, 20)\n",
    "f_1 = dls.generate_distribution(d, diameter, sigma, c)"
   ]
  },
  {
   "cell_type": "code",
   "execution_count": 20,
   "metadata": {},
   "outputs": [
    {
     "data": {
      "text/plain": [
       "[<matplotlib.lines.Line2D at 0x11f3f7190>]"
      ]
     },
     "execution_count": 20,
     "metadata": {},
     "output_type": "execute_result"
    },
    {
     "data": {
      "image/png": "[encoded data removed]",
      "text/plain": [
       "<Figure size 432x288 with 1 Axes>"
      ]
     },
     "metadata": {
      "needs_background": "light"
     },
     "output_type": "display_data"
    }
   ],
   "source": [
    "plt.plot(d, f_1)"
   ]
  },
  {
   "cell_type": "code",
   "execution_count": 21,
   "metadata": {},
   "outputs": [],
   "source": [
    "theta_input = np.append(f_1, beta)"
   ]
  },
  {
   "cell_type": "code",
   "execution_count": 22,
   "metadata": {},
   "outputs": [
    {
     "data": {
      "text/plain": [
       "[<matplotlib.lines.Line2D at 0x11f5a7150>]"
      ]
     },
     "execution_count": 22,
     "metadata": {},
     "output_type": "execute_result"
    },
    {
     "data": {
      "image/png": "[encoded data removed]",
      "text/plain": [
       "<Figure size 432x288 with 1 Axes>"
      ]
     },
     "metadata": {
      "needs_background": "light"
     },
     "output_type": "display_data"
    }
   ],
   "source": [
    "sim_data = dls.g2(theta_input, d, m, gamma, time_in)\n",
    "plt.semilogx(time_in, sim_data)"
   ]
  },
  {
   "cell_type": "code",
   "execution_count": 23,
   "metadata": {},
   "outputs": [],
   "source": [
    "ndim = 21\n",
    "nwalkers = 100\n",
    "nsteps = 1000"
   ]
  },
  {
   "cell_type": "code",
   "execution_count": 24,
   "metadata": {},
   "outputs": [],
   "source": [
    "start_pos = [theta_input + np.absolute(1e-4*np.random.randn(ndim)) for i in range(nwalkers)]"
   ]
  },
  {
   "cell_type": "code",
   "execution_count": 25,
   "metadata": {},
   "outputs": [],
   "source": [
    "sampler = emcee.EnsembleSampler(nwalkers, ndim, dls.log_posterior, args=(d, sim_data, m, gamma, time_in))"
   ]
  },
  {
   "cell_type": "code",
   "execution_count": 26,
   "metadata": {},
   "outputs": [
    {
     "data": {
      "text/plain": [
       "array([0.336, 0.36 , 0.36 , 0.324, 0.373, 0.399, 0.377, 0.347, 0.371,\n",
       "       0.379, 0.375, 0.378, 0.353, 0.395, 0.336, 0.371, 0.357, 0.349,\n",
       "       0.361, 0.366, 0.344, 0.343, 0.381, 0.347, 0.35 , 0.355, 0.339,\n",
       "       0.377, 0.352, 0.349, 0.369, 0.33 , 0.355, 0.364, 0.385, 0.374,\n",
       "       0.352, 0.327, 0.364, 0.363, 0.326, 0.345, 0.356, 0.355, 0.362,\n",
       "       0.347, 0.363, 0.324, 0.386, 0.382, 0.361, 0.365, 0.37 , 0.364,\n",
       "       0.35 , 0.362, 0.36 , 0.354, 0.338, 0.348, 0.374, 0.345, 0.394,\n",
       "       0.352, 0.33 , 0.363, 0.374, 0.373, 0.383, 0.384, 0.349, 0.354,\n",
       "       0.392, 0.376, 0.381, 0.364, 0.385, 0.355, 0.39 , 0.336, 0.358,\n",
       "       0.344, 0.381, 0.366, 0.327, 0.38 , 0.346, 0.332, 0.395, 0.359,\n",
       "       0.388, 0.368, 0.349, 0.365, 0.389, 0.352, 0.368, 0.357, 0.339,\n",
       "       0.35 ])"
      ]
     },
     "execution_count": 26,
     "metadata": {},
     "output_type": "execute_result"
    }
   ],
   "source": [
    "result = sampler.run_mcmc(start_pos, nsteps)\n",
    "sampler.acceptance_fraction"
   ]
  },
  {
   "cell_type": "code",
   "execution_count": 27,
   "metadata": {},
   "outputs": [],
   "source": [
    "import pandas as pd\n",
    "import seaborn as sns"
   ]
  },
  {
   "cell_type": "code",
   "execution_count": 28,
   "metadata": {},
   "outputs": [],
   "source": [
    "samples = sampler.chain[:,800:,:]\n",
    "\n",
    "# reshape the samples into a 1D array where the colums are the f(d) values\n",
    "traces = samples.reshape(-1, ndim).T\n",
    "\n",
    "parameter_samples = pd.DataFrame({'f(d0)': traces[0], 'f(d1)': traces[1], 'f(d2)': traces[2], 'f(d3)': traces[3], 'f(d4)': traces[4], 'f(d5)': traces[5], 'f(d6)': traces[6], 'f(d7)': traces[7], 'f(d8)': traces[8], 'f(d9)': traces[9], 'f(d10)': traces[10], 'f(d11)': traces[11], 'f(d12)': traces[12], 'f(d13)': traces[13], 'f(d14)': traces[14], 'f(d15)': traces[15], 'f(d16)': traces[16], 'f(d17)': traces[17], 'f(d18)': traces[18], 'f(d19)': traces[19]})\n",
    "\n",
    "# calculate the MAP and values using pandas\n",
    "q = parameter_samples.quantile([0.5], axis=0)"
   ]
  },
  {
   "cell_type": "code",
   "execution_count": 29,
   "metadata": {},
   "outputs": [
    {
     "data": {
      "text/html": [
       "<div>\n",
       "<style scoped>\n",
       "    .dataframe tbody tr th:only-of-type {\n",
       "        vertical-align: middle;\n",
       "    }\n",
       "\n",
       "    .dataframe tbody tr th {\n",
       "        vertical-align: top;\n",
       "    }\n",
       "\n",
       "    .dataframe thead th {\n",
       "        text-align: right;\n",
       "    }\n",
       "</style>\n",
       "<table border=\"1\" class=\"dataframe\">\n",
       "  <thead>\n",
       "    <tr style=\"text-align: right;\">\n",
       "      <th></th>\n",
       "      <th>f(d0)</th>\n",
       "      <th>f(d1)</th>\n",
       "      <th>f(d10)</th>\n",
       "      <th>f(d11)</th>\n",
       "      <th>f(d12)</th>\n",
       "      <th>f(d13)</th>\n",
       "      <th>f(d14)</th>\n",
       "      <th>f(d15)</th>\n",
       "      <th>f(d16)</th>\n",
       "      <th>f(d17)</th>\n",
       "      <th>f(d18)</th>\n",
       "      <th>f(d19)</th>\n",
       "      <th>f(d2)</th>\n",
       "      <th>f(d3)</th>\n",
       "      <th>f(d4)</th>\n",
       "      <th>f(d5)</th>\n",
       "      <th>f(d6)</th>\n",
       "      <th>f(d7)</th>\n",
       "      <th>f(d8)</th>\n",
       "      <th>f(d9)</th>\n",
       "    </tr>\n",
       "  </thead>\n",
       "  <tbody>\n",
       "    <tr>\n",
       "      <th>0.5</th>\n",
       "      <td>2.166579e+07</td>\n",
       "      <td>5.500769e+06</td>\n",
       "      <td>2.054718e+06</td>\n",
       "      <td>931029.101771</td>\n",
       "      <td>1.092126e+07</td>\n",
       "      <td>1.678288e+07</td>\n",
       "      <td>961920.111857</td>\n",
       "      <td>7.917725e+08</td>\n",
       "      <td>1.424690e+09</td>\n",
       "      <td>1.148962e+07</td>\n",
       "      <td>122129.057106</td>\n",
       "      <td>4.297438e+06</td>\n",
       "      <td>5.844059e+06</td>\n",
       "      <td>1.799405e+06</td>\n",
       "      <td>5.288695e+06</td>\n",
       "      <td>1.442033e+07</td>\n",
       "      <td>6.919274e+06</td>\n",
       "      <td>7.789633e+06</td>\n",
       "      <td>7.318477e+06</td>\n",
       "      <td>1.075761e+07</td>\n",
       "    </tr>\n",
       "  </tbody>\n",
       "</table>\n",
       "</div>"
      ],
      "text/plain": [
       "            f(d0)         f(d1)        f(d10)         f(d11)        f(d12)  \\\n",
       "0.5  2.166579e+07  5.500769e+06  2.054718e+06  931029.101771  1.092126e+07   \n",
       "\n",
       "           f(d13)         f(d14)        f(d15)        f(d16)        f(d17)  \\\n",
       "0.5  1.678288e+07  961920.111857  7.917725e+08  1.424690e+09  1.148962e+07   \n",
       "\n",
       "            f(d18)        f(d19)         f(d2)         f(d3)         f(d4)  \\\n",
       "0.5  122129.057106  4.297438e+06  5.844059e+06  1.799405e+06  5.288695e+06   \n",
       "\n",
       "            f(d5)         f(d6)         f(d7)         f(d8)         f(d9)  \n",
       "0.5  1.442033e+07  6.919274e+06  7.789633e+06  7.318477e+06  1.075761e+07  "
      ]
     },
     "execution_count": 29,
     "metadata": {},
     "output_type": "execute_result"
    }
   ],
   "source": [
    "q"
   ]
  },
  {
   "cell_type": "code",
   "execution_count": 32,
   "metadata": {},
   "outputs": [],
   "source": [
    "infer_f = np.zeros(20)\n",
    "infer_f[0] = 2.166579e+07\n",
    "infer_f[1] = 5.500769e+06\n",
    "infer_f[2] = 5.844059e+06\n",
    "infer_f[3] = 1.799405e+06\n",
    "infer_f[4] = 5.288695e+06\n",
    "infer_f[5] = 1.442033e+07\n",
    "infer_f[6] = 6.919274e+06\n",
    "infer_f[7] = 7.789633e+06\n",
    "infer_f[8] = 7.318477e+06\n",
    "infer_f[9] = 1.075761e+07\n",
    "infer_f[10] = 2.054718e+06\n",
    "infer_f[11] = 931029.101771\n",
    "infer_f[12] = 1.092126e+07\n",
    "infer_f[13] = 1.678288e+07\n",
    "infer_f[14] = 961920.111857\n",
    "infer_f[15] = 7.917725e+08\n",
    "infer_f[16] = 1.424690e+09\n",
    "infer_f[17] = 122129.057106\n",
    "infer_f[18] = 122129.057106\n",
    "infer_f[19] = 4.297438e+06\t"
   ]
  },
  {
   "cell_type": "code",
   "execution_count": 33,
   "metadata": {},
   "outputs": [
    {
     "data": {
      "text/plain": [
       "[<matplotlib.lines.Line2D at 0x120bcaa90>]"
      ]
     },
     "execution_count": 33,
     "metadata": {},
     "output_type": "execute_result"
    },
    {
     "data": {
      "image/png": "[encoded data removed]",
      "text/plain": [
       "<Figure size 432x288 with 1 Axes>"
      ]
     },
     "metadata": {
      "needs_background": "light"
     },
     "output_type": "display_data"
    }
   ],
   "source": [
    "plt.plot(d, infer_f)"
   ]
  },
  {
   "cell_type": "code",
   "execution_count": 30,
   "metadata": {},
   "outputs": [],
   "source": [
    "from_df = q.values"
   ]
  },
  {
   "cell_type": "code",
   "execution_count": 31,
   "metadata": {},
   "outputs": [
    {
     "data": {
      "text/plain": [
       "[<matplotlib.lines.Line2D at 0x120b65050>]"
      ]
     },
     "execution_count": 31,
     "metadata": {},
     "output_type": "execute_result"
    },
    {
     "data": {
      "image/png": "[encoded data removed]",
      "text/plain": [
       "<Figure size 432x288 with 1 Axes>"
      ]
     },
     "metadata": {
      "needs_background": "light"
     },
     "output_type": "display_data"
    }
   ],
   "source": [
    "plt.plot(d, from_df[0])"
   ]
  },
  {
   "cell_type": "code",
   "execution_count": null,
   "metadata": {},
   "outputs": [],
   "source": []
  }
 ],
 "metadata": {
  "kernelspec": {
   "display_name": "Python 2",
   "language": "python",
   "name": "python2"
  },
  "language_info": {
   "codemirror_mode": {
    "name": "ipython",
    "version": 2
   },
   "file_extension": ".py",
   "mimetype": "text/x-python",
   "name": "python",
   "nbconvert_exporter": "python",
   "pygments_lexer": "ipython2",
   "version": "2.7.16"
  }
 },
 "nbformat": 4,
 "nbformat_minor": 2
}
