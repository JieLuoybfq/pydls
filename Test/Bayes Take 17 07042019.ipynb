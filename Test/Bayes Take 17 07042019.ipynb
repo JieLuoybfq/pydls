{
 "cells": [
  {
   "cell_type": "code",
   "execution_count": 1,
   "metadata": {},
   "outputs": [],
   "source": [
    "import numpy as np\n",
    "import emcee\n",
    "import dlsfunctions as dls\n",
    "import matplotlib.pyplot as plt\n",
    "import seaborn as sns\n",
    "import pandas as pd"
   ]
  },
  {
   "cell_type": "code",
   "execution_count": 30,
   "metadata": {},
   "outputs": [],
   "source": [
    "r = 2.24e-09\n",
    "diameter = r * 2\n",
    "sigma = 1e-10\n",
    "\n",
    "m = 20\n",
    "c = 1\n",
    "eta = 1e-3\n",
    "n = 1.33 \n",
    "theta = np.pi/2\n",
    "k_b = 1.38e-23\n",
    "t = 298.15\n",
    "lambda_0 = 638e-9\n",
    "beta = 1\n",
    "\n",
    "time_in = np.linspace(1e-4, 1e-1, 200)*0.001\n",
    "gamma = dls.calc_gamma(m, c, eta, n, theta, k_b, t, lambda_0)\n",
    "\n",
    "d = np.linspace(9e-10, 7e-9, 20)\n",
    "f_1 = dls.generate_distribution(d, diameter, sigma, c)"
   ]
  },
  {
   "cell_type": "code",
   "execution_count": 31,
   "metadata": {},
   "outputs": [
    {
     "data": {
      "text/plain": [
       "[<matplotlib.lines.Line2D at 0x12ba5e350>]"
      ]
     },
     "execution_count": 31,
     "metadata": {},
     "output_type": "execute_result"
    },
    {
     "data": {
      "image/png": "[encoded data removed]",
      "text/plain": [
       "<Figure size 432x288 with 1 Axes>"
      ]
     },
     "metadata": {
      "needs_background": "light"
     },
     "output_type": "display_data"
    }
   ],
   "source": [
    "plt.plot(d, f_1)"
   ]
  },
  {
   "cell_type": "code",
   "execution_count": 32,
   "metadata": {},
   "outputs": [],
   "source": [
    "theta_input = np.append(f_1, beta)"
   ]
  },
  {
   "cell_type": "code",
   "execution_count": 33,
   "metadata": {},
   "outputs": [
    {
     "data": {
      "text/plain": [
       "[<matplotlib.lines.Line2D at 0x12b9c01d0>]"
      ]
     },
     "execution_count": 33,
     "metadata": {},
     "output_type": "execute_result"
    },
    {
     "data": {
      "image/png": "[encoded data removed]",
      "text/plain": [
       "<Figure size 432x288 with 1 Axes>"
      ]
     },
     "metadata": {
      "needs_background": "light"
     },
     "output_type": "display_data"
    }
   ],
   "source": [
    "sim_data = dls.g2(theta_input, d, m, gamma, time_in)\n",
    "plt.semilogx(time_in, sim_data)"
   ]
  },
  {
   "cell_type": "code",
   "execution_count": 34,
   "metadata": {},
   "outputs": [],
   "source": [
    "ndim = 21\n",
    "nwalkers = 100\n",
    "nsteps = 3000"
   ]
  },
  {
   "cell_type": "code",
   "execution_count": 35,
   "metadata": {},
   "outputs": [],
   "source": [
    "start_pos = dls.create_start_pos(theta_input, ndim, nwalkers)"
   ]
  },
  {
   "cell_type": "code",
   "execution_count": 36,
   "metadata": {},
   "outputs": [
    {
     "data": {
      "text/plain": [
       "[array([1.51297429e-04, 1.02097692e-06, 1.96315239e-05, 5.82058579e-05,\n",
       "        1.21066742e-04, 1.30426172e-05, 2.91635335e-05, 1.12444515e-04,\n",
       "        1.33386641e-04, 1.50734204e-01, 3.69665547e+06, 3.02824563e+09,\n",
       "        8.28117332e+07, 7.55983148e+01, 9.98374909e-05, 4.00636826e-05,\n",
       "        2.97325577e-04, 6.26329684e-05, 5.02446122e-05, 6.97059449e-06,\n",
       "        1.00009466e+00]),\n",
       " array([1.14952894e-04, 1.73072294e-04, 1.86132440e-05, 5.70202996e-05,\n",
       "        3.66955532e-06, 6.86061039e-05, 1.07841174e-04, 3.72752043e-05,\n",
       "        7.49584376e-06, 1.50657718e-01, 3.69665547e+06, 3.02824563e+09,\n",
       "        8.28117332e+07, 7.55983053e+01, 1.07153049e-04, 1.74018627e-04,\n",
       "        1.77110274e-04, 5.85525846e-05, 8.03102010e-05, 1.40699987e-04,\n",
       "        1.00002480e+00]),\n",
       " array([5.47918487e-05, 1.58880051e-04, 4.23398737e-06, 1.77019923e-05,\n",
       "        7.79038745e-05, 1.00647092e-04, 9.58137213e-05, 1.54354395e-04,\n",
       "        1.49629750e-04, 1.50776474e-01, 3.69665547e+06, 3.02824563e+09,\n",
       "        8.28117332e+07, 7.55981839e+01, 3.44048516e-05, 7.23196887e-05,\n",
       "        1.07337866e-04, 1.94188732e-04, 8.02045966e-05, 4.04653144e-06,\n",
       "        1.00016282e+00]),\n",
       " array([4.87719885e-05, 8.85490531e-05, 1.09882773e-04, 3.04653562e-05,\n",
       "        1.30047828e-04, 6.03356118e-06, 3.09108861e-04, 9.67191546e-05,\n",
       "        4.39391347e-05, 1.50661309e-01, 3.69665547e+06, 3.02824563e+09,\n",
       "        8.28117332e+07, 7.55982718e+01, 8.53142914e-05, 1.21449932e-04,\n",
       "        1.12278170e-04, 1.63904526e-04, 3.95504280e-05, 3.12518332e-04,\n",
       "        1.00011103e+00]),\n",
       " array([1.21721081e-04, 1.45930288e-05, 1.61087753e-04, 3.33057635e-05,\n",
       "        2.08577794e-06, 6.19610530e-05, 2.41953737e-04, 1.09197584e-04,\n",
       "        8.31438942e-05, 1.50692207e-01, 3.69665547e+06, 3.02824563e+09,\n",
       "        8.28117332e+07, 7.55982173e+01, 5.81043301e-05, 1.92166847e-04,\n",
       "        2.38607715e-04, 4.44559977e-05, 2.16931120e-04, 9.80958300e-05,\n",
       "        1.00006277e+00]),\n",
       " array([7.69728031e-05, 1.34911400e-05, 1.02311210e-05, 2.35727668e-04,\n",
       "        1.03158320e-04, 3.39666798e-06, 7.21577524e-06, 9.23251804e-05,\n",
       "        7.82651124e-05, 1.50740187e-01, 3.69665547e+06, 3.02824563e+09,\n",
       "        8.28117332e+07, 7.55982775e+01, 1.49785200e-04, 7.04097528e-05,\n",
       "        6.80263557e-05, 2.56998111e-06, 1.67651303e-04, 8.94080414e-05,\n",
       "        1.00007182e+00]),\n",
       " array([2.05850571e-05, 1.19066933e-04, 6.45605572e-05, 2.83354862e-05,\n",
       "        6.63922605e-05, 7.25860258e-05, 1.85944068e-06, 6.03195680e-05,\n",
       "        6.49036353e-06, 1.50677346e-01, 3.69665547e+06, 3.02824563e+09,\n",
       "        8.28117332e+07, 7.55982509e+01, 2.12935705e-04, 3.92803976e-05,\n",
       "        2.30218863e-05, 8.26774521e-05, 7.84925367e-05, 1.12745232e-04,\n",
       "        1.00005784e+00]),\n",
       " array([1.52875972e-04, 1.19145614e-05, 3.70335922e-06, 3.20131077e-05,\n",
       "        4.63311854e-05, 1.29547465e-05, 1.29068478e-04, 1.00859185e-04,\n",
       "        4.84900394e-05, 1.50948027e-01, 3.69665547e+06, 3.02824563e+09,\n",
       "        8.28117332e+07, 7.55982575e+01, 3.17777804e-05, 2.33004592e-05,\n",
       "        1.62625591e-04, 6.92336884e-05, 6.21140362e-05, 1.05171904e-04,\n",
       "        1.00006820e+00]),\n",
       " array([1.68935153e-04, 1.07601674e-05, 1.12441929e-04, 2.15503496e-04,\n",
       "        1.27916995e-05, 5.35585471e-05, 1.87288757e-04, 1.70382414e-04,\n",
       "        3.42819441e-04, 1.50660945e-01, 3.69665547e+06, 3.02824563e+09,\n",
       "        8.28117332e+07, 7.55981892e+01, 6.55556942e-05, 3.21424321e-05,\n",
       "        1.77815153e-04, 6.67068008e-05, 1.33234561e-04, 1.58294002e-04,\n",
       "        1.00002151e+00]),\n",
       " array([4.29814316e-05, 7.60816131e-05, 9.02488910e-05, 1.00377181e-04,\n",
       "        1.54455419e-06, 1.04816687e-04, 1.02214821e-04, 9.13799124e-05,\n",
       "        1.81752059e-04, 1.50651005e-01, 3.69665547e+06, 3.02824563e+09,\n",
       "        8.28117332e+07, 7.55982770e+01, 1.50329338e-04, 1.05234933e-05,\n",
       "        5.43713504e-06, 1.00389761e-04, 2.67430530e-04, 3.21968146e-05,\n",
       "        1.00006813e+00]),\n",
       " array([4.09424827e-05, 1.15735387e-04, 8.21938140e-05, 4.13752232e-05,\n",
       "        9.87915302e-05, 4.50768059e-05, 8.02761903e-05, 1.20770021e-04,\n",
       "        5.29164987e-05, 1.50656337e-01, 3.69665547e+06, 3.02824563e+09,\n",
       "        8.28117332e+07, 7.55981827e+01, 8.05634095e-05, 8.84018845e-05,\n",
       "        1.28311529e-04, 1.04189041e-05, 9.40230961e-05, 8.90299169e-06,\n",
       "        1.00005862e+00]),\n",
       " array([1.66687182e-04, 7.61044256e-05, 1.65052210e-04, 9.46003787e-05,\n",
       "        6.50957707e-05, 9.49097813e-05, 8.12991730e-05, 2.41509622e-05,\n",
       "        8.53578886e-05, 1.50790902e-01, 3.69665547e+06, 3.02824563e+09,\n",
       "        8.28117332e+07, 7.55982307e+01, 1.52146450e-05, 1.98455055e-04,\n",
       "        1.09483449e-04, 3.17940327e-05, 6.04691498e-05, 1.34737499e-06,\n",
       "        1.00002591e+00]),\n",
       " array([1.35824323e-04, 5.46877791e-06, 1.04840840e-04, 2.80951566e-05,\n",
       "        1.36937972e-06, 2.93132585e-05, 2.70738328e-05, 1.10273039e-04,\n",
       "        5.80588238e-06, 1.50811874e-01, 3.69665547e+06, 3.02824563e+09,\n",
       "        8.28117332e+07, 7.55981802e+01, 5.36489372e-05, 1.58569859e-04,\n",
       "        1.77537502e-04, 2.63808258e-05, 4.89540075e-05, 1.79206749e-04,\n",
       "        1.00010659e+00]),\n",
       " array([2.14514197e-05, 1.93778041e-04, 1.91394229e-05, 1.01076804e-04,\n",
       "        1.42671714e-04, 7.04491384e-05, 1.28778310e-05, 7.17762554e-05,\n",
       "        1.32591111e-04, 1.50691538e-01, 3.69665547e+06, 3.02824563e+09,\n",
       "        8.28117332e+07, 7.55981760e+01, 1.79382657e-04, 2.00602560e-04,\n",
       "        1.13262740e-04, 5.56979707e-05, 9.70447472e-05, 1.16523914e-05,\n",
       "        1.00007533e+00]),\n",
       " array([1.05981433e-04, 1.26221386e-04, 2.47416317e-05, 2.05802599e-04,\n",
       "        8.24777094e-05, 5.14908744e-05, 1.12093216e-04, 1.66490519e-05,\n",
       "        2.27116803e-05, 1.50646768e-01, 3.69665547e+06, 3.02824563e+09,\n",
       "        8.28117332e+07, 7.55982637e+01, 1.49568479e-04, 2.07283806e-05,\n",
       "        1.02186160e-05, 5.07502362e-05, 1.94896339e-06, 8.20036655e-05,\n",
       "        1.00000313e+00]),\n",
       " array([4.78557678e-05, 1.01380479e-04, 2.57065995e-05, 2.89457131e-05,\n",
       "        8.86436894e-05, 4.99303072e-05, 7.63544458e-05, 7.83852713e-05,\n",
       "        9.36878306e-05, 1.50760265e-01, 3.69665547e+06, 3.02824563e+09,\n",
       "        8.28117332e+07, 7.55982239e+01, 5.07353894e-05, 1.27868884e-04,\n",
       "        1.47310756e-04, 4.37998210e-05, 2.83626251e-06, 1.91183538e-04,\n",
       "        1.00001326e+00]),\n",
       " array([1.50862224e-04, 2.32785982e-04, 2.15203625e-04, 6.17413320e-06,\n",
       "        5.81675594e-05, 1.11032904e-04, 2.45579501e-05, 4.36085892e-06,\n",
       "        1.24682193e-04, 1.50778504e-01, 3.69665547e+06, 3.02824563e+09,\n",
       "        8.28117332e+07, 7.55982681e+01, 4.24123758e-05, 1.09232105e-05,\n",
       "        1.66971869e-06, 1.45149234e-06, 3.35495237e-05, 7.37646529e-06,\n",
       "        1.00015337e+00]),\n",
       " array([1.69716202e-05, 6.12335050e-05, 5.93063972e-05, 9.29326003e-05,\n",
       "        8.80905059e-05, 7.20825643e-05, 6.82595049e-05, 8.11678630e-05,\n",
       "        5.79374487e-05, 1.50647892e-01, 3.69665547e+06, 3.02824563e+09,\n",
       "        8.28117332e+07, 7.55984161e+01, 1.66621779e-04, 6.17839738e-05,\n",
       "        9.47631768e-06, 1.72048490e-04, 1.30979488e-04, 8.70748962e-05,\n",
       "        1.00013052e+00]),\n",
       " array([1.30153972e-04, 5.11325731e-05, 1.01567766e-05, 1.43601065e-04,\n",
       "        2.97140375e-05, 2.44518381e-05, 1.50210415e-04, 4.86592621e-05,\n",
       "        1.78432139e-05, 1.50702247e-01, 3.69665547e+06, 3.02824563e+09,\n",
       "        8.28117332e+07, 7.55982029e+01, 8.37284184e-05, 6.79299179e-05,\n",
       "        7.62026471e-05, 6.70514510e-05, 1.18389908e-04, 7.09505978e-05,\n",
       "        1.00001484e+00]),\n",
       " array([3.10993182e-05, 5.63634896e-05, 1.15894305e-04, 4.23733324e-05,\n",
       "        1.11527013e-05, 7.31603452e-06, 6.50476087e-05, 7.71839109e-05,\n",
       "        2.36790530e-05, 1.50704524e-01, 3.69665547e+06, 3.02824563e+09,\n",
       "        8.28117332e+07, 7.55982235e+01, 2.78350953e-05, 5.32913995e-05,\n",
       "        1.10767829e-04, 9.29163029e-05, 6.92736500e-05, 8.11226180e-05,\n",
       "        1.00014155e+00]),\n",
       " array([1.12546664e-04, 6.65856274e-05, 1.53699262e-04, 1.62791875e-05,\n",
       "        3.48603425e-05, 1.14817062e-05, 6.15127325e-06, 1.90821348e-04,\n",
       "        1.64567023e-04, 1.50826446e-01, 3.69665547e+06, 3.02824563e+09,\n",
       "        8.28117332e+07, 7.55982841e+01, 7.47741506e-06, 7.39310618e-05,\n",
       "        2.59446941e-06, 5.96941589e-05, 9.41246129e-05, 6.56702212e-05,\n",
       "        1.00000967e+00]),\n",
       " array([5.42733828e-05, 4.52129883e-05, 4.10622543e-06, 2.37282175e-04,\n",
       "        2.56791368e-04, 4.13542147e-05, 2.08995587e-04, 2.44161042e-05,\n",
       "        7.94769401e-05, 1.50696549e-01, 3.69665547e+06, 3.02824563e+09,\n",
       "        8.28117332e+07, 7.55982868e+01, 1.58986011e-04, 8.47470183e-05,\n",
       "        3.46166232e-05, 4.37914516e-05, 1.79311507e-05, 1.77880657e-04,\n",
       "        1.00000004e+00]),\n",
       " array([4.59233232e-05, 1.23046070e-05, 2.05540362e-04, 2.08613515e-05,\n",
       "        5.97598653e-05, 1.09572657e-04, 8.99654143e-05, 4.09186923e-05,\n",
       "        3.89051600e-05, 1.50668184e-01, 3.69665547e+06, 3.02824563e+09,\n",
       "        8.28117332e+07, 7.55983404e+01, 1.39502983e-04, 1.04024977e-04,\n",
       "        9.60094695e-05, 1.29325629e-04, 1.44836309e-04, 4.53195013e-05,\n",
       "        1.00006547e+00]),\n",
       " array([3.07069568e-04, 1.65227114e-05, 1.01103039e-04, 1.23382797e-05,\n",
       "        1.09399673e-04, 1.53241178e-04, 9.84040276e-05, 7.47975107e-05,\n",
       "        4.03838426e-07, 1.50805315e-01, 3.69665547e+06, 3.02824563e+09,\n",
       "        8.28117332e+07, 7.55982029e+01, 1.85256365e-05, 3.86820198e-05,\n",
       "        3.35886642e-06, 1.30688432e-04, 7.80694629e-05, 2.32723352e-05,\n",
       "        1.00013073e+00]),\n",
       " array([2.15659958e-04, 1.47845378e-05, 1.17657439e-04, 1.69162842e-05,\n",
       "        1.82794776e-06, 8.08260124e-06, 7.22877016e-06, 8.21308145e-05,\n",
       "        1.32183609e-04, 1.50694597e-01, 3.69665547e+06, 3.02824563e+09,\n",
       "        8.28117332e+07, 7.55982001e+01, 1.01941361e-04, 1.77212634e-04,\n",
       "        1.13124975e-04, 1.33491497e-04, 1.62414763e-05, 3.04067253e-05,\n",
       "        1.00001839e+00]),\n",
       " array([7.33038005e-05, 1.34441205e-04, 1.62042559e-05, 3.97058247e-05,\n",
       "        3.89798430e-05, 2.75022907e-05, 3.69700996e-05, 8.66600126e-06,\n",
       "        1.11412433e-04, 1.50666554e-01, 3.69665547e+06, 3.02824563e+09,\n",
       "        8.28117332e+07, 7.55983083e+01, 1.78186820e-04, 1.29611918e-05,\n",
       "        5.40261676e-05, 1.04224540e-04, 1.13987584e-04, 1.15024099e-05,\n",
       "        1.00014740e+00]),\n",
       " array([1.53916562e-05, 8.03878848e-05, 9.72835906e-05, 1.33603287e-04,\n",
       "        1.19331353e-04, 7.46325692e-05, 2.51319570e-04, 2.32849628e-06,\n",
       "        1.50585974e-05, 1.50714131e-01, 3.69665547e+06, 3.02824563e+09,\n",
       "        8.28117332e+07, 7.55982050e+01, 2.54007735e-04, 1.89464335e-04,\n",
       "        2.26235256e-04, 1.18860234e-04, 6.38472793e-06, 5.91072652e-05,\n",
       "        1.00006498e+00]),\n",
       " array([6.69952652e-05, 1.66148513e-04, 1.37066162e-04, 1.30233238e-04,\n",
       "        7.62639917e-06, 2.99008891e-05, 9.48966942e-05, 7.20661531e-05,\n",
       "        7.59234435e-06, 1.50673287e-01, 3.69665547e+06, 3.02824563e+09,\n",
       "        8.28117332e+07, 7.55981827e+01, 1.11173583e-04, 1.33057357e-04,\n",
       "        1.90999343e-04, 1.99576187e-04, 1.64816450e-04, 8.55670348e-05,\n",
       "        1.00005499e+00]),\n",
       " array([1.39263454e-04, 7.87206314e-05, 1.61846998e-04, 9.21163917e-07,\n",
       "        7.05338825e-05, 9.81903010e-05, 7.33287128e-05, 3.78785655e-05,\n",
       "        3.89412194e-05, 1.50655231e-01, 3.69665547e+06, 3.02824563e+09,\n",
       "        8.28117332e+07, 7.55982630e+01, 9.67049646e-06, 4.15478888e-05,\n",
       "        1.63078788e-06, 2.11347785e-05, 1.51848052e-05, 7.32520245e-05,\n",
       "        1.00013877e+00]),\n",
       " array([8.41126718e-05, 2.77760257e-05, 5.94279872e-05, 3.91270004e-05,\n",
       "        2.32769689e-05, 5.72995651e-05, 9.27688138e-05, 1.32390048e-05,\n",
       "        7.22720305e-05, 1.50647563e-01, 3.69665547e+06, 3.02824563e+09,\n",
       "        8.28117332e+07, 7.55983224e+01, 1.02845231e-04, 1.04968664e-04,\n",
       "        1.03057210e-04, 7.47384371e-05, 1.51851812e-04, 8.04105515e-05,\n",
       "        1.00015202e+00]),\n",
       " array([8.67508223e-05, 1.23250057e-05, 9.12614605e-06, 1.44644315e-05,\n",
       "        2.61782446e-04, 9.23744658e-05, 1.36879701e-04, 5.52002673e-05,\n",
       "        3.21855100e-05, 1.50845706e-01, 3.69665547e+06, 3.02824563e+09,\n",
       "        8.28117332e+07, 7.55981733e+01, 9.24754921e-05, 3.28192599e-05,\n",
       "        2.27618134e-05, 7.82413847e-05, 1.55911345e-05, 1.38800633e-04,\n",
       "        1.00015692e+00]),\n",
       " array([4.93209569e-05, 1.13872246e-04, 2.03354787e-04, 1.15361310e-04,\n",
       "        6.85953386e-05, 2.62145815e-04, 4.89740239e-05, 5.45340824e-05,\n",
       "        9.62984666e-05, 1.50719135e-01, 3.69665547e+06, 3.02824563e+09,\n",
       "        8.28117332e+07, 7.55982608e+01, 2.31139754e-06, 3.93620152e-06,\n",
       "        3.47290220e-05, 3.92857539e-05, 6.34091348e-05, 6.57266914e-05,\n",
       "        1.00015636e+00]),\n",
       " array([4.03692231e-06, 1.37526412e-04, 5.70929582e-05, 1.74303129e-05,\n",
       "        4.57833469e-05, 1.25164024e-04, 1.72954307e-04, 1.81656803e-05,\n",
       "        6.17844233e-05, 1.50669577e-01, 3.69665547e+06, 3.02824563e+09,\n",
       "        8.28117332e+07, 7.55982405e+01, 9.16829750e-05, 1.65627213e-04,\n",
       "        9.04792994e-05, 6.66980513e-05, 9.97877316e-05, 4.37082178e-05,\n",
       "        1.00006802e+00]),\n",
       " array([4.62646982e-05, 2.52662086e-05, 5.39646346e-05, 5.91134159e-05,\n",
       "        5.93386890e-05, 5.51337143e-05, 1.28583866e-04, 1.35403837e-04,\n",
       "        4.87157547e-05, 1.50686189e-01, 3.69665547e+06, 3.02824563e+09,\n",
       "        8.28117332e+07, 7.55981754e+01, 3.65729836e-05, 7.80221352e-05,\n",
       "        6.08354259e-05, 4.55831129e-05, 5.11017944e-05, 1.69814941e-04,\n",
       "        1.00013848e+00]),\n",
       " array([3.99499394e-05, 4.38713836e-05, 1.90084592e-05, 7.89807820e-06,\n",
       "        1.88785621e-04, 2.34909887e-05, 6.18360050e-05, 5.34799446e-05,\n",
       "        1.97668308e-04, 1.50646310e-01, 3.69665547e+06, 3.02824563e+09,\n",
       "        8.28117332e+07, 7.55982516e+01, 1.76668244e-04, 8.28016500e-05,\n",
       "        3.37038598e-05, 3.58185073e-05, 7.19803559e-05, 3.71027953e-05,\n",
       "        1.00009694e+00]),\n",
       " array([5.25490021e-05, 3.53224884e-05, 1.85063804e-05, 1.82059957e-04,\n",
       "        7.68847173e-05, 8.70709466e-05, 1.33333744e-04, 5.80243993e-05,\n",
       "        1.16624524e-04, 1.50648642e-01, 3.69665547e+06, 3.02824563e+09,\n",
       "        8.28117332e+07, 7.55981744e+01, 8.96036592e-05, 5.34452155e-05,\n",
       "        4.37905748e-05, 1.18658710e-04, 6.03621823e-05, 7.81670572e-05,\n",
       "        1.00015313e+00]),\n",
       " array([5.36225251e-05, 6.71450379e-05, 2.15801643e-04, 3.26607609e-06,\n",
       "        1.28310936e-05, 1.56407927e-04, 2.11770062e-05, 6.98229001e-05,\n",
       "        2.14881403e-05, 1.50927879e-01, 3.69665547e+06, 3.02824563e+09,\n",
       "        8.28117332e+07, 7.55981856e+01, 1.24819531e-04, 1.20377732e-04,\n",
       "        1.03559939e-04, 4.32064310e-05, 3.40603675e-05, 6.73259303e-06,\n",
       "        1.00000899e+00]),\n",
       " array([6.70276543e-05, 7.69464743e-06, 1.79844542e-04, 2.80183657e-05,\n",
       "        6.40927437e-05, 1.76188425e-04, 1.92257806e-04, 6.92380049e-05,\n",
       "        4.89381029e-05, 1.50748961e-01, 3.69665547e+06, 3.02824563e+09,\n",
       "        8.28117332e+07, 7.55982910e+01, 5.19070796e-05, 2.03422313e-04,\n",
       "        1.85482490e-05, 1.90500094e-05, 2.56429623e-05, 6.59010392e-05,\n",
       "        1.00004318e+00]),\n",
       " array([4.43780263e-06, 1.13055786e-04, 1.57945644e-05, 7.12139580e-05,\n",
       "        2.11824714e-05, 7.82302866e-05, 2.90720441e-05, 5.34403738e-05,\n",
       "        3.18459660e-05, 1.50786863e-01, 3.69665547e+06, 3.02824563e+09,\n",
       "        8.28117332e+07, 7.55982159e+01, 9.12548253e-06, 5.00288001e-05,\n",
       "        3.29385043e-06, 8.59739108e-06, 5.32451024e-05, 6.88665704e-05,\n",
       "        1.00006884e+00]),\n",
       " array([8.47556864e-05, 8.41549276e-05, 1.25200840e-04, 1.33029564e-04,\n",
       "        1.43013823e-05, 1.00154494e-04, 8.38317281e-05, 6.08956722e-05,\n",
       "        1.04990982e-04, 1.50673858e-01, 3.69665547e+06, 3.02824563e+09,\n",
       "        8.28117332e+07, 7.55981793e+01, 2.02462395e-04, 2.32223922e-05,\n",
       "        1.84885326e-04, 9.71980888e-06, 3.37895862e-05, 1.87258446e-04,\n",
       "        1.00005066e+00]),\n",
       " array([9.82320892e-05, 1.10042432e-04, 9.43962217e-05, 6.53711648e-05,\n",
       "        1.66517645e-04, 1.67812101e-04, 1.10784388e-04, 1.24607160e-04,\n",
       "        1.52187464e-04, 1.50670066e-01, 3.69665547e+06, 3.02824563e+09,\n",
       "        8.28117332e+07, 7.55982265e+01, 3.22576639e-05, 2.55177962e-05,\n",
       "        1.06233593e-04, 7.51180531e-05, 4.54809307e-05, 6.05453883e-05,\n",
       "        1.00007430e+00]),\n",
       " array([5.44344905e-05, 1.16401612e-05, 4.77418839e-06, 1.73981972e-05,\n",
       "        1.47853069e-04, 1.55118055e-04, 3.20835078e-05, 5.54576273e-05,\n",
       "        2.10020661e-04, 1.50776997e-01, 3.69665547e+06, 3.02824563e+09,\n",
       "        8.28117332e+07, 7.55983521e+01, 5.87793678e-05, 9.74126788e-05,\n",
       "        1.06335647e-05, 9.09502925e-05, 1.46707624e-04, 1.77768296e-04,\n",
       "        1.00008456e+00]),\n",
       " array([1.29612564e-04, 2.59648670e-06, 1.66697763e-05, 3.05434587e-05,\n",
       "        6.45430596e-05, 6.27824344e-05, 7.52609353e-05, 8.32787575e-06,\n",
       "        6.72738647e-05, 1.50666914e-01, 3.69665547e+06, 3.02824563e+09,\n",
       "        8.28117332e+07, 7.55982280e+01, 4.03250166e-05, 2.86077207e-05,\n",
       "        1.51356319e-04, 2.90319472e-05, 1.44982319e-05, 2.25827344e-05,\n",
       "        1.00009222e+00]),\n",
       " array([1.35812091e-04, 1.47979321e-04, 1.25484344e-05, 4.46821682e-05,\n",
       "        9.94821210e-05, 3.58643915e-05, 2.40750509e-05, 6.74259180e-05,\n",
       "        1.57686253e-05, 1.50766636e-01, 3.69665547e+06, 3.02824563e+09,\n",
       "        8.28117332e+07, 7.55982414e+01, 4.80380355e-05, 1.06827589e-05,\n",
       "        5.59950516e-05, 6.84717060e-05, 6.91828251e-05, 3.51196208e-05,\n",
       "        1.00000908e+00]),\n",
       " array([1.00759747e-04, 2.20114057e-04, 1.25157072e-04, 1.33289978e-04,\n",
       "        2.30313563e-05, 2.25820245e-06, 1.24331891e-04, 6.57324726e-05,\n",
       "        2.21673551e-05, 1.50682767e-01, 3.69665547e+06, 3.02824563e+09,\n",
       "        8.28117332e+07, 7.55982102e+01, 8.83511381e-05, 1.70469791e-04,\n",
       "        2.16046576e-04, 1.31573769e-05, 1.20689794e-04, 1.41907999e-04,\n",
       "        1.00004494e+00]),\n",
       " array([6.28968275e-05, 7.30945302e-05, 9.55976866e-06, 3.79639757e-05,\n",
       "        2.91319126e-04, 2.28333153e-05, 6.77283586e-05, 2.64670316e-05,\n",
       "        1.63067256e-05, 1.50773134e-01, 3.69665547e+06, 3.02824563e+09,\n",
       "        8.28117332e+07, 7.55982101e+01, 2.20053746e-04, 1.11674034e-04,\n",
       "        8.35612599e-05, 8.90175848e-05, 1.48780732e-04, 2.90597781e-06,\n",
       "        1.00007023e+00]),\n",
       " array([4.24712279e-05, 5.51230604e-05, 3.35029587e-05, 9.41883536e-05,\n",
       "        9.70126941e-06, 3.64109040e-05, 1.02485061e-04, 1.29902936e-04,\n",
       "        5.94256477e-05, 1.50789268e-01, 3.69665547e+06, 3.02824563e+09,\n",
       "        8.28117332e+07, 7.55982470e+01, 6.46946176e-05, 3.26201545e-05,\n",
       "        2.38766370e-05, 1.41560406e-04, 1.04096582e-04, 1.16041692e-04,\n",
       "        1.00007401e+00]),\n",
       " array([4.98086205e-05, 6.27524643e-05, 7.21090462e-06, 9.76940720e-05,\n",
       "        7.35552628e-05, 2.90118336e-05, 4.58847454e-05, 1.00973705e-04,\n",
       "        1.74574723e-05, 1.50679983e-01, 3.69665547e+06, 3.02824563e+09,\n",
       "        8.28117332e+07, 7.55981903e+01, 8.92271486e-05, 8.38509984e-05,\n",
       "        9.40456443e-05, 1.53487743e-05, 1.80627476e-04, 5.13147236e-05,\n",
       "        1.00010881e+00]),\n",
       " array([6.02690442e-06, 8.58140540e-05, 4.95220814e-05, 3.46121670e-05,\n",
       "        1.99510406e-04, 5.18731141e-05, 2.21943775e-05, 1.53539667e-04,\n",
       "        4.60322259e-05, 1.50643103e-01, 3.69665547e+06, 3.02824563e+09,\n",
       "        8.28117332e+07, 7.55982085e+01, 1.58205086e-04, 7.12161352e-05,\n",
       "        1.14795827e-04, 1.56529980e-04, 7.37813362e-05, 1.44709167e-04,\n",
       "        1.00012892e+00]),\n",
       " array([1.12151470e-04, 5.93077815e-05, 2.71233761e-05, 9.86252167e-05,\n",
       "        1.78326297e-04, 1.05134226e-05, 6.80138034e-05, 1.02470757e-05,\n",
       "        6.91679231e-06, 1.50804110e-01, 3.69665547e+06, 3.02824563e+09,\n",
       "        8.28117332e+07, 7.55982964e+01, 2.42130248e-04, 1.22701398e-04,\n",
       "        3.50974716e-05, 1.37467353e-04, 5.48245804e-05, 1.31995897e-04,\n",
       "        1.00004989e+00]),\n",
       " array([1.22440331e-04, 4.07448841e-05, 1.55812141e-04, 5.60162789e-05,\n",
       "        4.17075872e-05, 1.53697939e-04, 7.69417574e-05, 1.51464155e-04,\n",
       "        4.65389313e-05, 1.50665491e-01, 3.69665547e+06, 3.02824563e+09,\n",
       "        8.28117332e+07, 7.55982884e+01, 3.36237459e-05, 2.98620195e-05,\n",
       "        1.38262044e-04, 1.14147818e-04, 9.32754536e-05, 8.08515588e-05,\n",
       "        1.00009423e+00]),\n",
       " array([6.93650025e-05, 1.78643196e-04, 2.32614652e-05, 7.41860562e-05,\n",
       "        9.96904452e-05, 2.76067340e-05, 3.52335145e-05, 1.53138116e-04,\n",
       "        5.63884787e-05, 1.50663274e-01, 3.69665547e+06, 3.02824563e+09,\n",
       "        8.28117332e+07, 7.55982657e+01, 9.76012084e-05, 4.65131874e-05,\n",
       "        6.66436162e-05, 1.12518630e-04, 8.54382787e-05, 7.97091255e-05,\n",
       "        1.00001174e+00]),\n",
       " array([6.40462035e-05, 1.99404902e-04, 1.04501316e-04, 7.77682220e-05,\n",
       "        1.45679908e-04, 1.57040410e-04, 3.02024682e-05, 3.77050875e-05,\n",
       "        2.88260771e-05, 1.50662752e-01, 3.69665547e+06, 3.02824563e+09,\n",
       "        8.28117332e+07, 7.55982313e+01, 4.53812675e-05, 8.49003066e-05,\n",
       "        1.88305745e-05, 9.96309943e-05, 3.65222996e-05, 5.21429091e-05,\n",
       "        1.00000451e+00]),\n",
       " array([3.16996348e-05, 3.29812960e-05, 1.87913632e-04, 7.88720162e-06,\n",
       "        7.21027736e-05, 3.79426419e-06, 9.57132136e-05, 1.04805613e-04,\n",
       "        3.80526304e-05, 1.50648293e-01, 3.69665547e+06, 3.02824563e+09,\n",
       "        8.28117332e+07, 7.55982766e+01, 8.70326555e-05, 1.29354568e-05,\n",
       "        1.06459093e-05, 1.19863887e-05, 1.34390517e-05, 1.97448596e-05,\n",
       "        1.00023255e+00]),\n",
       " array([1.41168310e-04, 3.96430716e-05, 7.62962375e-05, 6.84224011e-05,\n",
       "        4.36401628e-05, 1.97253619e-04, 4.24274049e-05, 1.20702756e-04,\n",
       "        5.40660380e-05, 1.50726705e-01, 3.69665547e+06, 3.02824563e+09,\n",
       "        8.28117332e+07, 7.55982297e+01, 2.02518551e-06, 1.04829060e-04,\n",
       "        2.33046103e-04, 3.85374677e-05, 8.49462129e-05, 1.59012373e-04,\n",
       "        1.00007541e+00]),\n",
       " array([3.63341614e-05, 1.35201674e-04, 6.55653987e-05, 1.68425790e-05,\n",
       "        1.34870196e-04, 5.37748599e-05, 1.93230637e-04, 1.33208461e-04,\n",
       "        6.61873163e-06, 1.50776426e-01, 3.69665547e+06, 3.02824563e+09,\n",
       "        8.28117332e+07, 7.55981941e+01, 8.24551816e-05, 1.05932622e-04,\n",
       "        4.29179134e-05, 4.80120682e-06, 3.32173535e-05, 7.67441624e-05,\n",
       "        1.00007644e+00]),\n",
       " array([7.24207574e-05, 1.50663204e-06, 1.53954618e-05, 1.62271694e-04,\n",
       "        1.47177890e-04, 1.08196797e-04, 1.56910844e-04, 1.01914227e-05,\n",
       "        1.04280849e-04, 1.50661371e-01, 3.69665547e+06, 3.02824563e+09,\n",
       "        8.28117332e+07, 7.55985197e+01, 1.71090008e-04, 2.71291674e-04,\n",
       "        9.46409522e-05, 6.01281318e-05, 1.24167871e-04, 1.38119059e-04,\n",
       "        1.00019597e+00]),\n",
       " array([1.05869016e-04, 3.70008771e-05, 4.85798014e-05, 1.36547007e-04,\n",
       "        8.58665896e-05, 1.35472809e-04, 7.62860834e-05, 8.76424117e-05,\n",
       "        6.55754461e-05, 1.50668716e-01, 3.69665547e+06, 3.02824563e+09,\n",
       "        8.28117332e+07, 7.55982541e+01, 3.41632895e-05, 5.01817304e-06,\n",
       "        1.45373363e-05, 1.16488724e-04, 1.57259722e-04, 9.88510390e-06,\n",
       "        1.00017393e+00]),\n",
       " array([1.08126548e-05, 8.09044057e-05, 3.40875825e-05, 6.61833066e-05,\n",
       "        2.13271565e-04, 5.36345604e-05, 1.79551439e-04, 1.31722221e-04,\n",
       "        1.48871588e-05, 1.50687384e-01, 3.69665547e+06, 3.02824563e+09,\n",
       "        8.28117332e+07, 7.55982108e+01, 1.99619690e-04, 1.02050915e-04,\n",
       "        4.30903337e-06, 2.27805342e-05, 4.74267152e-06, 1.85995788e-04,\n",
       "        1.00006100e+00]),\n",
       " array([4.78232727e-06, 5.00909942e-06, 2.92336994e-04, 5.37259081e-05,\n",
       "        2.32994093e-04, 2.85767855e-05, 4.61418399e-05, 3.01777713e-05,\n",
       "        3.95312342e-05, 1.50790471e-01, 3.69665547e+06, 3.02824563e+09,\n",
       "        8.28117332e+07, 7.55982241e+01, 2.79031457e-05, 6.45846040e-05,\n",
       "        2.23447143e-04, 4.32698920e-05, 3.89281995e-05, 3.13407628e-06,\n",
       "        1.00003740e+00]),\n",
       " array([6.02125410e-05, 1.78228002e-04, 7.10894952e-05, 2.17519029e-06,\n",
       "        6.70774376e-05, 6.38199122e-05, 6.19292459e-06, 3.53918262e-06,\n",
       "        6.13573333e-05, 1.50724981e-01, 3.69665547e+06, 3.02824563e+09,\n",
       "        8.28117332e+07, 7.55982362e+01, 6.61173258e-05, 2.01964803e-05,\n",
       "        6.30092418e-05, 8.54481350e-05, 2.37905157e-05, 1.23616343e-05,\n",
       "        1.00001351e+00]),\n",
       " array([4.86654055e-05, 1.30970773e-04, 2.36321512e-04, 1.09751662e-05,\n",
       "        9.60772204e-05, 4.50050773e-05, 1.01852166e-05, 1.24780286e-04,\n",
       "        5.43477856e-05, 1.50669192e-01, 3.69665547e+06, 3.02824563e+09,\n",
       "        8.28117332e+07, 7.55983102e+01, 8.22756562e-05, 8.15857654e-05,\n",
       "        1.53685764e-04, 1.32387636e-04, 8.76911872e-06, 9.90902340e-05,\n",
       "        1.00012951e+00]),\n",
       " array([2.01402521e-05, 8.30702933e-05, 8.09300907e-05, 1.68307128e-05,\n",
       "        1.00565772e-04, 1.93904472e-04, 3.44850298e-04, 2.04777308e-05,\n",
       "        1.11312643e-04, 1.50862877e-01, 3.69665547e+06, 3.02824563e+09,\n",
       "        8.28117332e+07, 7.55981944e+01, 9.12097399e-05, 7.66127066e-05,\n",
       "        2.08384008e-04, 4.59729040e-06, 7.12480613e-05, 2.55562623e-05,\n",
       "        1.00003560e+00]),\n",
       " array([7.16471601e-06, 9.08418851e-05, 1.03669819e-04, 5.90063998e-05,\n",
       "        1.21055195e-04, 3.92914948e-05, 1.77710363e-05, 1.15199165e-04,\n",
       "        1.10253062e-04, 1.50705174e-01, 3.69665547e+06, 3.02824563e+09,\n",
       "        8.28117332e+07, 7.55981858e+01, 1.43135964e-04, 8.51120383e-05,\n",
       "        5.34824585e-05, 3.52530807e-05, 6.97836680e-05, 3.34398869e-06,\n",
       "        1.00014032e+00]),\n",
       " array([1.51797972e-05, 3.20871026e-06, 1.00383141e-04, 7.06166488e-05,\n",
       "        8.39322799e-05, 1.71666672e-04, 2.76221891e-05, 1.31610023e-04,\n",
       "        1.45482061e-04, 1.50693636e-01, 3.69665547e+06, 3.02824563e+09,\n",
       "        8.28117332e+07, 7.55982109e+01, 9.86819275e-05, 1.48024834e-04,\n",
       "        9.34468478e-05, 1.00607140e-04, 1.27793333e-05, 2.24917352e-05,\n",
       "        1.00009367e+00]),\n",
       " array([2.58973284e-05, 9.22992549e-05, 2.26455907e-05, 7.21766154e-06,\n",
       "        1.84211684e-04, 1.18635671e-04, 1.22139125e-05, 4.88301130e-05,\n",
       "        1.41622538e-04, 1.50703572e-01, 3.69665547e+06, 3.02824563e+09,\n",
       "        8.28117332e+07, 7.55981740e+01, 7.16712895e-05, 1.55609953e-05,\n",
       "        1.27558648e-04, 7.11674469e-05, 7.83363401e-05, 2.64598617e-06,\n",
       "        1.00008936e+00]),\n",
       " array([2.06889308e-04, 1.20754869e-04, 3.42623921e-06, 3.75941087e-05,\n",
       "        6.44391308e-06, 6.92352020e-05, 1.76609730e-04, 1.01934037e-04,\n",
       "        2.94913604e-05, 1.50715758e-01, 3.69665547e+06, 3.02824563e+09,\n",
       "        8.28117332e+07, 7.55981872e+01, 4.47766681e-05, 2.52600001e-05,\n",
       "        2.79293253e-05, 1.71481363e-04, 1.61116588e-04, 1.70845598e-04,\n",
       "        1.00023314e+00]),\n",
       " array([3.23418864e-05, 9.99096107e-06, 2.91874199e-05, 9.05381988e-05,\n",
       "        9.03843830e-05, 2.80688473e-05, 1.20783228e-05, 8.52107279e-05,\n",
       "        1.69645845e-04, 1.50803949e-01, 3.69665547e+06, 3.02824563e+09,\n",
       "        8.28117332e+07, 7.55981898e+01, 5.51429591e-05, 4.94246948e-05,\n",
       "        1.57170771e-04, 1.92827808e-04, 7.53413066e-05, 3.25261379e-05,\n",
       "        1.00007231e+00]),\n",
       " array([1.74940581e-04, 1.29413901e-05, 9.97556146e-05, 1.40982483e-04,\n",
       "        3.33365382e-05, 1.46339025e-04, 8.32299158e-05, 3.83017067e-05,\n",
       "        1.06084648e-04, 1.50664194e-01, 3.69665547e+06, 3.02824563e+09,\n",
       "        8.28117332e+07, 7.55982126e+01, 6.99284826e-05, 6.89402065e-05,\n",
       "        1.69175370e-04, 4.45818059e-05, 7.96591264e-05, 3.41622809e-05,\n",
       "        1.00005719e+00]),\n",
       " array([5.46300028e-06, 1.47068614e-04, 5.15333945e-05, 1.65525679e-04,\n",
       "        1.31141433e-04, 3.46907914e-06, 1.70090625e-04, 3.27052180e-05,\n",
       "        8.70388619e-06, 1.50718864e-01, 3.69665547e+06, 3.02824563e+09,\n",
       "        8.28117332e+07, 7.55981843e+01, 2.43543013e-05, 1.01044099e-04,\n",
       "        2.23630453e-04, 1.95308529e-04, 3.78661114e-05, 1.67564774e-04,\n",
       "        1.00005674e+00]),\n",
       " array([9.39428959e-05, 8.36558633e-05, 6.04921429e-05, 3.53002771e-06,\n",
       "        2.16980809e-05, 7.97901724e-05, 4.74514829e-06, 3.38175217e-05,\n",
       "        4.66960045e-05, 1.50659331e-01, 3.69665547e+06, 3.02824563e+09,\n",
       "        8.28117332e+07, 7.55981960e+01, 2.07645697e-04, 9.83205555e-05,\n",
       "        1.79287050e-05, 1.04430450e-04, 1.37051284e-04, 8.26682602e-06,\n",
       "        1.00001763e+00]),\n",
       " array([1.06619164e-04, 7.18258450e-05, 2.61642894e-05, 5.79234601e-05,\n",
       "        1.49829232e-04, 4.55816205e-05, 1.46184313e-04, 4.32694247e-05,\n",
       "        9.04690914e-06, 1.50789207e-01, 3.69665547e+06, 3.02824563e+09,\n",
       "        8.28117332e+07, 7.55982566e+01, 3.99226071e-05, 2.70905098e-05,\n",
       "        1.71259763e-04, 3.67753719e-06, 1.25768148e-04, 3.33138892e-04,\n",
       "        1.00002541e+00]),\n",
       " array([1.58473466e-04, 5.82429892e-05, 1.17667612e-04, 5.38696612e-05,\n",
       "        7.76351453e-05, 1.65196482e-05, 6.56583541e-05, 4.27401946e-05,\n",
       "        1.39054367e-04, 1.50654910e-01, 3.69665547e+06, 3.02824563e+09,\n",
       "        8.28117332e+07, 7.55982329e+01, 2.59689453e-05, 8.10909928e-05,\n",
       "        7.00997275e-05, 1.61691984e-04, 6.90322525e-05, 8.15687506e-05,\n",
       "        1.00004362e+00]),\n",
       " array([8.96911417e-06, 5.26906152e-05, 6.45185655e-05, 7.65523926e-05,\n",
       "        1.89224535e-04, 4.20964929e-05, 5.58659975e-05, 1.05791506e-05,\n",
       "        2.52113744e-05, 1.50844605e-01, 3.69665547e+06, 3.02824563e+09,\n",
       "        8.28117332e+07, 7.55982214e+01, 1.34211388e-04, 4.92345392e-05,\n",
       "        8.35916663e-05, 8.40103563e-05, 1.49147381e-05, 1.89914377e-04,\n",
       "        1.00005418e+00]),\n",
       " array([7.18896895e-05, 5.87714226e-05, 6.33535661e-06, 8.82201581e-07,\n",
       "        3.27172186e-05, 3.07219326e-05, 6.78785104e-06, 1.13284910e-04,\n",
       "        2.68996931e-04, 1.50706662e-01, 3.69665547e+06, 3.02824563e+09,\n",
       "        8.28117332e+07, 7.55982071e+01, 2.68662075e-05, 1.59044381e-04,\n",
       "        1.27219300e-04, 5.04892194e-05, 1.83680623e-05, 9.07344048e-05,\n",
       "        1.00010234e+00]),\n",
       " array([1.05163475e-04, 7.27312395e-05, 1.76764268e-04, 8.52953683e-05,\n",
       "        1.68941495e-05, 5.67982535e-06, 1.48255498e-05, 8.06789660e-05,\n",
       "        9.26815372e-05, 1.50763244e-01, 3.69665547e+06, 3.02824563e+09,\n",
       "        8.28117332e+07, 7.55982145e+01, 2.39767720e-04, 1.25424726e-04,\n",
       "        1.17538755e-05, 3.50235907e-05, 7.46240502e-05, 2.51765965e-05,\n",
       "        1.00007413e+00]),\n",
       " array([1.92052389e-05, 1.20994479e-04, 4.71536111e-05, 1.17762530e-04,\n",
       "        1.73998877e-04, 5.38623112e-05, 1.52776394e-04, 8.89545883e-05,\n",
       "        7.81041712e-05, 1.50685159e-01, 3.69665547e+06, 3.02824563e+09,\n",
       "        8.28117332e+07, 7.55981995e+01, 8.22350918e-05, 3.05382098e-05,\n",
       "        1.00937294e-04, 2.57686680e-04, 1.52140822e-04, 9.42737461e-05,\n",
       "        1.00002768e+00]),\n",
       " array([7.04917328e-05, 9.87519276e-05, 1.05915605e-04, 2.23813850e-04,\n",
       "        2.40803147e-05, 1.00351889e-04, 6.09178606e-05, 9.07112200e-05,\n",
       "        1.24565719e-04, 1.50822190e-01, 3.69665547e+06, 3.02824563e+09,\n",
       "        8.28117332e+07, 7.55982890e+01, 8.37084324e-06, 1.21817102e-04,\n",
       "        3.45172168e-05, 1.51671636e-04, 1.44554626e-05, 1.49253393e-04,\n",
       "        1.00016540e+00]),\n",
       " array([3.65602234e-05, 7.87083561e-05, 1.17042101e-04, 5.69593525e-05,\n",
       "        1.72662928e-04, 1.68137066e-04, 3.89028347e-05, 2.44556237e-04,\n",
       "        9.63972371e-05, 1.50743067e-01, 3.69665547e+06, 3.02824563e+09,\n",
       "        8.28117332e+07, 7.55981828e+01, 2.36518320e-04, 3.01392749e-05,\n",
       "        1.49834646e-04, 1.16972258e-04, 4.82769378e-05, 2.04337290e-04,\n",
       "        1.00008353e+00]),\n",
       " array([2.72883534e-05, 7.47424394e-05, 1.17613443e-05, 3.02415178e-06,\n",
       "        1.30459666e-04, 1.40901038e-04, 1.98597083e-04, 5.14025772e-05,\n",
       "        2.66970343e-05, 1.50687211e-01, 3.69665547e+06, 3.02824563e+09,\n",
       "        8.28117332e+07, 7.55982418e+01, 7.39084127e-06, 9.99883664e-06,\n",
       "        5.36561732e-05, 1.76328651e-05, 2.13161238e-06, 1.92735201e-04,\n",
       "        1.00011949e+00]),\n",
       " array([3.18242542e-05, 1.66307540e-04, 1.08515231e-04, 6.15634605e-05,\n",
       "        1.19562675e-05, 1.10644444e-04, 1.13503794e-04, 9.72003690e-06,\n",
       "        5.47050203e-05, 1.50689568e-01, 3.69665547e+06, 3.02824563e+09,\n",
       "        8.28117332e+07, 7.55982533e+01, 3.79397456e-05, 9.40135389e-05,\n",
       "        5.91505078e-05, 3.25498710e-05, 8.89491623e-05, 6.76047842e-05,\n",
       "        1.00005743e+00]),\n",
       " array([5.36898857e-05, 6.42439569e-05, 6.43354799e-05, 8.69729435e-05,\n",
       "        4.93262389e-05, 1.14354887e-04, 5.63634547e-05, 1.91174796e-06,\n",
       "        3.31866252e-05, 1.50755679e-01, 3.69665547e+06, 3.02824563e+09,\n",
       "        8.28117332e+07, 7.55981864e+01, 7.00958034e-05, 1.26718843e-04,\n",
       "        2.87890110e-05, 6.64488545e-06, 1.10636193e-05, 1.89997306e-04,\n",
       "        1.00006117e+00]),\n",
       " array([3.94485550e-05, 4.31749684e-05, 6.73082334e-05, 1.12805184e-04,\n",
       "        4.95762481e-05, 2.63723782e-05, 8.91630450e-06, 1.15846890e-04,\n",
       "        4.45063650e-05, 1.50687991e-01, 3.69665547e+06, 3.02824563e+09,\n",
       "        8.28117332e+07, 7.55982857e+01, 3.10232049e-05, 1.74335142e-05,\n",
       "        9.14497622e-05, 1.36188990e-04, 1.07462351e-04, 1.08914095e-05,\n",
       "        1.00004251e+00]),\n",
       " array([5.22225772e-05, 1.03284431e-05, 2.06433160e-05, 3.09871682e-05,\n",
       "        1.70775977e-04, 2.21778397e-04, 1.32980203e-04, 4.92083701e-05,\n",
       "        1.46049850e-04, 1.50733473e-01, 3.69665547e+06, 3.02824563e+09,\n",
       "        8.28117332e+07, 7.55982012e+01, 3.87505099e-05, 6.85099897e-05,\n",
       "        1.60357921e-04, 3.66128405e-05, 6.84623723e-05, 1.10556558e-05,\n",
       "        1.00001411e+00]),\n",
       " array([3.31561551e-05, 1.37010314e-04, 1.50382316e-04, 4.52289653e-05,\n",
       "        1.73855551e-04, 6.75943845e-05, 2.94431432e-05, 2.81623237e-05,\n",
       "        6.49768908e-05, 1.50787027e-01, 3.69665547e+06, 3.02824563e+09,\n",
       "        8.28117332e+07, 7.55982611e+01, 1.38000161e-04, 3.95660916e-06,\n",
       "        1.12569154e-04, 6.40446860e-05, 8.30567573e-05, 7.63334491e-05,\n",
       "        1.00011077e+00]),\n",
       " array([4.13171654e-06, 2.52575568e-05, 1.71150374e-05, 4.61178129e-05,\n",
       "        8.80157672e-06, 7.46040728e-05, 1.02157449e-05, 5.96168030e-05,\n",
       "        1.89027817e-04, 1.50678559e-01, 3.69665547e+06, 3.02824563e+09,\n",
       "        8.28117332e+07, 7.55983118e+01, 8.11880240e-05, 1.39058847e-04,\n",
       "        1.93206929e-04, 9.60560111e-05, 8.78482761e-05, 2.98923280e-05,\n",
       "        1.00000325e+00]),\n",
       " array([1.39542152e-04, 1.22482422e-04, 7.86911411e-06, 4.44386749e-07,\n",
       "        4.63190487e-05, 1.02042615e-04, 6.51446968e-05, 6.69946822e-05,\n",
       "        1.65255760e-05, 1.50669816e-01, 3.69665547e+06, 3.02824563e+09,\n",
       "        8.28117332e+07, 7.55982345e+01, 6.34587469e-05, 1.21851495e-04,\n",
       "        1.38844059e-05, 5.76507366e-05, 3.09333248e-04, 1.27446544e-04,\n",
       "        1.00009804e+00]),\n",
       " array([1.13425460e-04, 1.76206413e-04, 6.05476134e-05, 1.23776912e-05,\n",
       "        3.81415836e-05, 4.70451196e-05, 2.76011443e-05, 3.42255513e-06,\n",
       "        1.26766090e-04, 1.50767900e-01, 3.69665547e+06, 3.02824563e+09,\n",
       "        8.28117332e+07, 7.55981805e+01, 4.13095869e-05, 4.82180852e-05,\n",
       "        1.97905754e-05, 1.25628658e-04, 3.31434693e-04, 3.75513997e-05,\n",
       "        1.00013576e+00]),\n",
       " array([2.01157742e-05, 4.33747559e-05, 9.25554119e-05, 1.70079987e-05,\n",
       "        4.95166969e-05, 6.57144394e-06, 1.08871131e-04, 1.26221108e-04,\n",
       "        5.50445662e-05, 1.50841193e-01, 3.69665547e+06, 3.02824563e+09,\n",
       "        8.28117332e+07, 7.55981938e+01, 2.61312116e-04, 1.16458834e-04,\n",
       "        5.54486805e-05, 6.47450999e-05, 1.19112423e-04, 3.40487208e-06,\n",
       "        1.00000315e+00]),\n",
       " array([1.02541719e-04, 1.42958018e-05, 4.03168932e-05, 8.14552044e-06,\n",
       "        1.45927619e-04, 1.75305720e-04, 5.82269943e-05, 8.76405253e-06,\n",
       "        2.54854045e-05, 1.50754114e-01, 3.69665547e+06, 3.02824563e+09,\n",
       "        8.28117332e+07, 7.55982715e+01, 2.16963917e-05, 1.09438315e-04,\n",
       "        3.75729152e-06, 7.93700537e-05, 3.45578044e-05, 1.86815314e-05,\n",
       "        1.00001212e+00]),\n",
       " array([1.51033692e-04, 6.89473057e-05, 9.29568349e-05, 1.48970331e-05,\n",
       "        7.50536815e-05, 1.81412943e-05, 1.38055185e-04, 6.36897962e-05,\n",
       "        1.29916079e-04, 1.50787186e-01, 3.69665547e+06, 3.02824563e+09,\n",
       "        8.28117332e+07, 7.55982223e+01, 9.26761489e-05, 9.97444843e-05,\n",
       "        5.31925138e-05, 1.14195519e-04, 8.88681154e-05, 6.82555103e-05,\n",
       "        1.00002989e+00]),\n",
       " array([9.42390910e-05, 4.00212753e-06, 4.35477358e-05, 2.13284411e-05,\n",
       "        1.10550221e-04, 5.61324086e-05, 2.43244311e-05, 4.65693140e-05,\n",
       "        1.57919119e-04, 1.50828347e-01, 3.69665547e+06, 3.02824563e+09,\n",
       "        8.28117332e+07, 7.55982654e+01, 1.65487438e-04, 7.24223121e-05,\n",
       "        1.33806883e-05, 7.28665575e-05, 7.38408830e-05, 2.60309562e-05,\n",
       "        1.00012306e+00]),\n",
       " array([3.07504856e-06, 1.51713825e-04, 1.12586473e-04, 1.01248822e-04,\n",
       "        2.18352944e-04, 4.59177054e-05, 8.40350655e-05, 4.72574580e-05,\n",
       "        3.40226455e-05, 1.50646929e-01, 3.69665547e+06, 3.02824563e+09,\n",
       "        8.28117332e+07, 7.55982928e+01, 1.82649282e-04, 2.44998147e-05,\n",
       "        4.70733165e-05, 9.76457503e-05, 1.16010958e-05, 6.04325258e-05,\n",
       "        1.00000436e+00]),\n",
       " array([1.19898146e-04, 7.84576148e-05, 1.72542352e-06, 3.83519545e-05,\n",
       "        3.72516458e-05, 2.97862762e-06, 1.19824122e-04, 1.24570604e-04,\n",
       "        3.13594572e-05, 1.50682963e-01, 3.69665547e+06, 3.02824563e+09,\n",
       "        8.28117332e+07, 7.55982306e+01, 9.38707043e-05, 4.11293207e-05,\n",
       "        8.17331249e-05, 5.14791395e-05, 1.13509237e-04, 6.29604846e-05,\n",
       "        1.00009188e+00]),\n",
       " array([1.47257613e-04, 8.51512516e-05, 2.05666434e-05, 2.17543245e-04,\n",
       "        6.24790349e-05, 4.19297493e-05, 6.96437399e-05, 1.15352937e-04,\n",
       "        8.79378649e-05, 1.50873269e-01, 3.69665547e+06, 3.02824563e+09,\n",
       "        8.28117332e+07, 7.55982102e+01, 7.82435580e-05, 1.64146672e-04,\n",
       "        1.21978027e-04, 1.83304911e-04, 1.30195301e-04, 3.10818976e-05,\n",
       "        1.00003484e+00]),\n",
       " array([3.27803422e-05, 2.25497508e-04, 1.08891279e-04, 7.91060184e-06,\n",
       "        2.76890785e-04, 8.79900210e-07, 8.75293754e-05, 7.53216117e-05,\n",
       "        2.55083181e-04, 1.50646910e-01, 3.69665547e+06, 3.02824563e+09,\n",
       "        8.28117332e+07, 7.55982102e+01, 1.95299535e-04, 7.81590123e-05,\n",
       "        8.18132172e-05, 5.80068753e-05, 6.72649942e-05, 2.23691176e-05,\n",
       "        1.00000269e+00]),\n",
       " array([1.38845800e-04, 1.29180563e-04, 1.46042171e-05, 2.90428766e-05,\n",
       "        8.14045229e-05, 1.32234928e-04, 1.28004207e-04, 4.44829470e-05,\n",
       "        1.04109652e-04, 1.50711247e-01, 3.69665547e+06, 3.02824563e+09,\n",
       "        8.28117332e+07, 7.55982398e+01, 5.43040690e-05, 1.76783743e-04,\n",
       "        2.68108246e-05, 3.16391257e-05, 6.16194188e-05, 4.97647227e-05,\n",
       "        1.00028432e+00]),\n",
       " array([4.67945752e-05, 1.73372401e-05, 5.80880617e-05, 3.16220993e-05,\n",
       "        4.33010902e-05, 1.20428455e-04, 2.17382735e-04, 8.02316705e-05,\n",
       "        6.89403423e-05, 1.50801631e-01, 3.69665547e+06, 3.02824563e+09,\n",
       "        8.28117332e+07, 7.55982200e+01, 2.53812735e-05, 2.10588216e-05,\n",
       "        4.04563209e-06, 4.78677093e-05, 1.46569425e-04, 7.71160573e-05,\n",
       "        1.00020226e+00]),\n",
       " array([7.81059811e-06, 9.11723254e-06, 9.79648789e-06, 5.40844811e-05,\n",
       "        9.93379839e-05, 1.00764165e-04, 1.20515155e-04, 3.41955411e-04,\n",
       "        3.35783898e-05, 1.50713235e-01, 3.69665547e+06, 3.02824563e+09,\n",
       "        8.28117332e+07, 7.55981933e+01, 6.27163615e-05, 6.71731828e-05,\n",
       "        3.22212657e-05, 8.04493860e-05, 5.91665787e-05, 1.30693759e-04,\n",
       "        1.00000391e+00]),\n",
       " array([3.19769728e-05, 1.60986022e-04, 7.76398055e-05, 2.94144105e-05,\n",
       "        1.60739469e-04, 9.66960692e-05, 9.77332648e-05, 9.26351721e-06,\n",
       "        1.39949127e-04, 1.50765210e-01, 3.69665547e+06, 3.02824563e+09,\n",
       "        8.28117332e+07, 7.55981775e+01, 8.98240327e-05, 1.28657081e-05,\n",
       "        2.55754215e-04, 9.10870696e-05, 1.62525230e-04, 3.12304743e-05,\n",
       "        1.00017885e+00])]"
      ]
     },
     "execution_count": 36,
     "metadata": {},
     "output_type": "execute_result"
    }
   ],
   "source": [
    "start_pos"
   ]
  },
  {
   "cell_type": "markdown",
   "metadata": {},
   "source": [
    "plt.plot(d, start_pos[0][0:20])"
   ]
  },
  {
   "cell_type": "markdown",
   "metadata": {},
   "source": [
    "plt.plot(d, start_pos[5][0:20])"
   ]
  },
  {
   "cell_type": "markdown",
   "metadata": {},
   "source": [
    "plt.plot(d, start_pos[20][0:20])"
   ]
  },
  {
   "cell_type": "code",
   "execution_count": 37,
   "metadata": {},
   "outputs": [],
   "source": [
    "sampler = dls.create_sampler(nwalkers, ndim, d, sim_data, m, gamma, time_in)"
   ]
  },
  {
   "cell_type": "code",
   "execution_count": null,
   "metadata": {},
   "outputs": [],
   "source": []
  },
  {
   "cell_type": "code",
   "execution_count": 38,
   "metadata": {},
   "outputs": [
    {
     "data": {
      "text/plain": [
       "array([0.37533333, 0.36166667, 0.37266667, 0.36666667, 0.36933333,\n",
       "       0.34366667, 0.38066667, 0.37966667, 0.364     , 0.37033333,\n",
       "       0.37733333, 0.36133333, 0.379     , 0.36233333, 0.37166667,\n",
       "       0.378     , 0.34466667, 0.378     , 0.36666667, 0.34666667,\n",
       "       0.35366667, 0.36033333, 0.36966667, 0.36633333, 0.36666667,\n",
       "       0.383     , 0.35866667, 0.371     , 0.36      , 0.37333333,\n",
       "       0.37466667, 0.36733333, 0.38233333, 0.364     , 0.36      ,\n",
       "       0.37166667, 0.37266667, 0.38466667, 0.35233333, 0.36466667,\n",
       "       0.37733333, 0.37466667, 0.35933333, 0.369     , 0.37233333,\n",
       "       0.36866667, 0.344     , 0.35766667, 0.37366667, 0.35933333,\n",
       "       0.341     , 0.37666667, 0.37766667, 0.35833333, 0.35633333,\n",
       "       0.37366667, 0.36233333, 0.379     , 0.35233333, 0.36033333,\n",
       "       0.361     , 0.351     , 0.35733333, 0.371     , 0.382     ,\n",
       "       0.382     , 0.37266667, 0.382     , 0.373     , 0.38266667,\n",
       "       0.38466667, 0.36      , 0.36466667, 0.36566667, 0.376     ,\n",
       "       0.366     , 0.37266667, 0.37      , 0.373     , 0.35866667,\n",
       "       0.363     , 0.38633333, 0.35866667, 0.36      , 0.35633333,\n",
       "       0.36533333, 0.374     , 0.37866667, 0.38      , 0.35366667,\n",
       "       0.401     , 0.37266667, 0.376     , 0.35866667, 0.364     ,\n",
       "       0.34833333, 0.358     , 0.36466667, 0.35733333, 0.373     ])"
      ]
     },
     "execution_count": 38,
     "metadata": {},
     "output_type": "execute_result"
    }
   ],
   "source": [
    "result = dls.infer(sampler, start_pos, nsteps)\n",
    "result.acceptance_fraction"
   ]
  },
  {
   "cell_type": "code",
   "execution_count": 39,
   "metadata": {},
   "outputs": [
    {
     "data": {
      "image/png": "[encoded data removed]",
      "text/plain": [
       "<Figure size 432x288 with 2 Axes>"
      ]
     },
     "metadata": {
      "needs_background": "light"
     },
     "output_type": "display_data"
    }
   ],
   "source": [
    "dls.view_burnin_plot(result, 0, 1)"
   ]
  },
  {
   "cell_type": "code",
   "execution_count": null,
   "metadata": {},
   "outputs": [],
   "source": [
    "dls.view_burnin_plot(result, 2, 3)"
   ]
  },
  {
   "cell_type": "code",
   "execution_count": null,
   "metadata": {},
   "outputs": [],
   "source": [
    "dls.view_burnin_plot(result, 4, 5)"
   ]
  },
  {
   "cell_type": "code",
   "execution_count": null,
   "metadata": {},
   "outputs": [],
   "source": [
    "dls.view_burnin_plot(result, 6, 7)"
   ]
  },
  {
   "cell_type": "markdown",
   "metadata": {},
   "source": [
    "chained_sampler = dls.chain(result, 4300, ndim)\n",
    "samples_df = dls.create_dataframe(chained_sampler, ndim)"
   ]
  },
  {
   "cell_type": "markdown",
   "metadata": {},
   "source": [
    "inferred_f = dls.get_infer_f(samples_df, m)"
   ]
  },
  {
   "cell_type": "markdown",
   "metadata": {},
   "source": [
    "inferred_f.shape"
   ]
  },
  {
   "cell_type": "markdown",
   "metadata": {},
   "source": [
    "plt.plot(d, inferred_f)"
   ]
  },
  {
   "cell_type": "code",
   "execution_count": 40,
   "metadata": {},
   "outputs": [],
   "source": [
    "samples = result.chain[:,2600:,:]\n",
    "\n",
    "# reshape the samples into a 1D array where the colums are the f(d) values\n",
    "traces = samples.reshape(-1, ndim).T\n",
    "\n",
    "parameter_samples = pd.DataFrame({'f(d0)': traces[0], 'f(d1)': traces[1], 'f(d2)': traces[2], 'f(d3)': traces[3], 'f(d4)': traces[4], 'f(d5)': traces[5], 'f(d6)': traces[6], 'f(d7)': traces[7], 'f(d8)': traces[8], 'f(d9)': traces[9], 'f(d10)': traces[10], 'f(d11)': traces[11], 'f(d12)': traces[12], 'f(d13)': traces[13], 'f(d14)': traces[14], 'f(d15)': traces[15], 'f(d16)': traces[16], 'f(d17)': traces[17], 'f(d18)': traces[18], 'f(d19)': traces[19], 'beta': traces[20]})\n",
    "\n",
    "# calculate the MAP and values using pandas\n",
    "q = parameter_samples.quantile([0.16,0.50,0.84], axis=0)"
   ]
  },
  {
   "cell_type": "code",
   "execution_count": 41,
   "metadata": {},
   "outputs": [
    {
     "data": {
      "text/html": [
       "<div>\n",
       "<style scoped>\n",
       "    .dataframe tbody tr th:only-of-type {\n",
       "        vertical-align: middle;\n",
       "    }\n",
       "\n",
       "    .dataframe tbody tr th {\n",
       "        vertical-align: top;\n",
       "    }\n",
       "\n",
       "    .dataframe thead th {\n",
       "        text-align: right;\n",
       "    }\n",
       "</style>\n",
       "<table border=\"1\" class=\"dataframe\">\n",
       "  <thead>\n",
       "    <tr style=\"text-align: right;\">\n",
       "      <th></th>\n",
       "      <th>beta</th>\n",
       "      <th>f(d0)</th>\n",
       "      <th>f(d1)</th>\n",
       "      <th>f(d10)</th>\n",
       "      <th>f(d11)</th>\n",
       "      <th>f(d12)</th>\n",
       "      <th>f(d13)</th>\n",
       "      <th>f(d14)</th>\n",
       "      <th>f(d15)</th>\n",
       "      <th>f(d16)</th>\n",
       "      <th>...</th>\n",
       "      <th>f(d18)</th>\n",
       "      <th>f(d19)</th>\n",
       "      <th>f(d2)</th>\n",
       "      <th>f(d3)</th>\n",
       "      <th>f(d4)</th>\n",
       "      <th>f(d5)</th>\n",
       "      <th>f(d6)</th>\n",
       "      <th>f(d7)</th>\n",
       "      <th>f(d8)</th>\n",
       "      <th>f(d9)</th>\n",
       "    </tr>\n",
       "  </thead>\n",
       "  <tbody>\n",
       "    <tr>\n",
       "      <th>0.5</th>\n",
       "      <td>0.648633</td>\n",
       "      <td>8.845378e+07</td>\n",
       "      <td>2.666140e+08</td>\n",
       "      <td>1.759668e+08</td>\n",
       "      <td>3.166932e+09</td>\n",
       "      <td>4.632228e+08</td>\n",
       "      <td>3.125144e+08</td>\n",
       "      <td>1.047180e+08</td>\n",
       "      <td>3.925625e+08</td>\n",
       "      <td>6.187170e+06</td>\n",
       "      <td>...</td>\n",
       "      <td>1.854996e+07</td>\n",
       "      <td>5.576312e+07</td>\n",
       "      <td>7.531075e+06</td>\n",
       "      <td>1.816777e+08</td>\n",
       "      <td>3.046324e+07</td>\n",
       "      <td>1.000236e+07</td>\n",
       "      <td>1.031036e+07</td>\n",
       "      <td>7.130790e+06</td>\n",
       "      <td>2.209316e+08</td>\n",
       "      <td>1.761228e+08</td>\n",
       "    </tr>\n",
       "  </tbody>\n",
       "</table>\n",
       "<p>1 rows × 21 columns</p>\n",
       "</div>"
      ],
      "text/plain": [
       "         beta         f(d0)         f(d1)        f(d10)        f(d11)  \\\n",
       "0.5  0.648633  8.845378e+07  2.666140e+08  1.759668e+08  3.166932e+09   \n",
       "\n",
       "           f(d12)        f(d13)        f(d14)        f(d15)        f(d16)  \\\n",
       "0.5  4.632228e+08  3.125144e+08  1.047180e+08  3.925625e+08  6.187170e+06   \n",
       "\n",
       "     ...        f(d18)        f(d19)         f(d2)         f(d3)  \\\n",
       "0.5  ...  1.854996e+07  5.576312e+07  7.531075e+06  1.816777e+08   \n",
       "\n",
       "            f(d4)         f(d5)         f(d6)         f(d7)         f(d8)  \\\n",
       "0.5  3.046324e+07  1.000236e+07  1.031036e+07  7.130790e+06  2.209316e+08   \n",
       "\n",
       "            f(d9)  \n",
       "0.5  1.761228e+08  \n",
       "\n",
       "[1 rows x 21 columns]"
      ]
     },
     "execution_count": 41,
     "metadata": {},
     "output_type": "execute_result"
    }
   ],
   "source": [
    "q = q.quantile([0.5], axis=0)\n",
    "q"
   ]
  },
  {
   "cell_type": "code",
   "execution_count": 42,
   "metadata": {},
   "outputs": [],
   "source": [
    "q = q.values\n",
    "q = q.flatten()\n",
    "q = q[0:20]"
   ]
  },
  {
   "cell_type": "code",
   "execution_count": 43,
   "metadata": {},
   "outputs": [
    {
     "data": {
      "text/plain": [
       "(20,)"
      ]
     },
     "execution_count": 43,
     "metadata": {},
     "output_type": "execute_result"
    }
   ],
   "source": [
    "q.shape"
   ]
  },
  {
   "cell_type": "code",
   "execution_count": 44,
   "metadata": {},
   "outputs": [
    {
     "data": {
      "text/plain": [
       "[<matplotlib.lines.Line2D at 0x12ee16610>]"
      ]
     },
     "execution_count": 44,
     "metadata": {},
     "output_type": "execute_result"
    },
    {
     "data": {
      "image/png": "[encoded data removed]",
      "text/plain": [
       "<Figure size 432x288 with 1 Axes>"
      ]
     },
     "metadata": {
      "needs_background": "light"
     },
     "output_type": "display_data"
    }
   ],
   "source": [
    "plt.plot(d, q)"
   ]
  },
  {
   "cell_type": "code",
   "execution_count": 45,
   "metadata": {},
   "outputs": [
    {
     "data": {
      "text/plain": [
       "1.7875397010133545"
      ]
     },
     "execution_count": 45,
     "metadata": {},
     "output_type": "execute_result"
    }
   ],
   "source": [
    "dls.check_distribution_norm(q, d[1]- d[0])"
   ]
  },
  {
   "cell_type": "code",
   "execution_count": 46,
   "metadata": {},
   "outputs": [],
   "source": [
    "infer_g2 = dls.g2(np.append(q, 1), d, m, gamma, time_in)"
   ]
  },
  {
   "cell_type": "code",
   "execution_count": null,
   "metadata": {},
   "outputs": [],
   "source": [
    "plt.semilogx(time_in, infer_g2, label='Inferred g2')\n",
    "plt.semilogx(time_in, sim_data, 'r', label='Simulated data')\n",
    "plt.legend()"
   ]
  },
  {
   "cell_type": "code",
   "execution_count": null,
   "metadata": {},
   "outputs": [],
   "source": [
    "plt.semilogx(time_in, sim_data)"
   ]
  },
  {
   "cell_type": "code",
   "execution_count": null,
   "metadata": {},
   "outputs": [],
   "source": [
    "diameter2 = diameter - 3e-9\n",
    "f_2 = dls.generate_distribution(d, diameter2, sigma, 1)"
   ]
  },
  {
   "cell_type": "code",
   "execution_count": null,
   "metadata": {},
   "outputs": [],
   "source": [
    "plt.plot(d, f_2)"
   ]
  },
  {
   "cell_type": "code",
   "execution_count": null,
   "metadata": {},
   "outputs": [],
   "source": [
    "theta_input2 = np.append(f_2, beta)\n",
    "sim_data2 = dls.g2(theta_input2, d, gamma, time_in)"
   ]
  },
  {
   "cell_type": "code",
   "execution_count": null,
   "metadata": {},
   "outputs": [],
   "source": []
  }
 ],
 "metadata": {
  "kernelspec": {
   "display_name": "Python 2",
   "language": "python",
   "name": "python2"
  },
  "language_info": {
   "codemirror_mode": {
    "name": "ipython",
    "version": 2
   },
   "file_extension": ".py",
   "mimetype": "text/x-python",
   "name": "python",
   "nbconvert_exporter": "python",
   "pygments_lexer": "ipython2",
   "version": "2.7.16"
  }
 },
 "nbformat": 4,
 "nbformat_minor": 2
}
