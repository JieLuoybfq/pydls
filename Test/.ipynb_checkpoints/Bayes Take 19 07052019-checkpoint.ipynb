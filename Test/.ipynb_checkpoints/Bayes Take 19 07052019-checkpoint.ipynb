{
 "cells": [
  {
   "cell_type": "code",
   "execution_count": 2,
   "metadata": {},
   "outputs": [],
   "source": [
    "import numpy as np\n",
    "import matplotlib.pyplot as plt\n",
    "import initialization_data as init\n",
    "import dlsfunctions as dls\n",
    "import emcee\n",
    "import pandas as pd\n",
    "import seaborn as sns"
   ]
  },
  {
   "cell_type": "code",
   "execution_count": 3,
   "metadata": {},
   "outputs": [],
   "source": [
    "time_in = init.get_time()\n",
    "d = init.get_distance()\n",
    "gamma = init.get_gamma()\n",
    "m = init.m\n",
    "\n",
    "mean = init.get_left_mean()\n",
    "sigma = init.get_narrow_sigma()"
   ]
  },
  {
   "cell_type": "code",
   "execution_count": 4,
   "metadata": {},
   "outputs": [],
   "source": [
    "f_1 = dls.generate_distribution(d, mean, sigma, 1)"
   ]
  },
  {
   "cell_type": "code",
   "execution_count": 5,
   "metadata": {},
   "outputs": [
    {
     "data": {
      "text/plain": [
       "[<matplotlib.lines.Line2D at 0x11d51ead0>]"
      ]
     },
     "execution_count": 5,
     "metadata": {},
     "output_type": "execute_result"
    },
    {
     "data": {
      "image/png": "[encoded data removed]",
      "text/plain": [
       "<Figure size 432x288 with 1 Axes>"
      ]
     },
     "metadata": {
      "needs_background": "light"
     },
     "output_type": "display_data"
    }
   ],
   "source": [
    "plt.plot(d, f_1)"
   ]
  },
  {
   "cell_type": "code",
   "execution_count": 6,
   "metadata": {},
   "outputs": [],
   "source": [
    "theta_input = np.append(f_1, init.beta)\n",
    "sim_data = dls.g2(theta_input, d, m, gamma, time_in)"
   ]
  },
  {
   "cell_type": "code",
   "execution_count": 7,
   "metadata": {},
   "outputs": [],
   "source": [
    "ndim = 21\n",
    "nwalkers = 100\n",
    "nsteps = 1000"
   ]
  },
  {
   "cell_type": "code",
   "execution_count": 8,
   "metadata": {},
   "outputs": [],
   "source": [
    "start_pos = dls.create_start_pos(theta_input, ndim, nwalkers)"
   ]
  },
  {
   "cell_type": "code",
   "execution_count": 9,
   "metadata": {},
   "outputs": [],
   "source": [
    "sampler = dls.create_sampler(nwalkers, ndim, d, sim_data, m, gamma, time_in)"
   ]
  },
  {
   "cell_type": "code",
   "execution_count": 10,
   "metadata": {},
   "outputs": [
    {
     "data": {
      "text/plain": [
       "array([0.363, 0.315, 0.332, 0.359, 0.333, 0.326, 0.293, 0.333, 0.328,\n",
       "       0.349, 0.32 , 0.328, 0.353, 0.306, 0.325, 0.346, 0.362, 0.34 ,\n",
       "       0.375, 0.368, 0.37 , 0.323, 0.345, 0.354, 0.328, 0.357, 0.319,\n",
       "       0.306, 0.319, 0.364, 0.352, 0.354, 0.359, 0.342, 0.344, 0.359,\n",
       "       0.347, 0.336, 0.369, 0.357, 0.324, 0.343, 0.351, 0.356, 0.342,\n",
       "       0.347, 0.344, 0.381, 0.341, 0.37 , 0.325, 0.33 , 0.334, 0.346,\n",
       "       0.345, 0.325, 0.355, 0.311, 0.327, 0.348, 0.304, 0.317, 0.352,\n",
       "       0.379, 0.354, 0.346, 0.366, 0.32 , 0.387, 0.32 , 0.31 , 0.298,\n",
       "       0.338, 0.348, 0.358, 0.327, 0.296, 0.357, 0.334, 0.348, 0.34 ,\n",
       "       0.334, 0.342, 0.312, 0.358, 0.359, 0.343, 0.385, 0.351, 0.364,\n",
       "       0.373, 0.293, 0.348, 0.357, 0.351, 0.344, 0.341, 0.367, 0.36 ,\n",
       "       0.348])"
      ]
     },
     "execution_count": 10,
     "metadata": {},
     "output_type": "execute_result"
    }
   ],
   "source": [
    "result = sampler.run_mcmc(start_pos, nsteps)\n",
    "sampler.acceptance_fraction"
   ]
  },
  {
   "cell_type": "code",
   "execution_count": 11,
   "metadata": {},
   "outputs": [],
   "source": [
    "samples = dls.chain(sampler, 800, ndim)"
   ]
  },
  {
   "cell_type": "code",
   "execution_count": 12,
   "metadata": {},
   "outputs": [],
   "source": [
    "samples_df = dls.create_dataframe(samples, ndim)"
   ]
  },
  {
   "cell_type": "code",
   "execution_count": 13,
   "metadata": {},
   "outputs": [],
   "source": [
    "q = samples_df.quantile([0.5], axis=0)\n"
   ]
  },
  {
   "cell_type": "code",
   "execution_count": 14,
   "metadata": {},
   "outputs": [
    {
     "data": {
      "text/html": [
       "<div>\n",
       "<style scoped>\n",
       "    .dataframe tbody tr th:only-of-type {\n",
       "        vertical-align: middle;\n",
       "    }\n",
       "\n",
       "    .dataframe tbody tr th {\n",
       "        vertical-align: top;\n",
       "    }\n",
       "\n",
       "    .dataframe thead th {\n",
       "        text-align: right;\n",
       "    }\n",
       "</style>\n",
       "<table border=\"1\" class=\"dataframe\">\n",
       "  <thead>\n",
       "    <tr style=\"text-align: right;\">\n",
       "      <th></th>\n",
       "      <th>f0</th>\n",
       "      <th>f1</th>\n",
       "      <th>f10</th>\n",
       "      <th>f11</th>\n",
       "      <th>f12</th>\n",
       "      <th>f13</th>\n",
       "      <th>f14</th>\n",
       "      <th>f15</th>\n",
       "      <th>f16</th>\n",
       "      <th>f17</th>\n",
       "      <th>f18</th>\n",
       "      <th>f19</th>\n",
       "      <th>f2</th>\n",
       "      <th>f3</th>\n",
       "      <th>f4</th>\n",
       "      <th>f5</th>\n",
       "      <th>f6</th>\n",
       "      <th>f7</th>\n",
       "      <th>f8</th>\n",
       "      <th>f9</th>\n",
       "    </tr>\n",
       "  </thead>\n",
       "  <tbody>\n",
       "    <tr>\n",
       "      <th>0.5</th>\n",
       "      <td>15458.316196</td>\n",
       "      <td>5.185872e+07</td>\n",
       "      <td>506044.922078</td>\n",
       "      <td>882594.936489</td>\n",
       "      <td>100580.021168</td>\n",
       "      <td>2.251224e+06</td>\n",
       "      <td>779114.08861</td>\n",
       "      <td>2.585693e+06</td>\n",
       "      <td>349742.281332</td>\n",
       "      <td>21487.798777</td>\n",
       "      <td>127897.034467</td>\n",
       "      <td>261888.395259</td>\n",
       "      <td>1.771639e+09</td>\n",
       "      <td>4.095306e+08</td>\n",
       "      <td>66512.137536</td>\n",
       "      <td>839626.316304</td>\n",
       "      <td>1.544716e+06</td>\n",
       "      <td>1.602295e+06</td>\n",
       "      <td>3.088584e+06</td>\n",
       "      <td>264732.526359</td>\n",
       "    </tr>\n",
       "  </tbody>\n",
       "</table>\n",
       "</div>"
      ],
      "text/plain": [
       "               f0            f1            f10            f11            f12  \\\n",
       "0.5  15458.316196  5.185872e+07  506044.922078  882594.936489  100580.021168   \n",
       "\n",
       "              f13           f14           f15            f16           f17  \\\n",
       "0.5  2.251224e+06  779114.08861  2.585693e+06  349742.281332  21487.798777   \n",
       "\n",
       "               f18            f19            f2            f3            f4  \\\n",
       "0.5  127897.034467  261888.395259  1.771639e+09  4.095306e+08  66512.137536   \n",
       "\n",
       "                f5            f6            f7            f8             f9  \n",
       "0.5  839626.316304  1.544716e+06  1.602295e+06  3.088584e+06  264732.526359  "
      ]
     },
     "execution_count": 14,
     "metadata": {},
     "output_type": "execute_result"
    }
   ],
   "source": [
    "q"
   ]
  },
  {
   "cell_type": "code",
   "execution_count": 15,
   "metadata": {},
   "outputs": [],
   "source": [
    "infer_f = np.zeros(20)\n",
    "infer_f[0] = 15458.316196\n",
    "infer_f[1] = 5.185872e+07\n",
    "infer_f[2] = 1.771639e+09\n",
    "infer_f[3] = 4.095306e+08\n",
    "infer_f[4] = 66512.137536\n",
    "infer_f[5] = 839626.316304\n",
    "infer_f[6] = 1.544716e+06\n",
    "infer_f[7] = 1.602295e+06\n",
    "infer_f[8] = 3.088584e+06\n",
    "infer_f[9] = 264732.526359\n",
    "infer_f[10] = 506044.922078\n",
    "infer_f[11] = 882594.936489\n",
    "infer_f[12] = 100580.021168\n",
    "infer_f[13] = 2.251224e+06\n",
    "infer_f[14] = 779114.08861\n",
    "infer_f[15] = 2.585693e+06\n",
    "infer_f[16] = 349742.281332\n",
    "infer_f[17] = 21487.798777\n",
    "infer_f[18] = 127897.034467\n",
    "infer_f[19] = 261888.395259"
   ]
  },
  {
   "cell_type": "code",
   "execution_count": 16,
   "metadata": {},
   "outputs": [
    {
     "data": {
      "text/plain": [
       "[<matplotlib.lines.Line2D at 0x122155850>]"
      ]
     },
     "execution_count": 16,
     "metadata": {},
     "output_type": "execute_result"
    },
    {
     "data": {
      "image/png": "[encoded data removed]",
      "text/plain": [
       "<Figure size 432x288 with 1 Axes>"
      ]
     },
     "metadata": {
      "needs_background": "light"
     },
     "output_type": "display_data"
    }
   ],
   "source": [
    "plt.plot(d, infer_f)"
   ]
  },
  {
   "cell_type": "code",
   "execution_count": 18,
   "metadata": {},
   "outputs": [],
   "source": [
    "samples2 = sampler.chain[:,800:,:]\n",
    "\n",
    "# reshape the samples into a 1D array where the colums are the f(d) values\n",
    "traces = samples2.reshape(-1, ndim).T\n",
    "\n",
    "parameter_samples = pd.DataFrame({'f(d0)': traces[0], 'f(d1)': traces[1], 'f(d2)': traces[2], 'f(d3)': traces[3], 'f(d4)': traces[4], 'f(d5)': traces[5], 'f(d6)': traces[6], 'f(d7)': traces[7], 'f(d8)': traces[8], 'f(d9)': traces[9], 'f(d10)': traces[10], 'f(d11)': traces[11], 'f(d12)': traces[12], 'f(d13)': traces[13], 'f(d14)': traces[14], 'f(d15)': traces[15], 'f(d16)': traces[16], 'f(d17)': traces[17], 'f(d18)': traces[18], 'f(d19)': traces[19], 'beta': traces[20]})\n",
    "\n",
    "# calculate the MAP and values using pandas\n",
    "q = parameter_samples.quantile([0.5], axis=0)"
   ]
  },
  {
   "cell_type": "code",
   "execution_count": 19,
   "metadata": {},
   "outputs": [
    {
     "data": {
      "text/html": [
       "<div>\n",
       "<style scoped>\n",
       "    .dataframe tbody tr th:only-of-type {\n",
       "        vertical-align: middle;\n",
       "    }\n",
       "\n",
       "    .dataframe tbody tr th {\n",
       "        vertical-align: top;\n",
       "    }\n",
       "\n",
       "    .dataframe thead th {\n",
       "        text-align: right;\n",
       "    }\n",
       "</style>\n",
       "<table border=\"1\" class=\"dataframe\">\n",
       "  <thead>\n",
       "    <tr style=\"text-align: right;\">\n",
       "      <th></th>\n",
       "      <th>beta</th>\n",
       "      <th>f(d0)</th>\n",
       "      <th>f(d1)</th>\n",
       "      <th>f(d10)</th>\n",
       "      <th>f(d11)</th>\n",
       "      <th>f(d12)</th>\n",
       "      <th>f(d13)</th>\n",
       "      <th>f(d14)</th>\n",
       "      <th>f(d15)</th>\n",
       "      <th>f(d16)</th>\n",
       "      <th>...</th>\n",
       "      <th>f(d18)</th>\n",
       "      <th>f(d19)</th>\n",
       "      <th>f(d2)</th>\n",
       "      <th>f(d3)</th>\n",
       "      <th>f(d4)</th>\n",
       "      <th>f(d5)</th>\n",
       "      <th>f(d6)</th>\n",
       "      <th>f(d7)</th>\n",
       "      <th>f(d8)</th>\n",
       "      <th>f(d9)</th>\n",
       "    </tr>\n",
       "  </thead>\n",
       "  <tbody>\n",
       "    <tr>\n",
       "      <th>0.5</th>\n",
       "      <td>1.114597</td>\n",
       "      <td>15458.316196</td>\n",
       "      <td>5.185872e+07</td>\n",
       "      <td>506044.922078</td>\n",
       "      <td>882594.936489</td>\n",
       "      <td>100580.021168</td>\n",
       "      <td>2.251224e+06</td>\n",
       "      <td>779114.08861</td>\n",
       "      <td>2.585693e+06</td>\n",
       "      <td>349742.281332</td>\n",
       "      <td>...</td>\n",
       "      <td>127897.034467</td>\n",
       "      <td>261888.395259</td>\n",
       "      <td>1.771639e+09</td>\n",
       "      <td>4.095306e+08</td>\n",
       "      <td>66512.137536</td>\n",
       "      <td>839626.316304</td>\n",
       "      <td>1.544716e+06</td>\n",
       "      <td>1.602295e+06</td>\n",
       "      <td>3.088584e+06</td>\n",
       "      <td>264732.526359</td>\n",
       "    </tr>\n",
       "  </tbody>\n",
       "</table>\n",
       "<p>1 rows × 21 columns</p>\n",
       "</div>"
      ],
      "text/plain": [
       "         beta         f(d0)         f(d1)         f(d10)         f(d11)  \\\n",
       "0.5  1.114597  15458.316196  5.185872e+07  506044.922078  882594.936489   \n",
       "\n",
       "            f(d12)        f(d13)        f(d14)        f(d15)         f(d16)  \\\n",
       "0.5  100580.021168  2.251224e+06  779114.08861  2.585693e+06  349742.281332   \n",
       "\n",
       "     ...         f(d18)         f(d19)         f(d2)         f(d3)  \\\n",
       "0.5  ...  127897.034467  261888.395259  1.771639e+09  4.095306e+08   \n",
       "\n",
       "            f(d4)          f(d5)         f(d6)         f(d7)         f(d8)  \\\n",
       "0.5  66512.137536  839626.316304  1.544716e+06  1.602295e+06  3.088584e+06   \n",
       "\n",
       "             f(d9)  \n",
       "0.5  264732.526359  \n",
       "\n",
       "[1 rows x 21 columns]"
      ]
     },
     "execution_count": 19,
     "metadata": {},
     "output_type": "execute_result"
    }
   ],
   "source": [
    "q "
   ]
  },
  {
   "cell_type": "code",
   "execution_count": 20,
   "metadata": {},
   "outputs": [],
   "source": [
    "infer_beta = 1.114597\n",
    "theta_input2 = np.append(infer_f, infer_beta)\n",
    "infer_g2 = dls.g2(theta_input2, d, m, gamma, time_in)"
   ]
  },
  {
   "cell_type": "code",
   "execution_count": 23,
   "metadata": {},
   "outputs": [
    {
     "data": {
      "text/plain": [
       "<matplotlib.legend.Legend at 0x12300bc90>"
      ]
     },
     "execution_count": 23,
     "metadata": {},
     "output_type": "execute_result"
    },
    {
     "data": {
      "image/png": "[encoded data removed]",
      "text/plain": [
       "<Figure size 432x288 with 1 Axes>"
      ]
     },
     "metadata": {
      "needs_background": "light"
     },
     "output_type": "display_data"
    }
   ],
   "source": [
    "plt.semilogx(time_in, infer_g2,'bo', label='Inferred')\n",
    "plt.semilogx(time_in, sim_data, label='Simulated')\n",
    "plt.legend()"
   ]
  },
  {
   "cell_type": "code",
   "execution_count": 24,
   "metadata": {},
   "outputs": [
    {
     "data": {
      "text/plain": [
       "[<matplotlib.lines.Line2D at 0x1230fb750>]"
      ]
     },
     "execution_count": 24,
     "metadata": {},
     "output_type": "execute_result"
    },
    {
     "data": {
      "image/png": "[encoded data removed]",
      "text/plain": [
       "<Figure size 432x288 with 1 Axes>"
      ]
     },
     "metadata": {
      "needs_background": "light"
     },
     "output_type": "display_data"
    }
   ],
   "source": [
    "plt.semilogx(time_in, infer_g2 - sim_data)"
   ]
  },
  {
   "cell_type": "code",
   "execution_count": null,
   "metadata": {},
   "outputs": [],
   "source": []
  }
 ],
 "metadata": {
  "kernelspec": {
   "display_name": "Python 2",
   "language": "python",
   "name": "python2"
  },
  "language_info": {
   "codemirror_mode": {
    "name": "ipython",
    "version": 2
   },
   "file_extension": ".py",
   "mimetype": "text/x-python",
   "name": "python",
   "nbconvert_exporter": "python",
   "pygments_lexer": "ipython2",
   "version": "2.7.16"
  }
 },
 "nbformat": 4,
 "nbformat_minor": 2
}
