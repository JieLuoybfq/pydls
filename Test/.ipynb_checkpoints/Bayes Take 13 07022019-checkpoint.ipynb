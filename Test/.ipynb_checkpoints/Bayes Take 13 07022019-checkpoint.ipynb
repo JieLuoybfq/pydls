{
 "cells": [
  {
   "cell_type": "code",
   "execution_count": 1,
   "metadata": {},
   "outputs": [],
   "source": [
    "import numpy as np\n",
    "import emcee\n",
    "import matplotlib.pyplot as plt\n",
    "import seaborn as sns\n",
    "import pandas as pd\n",
    "import dlsfunctions as dls"
   ]
  },
  {
   "cell_type": "code",
   "execution_count": 2,
   "metadata": {},
   "outputs": [],
   "source": [
    "r = 2.24e-9\n",
    "diameter = r * 2 + 3e-9\n",
    "sigma = 1e-10\n",
    "\n",
    "m = 20\n",
    "c = 1\n",
    "eta = 1e-3\n",
    "n = 1.33 \n",
    "theta = np.pi/2\n",
    "k_b = 1.38e-23\n",
    "t = 298.15\n",
    "lambda_0 = 638e-9\n",
    "beta = 1\n",
    "\n",
    "time_in = np.linspace(1e-4, 1e-1, 200)*0.001\n",
    "gamma = dls.calc_gamma(m, c, eta, n, theta, k_b, t, lambda_0)\n",
    "\n",
    "d = np.linspace(5e-10, 9e-9, 20)\n",
    "f_1 = dls.generate_distribution(d, diameter, sigma, c)"
   ]
  },
  {
   "cell_type": "code",
   "execution_count": 3,
   "metadata": {},
   "outputs": [
    {
     "data": {
      "text/plain": [
       "[<matplotlib.lines.Line2D at 0x11af789d0>]"
      ]
     },
     "execution_count": 3,
     "metadata": {},
     "output_type": "execute_result"
    },
    {
     "data": {
      "image/png": "[encoded data removed]",
      "text/plain": [
       "<Figure size 432x288 with 1 Axes>"
      ]
     },
     "metadata": {
      "needs_background": "light"
     },
     "output_type": "display_data"
    }
   ],
   "source": [
    "plt.plot(d, f_1)"
   ]
  },
  {
   "cell_type": "code",
   "execution_count": 4,
   "metadata": {},
   "outputs": [],
   "source": [
    "theta_input = np.append(f_1, beta)"
   ]
  },
  {
   "cell_type": "code",
   "execution_count": 5,
   "metadata": {},
   "outputs": [],
   "source": [
    "sim_data = dls.g2(theta_input, d, m, gamma, time_in)"
   ]
  },
  {
   "cell_type": "code",
   "execution_count": 6,
   "metadata": {},
   "outputs": [],
   "source": [
    "ndim = 21\n",
    "nwalkers = 100\n",
    "nsteps = 3000"
   ]
  },
  {
   "cell_type": "code",
   "execution_count": 7,
   "metadata": {},
   "outputs": [],
   "source": [
    "start_pos = dls.create_start_pos(theta_input, ndim, nwalkers)"
   ]
  },
  {
   "cell_type": "code",
   "execution_count": 8,
   "metadata": {},
   "outputs": [],
   "source": [
    "sampler = dls.create_sampler(nwalkers, ndim, d, sim_data, m, gamma, time_in)"
   ]
  },
  {
   "cell_type": "code",
   "execution_count": null,
   "metadata": {},
   "outputs": [],
   "source": [
    "result = sampler.run_mcmc(start_pos, nsteps)\n",
    "sampler.acceptance_fraction"
   ]
  },
  {
   "cell_type": "code",
   "execution_count": 25,
   "metadata": {},
   "outputs": [
    {
     "name": "stderr",
     "output_type": "stream",
     "text": [
      "/home/tle3/anaconda3/lib/python3.7/site-packages/seaborn/timeseries.py:183: UserWarning: The `tsplot` function is deprecated and will be removed in a future release. Please update your code to use the new `lineplot` function.\n",
      "  warnings.warn(msg, UserWarning)\n",
      "/home/tle3/anaconda3/lib/python3.7/site-packages/seaborn/timeseries.py:183: UserWarning: The `tsplot` function is deprecated and will be removed in a future release. Please update your code to use the new `lineplot` function.\n",
      "  warnings.warn(msg, UserWarning)\n",
      "/home/tle3/anaconda3/lib/python3.7/site-packages/seaborn/timeseries.py:183: UserWarning: The `tsplot` function is deprecated and will be removed in a future release. Please update your code to use the new `lineplot` function.\n",
      "  warnings.warn(msg, UserWarning)\n",
      "/home/tle3/anaconda3/lib/python3.7/site-packages/seaborn/timeseries.py:183: UserWarning: The `tsplot` function is deprecated and will be removed in a future release. Please update your code to use the new `lineplot` function.\n",
      "  warnings.warn(msg, UserWarning)\n",
      "/home/tle3/anaconda3/lib/python3.7/site-packages/seaborn/timeseries.py:183: UserWarning: The `tsplot` function is deprecated and will be removed in a future release. Please update your code to use the new `lineplot` function.\n",
      "  warnings.warn(msg, UserWarning)\n",
      "/home/tle3/anaconda3/lib/python3.7/site-packages/seaborn/timeseries.py:183: UserWarning: The `tsplot` function is deprecated and will be removed in a future release. Please update your code to use the new `lineplot` function.\n",
      "  warnings.warn(msg, UserWarning)\n",
      "/home/tle3/anaconda3/lib/python3.7/site-packages/seaborn/timeseries.py:183: UserWarning: The `tsplot` function is deprecated and will be removed in a future release. Please update your code to use the new `lineplot` function.\n",
      "  warnings.warn(msg, UserWarning)\n",
      "/home/tle3/anaconda3/lib/python3.7/site-packages/seaborn/timeseries.py:183: UserWarning: The `tsplot` function is deprecated and will be removed in a future release. Please update your code to use the new `lineplot` function.\n",
      "  warnings.warn(msg, UserWarning)\n",
      "/home/tle3/anaconda3/lib/python3.7/site-packages/seaborn/timeseries.py:183: UserWarning: The `tsplot` function is deprecated and will be removed in a future release. Please update your code to use the new `lineplot` function.\n",
      "  warnings.warn(msg, UserWarning)\n",
      "/home/tle3/anaconda3/lib/python3.7/site-packages/seaborn/timeseries.py:183: UserWarning: The `tsplot` function is deprecated and will be removed in a future release. Please update your code to use the new `lineplot` function.\n",
      "  warnings.warn(msg, UserWarning)\n",
      "/home/tle3/anaconda3/lib/python3.7/site-packages/seaborn/timeseries.py:183: UserWarning: The `tsplot` function is deprecated and will be removed in a future release. Please update your code to use the new `lineplot` function.\n",
      "  warnings.warn(msg, UserWarning)\n",
      "/home/tle3/anaconda3/lib/python3.7/site-packages/seaborn/timeseries.py:183: UserWarning: The `tsplot` function is deprecated and will be removed in a future release. Please update your code to use the new `lineplot` function.\n",
      "  warnings.warn(msg, UserWarning)\n",
      "/home/tle3/anaconda3/lib/python3.7/site-packages/seaborn/timeseries.py:183: UserWarning: The `tsplot` function is deprecated and will be removed in a future release. Please update your code to use the new `lineplot` function.\n",
      "  warnings.warn(msg, UserWarning)\n",
      "/home/tle3/anaconda3/lib/python3.7/site-packages/seaborn/timeseries.py:183: UserWarning: The `tsplot` function is deprecated and will be removed in a future release. Please update your code to use the new `lineplot` function.\n",
      "  warnings.warn(msg, UserWarning)\n",
      "/home/tle3/anaconda3/lib/python3.7/site-packages/seaborn/timeseries.py:183: UserWarning: The `tsplot` function is deprecated and will be removed in a future release. Please update your code to use the new `lineplot` function.\n",
      "  warnings.warn(msg, UserWarning)\n",
      "/home/tle3/anaconda3/lib/python3.7/site-packages/seaborn/timeseries.py:183: UserWarning: The `tsplot` function is deprecated and will be removed in a future release. Please update your code to use the new `lineplot` function.\n",
      "  warnings.warn(msg, UserWarning)\n",
      "/home/tle3/anaconda3/lib/python3.7/site-packages/seaborn/timeseries.py:183: UserWarning: The `tsplot` function is deprecated and will be removed in a future release. Please update your code to use the new `lineplot` function.\n",
      "  warnings.warn(msg, UserWarning)\n",
      "/home/tle3/anaconda3/lib/python3.7/site-packages/seaborn/timeseries.py:183: UserWarning: The `tsplot` function is deprecated and will be removed in a future release. Please update your code to use the new `lineplot` function.\n",
      "  warnings.warn(msg, UserWarning)\n",
      "/home/tle3/anaconda3/lib/python3.7/site-packages/seaborn/timeseries.py:183: UserWarning: The `tsplot` function is deprecated and will be removed in a future release. Please update your code to use the new `lineplot` function.\n",
      "  warnings.warn(msg, UserWarning)\n",
      "/home/tle3/anaconda3/lib/python3.7/site-packages/seaborn/timeseries.py:183: UserWarning: The `tsplot` function is deprecated and will be removed in a future release. Please update your code to use the new `lineplot` function.\n",
      "  warnings.warn(msg, UserWarning)\n"
     ]
    },
    {
     "data": {
      "image/png": "[encoded data removed]",
      "text/plain": [
       "<Figure size 432x288 with 2 Axes>"
      ]
     },
     "metadata": {
      "needs_background": "light"
     },
     "output_type": "display_data"
    }
   ],
   "source": [
    "plt.style.use('seaborn-deep')\n",
    "plt.rcParams['mathtext.fontset'] = 'stix'\n",
    "plt.rcParams['font.family'] = 'STIXGeneral'\n",
    "params = {'legend.fontsize': 'x-large',\n",
    "          'figure.figsize': (15, 5),\n",
    "         'axes.labelsize': 'x-large',\n",
    "         'axes.titlesize':'x-large',\n",
    "         'xtick.labelsize':'x-large',\n",
    "         'ytick.labelsize':'x-large'}\n",
    "\n",
    "fig, (ax0, ax1) = plt.subplots(2)\n",
    "ax0.set(ylabel='f(d0)')\n",
    "ax1.set(ylabel='f(d1)')\n",
    "\n",
    "for j in range(10):\n",
    "    sns.tsplot(sampler.chain[j, :, 0], ax=ax0)\n",
    "    sns.tsplot(sampler.chain[j, :, 1], ax=ax1)"
   ]
  },
  {
   "cell_type": "code",
   "execution_count": 26,
   "metadata": {},
   "outputs": [],
   "source": [
    "samples = sampler.chain[:,2500:,:]\n",
    "\n",
    "# reshape the samples into a 1D array where the colums are the f(d) values\n",
    "traces = samples.reshape(-1, ndim).T\n",
    "\n",
    "parameter_samples = pd.DataFrame({'f(d0)': traces[0], 'f(d1)': traces[1], 'f(d2)': traces[2], 'f(d3)': traces[3], 'f(d4)': traces[4], 'f(d5)': traces[5], 'f(d6)': traces[6], 'f(d7)': traces[7], 'f(d8)': traces[8], 'f(d9)': traces[9], 'f(d10)': traces[10], 'f(d11)': traces[11], 'f(d12)': traces[12], 'f(d13)': traces[13], 'f(d14)': traces[14], 'f(d15)': traces[15], 'f(d16)': traces[16], 'f(d17)': traces[17], 'f(d18)': traces[18], 'f(d19)': traces[19], 'beta': traces[20]})\n",
    "\n",
    "# calculate the MAP and values using pandas\n",
    "q = parameter_samples.quantile([0.16,0.50,0.84], axis=0)"
   ]
  },
  {
   "cell_type": "code",
   "execution_count": 27,
   "metadata": {},
   "outputs": [
    {
     "data": {
      "text/html": [
       "<div>\n",
       "<style scoped>\n",
       "    .dataframe tbody tr th:only-of-type {\n",
       "        vertical-align: middle;\n",
       "    }\n",
       "\n",
       "    .dataframe tbody tr th {\n",
       "        vertical-align: top;\n",
       "    }\n",
       "\n",
       "    .dataframe thead th {\n",
       "        text-align: right;\n",
       "    }\n",
       "</style>\n",
       "<table border=\"1\" class=\"dataframe\">\n",
       "  <thead>\n",
       "    <tr style=\"text-align: right;\">\n",
       "      <th></th>\n",
       "      <th>f(d0)</th>\n",
       "      <th>f(d1)</th>\n",
       "      <th>f(d2)</th>\n",
       "      <th>f(d3)</th>\n",
       "      <th>f(d4)</th>\n",
       "      <th>f(d5)</th>\n",
       "      <th>f(d6)</th>\n",
       "      <th>f(d7)</th>\n",
       "      <th>f(d8)</th>\n",
       "      <th>f(d9)</th>\n",
       "      <th>...</th>\n",
       "      <th>f(d11)</th>\n",
       "      <th>f(d12)</th>\n",
       "      <th>f(d13)</th>\n",
       "      <th>f(d14)</th>\n",
       "      <th>f(d15)</th>\n",
       "      <th>f(d16)</th>\n",
       "      <th>f(d17)</th>\n",
       "      <th>f(d18)</th>\n",
       "      <th>f(d19)</th>\n",
       "      <th>beta</th>\n",
       "    </tr>\n",
       "  </thead>\n",
       "  <tbody>\n",
       "    <tr>\n",
       "      <th>0.16</th>\n",
       "      <td>1.992311e+06</td>\n",
       "      <td>2.398819e+08</td>\n",
       "      <td>1.685917e+06</td>\n",
       "      <td>2.269440e+07</td>\n",
       "      <td>6.672914e+08</td>\n",
       "      <td>4.236037e+06</td>\n",
       "      <td>4.355634e+08</td>\n",
       "      <td>2.919380e+08</td>\n",
       "      <td>6.616539e+08</td>\n",
       "      <td>3.164551e+08</td>\n",
       "      <td>...</td>\n",
       "      <td>6.081313e+05</td>\n",
       "      <td>5.657753e+08</td>\n",
       "      <td>9.894052e+07</td>\n",
       "      <td>3.770203e+08</td>\n",
       "      <td>3.888109e+08</td>\n",
       "      <td>1.100562e+09</td>\n",
       "      <td>5.976281e+05</td>\n",
       "      <td>2.877118e+08</td>\n",
       "      <td>3.140711e+08</td>\n",
       "      <td>0.050520</td>\n",
       "    </tr>\n",
       "    <tr>\n",
       "      <th>0.50</th>\n",
       "      <td>8.203932e+06</td>\n",
       "      <td>2.545220e+08</td>\n",
       "      <td>5.003910e+06</td>\n",
       "      <td>3.732575e+07</td>\n",
       "      <td>6.820107e+08</td>\n",
       "      <td>6.448522e+06</td>\n",
       "      <td>4.447929e+08</td>\n",
       "      <td>3.153706e+08</td>\n",
       "      <td>6.766050e+08</td>\n",
       "      <td>3.355434e+08</td>\n",
       "      <td>...</td>\n",
       "      <td>1.970168e+06</td>\n",
       "      <td>5.782420e+08</td>\n",
       "      <td>1.152911e+08</td>\n",
       "      <td>3.840110e+08</td>\n",
       "      <td>4.123040e+08</td>\n",
       "      <td>1.113220e+09</td>\n",
       "      <td>1.412369e+06</td>\n",
       "      <td>2.997302e+08</td>\n",
       "      <td>3.326625e+08</td>\n",
       "      <td>0.170819</td>\n",
       "    </tr>\n",
       "    <tr>\n",
       "      <th>0.84</th>\n",
       "      <td>1.939494e+07</td>\n",
       "      <td>2.751541e+08</td>\n",
       "      <td>8.893404e+06</td>\n",
       "      <td>4.911823e+07</td>\n",
       "      <td>6.898923e+08</td>\n",
       "      <td>7.972566e+06</td>\n",
       "      <td>4.632073e+08</td>\n",
       "      <td>3.290684e+08</td>\n",
       "      <td>6.832376e+08</td>\n",
       "      <td>3.564622e+08</td>\n",
       "      <td>...</td>\n",
       "      <td>4.171360e+06</td>\n",
       "      <td>5.889416e+08</td>\n",
       "      <td>1.232986e+08</td>\n",
       "      <td>3.927967e+08</td>\n",
       "      <td>4.399257e+08</td>\n",
       "      <td>1.144534e+09</td>\n",
       "      <td>4.050606e+06</td>\n",
       "      <td>3.172112e+08</td>\n",
       "      <td>3.514446e+08</td>\n",
       "      <td>0.363494</td>\n",
       "    </tr>\n",
       "  </tbody>\n",
       "</table>\n",
       "<p>3 rows × 21 columns</p>\n",
       "</div>"
      ],
      "text/plain": [
       "             f(d0)         f(d1)         f(d2)         f(d3)         f(d4)  \\\n",
       "0.16  1.992311e+06  2.398819e+08  1.685917e+06  2.269440e+07  6.672914e+08   \n",
       "0.50  8.203932e+06  2.545220e+08  5.003910e+06  3.732575e+07  6.820107e+08   \n",
       "0.84  1.939494e+07  2.751541e+08  8.893404e+06  4.911823e+07  6.898923e+08   \n",
       "\n",
       "             f(d5)         f(d6)         f(d7)         f(d8)         f(d9)  \\\n",
       "0.16  4.236037e+06  4.355634e+08  2.919380e+08  6.616539e+08  3.164551e+08   \n",
       "0.50  6.448522e+06  4.447929e+08  3.153706e+08  6.766050e+08  3.355434e+08   \n",
       "0.84  7.972566e+06  4.632073e+08  3.290684e+08  6.832376e+08  3.564622e+08   \n",
       "\n",
       "      ...        f(d11)        f(d12)        f(d13)        f(d14)  \\\n",
       "0.16  ...  6.081313e+05  5.657753e+08  9.894052e+07  3.770203e+08   \n",
       "0.50  ...  1.970168e+06  5.782420e+08  1.152911e+08  3.840110e+08   \n",
       "0.84  ...  4.171360e+06  5.889416e+08  1.232986e+08  3.927967e+08   \n",
       "\n",
       "            f(d15)        f(d16)        f(d17)        f(d18)        f(d19)  \\\n",
       "0.16  3.888109e+08  1.100562e+09  5.976281e+05  2.877118e+08  3.140711e+08   \n",
       "0.50  4.123040e+08  1.113220e+09  1.412369e+06  2.997302e+08  3.326625e+08   \n",
       "0.84  4.399257e+08  1.144534e+09  4.050606e+06  3.172112e+08  3.514446e+08   \n",
       "\n",
       "          beta  \n",
       "0.16  0.050520  \n",
       "0.50  0.170819  \n",
       "0.84  0.363494  \n",
       "\n",
       "[3 rows x 21 columns]"
      ]
     },
     "execution_count": 27,
     "metadata": {},
     "output_type": "execute_result"
    }
   ],
   "source": [
    "q"
   ]
  },
  {
   "cell_type": "code",
   "execution_count": 28,
   "metadata": {},
   "outputs": [],
   "source": [
    "q_50 = q.quantile([0.5], axis=0)\n",
    "q_50_array = q_50.values\n",
    "q_50_array = q_50_array.flatten()"
   ]
  },
  {
   "cell_type": "code",
   "execution_count": 30,
   "metadata": {},
   "outputs": [
    {
     "data": {
      "text/plain": [
       "[<matplotlib.lines.Line2D at 0x7f61b40c6ef0>]"
      ]
     },
     "execution_count": 30,
     "metadata": {},
     "output_type": "execute_result"
    },
    {
     "data": {
      "image/png": "[encoded data removed]",
      "text/plain": [
       "<Figure size 432x288 with 1 Axes>"
      ]
     },
     "metadata": {
      "needs_background": "light"
     },
     "output_type": "display_data"
    }
   ],
   "source": [
    "plt.plot(d, q_50_array[0:20])"
   ]
  },
  {
   "cell_type": "code",
   "execution_count": 31,
   "metadata": {},
   "outputs": [],
   "source": [
    "ndim = 21\n",
    "nwalkers = 100\n",
    "nsteps = 4000"
   ]
  },
  {
   "cell_type": "code",
   "execution_count": 32,
   "metadata": {},
   "outputs": [],
   "source": [
    "start_pos = dls.create_start_pos(theta_input, ndim, nwalkers)"
   ]
  },
  {
   "cell_type": "code",
   "execution_count": 33,
   "metadata": {},
   "outputs": [],
   "source": [
    "sampler = dls.create_sampler(nwalkers, ndim, d, sim_data, m, gamma, time_in)"
   ]
  },
  {
   "cell_type": "code",
   "execution_count": 35,
   "metadata": {},
   "outputs": [
    {
     "data": {
      "text/plain": [
       "array([0., 0., 0., 0., 0., 0., 0., 0., 0., 0., 0., 0., 0., 0., 0., 0., 0.,\n",
       "       0., 0., 0., 0., 0., 0., 0., 0., 0., 0., 0., 0., 0., 0., 0., 0., 0.,\n",
       "       0., 0., 0., 0., 0., 0., 0., 0., 0., 0., 0., 0., 0., 0., 0., 0., 0.,\n",
       "       0., 0., 0., 0., 0., 0., 0., 0., 0., 0., 0., 0., 0., 0., 0., 0., 0.,\n",
       "       0., 0., 0., 0., 0., 0., 0., 0., 0., 0., 0., 0., 0., 0., 0., 0., 0.,\n",
       "       0., 0., 0., 0., 0., 0., 0., 0., 0., 0., 0., 0., 0., 0., 0.])"
      ]
     },
     "execution_count": 35,
     "metadata": {},
     "output_type": "execute_result"
    }
   ],
   "source": [
    "result = sampler.run_mcmc(start_pos, nsteps)\n",
    "sampler.acceptance_fraction"
   ]
  },
  {
   "cell_type": "code",
   "execution_count": 36,
   "metadata": {},
   "outputs": [],
   "source": [
    "start_pos1 = dls.create_start_pos(theta_input, ndim, nwalkers)\n",
    "sampler1 = dls.create_sampler(nwalkers, ndim, d, sim_data, m, gamma, time_in)"
   ]
  },
  {
   "cell_type": "code",
   "execution_count": 37,
   "metadata": {},
   "outputs": [
    {
     "data": {
      "text/plain": [
       "array([0.336  , 0.34625, 0.33625, 0.338  , 0.32525, 0.3235 , 0.34575,\n",
       "       0.33725, 0.32425, 0.3345 , 0.34625, 0.3195 , 0.33775, 0.33725,\n",
       "       0.31025, 0.33925, 0.336  , 0.326  , 0.3415 , 0.343  , 0.33375,\n",
       "       0.34475, 0.33825, 0.353  , 0.3205 , 0.33375, 0.34625, 0.323  ,\n",
       "       0.3225 , 0.3275 , 0.332  , 0.34525, 0.341  , 0.32525, 0.3445 ,\n",
       "       0.349  , 0.32975, 0.33325, 0.3375 , 0.34475, 0.34   , 0.33   ,\n",
       "       0.34225, 0.33275, 0.33775, 0.33625, 0.34575, 0.33025, 0.3295 ,\n",
       "       0.3335 , 0.3485 , 0.33475, 0.34075, 0.33425, 0.338  , 0.33525,\n",
       "       0.3435 , 0.3355 , 0.3385 , 0.34625, 0.332  , 0.34   , 0.34225,\n",
       "       0.3405 , 0.33875, 0.32975, 0.329  , 0.336  , 0.341  , 0.34075,\n",
       "       0.3405 , 0.336  , 0.34225, 0.31975, 0.3415 , 0.3445 , 0.328  ,\n",
       "       0.3305 , 0.33375, 0.3285 , 0.34125, 0.33775, 0.3265 , 0.33175,\n",
       "       0.3385 , 0.354  , 0.32675, 0.3175 , 0.33475, 0.3495 , 0.331  ,\n",
       "       0.3325 , 0.31825, 0.319  , 0.32525, 0.304  , 0.3335 , 0.3405 ,\n",
       "       0.32425, 0.30675])"
      ]
     },
     "execution_count": 37,
     "metadata": {},
     "output_type": "execute_result"
    }
   ],
   "source": [
    "result1 = sampler1.run_mcmc(start_pos1, nsteps)\n",
    "sampler1.acceptance_fraction"
   ]
  },
  {
   "cell_type": "code",
   "execution_count": 42,
   "metadata": {},
   "outputs": [
    {
     "name": "stderr",
     "output_type": "stream",
     "text": [
      "/home/tle3/anaconda3/lib/python3.7/site-packages/seaborn/timeseries.py:183: UserWarning: The `tsplot` function is deprecated and will be removed in a future release. Please update your code to use the new `lineplot` function.\n",
      "  warnings.warn(msg, UserWarning)\n",
      "/home/tle3/anaconda3/lib/python3.7/site-packages/seaborn/timeseries.py:183: UserWarning: The `tsplot` function is deprecated and will be removed in a future release. Please update your code to use the new `lineplot` function.\n",
      "  warnings.warn(msg, UserWarning)\n",
      "/home/tle3/anaconda3/lib/python3.7/site-packages/seaborn/timeseries.py:183: UserWarning: The `tsplot` function is deprecated and will be removed in a future release. Please update your code to use the new `lineplot` function.\n",
      "  warnings.warn(msg, UserWarning)\n",
      "/home/tle3/anaconda3/lib/python3.7/site-packages/seaborn/timeseries.py:183: UserWarning: The `tsplot` function is deprecated and will be removed in a future release. Please update your code to use the new `lineplot` function.\n",
      "  warnings.warn(msg, UserWarning)\n",
      "/home/tle3/anaconda3/lib/python3.7/site-packages/seaborn/timeseries.py:183: UserWarning: The `tsplot` function is deprecated and will be removed in a future release. Please update your code to use the new `lineplot` function.\n",
      "  warnings.warn(msg, UserWarning)\n",
      "/home/tle3/anaconda3/lib/python3.7/site-packages/seaborn/timeseries.py:183: UserWarning: The `tsplot` function is deprecated and will be removed in a future release. Please update your code to use the new `lineplot` function.\n",
      "  warnings.warn(msg, UserWarning)\n",
      "/home/tle3/anaconda3/lib/python3.7/site-packages/seaborn/timeseries.py:183: UserWarning: The `tsplot` function is deprecated and will be removed in a future release. Please update your code to use the new `lineplot` function.\n",
      "  warnings.warn(msg, UserWarning)\n",
      "/home/tle3/anaconda3/lib/python3.7/site-packages/seaborn/timeseries.py:183: UserWarning: The `tsplot` function is deprecated and will be removed in a future release. Please update your code to use the new `lineplot` function.\n",
      "  warnings.warn(msg, UserWarning)\n",
      "/home/tle3/anaconda3/lib/python3.7/site-packages/seaborn/timeseries.py:183: UserWarning: The `tsplot` function is deprecated and will be removed in a future release. Please update your code to use the new `lineplot` function.\n",
      "  warnings.warn(msg, UserWarning)\n",
      "/home/tle3/anaconda3/lib/python3.7/site-packages/seaborn/timeseries.py:183: UserWarning: The `tsplot` function is deprecated and will be removed in a future release. Please update your code to use the new `lineplot` function.\n",
      "  warnings.warn(msg, UserWarning)\n",
      "/home/tle3/anaconda3/lib/python3.7/site-packages/seaborn/timeseries.py:183: UserWarning: The `tsplot` function is deprecated and will be removed in a future release. Please update your code to use the new `lineplot` function.\n",
      "  warnings.warn(msg, UserWarning)\n",
      "/home/tle3/anaconda3/lib/python3.7/site-packages/seaborn/timeseries.py:183: UserWarning: The `tsplot` function is deprecated and will be removed in a future release. Please update your code to use the new `lineplot` function.\n",
      "  warnings.warn(msg, UserWarning)\n",
      "/home/tle3/anaconda3/lib/python3.7/site-packages/seaborn/timeseries.py:183: UserWarning: The `tsplot` function is deprecated and will be removed in a future release. Please update your code to use the new `lineplot` function.\n",
      "  warnings.warn(msg, UserWarning)\n",
      "/home/tle3/anaconda3/lib/python3.7/site-packages/seaborn/timeseries.py:183: UserWarning: The `tsplot` function is deprecated and will be removed in a future release. Please update your code to use the new `lineplot` function.\n",
      "  warnings.warn(msg, UserWarning)\n",
      "/home/tle3/anaconda3/lib/python3.7/site-packages/seaborn/timeseries.py:183: UserWarning: The `tsplot` function is deprecated and will be removed in a future release. Please update your code to use the new `lineplot` function.\n",
      "  warnings.warn(msg, UserWarning)\n",
      "/home/tle3/anaconda3/lib/python3.7/site-packages/seaborn/timeseries.py:183: UserWarning: The `tsplot` function is deprecated and will be removed in a future release. Please update your code to use the new `lineplot` function.\n",
      "  warnings.warn(msg, UserWarning)\n",
      "/home/tle3/anaconda3/lib/python3.7/site-packages/seaborn/timeseries.py:183: UserWarning: The `tsplot` function is deprecated and will be removed in a future release. Please update your code to use the new `lineplot` function.\n",
      "  warnings.warn(msg, UserWarning)\n",
      "/home/tle3/anaconda3/lib/python3.7/site-packages/seaborn/timeseries.py:183: UserWarning: The `tsplot` function is deprecated and will be removed in a future release. Please update your code to use the new `lineplot` function.\n",
      "  warnings.warn(msg, UserWarning)\n",
      "/home/tle3/anaconda3/lib/python3.7/site-packages/seaborn/timeseries.py:183: UserWarning: The `tsplot` function is deprecated and will be removed in a future release. Please update your code to use the new `lineplot` function.\n",
      "  warnings.warn(msg, UserWarning)\n",
      "/home/tle3/anaconda3/lib/python3.7/site-packages/seaborn/timeseries.py:183: UserWarning: The `tsplot` function is deprecated and will be removed in a future release. Please update your code to use the new `lineplot` function.\n",
      "  warnings.warn(msg, UserWarning)\n"
     ]
    },
    {
     "data": {
      "image/png": "[encoded data removed]",
      "text/plain": [
       "<Figure size 432x288 with 2 Axes>"
      ]
     },
     "metadata": {
      "needs_background": "light"
     },
     "output_type": "display_data"
    }
   ],
   "source": [
    "plt.style.use('seaborn-deep')\n",
    "plt.rcParams['mathtext.fontset'] = 'stix'\n",
    "plt.rcParams['font.family'] = 'STIXGeneral'\n",
    "params = {'legend.fontsize': 'x-large',\n",
    "          'figure.figsize': (15, 5),\n",
    "         'axes.labelsize': 'x-large',\n",
    "         'axes.titlesize':'x-large',\n",
    "         'xtick.labelsize':'x-large',\n",
    "         'ytick.labelsize':'x-large'}\n",
    "\n",
    "fig, (ax0, ax1) = plt.subplots(2)\n",
    "ax0.set(ylabel='f(d0)')\n",
    "ax1.set(ylabel='f(d1)')\n",
    "\n",
    "for j in range(10):\n",
    "    sns.tsplot(sampler1.chain[j, :, 0], ax=ax0)\n",
    "    sns.tsplot(sampler1.chain[j, :, 1], ax=ax1)"
   ]
  },
  {
   "cell_type": "code",
   "execution_count": 43,
   "metadata": {},
   "outputs": [],
   "source": [
    "samples = sampler1.chain[:,3500:,:]\n",
    "\n",
    "# reshape the samples into a 1D array where the colums are the f(d) values\n",
    "traces = samples.reshape(-1, ndim).T\n",
    "\n",
    "parameter_samples = pd.DataFrame({'f(d0)': traces[0], 'f(d1)': traces[1], 'f(d2)': traces[2], 'f(d3)': traces[3], 'f(d4)': traces[4], 'f(d5)': traces[5], 'f(d6)': traces[6], 'f(d7)': traces[7], 'f(d8)': traces[8], 'f(d9)': traces[9], 'f(d10)': traces[10], 'f(d11)': traces[11], 'f(d12)': traces[12], 'f(d13)': traces[13], 'f(d14)': traces[14], 'f(d15)': traces[15], 'f(d16)': traces[16], 'f(d17)': traces[17], 'f(d18)': traces[18], 'f(d19)': traces[19], 'beta': traces[20]})\n",
    "\n",
    "# calculate the MAP and values using pandas\n",
    "q = parameter_samples.quantile([0.16,0.50,0.84], axis=0)"
   ]
  },
  {
   "cell_type": "code",
   "execution_count": 44,
   "metadata": {},
   "outputs": [
    {
     "data": {
      "text/html": [
       "<div>\n",
       "<style scoped>\n",
       "    .dataframe tbody tr th:only-of-type {\n",
       "        vertical-align: middle;\n",
       "    }\n",
       "\n",
       "    .dataframe tbody tr th {\n",
       "        vertical-align: top;\n",
       "    }\n",
       "\n",
       "    .dataframe thead th {\n",
       "        text-align: right;\n",
       "    }\n",
       "</style>\n",
       "<table border=\"1\" class=\"dataframe\">\n",
       "  <thead>\n",
       "    <tr style=\"text-align: right;\">\n",
       "      <th></th>\n",
       "      <th>f(d0)</th>\n",
       "      <th>f(d1)</th>\n",
       "      <th>f(d2)</th>\n",
       "      <th>f(d3)</th>\n",
       "      <th>f(d4)</th>\n",
       "      <th>f(d5)</th>\n",
       "      <th>f(d6)</th>\n",
       "      <th>f(d7)</th>\n",
       "      <th>f(d8)</th>\n",
       "      <th>f(d9)</th>\n",
       "      <th>...</th>\n",
       "      <th>f(d11)</th>\n",
       "      <th>f(d12)</th>\n",
       "      <th>f(d13)</th>\n",
       "      <th>f(d14)</th>\n",
       "      <th>f(d15)</th>\n",
       "      <th>f(d16)</th>\n",
       "      <th>f(d17)</th>\n",
       "      <th>f(d18)</th>\n",
       "      <th>f(d19)</th>\n",
       "      <th>beta</th>\n",
       "    </tr>\n",
       "  </thead>\n",
       "  <tbody>\n",
       "    <tr>\n",
       "      <th>0.16</th>\n",
       "      <td>1647.990447</td>\n",
       "      <td>667.061343</td>\n",
       "      <td>5695.013943</td>\n",
       "      <td>78.174669</td>\n",
       "      <td>537.927140</td>\n",
       "      <td>10404.766975</td>\n",
       "      <td>9187.550156</td>\n",
       "      <td>8327.224893</td>\n",
       "      <td>52.627076</td>\n",
       "      <td>34.692511</td>\n",
       "      <td>...</td>\n",
       "      <td>3027.875370</td>\n",
       "      <td>4967.714464</td>\n",
       "      <td>694.676889</td>\n",
       "      <td>827.426407</td>\n",
       "      <td>2.552836e+08</td>\n",
       "      <td>1.980010e+09</td>\n",
       "      <td>19.050361</td>\n",
       "      <td>2399.935029</td>\n",
       "      <td>1191.597711</td>\n",
       "      <td>0.416249</td>\n",
       "    </tr>\n",
       "    <tr>\n",
       "      <th>0.50</th>\n",
       "      <td>1954.051576</td>\n",
       "      <td>992.501204</td>\n",
       "      <td>6294.009128</td>\n",
       "      <td>203.706255</td>\n",
       "      <td>769.671374</td>\n",
       "      <td>10783.459592</td>\n",
       "      <td>9429.003082</td>\n",
       "      <td>8529.191713</td>\n",
       "      <td>92.489820</td>\n",
       "      <td>70.040545</td>\n",
       "      <td>...</td>\n",
       "      <td>3426.611086</td>\n",
       "      <td>5486.391655</td>\n",
       "      <td>933.086285</td>\n",
       "      <td>1002.397491</td>\n",
       "      <td>2.552842e+08</td>\n",
       "      <td>1.980011e+09</td>\n",
       "      <td>49.324112</td>\n",
       "      <td>2580.398573</td>\n",
       "      <td>1443.051414</td>\n",
       "      <td>1.378205</td>\n",
       "    </tr>\n",
       "    <tr>\n",
       "      <th>0.84</th>\n",
       "      <td>2089.512701</td>\n",
       "      <td>1190.236537</td>\n",
       "      <td>6787.050327</td>\n",
       "      <td>363.920178</td>\n",
       "      <td>1261.145763</td>\n",
       "      <td>11327.882465</td>\n",
       "      <td>9612.715220</td>\n",
       "      <td>8711.693539</td>\n",
       "      <td>150.687114</td>\n",
       "      <td>105.933648</td>\n",
       "      <td>...</td>\n",
       "      <td>3978.112577</td>\n",
       "      <td>6439.231994</td>\n",
       "      <td>1576.755696</td>\n",
       "      <td>1237.383490</td>\n",
       "      <td>2.552846e+08</td>\n",
       "      <td>1.980011e+09</td>\n",
       "      <td>105.920062</td>\n",
       "      <td>2833.203974</td>\n",
       "      <td>1764.621390</td>\n",
       "      <td>1.711555</td>\n",
       "    </tr>\n",
       "  </tbody>\n",
       "</table>\n",
       "<p>3 rows × 21 columns</p>\n",
       "</div>"
      ],
      "text/plain": [
       "            f(d0)        f(d1)        f(d2)       f(d3)        f(d4)  \\\n",
       "0.16  1647.990447   667.061343  5695.013943   78.174669   537.927140   \n",
       "0.50  1954.051576   992.501204  6294.009128  203.706255   769.671374   \n",
       "0.84  2089.512701  1190.236537  6787.050327  363.920178  1261.145763   \n",
       "\n",
       "             f(d5)        f(d6)        f(d7)       f(d8)       f(d9)  ...  \\\n",
       "0.16  10404.766975  9187.550156  8327.224893   52.627076   34.692511  ...   \n",
       "0.50  10783.459592  9429.003082  8529.191713   92.489820   70.040545  ...   \n",
       "0.84  11327.882465  9612.715220  8711.693539  150.687114  105.933648  ...   \n",
       "\n",
       "           f(d11)       f(d12)       f(d13)       f(d14)        f(d15)  \\\n",
       "0.16  3027.875370  4967.714464   694.676889   827.426407  2.552836e+08   \n",
       "0.50  3426.611086  5486.391655   933.086285  1002.397491  2.552842e+08   \n",
       "0.84  3978.112577  6439.231994  1576.755696  1237.383490  2.552846e+08   \n",
       "\n",
       "            f(d16)      f(d17)       f(d18)       f(d19)      beta  \n",
       "0.16  1.980010e+09   19.050361  2399.935029  1191.597711  0.416249  \n",
       "0.50  1.980011e+09   49.324112  2580.398573  1443.051414  1.378205  \n",
       "0.84  1.980011e+09  105.920062  2833.203974  1764.621390  1.711555  \n",
       "\n",
       "[3 rows x 21 columns]"
      ]
     },
     "execution_count": 44,
     "metadata": {},
     "output_type": "execute_result"
    }
   ],
   "source": [
    "q"
   ]
  },
  {
   "cell_type": "code",
   "execution_count": 45,
   "metadata": {},
   "outputs": [],
   "source": [
    "q_50 = q.quantile([0.5], axis=0)\n",
    "q_50_array = q_50.values\n",
    "q_50_array = q_50_array.flatten()"
   ]
  },
  {
   "cell_type": "code",
   "execution_count": 47,
   "metadata": {},
   "outputs": [
    {
     "data": {
      "text/plain": [
       "[<matplotlib.lines.Line2D at 0x7f61864f1f98>]"
      ]
     },
     "execution_count": 47,
     "metadata": {},
     "output_type": "execute_result"
    },
    {
     "data": {
      "image/png": "[encoded data removed]",
      "text/plain": [
       "<Figure size 432x288 with 1 Axes>"
      ]
     },
     "metadata": {
      "needs_background": "light"
     },
     "output_type": "display_data"
    }
   ],
   "source": [
    "plt.plot(d, q_50_array[0:20])"
   ]
  },
  {
   "cell_type": "code",
   "execution_count": 52,
   "metadata": {},
   "outputs": [
    {
     "data": {
      "text/plain": [
       "[<matplotlib.lines.Line2D at 0x7f6186014da0>]"
      ]
     },
     "execution_count": 52,
     "metadata": {},
     "output_type": "execute_result"
    },
    {
     "data": {
      "image/png": "[encoded data removed]",
      "text/plain": [
       "<Figure size 432x288 with 1 Axes>"
      ]
     },
     "metadata": {
      "needs_background": "light"
     },
     "output_type": "display_data"
    }
   ],
   "source": [
    "infer_g2 = dls.g2(np.append(q_50_array, 1.711), d, m, gamma, time_in)\n",
    "plt.semilogx(time_in, infer_g2 - sim_data)"
   ]
  },
  {
   "cell_type": "code",
   "execution_count": 50,
   "metadata": {},
   "outputs": [
    {
     "data": {
      "text/plain": [
       "[<matplotlib.lines.Line2D at 0x7f6185fa6f60>]"
      ]
     },
     "execution_count": 50,
     "metadata": {},
     "output_type": "execute_result"
    },
    {
     "data": {
      "image/png": "[encoded data removed]",
      "text/plain": [
       "<Figure size 432x288 with 1 Axes>"
      ]
     },
     "metadata": {
      "needs_background": "light"
     },
     "output_type": "display_data"
    }
   ],
   "source": [
    "plt.plot(d, f_1 - q_50_array[0:20])"
   ]
  },
  {
   "cell_type": "code",
   "execution_count": null,
   "metadata": {},
   "outputs": [],
   "source": []
  }
 ],
 "metadata": {
  "kernelspec": {
   "display_name": "Python 2",
   "language": "python",
   "name": "python2"
  },
  "language_info": {
   "codemirror_mode": {
    "name": "ipython",
    "version": 2
   },
   "file_extension": ".py",
   "mimetype": "text/x-python",
   "name": "python",
   "nbconvert_exporter": "python",
   "pygments_lexer": "ipython2",
   "version": "2.7.16"
  }
 },
 "nbformat": 4,
 "nbformat_minor": 2
}
