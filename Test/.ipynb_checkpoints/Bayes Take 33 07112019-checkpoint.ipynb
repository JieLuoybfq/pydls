{
 "cells": [
  {
   "cell_type": "code",
   "execution_count": 1,
   "metadata": {},
   "outputs": [],
   "source": [
    "import numpy as np\n",
    "import dlsfunctions as dls\n",
    "import initialization_data as init\n",
    "import matplotlib.pyplot as plt"
   ]
  },
  {
   "cell_type": "code",
   "execution_count": 5,
   "metadata": {},
   "outputs": [],
   "source": [
    "d = init.get_distance()\n",
    "\n",
    "mean1 = init.get_left_mean()\n",
    "sigma1 = init.get_narrow_sigma()\n",
    "\n",
    "mean2 = init.get_right_mean()\n",
    "sigma2 = init.get_wide_sigma()\n",
    "\n",
    "c = init.c\n",
    "m = init.m\n",
    "beta = init.beta\n",
    "\n",
    "f = dls.generate_bimodal_distribution(d, mean1, sigma1, mean2, sigma2, c)\n",
    "\n",
    "time = init.get_log_time()\n",
    "gamma = init.get_gamma()\n",
    "\n",
    "noise = np.random.normal(mean1, sigma1, 200)*5e7"
   ]
  },
  {
   "cell_type": "code",
   "execution_count": 6,
   "metadata": {},
   "outputs": [
    {
     "data": {
      "text/plain": [
       "[<matplotlib.lines.Line2D at 0x11a416990>]"
      ]
     },
     "execution_count": 6,
     "metadata": {},
     "output_type": "execute_result"
    },
    {
     "data": {
      "image/png": "[encoded data removed]",
      "text/plain": [
       "<Figure size 432x288 with 1 Axes>"
      ]
     },
     "metadata": {
      "needs_background": "light"
     },
     "output_type": "display_data"
    }
   ],
   "source": [
    "plt.plot(d,f)"
   ]
  },
  {
   "cell_type": "code",
   "execution_count": 7,
   "metadata": {},
   "outputs": [
    {
     "data": {
      "text/plain": [
       "0.9999999999999999"
      ]
     },
     "execution_count": 7,
     "metadata": {},
     "output_type": "execute_result"
    }
   ],
   "source": [
    "dls.check_distribution_norm(f, d[1] - d[0])"
   ]
  },
  {
   "cell_type": "code",
   "execution_count": 8,
   "metadata": {},
   "outputs": [],
   "source": [
    "theta_input = np.append(f, beta)\n",
    "sim_data = dls.g2(theta_input, d, m, gamma, time) + noise"
   ]
  },
  {
   "cell_type": "code",
   "execution_count": 9,
   "metadata": {},
   "outputs": [
    {
     "data": {
      "text/plain": [
       "[<matplotlib.lines.Line2D at 0x1182cce50>]"
      ]
     },
     "execution_count": 9,
     "metadata": {},
     "output_type": "execute_result"
    },
    {
     "data": {
      "image/png": "[encoded data removed]",
      "text/plain": [
       "<Figure size 432x288 with 1 Axes>"
      ]
     },
     "metadata": {
      "needs_background": "light"
     },
     "output_type": "display_data"
    }
   ],
   "source": [
    "plt.semilogx(time, sim_data)"
   ]
  },
  {
   "cell_type": "code",
   "execution_count": 10,
   "metadata": {},
   "outputs": [],
   "source": [
    "ndim = 21\n",
    "nwalkers = 100\n",
    "nsteps = 1000"
   ]
  },
  {
   "cell_type": "code",
   "execution_count": 11,
   "metadata": {},
   "outputs": [
    {
     "data": {
      "text/plain": [
       "array([0.363, 0.358, 0.31 , 0.366, 0.357, 0.37 , 0.371, 0.34 , 0.368,\n",
       "       0.349, 0.335, 0.365, 0.309, 0.361, 0.345, 0.37 , 0.361, 0.36 ,\n",
       "       0.345, 0.316, 0.365, 0.369, 0.362, 0.376, 0.346, 0.365, 0.324,\n",
       "       0.335, 0.341, 0.334, 0.355, 0.343, 0.369, 0.363, 0.336, 0.336,\n",
       "       0.328, 0.346, 0.36 , 0.343, 0.328, 0.319, 0.349, 0.332, 0.357,\n",
       "       0.4  , 0.333, 0.336, 0.345, 0.335, 0.333, 0.347, 0.337, 0.393,\n",
       "       0.327, 0.36 , 0.375, 0.346, 0.359, 0.332, 0.366, 0.354, 0.327,\n",
       "       0.356, 0.366, 0.387, 0.362, 0.35 , 0.331, 0.342, 0.339, 0.341,\n",
       "       0.371, 0.358, 0.335, 0.326, 0.356, 0.325, 0.289, 0.336, 0.331,\n",
       "       0.343, 0.358, 0.374, 0.372, 0.372, 0.32 , 0.34 , 0.331, 0.373,\n",
       "       0.324, 0.358, 0.338, 0.35 , 0.34 , 0.374, 0.35 , 0.362, 0.345,\n",
       "       0.374])"
      ]
     },
     "execution_count": 11,
     "metadata": {},
     "output_type": "execute_result"
    }
   ],
   "source": [
    "start_pos = dls.create_start_pos(theta_input, ndim, nwalkers)\n",
    "sampler = dls.create_sampler(nwalkers, ndim, d, sim_data, m, gamma, time)\n",
    "result = dls.infer(sampler, start_pos, nsteps)\n",
    "result.acceptance_fraction"
   ]
  },
  {
   "cell_type": "code",
   "execution_count": 12,
   "metadata": {},
   "outputs": [
    {
     "data": {
      "text/html": [
       "<div>\n",
       "<style scoped>\n",
       "    .dataframe tbody tr th:only-of-type {\n",
       "        vertical-align: middle;\n",
       "    }\n",
       "\n",
       "    .dataframe tbody tr th {\n",
       "        vertical-align: top;\n",
       "    }\n",
       "\n",
       "    .dataframe thead th {\n",
       "        text-align: right;\n",
       "    }\n",
       "</style>\n",
       "<table border=\"1\" class=\"dataframe\">\n",
       "  <thead>\n",
       "    <tr style=\"text-align: right;\">\n",
       "      <th></th>\n",
       "      <th>f0</th>\n",
       "      <th>f1</th>\n",
       "      <th>f10</th>\n",
       "      <th>f11</th>\n",
       "      <th>f12</th>\n",
       "      <th>f13</th>\n",
       "      <th>f14</th>\n",
       "      <th>f15</th>\n",
       "      <th>f16</th>\n",
       "      <th>f17</th>\n",
       "      <th>f18</th>\n",
       "      <th>f19</th>\n",
       "      <th>f2</th>\n",
       "      <th>f3</th>\n",
       "      <th>f4</th>\n",
       "      <th>f5</th>\n",
       "      <th>f6</th>\n",
       "      <th>f7</th>\n",
       "      <th>f8</th>\n",
       "      <th>f9</th>\n",
       "    </tr>\n",
       "  </thead>\n",
       "  <tbody>\n",
       "    <tr>\n",
       "      <th>0.5</th>\n",
       "      <td>379032.289824</td>\n",
       "      <td>234227.686515</td>\n",
       "      <td>240804.156062</td>\n",
       "      <td>1.601908e+07</td>\n",
       "      <td>8.380555e+07</td>\n",
       "      <td>2.352696e+08</td>\n",
       "      <td>3.348539e+08</td>\n",
       "      <td>2.354114e+08</td>\n",
       "      <td>7.964767e+07</td>\n",
       "      <td>1.687248e+07</td>\n",
       "      <td>1.266650e+06</td>\n",
       "      <td>3.406059e+06</td>\n",
       "      <td>9.988984e+08</td>\n",
       "      <td>2.578022e+06</td>\n",
       "      <td>3.812995e+06</td>\n",
       "      <td>4.785717e+06</td>\n",
       "      <td>242846.911482</td>\n",
       "      <td>4.080953e+06</td>\n",
       "      <td>67803.921628</td>\n",
       "      <td>109629.177728</td>\n",
       "    </tr>\n",
       "  </tbody>\n",
       "</table>\n",
       "</div>"
      ],
      "text/plain": [
       "                f0             f1            f10           f11           f12  \\\n",
       "0.5  379032.289824  234227.686515  240804.156062  1.601908e+07  8.380555e+07   \n",
       "\n",
       "              f13           f14           f15           f16           f17  \\\n",
       "0.5  2.352696e+08  3.348539e+08  2.354114e+08  7.964767e+07  1.687248e+07   \n",
       "\n",
       "              f18           f19            f2            f3            f4  \\\n",
       "0.5  1.266650e+06  3.406059e+06  9.988984e+08  2.578022e+06  3.812995e+06   \n",
       "\n",
       "               f5             f6            f7            f8             f9  \n",
       "0.5  4.785717e+06  242846.911482  4.080953e+06  67803.921628  109629.177728  "
      ]
     },
     "execution_count": 12,
     "metadata": {},
     "output_type": "execute_result"
    }
   ],
   "source": [
    "chained_sampler = dls.chain(result, 850, ndim)\n",
    "samples_df = dls.create_dataframe(chained_sampler, ndim)\n",
    "q = samples_df.quantile([0.5], axis=0)\n",
    "q"
   ]
  },
  {
   "cell_type": "code",
   "execution_count": 13,
   "metadata": {},
   "outputs": [],
   "source": [
    "infer = np.zeros(20)\n",
    "infer[0] = 379032.289824\n",
    "infer[1] = 234227.686515\n",
    "infer[2] = 9.988984e+08\n",
    "infer[3] = 2.578022e+06\n",
    "infer[4] = 3.812995e+06\n",
    "infer[5] = 4.785717e+06\n",
    "infer[6] = 242846.911482\n",
    "infer[7] = 4.080953e+06\n",
    "infer[8] = 67803.921628\n",
    "infer[9] = 109629.177728\n",
    "infer[10] = 240804.156062\n",
    "infer[11] = 1.601908e+07\n",
    "infer[12] = 8.380555e+07\n",
    "infer[13] = 2.352696e+08\n",
    "infer[14] = 3.348539e+08\n",
    "infer[15] = 2.354114e+08\n",
    "infer[16] = 7.964767e+07\n",
    "infer[17] = 1.687248e+07\n",
    "infer[18] = 1.266650e+06\n",
    "infer[19] = 3.406059e+06"
   ]
  },
  {
   "cell_type": "code",
   "execution_count": 14,
   "metadata": {},
   "outputs": [
    {
     "data": {
      "text/plain": [
       "[<matplotlib.lines.Line2D at 0x11cf74890>]"
      ]
     },
     "execution_count": 14,
     "metadata": {},
     "output_type": "execute_result"
    },
    {
     "data": {
      "image/png": "[encoded data removed]",
      "text/plain": [
       "<Figure size 432x288 with 1 Axes>"
      ]
     },
     "metadata": {
      "needs_background": "light"
     },
     "output_type": "display_data"
    }
   ],
   "source": [
    "plt.plot(d, infer)"
   ]
  },
  {
   "cell_type": "code",
   "execution_count": 15,
   "metadata": {},
   "outputs": [
    {
     "data": {
      "text/plain": [
       "[<matplotlib.lines.Line2D at 0x11cfe2250>]"
      ]
     },
     "execution_count": 15,
     "metadata": {},
     "output_type": "execute_result"
    },
    {
     "data": {
      "image/png": "[encoded data removed]",
      "text/plain": [
       "<Figure size 432x288 with 1 Axes>"
      ]
     },
     "metadata": {
      "needs_background": "light"
     },
     "output_type": "display_data"
    }
   ],
   "source": [
    "plt.plot(d, f)"
   ]
  },
  {
   "cell_type": "code",
   "execution_count": 18,
   "metadata": {},
   "outputs": [
    {
     "data": {
      "text/html": [
       "<div>\n",
       "<style scoped>\n",
       "    .dataframe tbody tr th:only-of-type {\n",
       "        vertical-align: middle;\n",
       "    }\n",
       "\n",
       "    .dataframe tbody tr th {\n",
       "        vertical-align: top;\n",
       "    }\n",
       "\n",
       "    .dataframe thead th {\n",
       "        text-align: right;\n",
       "    }\n",
       "</style>\n",
       "<table border=\"1\" class=\"dataframe\">\n",
       "  <thead>\n",
       "    <tr style=\"text-align: right;\">\n",
       "      <th></th>\n",
       "      <th>beta</th>\n",
       "    </tr>\n",
       "  </thead>\n",
       "  <tbody>\n",
       "    <tr>\n",
       "      <th>0.8</th>\n",
       "      <td>1.104997</td>\n",
       "    </tr>\n",
       "  </tbody>\n",
       "</table>\n",
       "</div>"
      ],
      "text/plain": [
       "         beta\n",
       "0.8  1.104997"
      ]
     },
     "execution_count": 18,
     "metadata": {},
     "output_type": "execute_result"
    }
   ],
   "source": [
    "beta_post = dls.get_beta(chained_sampler, ndim)\n",
    "betaq = beta_post.quantile([0.8], axis=0)\n",
    "betaq"
   ]
  },
  {
   "cell_type": "code",
   "execution_count": 19,
   "metadata": {},
   "outputs": [
    {
     "data": {
      "text/plain": [
       "<matplotlib.legend.Legend at 0x11d19a290>"
      ]
     },
     "execution_count": 19,
     "metadata": {},
     "output_type": "execute_result"
    },
    {
     "data": {
      "image/png": "[encoded data removed]",
      "text/plain": [
       "<Figure size 432x288 with 1 Axes>"
      ]
     },
     "metadata": {
      "needs_background": "light"
     },
     "output_type": "display_data"
    }
   ],
   "source": [
    "theta_infer = np.append(infer, 1.104997)\n",
    "inferg2 = dls.g2(theta_infer, d, m, gamma, time)\n",
    "\n",
    "plt.semilogx(time, inferg2, 'ro', label='Inferred')\n",
    "plt.semilogx(time, sim_data, label='simulated')\n",
    "plt.legend()"
   ]
  },
  {
   "cell_type": "code",
   "execution_count": 20,
   "metadata": {},
   "outputs": [
    {
     "data": {
      "text/plain": [
       "(array([ 957., 1274., 2361., 3302., 2772., 2247., 1125.,  537.,  309.,\n",
       "         116.]),\n",
       " array([1.09498898e-03, 1.99974348e-01, 3.98853708e-01, 5.97733067e-01,\n",
       "        7.96612427e-01, 9.95491786e-01, 1.19437115e+00, 1.39325051e+00,\n",
       "        1.59212986e+00, 1.79100922e+00, 1.98988858e+00]),\n",
       " <a list of 10 Patch objects>)"
      ]
     },
     "execution_count": 20,
     "metadata": {},
     "output_type": "execute_result"
    },
    {
     "data": {
      "image/png": "[encoded data removed]",
      "text/plain": [
       "<Figure size 432x288 with 1 Axes>"
      ]
     },
     "metadata": {
      "needs_background": "light"
     },
     "output_type": "display_data"
    }
   ],
   "source": [
    "beta_posterior = beta_post.values.flatten()\n",
    "plt.hist(beta_posterior)"
   ]
  },
  {
   "cell_type": "code",
   "execution_count": null,
   "metadata": {},
   "outputs": [],
   "source": []
  }
 ],
 "metadata": {
  "kernelspec": {
   "display_name": "Python 2",
   "language": "python",
   "name": "python2"
  },
  "language_info": {
   "codemirror_mode": {
    "name": "ipython",
    "version": 2
   },
   "file_extension": ".py",
   "mimetype": "text/x-python",
   "name": "python",
   "nbconvert_exporter": "python",
   "pygments_lexer": "ipython2",
   "version": "2.7.16"
  }
 },
 "nbformat": 4,
 "nbformat_minor": 2
}
