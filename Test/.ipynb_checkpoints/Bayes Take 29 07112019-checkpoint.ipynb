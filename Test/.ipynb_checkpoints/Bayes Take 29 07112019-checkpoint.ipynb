{
 "cells": [
  {
   "cell_type": "code",
   "execution_count": 5,
   "metadata": {},
   "outputs": [],
   "source": [
    "import numpy as np\n",
    "import dlsfunctions as dls\n",
    "import initialization_data as init\n",
    "import matplotlib.pyplot as plt"
   ]
  },
  {
   "cell_type": "code",
   "execution_count": 10,
   "metadata": {},
   "outputs": [],
   "source": [
    "# generates unequal-amplitude bimodal distribution\n",
    "def generate_bimodal_distribution(d, mean1, sigma1, mean2, sigma2, mie_fract):\n",
    "    f1 = 1/(sigma1*np.sqrt(2*np.pi**2))*np.exp(-(d-mean1)**2/(2*sigma1**2))\n",
    "    f1 = f1* dls.normalize(f1, 1, d[1] - d[0])\n",
    "    \n",
    "    f2 = 1/(sigma2*np.sqrt(2*np.pi**2))*np.exp(-(d-mean2)**2/(2*sigma2**2))\n",
    "    f2 = f2 * dls.normalize(f2, 1, d[1] - d[0])\n",
    "    \n",
    "    f = f1 + 2*f2\n",
    "    f = f * dls.normalize(f, 1, d[1] - d[0])\n",
    "    return f"
   ]
  },
  {
   "cell_type": "code",
   "execution_count": 15,
   "metadata": {},
   "outputs": [],
   "source": [
    "d = init.get_distance()\n",
    "\n",
    "mean1 = init.get_left_mean()\n",
    "sigma1 = init.get_narrow_sigma()\n",
    "\n",
    "mean2 = init.get_right_mean()\n",
    "sigma2 = init.get_narrow_sigma()\n",
    "\n",
    "c = init.c\n",
    "m = init.m\n",
    "beta = init.beta\n",
    "\n",
    "f = generate_bimodal_distribution(d, mean1, sigma1, mean2, sigma2, c)\n",
    "\n",
    "time = init.get_log_time()\n",
    "gamma = init.get_gamma()"
   ]
  },
  {
   "cell_type": "code",
   "execution_count": 12,
   "metadata": {},
   "outputs": [
    {
     "data": {
      "text/plain": [
       "[<matplotlib.lines.Line2D at 0x12306a950>]"
      ]
     },
     "execution_count": 12,
     "metadata": {},
     "output_type": "execute_result"
    },
    {
     "data": {
      "image/png": "[encoded data removed]",
      "text/plain": [
       "<Figure size 432x288 with 1 Axes>"
      ]
     },
     "metadata": {
      "needs_background": "light"
     },
     "output_type": "display_data"
    }
   ],
   "source": [
    "plt.plot(d,f)"
   ]
  },
  {
   "cell_type": "code",
   "execution_count": 14,
   "metadata": {},
   "outputs": [
    {
     "data": {
      "text/plain": [
       "1.0"
      ]
     },
     "execution_count": 14,
     "metadata": {},
     "output_type": "execute_result"
    }
   ],
   "source": [
    "dls.check_distribution_norm(f, d[1] - d[0])"
   ]
  },
  {
   "cell_type": "code",
   "execution_count": 16,
   "metadata": {},
   "outputs": [],
   "source": [
    "theta_input = np.append(f, beta)\n",
    "sim_data = dls.g2(theta_input, d, m, gamma, time)"
   ]
  },
  {
   "cell_type": "code",
   "execution_count": 17,
   "metadata": {},
   "outputs": [
    {
     "data": {
      "text/plain": [
       "[<matplotlib.lines.Line2D at 0x120e7aa50>]"
      ]
     },
     "execution_count": 17,
     "metadata": {},
     "output_type": "execute_result"
    },
    {
     "data": {
      "image/png": "[encoded data removed]",
      "text/plain": [
       "<Figure size 432x288 with 1 Axes>"
      ]
     },
     "metadata": {
      "needs_background": "light"
     },
     "output_type": "display_data"
    }
   ],
   "source": [
    "plt.semilogx(time, sim_data)"
   ]
  },
  {
   "cell_type": "code",
   "execution_count": 18,
   "metadata": {},
   "outputs": [],
   "source": [
    "ndim = 21\n",
    "nwalkers = 100\n",
    "nsteps = 1000"
   ]
  },
  {
   "cell_type": "code",
   "execution_count": 19,
   "metadata": {},
   "outputs": [
    {
     "data": {
      "text/plain": [
       "array([0.343, 0.37 , 0.365, 0.355, 0.323, 0.357, 0.317, 0.382, 0.338,\n",
       "       0.357, 0.342, 0.315, 0.334, 0.368, 0.34 , 0.376, 0.343, 0.361,\n",
       "       0.376, 0.359, 0.322, 0.362, 0.347, 0.381, 0.365, 0.346, 0.334,\n",
       "       0.321, 0.358, 0.297, 0.365, 0.343, 0.377, 0.34 , 0.347, 0.376,\n",
       "       0.341, 0.345, 0.353, 0.336, 0.334, 0.329, 0.34 , 0.372, 0.321,\n",
       "       0.355, 0.327, 0.354, 0.339, 0.359, 0.342, 0.382, 0.376, 0.37 ,\n",
       "       0.398, 0.348, 0.35 , 0.307, 0.335, 0.348, 0.356, 0.35 , 0.332,\n",
       "       0.319, 0.355, 0.398, 0.339, 0.329, 0.33 , 0.363, 0.345, 0.365,\n",
       "       0.365, 0.374, 0.352, 0.334, 0.379, 0.347, 0.359, 0.363, 0.341,\n",
       "       0.366, 0.333, 0.365, 0.372, 0.344, 0.376, 0.357, 0.359, 0.35 ,\n",
       "       0.343, 0.352, 0.358, 0.308, 0.32 , 0.345, 0.377, 0.348, 0.34 ,\n",
       "       0.339])"
      ]
     },
     "execution_count": 19,
     "metadata": {},
     "output_type": "execute_result"
    }
   ],
   "source": [
    "start_pos = dls.create_start_pos(theta_input, ndim, nwalkers)\n",
    "sampler = dls.create_sampler(nwalkers, ndim, d, sim_data, m, gamma, time)\n",
    "result = dls.infer(sampler, start_pos, nsteps)\n",
    "result.acceptance_fraction"
   ]
  },
  {
   "cell_type": "code",
   "execution_count": 20,
   "metadata": {},
   "outputs": [
    {
     "data": {
      "text/html": [
       "<div>\n",
       "<style scoped>\n",
       "    .dataframe tbody tr th:only-of-type {\n",
       "        vertical-align: middle;\n",
       "    }\n",
       "\n",
       "    .dataframe tbody tr th {\n",
       "        vertical-align: top;\n",
       "    }\n",
       "\n",
       "    .dataframe thead th {\n",
       "        text-align: right;\n",
       "    }\n",
       "</style>\n",
       "<table border=\"1\" class=\"dataframe\">\n",
       "  <thead>\n",
       "    <tr style=\"text-align: right;\">\n",
       "      <th></th>\n",
       "      <th>f0</th>\n",
       "      <th>f1</th>\n",
       "      <th>f10</th>\n",
       "      <th>f11</th>\n",
       "      <th>f12</th>\n",
       "      <th>f13</th>\n",
       "      <th>f14</th>\n",
       "      <th>f15</th>\n",
       "      <th>f16</th>\n",
       "      <th>f17</th>\n",
       "      <th>f18</th>\n",
       "      <th>f19</th>\n",
       "      <th>f2</th>\n",
       "      <th>f3</th>\n",
       "      <th>f4</th>\n",
       "      <th>f5</th>\n",
       "      <th>f6</th>\n",
       "      <th>f7</th>\n",
       "      <th>f8</th>\n",
       "      <th>f9</th>\n",
       "    </tr>\n",
       "  </thead>\n",
       "  <tbody>\n",
       "    <tr>\n",
       "      <th>0.5</th>\n",
       "      <td>2.319352e+07</td>\n",
       "      <td>4.166878e+07</td>\n",
       "      <td>1.274446e+06</td>\n",
       "      <td>1.586776e+07</td>\n",
       "      <td>9.980111e+06</td>\n",
       "      <td>927900.52711</td>\n",
       "      <td>1.333335e+09</td>\n",
       "      <td>1.509875e+06</td>\n",
       "      <td>6.506559e+06</td>\n",
       "      <td>2.874833e+07</td>\n",
       "      <td>2.048697e+07</td>\n",
       "      <td>1.117960e+07</td>\n",
       "      <td>6.984461e+08</td>\n",
       "      <td>4.758262e+06</td>\n",
       "      <td>2.804538e+06</td>\n",
       "      <td>8.572767e+06</td>\n",
       "      <td>3.764264e+07</td>\n",
       "      <td>841651.186126</td>\n",
       "      <td>7.201604e+06</td>\n",
       "      <td>1.591364e+07</td>\n",
       "    </tr>\n",
       "  </tbody>\n",
       "</table>\n",
       "</div>"
      ],
      "text/plain": [
       "               f0            f1           f10           f11           f12  \\\n",
       "0.5  2.319352e+07  4.166878e+07  1.274446e+06  1.586776e+07  9.980111e+06   \n",
       "\n",
       "              f13           f14           f15           f16           f17  \\\n",
       "0.5  927900.52711  1.333335e+09  1.509875e+06  6.506559e+06  2.874833e+07   \n",
       "\n",
       "              f18           f19            f2            f3            f4  \\\n",
       "0.5  2.048697e+07  1.117960e+07  6.984461e+08  4.758262e+06  2.804538e+06   \n",
       "\n",
       "               f5            f6             f7            f8            f9  \n",
       "0.5  8.572767e+06  3.764264e+07  841651.186126  7.201604e+06  1.591364e+07  "
      ]
     },
     "execution_count": 20,
     "metadata": {},
     "output_type": "execute_result"
    }
   ],
   "source": [
    "chained_sampler = dls.chain(result, 850, ndim)\n",
    "samples_df = dls.create_dataframe(chained_sampler, ndim)\n",
    "q = samples_df.quantile([0.5], axis=0)\n",
    "q"
   ]
  },
  {
   "cell_type": "code",
   "execution_count": 21,
   "metadata": {},
   "outputs": [],
   "source": [
    "infer = np.zeros(20)\n",
    "infer[0] = 2.319352e+07\n",
    "infer[1] = 4.166878e+07\n",
    "infer[2] = 6.984461e+08\n",
    "infer[3] = 4.758262e+06\n",
    "infer[4] = 2.804538e+06\n",
    "infer[5] = 8.572767e+06\n",
    "infer[6] = 3.764264e+07\n",
    "infer[7] = 841651.186126\n",
    "infer[8] = 7.201604e+06\n",
    "infer[9] = 1.591364e+07\n",
    "infer[10] = 1.274446e+06\n",
    "infer[11] = 1.586776e+07\n",
    "infer[12] = 9.980111e+06\n",
    "infer[13] = 927900.52711\n",
    "infer[14] = 1.333335e+09\n",
    "infer[15] = 1.509875e+06\n",
    "infer[16] = 6.506559e+06\n",
    "infer[17] = 2.874833e+07\n",
    "infer[18] = 2.048697e+07\n",
    "infer[19] = 1.117960e+07"
   ]
  },
  {
   "cell_type": "code",
   "execution_count": 27,
   "metadata": {},
   "outputs": [
    {
     "data": {
      "text/plain": [
       "<matplotlib.legend.Legend at 0x125f86790>"
      ]
     },
     "execution_count": 27,
     "metadata": {},
     "output_type": "execute_result"
    },
    {
     "data": {
      "image/png": "[encoded data removed]",
      "text/plain": [
       "<Figure size 432x288 with 1 Axes>"
      ]
     },
     "metadata": {
      "needs_background": "light"
     },
     "output_type": "display_data"
    }
   ],
   "source": [
    "plt.plot(d, infer, '--', label='Inferred')\n",
    "plt.plot(d, f, label='Simulated')\n",
    "plt.legend()"
   ]
  },
  {
   "cell_type": "code",
   "execution_count": 23,
   "metadata": {},
   "outputs": [
    {
     "data": {
      "text/plain": [
       "[<matplotlib.lines.Line2D at 0x123386f50>]"
      ]
     },
     "execution_count": 23,
     "metadata": {},
     "output_type": "execute_result"
    },
    {
     "data": {
      "image/png": "[encoded data removed]",
      "text/plain": [
       "<Figure size 432x288 with 1 Axes>"
      ]
     },
     "metadata": {
      "needs_background": "light"
     },
     "output_type": "display_data"
    }
   ],
   "source": [
    "plt.plot(d, f)"
   ]
  },
  {
   "cell_type": "code",
   "execution_count": 24,
   "metadata": {},
   "outputs": [
    {
     "data": {
      "text/html": [
       "<div>\n",
       "<style scoped>\n",
       "    .dataframe tbody tr th:only-of-type {\n",
       "        vertical-align: middle;\n",
       "    }\n",
       "\n",
       "    .dataframe tbody tr th {\n",
       "        vertical-align: top;\n",
       "    }\n",
       "\n",
       "    .dataframe thead th {\n",
       "        text-align: right;\n",
       "    }\n",
       "</style>\n",
       "<table border=\"1\" class=\"dataframe\">\n",
       "  <thead>\n",
       "    <tr style=\"text-align: right;\">\n",
       "      <th></th>\n",
       "      <th>beta</th>\n",
       "    </tr>\n",
       "  </thead>\n",
       "  <tbody>\n",
       "    <tr>\n",
       "      <th>0.5</th>\n",
       "      <td>1.173937</td>\n",
       "    </tr>\n",
       "  </tbody>\n",
       "</table>\n",
       "</div>"
      ],
      "text/plain": [
       "         beta\n",
       "0.5  1.173937"
      ]
     },
     "execution_count": 24,
     "metadata": {},
     "output_type": "execute_result"
    }
   ],
   "source": [
    "beta_post = dls.get_beta(chained_sampler, ndim)\n",
    "betaq = beta_post.quantile([0.5], axis=0)\n",
    "betaq"
   ]
  },
  {
   "cell_type": "code",
   "execution_count": 25,
   "metadata": {},
   "outputs": [
    {
     "data": {
      "text/plain": [
       "<matplotlib.legend.Legend at 0x125d052d0>"
      ]
     },
     "execution_count": 25,
     "metadata": {},
     "output_type": "execute_result"
    },
    {
     "data": {
      "image/png": "[encoded data removed]",
      "text/plain": [
       "<Figure size 432x288 with 1 Axes>"
      ]
     },
     "metadata": {
      "needs_background": "light"
     },
     "output_type": "display_data"
    }
   ],
   "source": [
    "theta_infer = np.append(infer, 1.173937)\n",
    "inferg2 = dls.g2(theta_infer, d, m, gamma, time)\n",
    "\n",
    "plt.semilogx(time, inferg2, 'ro', label='Inferred')\n",
    "plt.semilogx(time, sim_data, label='simulated')\n",
    "plt.legend()"
   ]
  },
  {
   "cell_type": "code",
   "execution_count": 26,
   "metadata": {},
   "outputs": [
    {
     "data": {
      "text/plain": [
       "(array([ 438.,  637.,  896., 1431., 1898., 2593., 2725., 2078., 1259.,\n",
       "        1045.]),\n",
       " array([9.81853401e-04, 2.00847260e-01, 4.00712666e-01, 6.00578072e-01,\n",
       "        8.00443478e-01, 1.00030888e+00, 1.20017429e+00, 1.40003970e+00,\n",
       "        1.59990510e+00, 1.79977051e+00, 1.99963591e+00]),\n",
       " <a list of 10 Patch objects>)"
      ]
     },
     "execution_count": 26,
     "metadata": {},
     "output_type": "execute_result"
    },
    {
     "data": {
      "image/png": "[encoded data removed]",
      "text/plain": [
       "<Figure size 432x288 with 1 Axes>"
      ]
     },
     "metadata": {
      "needs_background": "light"
     },
     "output_type": "display_data"
    }
   ],
   "source": [
    "beta_posterior = beta_post.values.flatten()\n",
    "plt.hist(beta_posterior)"
   ]
  },
  {
   "cell_type": "code",
   "execution_count": null,
   "metadata": {},
   "outputs": [],
   "source": []
  }
 ],
 "metadata": {
  "kernelspec": {
   "display_name": "Python 2",
   "language": "python",
   "name": "python2"
  },
  "language_info": {
   "codemirror_mode": {
    "name": "ipython",
    "version": 2
   },
   "file_extension": ".py",
   "mimetype": "text/x-python",
   "name": "python",
   "nbconvert_exporter": "python",
   "pygments_lexer": "ipython2",
   "version": "2.7.16"
  }
 },
 "nbformat": 4,
 "nbformat_minor": 2
}
