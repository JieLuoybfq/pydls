{
 "cells": [
  {
   "cell_type": "code",
   "execution_count": 40,
   "metadata": {},
   "outputs": [],
   "source": [
    "import numpy as np\n",
    "import matplotlib.pyplot as plt\n",
    "import emcee\n",
    "import seaborn as sns\n",
    "import pandas as pd\n",
    "import dlsfunctions as dls"
   ]
  },
  {
   "cell_type": "code",
   "execution_count": 41,
   "metadata": {},
   "outputs": [],
   "source": [
    "import scipy\n",
    "import scipy.optimize\n",
    "import scipy.integrate"
   ]
  },
  {
   "cell_type": "code",
   "execution_count": 25,
   "metadata": {},
   "outputs": [],
   "source": [
    "r_1 = 2.2439608235145855e-09    # in meters\n",
    "diameter_1 = r_1 * 2\n",
    "sigma_1 = 5e-10\n",
    "c = 1\n",
    "d = np.linspace(5e-10, 9e-9, 40)"
   ]
  },
  {
   "cell_type": "code",
   "execution_count": 26,
   "metadata": {},
   "outputs": [],
   "source": [
    "f_1 = dls.generate_distribution(d, diameter_1, sigma_1, c)"
   ]
  },
  {
   "cell_type": "code",
   "execution_count": 27,
   "metadata": {},
   "outputs": [
    {
     "data": {
      "text/plain": [
       "0.9999999999999999"
      ]
     },
     "execution_count": 27,
     "metadata": {},
     "output_type": "execute_result"
    }
   ],
   "source": [
    "dls.check_distribution_norm(f_1, d[1]-d[0])"
   ]
  },
  {
   "cell_type": "code",
   "execution_count": 28,
   "metadata": {},
   "outputs": [],
   "source": [
    "# Let's put beta into g2's inference parameters\n",
    "def g2(theta, d, gamma, time):\n",
    "    #unpack parameters\n",
    "    f, beta = theta\n",
    "    size = len(time)\n",
    "    g2 = np.zeros(size)\n",
    "    delta_d = d[1] - d[0]\n",
    "    \n",
    "    for i in range(size):\n",
    "        expo = np.exp(-(gamma*time[i])/d)\n",
    "        sum_squared = (np.sum(f*expo*delta_d))**2\n",
    "        g2[i] = beta*sum_squared\n",
    "    return g2"
   ]
  },
  {
   "cell_type": "code",
   "execution_count": 29,
   "metadata": {},
   "outputs": [],
   "source": [
    "beta = 1\n",
    "theta_in = (f_1, beta)"
   ]
  },
  {
   "cell_type": "code",
   "execution_count": 30,
   "metadata": {},
   "outputs": [],
   "source": [
    "gamma_1 = dls.calc_gamma(30, c, 1e-3, 1.33, np.pi/2, 1.38e-23, 298.15, 638e-9)\n",
    "time_in = np.linspace(1e-4, 1e-1, 200)"
   ]
  },
  {
   "cell_type": "code",
   "execution_count": 31,
   "metadata": {},
   "outputs": [],
   "source": [
    "simulated_data_1 = g2(theta_in, d, gamma_1, time_in*0.001)"
   ]
  },
  {
   "cell_type": "code",
   "execution_count": 32,
   "metadata": {},
   "outputs": [
    {
     "data": {
      "text/plain": [
       "[<matplotlib.lines.Line2D at 0x119474990>]"
      ]
     },
     "execution_count": 32,
     "metadata": {},
     "output_type": "execute_result"
    },
    {
     "data": {
      "image/png": "[encoded data removed]",
      "text/plain": [
       "<Figure size 432x288 with 1 Axes>"
      ]
     },
     "metadata": {
      "needs_background": "light"
     },
     "output_type": "display_data"
    }
   ],
   "source": [
    "plt.semilogx(time_in, simulated_data_1)"
   ]
  },
  {
   "cell_type": "code",
   "execution_count": 52,
   "metadata": {},
   "outputs": [],
   "source": [
    "ndim = 40\n",
    "nwalkers = 200\n",
    "nsteps = 12000"
   ]
  },
  {
   "cell_type": "code",
   "execution_count": 53,
   "metadata": {},
   "outputs": [],
   "source": [
    "prelim_pos = f_1\n",
    "start_pos = [prelim_pos + 1e-4*np.random.randn(ndim) for i in range(nwalkers)]"
   ]
  },
  {
   "cell_type": "code",
   "execution_count": 54,
   "metadata": {},
   "outputs": [],
   "source": [
    "sampler = emcee.EnsembleSampler(nwalkers, ndim, dls.log_posterior, args=(d, simulated_data_1, gamma_1, 40, time_in*0.001))"
   ]
  },
  {
   "cell_type": "code",
   "execution_count": null,
   "metadata": {},
   "outputs": [],
   "source": [
    "%time result = sampler.run_mcmc(start_pos, nsteps)"
   ]
  },
  {
   "cell_type": "code",
   "execution_count": 46,
   "metadata": {},
   "outputs": [
    {
     "data": {
      "text/plain": [
       "array([0.33888889, 0.32111111, 0.30666667, 0.33      , 0.32444444,\n",
       "       0.32888889, 0.31333333, 0.28888889, 0.31111111, 0.33777778,\n",
       "       0.33555556, 0.33111111, 0.34444444, 0.32444444, 0.33      ,\n",
       "       0.32888889, 0.30444444, 0.31111111, 0.35666667, 0.30333333,\n",
       "       0.34      , 0.28333333, 0.31222222, 0.31222222, 0.34666667,\n",
       "       0.35      , 0.32555556, 0.33555556, 0.30555556, 0.31666667,\n",
       "       0.31444444, 0.31222222, 0.31777778, 0.32222222, 0.33222222,\n",
       "       0.35111111, 0.34444444, 0.34      , 0.34777778, 0.31888889,\n",
       "       0.36      , 0.34777778, 0.35444444, 0.32111111, 0.34555556,\n",
       "       0.31222222, 0.33      , 0.35777778, 0.35888889, 0.33222222,\n",
       "       0.34444444, 0.31444444, 0.33333333, 0.32777778, 0.33333333,\n",
       "       0.34666667, 0.29777778, 0.34111111, 0.32888889, 0.30111111,\n",
       "       0.33888889, 0.32      , 0.37111111, 0.32555556, 0.31111111,\n",
       "       0.33666667, 0.33444444, 0.33444444, 0.35222222, 0.37111111,\n",
       "       0.31111111, 0.34888889, 0.35111111, 0.38333333, 0.37222222,\n",
       "       0.31222222, 0.33222222, 0.27444444, 0.37333333, 0.31222222,\n",
       "       0.30888889, 0.32666667, 0.32      , 0.34      , 0.35444444,\n",
       "       0.30555556, 0.33111111, 0.34333333, 0.35333333, 0.31111111,\n",
       "       0.34555556, 0.26888889, 0.30444444, 0.30111111, 0.35222222,\n",
       "       0.32666667, 0.31555556, 0.33888889, 0.31888889, 0.30555556,\n",
       "       0.34666667, 0.30333333, 0.33222222, 0.35666667, 0.33555556,\n",
       "       0.37222222, 0.35777778, 0.35888889, 0.34888889, 0.32444444,\n",
       "       0.34      , 0.34333333, 0.33888889, 0.33444444, 0.30666667,\n",
       "       0.31333333, 0.35111111, 0.33555556, 0.33555556, 0.35666667,\n",
       "       0.32333333, 0.37777778, 0.31      , 0.36111111, 0.34333333,\n",
       "       0.33111111, 0.33666667, 0.34333333, 0.32444444, 0.34444444,\n",
       "       0.28222222, 0.37      , 0.32444444, 0.33      , 0.34222222,\n",
       "       0.36555556, 0.30777778, 0.35111111, 0.32888889, 0.30666667,\n",
       "       0.29888889, 0.35666667, 0.32888889, 0.34111111, 0.27444444,\n",
       "       0.35444444, 0.31222222, 0.32      , 0.31333333, 0.33666667,\n",
       "       0.34444444, 0.33      , 0.35333333, 0.32666667, 0.32888889,\n",
       "       0.35555556, 0.33444444, 0.33666667, 0.37333333, 0.31777778,\n",
       "       0.36666667, 0.29333333, 0.34888889, 0.33777778, 0.34222222,\n",
       "       0.31888889, 0.31888889, 0.36      , 0.31888889, 0.30444444,\n",
       "       0.31333333, 0.31333333, 0.31333333, 0.33888889, 0.34555556,\n",
       "       0.33111111, 0.31111111, 0.34      , 0.30444444, 0.33222222,\n",
       "       0.32888889, 0.34555556, 0.32666667, 0.30444444, 0.32333333,\n",
       "       0.31555556, 0.34555556, 0.32777778, 0.32111111, 0.32777778,\n",
       "       0.32111111, 0.31666667, 0.34333333, 0.30777778, 0.34444444,\n",
       "       0.33111111, 0.28111111, 0.35111111, 0.32777778, 0.32666667])"
      ]
     },
     "execution_count": 46,
     "metadata": {},
     "output_type": "execute_result"
    }
   ],
   "source": [
    "sampler.acceptance_fraction"
   ]
  },
  {
   "cell_type": "code",
   "execution_count": 47,
   "metadata": {},
   "outputs": [
    {
     "name": "stderr",
     "output_type": "stream",
     "text": [
      "/usr/local/lib/python2.7/site-packages/seaborn/timeseries.py:183: UserWarning: The `tsplot` function is deprecated and will be removed in a future release. Please update your code to use the new `lineplot` function.\n",
      "  warnings.warn(msg, UserWarning)\n"
     ]
    },
    {
     "data": {
      "image/png": "[encoded data removed]",
      "text/plain": [
       "<Figure size 432x288 with 2 Axes>"
      ]
     },
     "metadata": {
      "needs_background": "light"
     },
     "output_type": "display_data"
    }
   ],
   "source": [
    "plt.style.use('seaborn-deep')\n",
    "plt.rcParams['mathtext.fontset'] = 'stix'\n",
    "plt.rcParams['font.family'] = 'STIXGeneral'\n",
    "params = {'legend.fontsize': 'x-large',\n",
    "          'figure.figsize': (15, 5),\n",
    "         'axes.labelsize': 'x-large',\n",
    "         'axes.titlesize':'x-large',\n",
    "         'xtick.labelsize':'x-large',\n",
    "         'ytick.labelsize':'x-large'}\n",
    "\n",
    "fig, (ax0, ax1) = plt.subplots(2)\n",
    "ax0.set(ylabel='f(d0)')\n",
    "ax1.set(ylabel='f(d1)')\n",
    "\n",
    "for j in range(10):\n",
    "    sns.tsplot(sampler.chain[j, :, 0], ax=ax0)\n",
    "    sns.tsplot(sampler.chain[j, :, 1], ax=ax1)"
   ]
  },
  {
   "cell_type": "code",
   "execution_count": null,
   "metadata": {},
   "outputs": [],
   "source": []
  }
 ],
 "metadata": {
  "kernelspec": {
   "display_name": "Python 2",
   "language": "python",
   "name": "python2"
  },
  "language_info": {
   "codemirror_mode": {
    "name": "ipython",
    "version": 2
   },
   "file_extension": ".py",
   "mimetype": "text/x-python",
   "name": "python",
   "nbconvert_exporter": "python",
   "pygments_lexer": "ipython2",
   "version": "2.7.16"
  }
 },
 "nbformat": 4,
 "nbformat_minor": 2
}
