{
 "cells": [
  {
   "cell_type": "code",
   "execution_count": 1,
   "metadata": {},
   "outputs": [],
   "source": [
    "import infer.pre_infer as pre_infer\n",
    "import infer.post_infer as post_infer\n",
    "import infer.dls_infer as dlsinfer\n",
    "import numpy as np\n",
    "import matplotlib.pyplot as plt\n",
    "import pandas as pd\n",
    "import emcee\n"
   ]
  },
  {
   "cell_type": "markdown",
   "metadata": {},
   "source": [
    "# Step 1: \n",
    "Define all of the pertinent paramters in DLS"
   ]
  },
  {
   "cell_type": "code",
   "execution_count": 2,
   "metadata": {},
   "outputs": [],
   "source": [
    "# parameters\n",
    "m = 20\n",
    "c = 1\n",
    "eta = 1e-3\n",
    "angle = np.pi/2\n",
    "n = 1.33\n",
    "k_b = 1.38e-23\n",
    "t = 298.15\n",
    "lambda_0 = 638e-9\n",
    "beta = 1\n",
    "start = 5e-10\n",
    "stop = 1e-8\n",
    "r = 2.2439608235145855e-09\n",
    "sigma = 2e-10"
   ]
  },
  {
   "cell_type": "code",
   "execution_count": 3,
   "metadata": {},
   "outputs": [],
   "source": [
    "right_mean = r*2 + 3e-9\n",
    "left_mean = r*2 - 3e-9\n"
   ]
  },
  {
   "cell_type": "markdown",
   "metadata": {},
   "source": [
    "# Step 2:\n",
    "Get the simulated time scale, diameter range and associated $\\gamma$"
   ]
  },
  {
   "cell_type": "markdown",
   "metadata": {},
   "source": [
    "get_log_time(), get_distance() and get_gamma() are used to generate a simulated time scale, simulated particle diameter range and associated gamma. I used to have a suite that generates all of these things for me, but I had so far deleted that suite and forgot to stash it somewhere else. That's why I hard-coded them into here."
   ]
  },
  {
   "cell_type": "code",
   "execution_count": 4,
   "metadata": {},
   "outputs": [],
   "source": [
    "def get_log_time():\n",
    "    return np.logspace(-4, -1, num=200, base=10)*0.001"
   ]
  },
  {
   "cell_type": "code",
   "execution_count": 5,
   "metadata": {},
   "outputs": [],
   "source": [
    "def get_distance(start, stop, m):\n",
    "    return np.linspace(start, stop, m)"
   ]
  },
  {
   "cell_type": "code",
   "execution_count": 6,
   "metadata": {},
   "outputs": [],
   "source": [
    "def get_gamma(eta, n, angle, k_b, t, lambda_0):\n",
    "    return pre_infer.calc_gamma(eta, n, angle, k_b, t, lambda_0)"
   ]
  },
  {
   "cell_type": "markdown",
   "metadata": {},
   "source": [
    "___"
   ]
  },
  {
   "cell_type": "code",
   "execution_count": 7,
   "metadata": {},
   "outputs": [],
   "source": [
    "sigma1 = sigma/3"
   ]
  },
  {
   "cell_type": "code",
   "execution_count": 8,
   "metadata": {},
   "outputs": [],
   "source": [
    "d = get_distance(start, stop, m)\n",
    "gamma = get_gamma(eta, n, angle, k_b, t, lambda_0)\n",
    "time = get_log_time()"
   ]
  },
  {
   "cell_type": "markdown",
   "metadata": {},
   "source": [
    "# Generating the bimodal distribution"
   ]
  },
  {
   "cell_type": "code",
   "execution_count": 9,
   "metadata": {},
   "outputs": [],
   "source": [
    "f = pre_infer.generate_bimodal_distribution(d, left_mean, sigma1, right_mean, sigma1, c)"
   ]
  },
  {
   "cell_type": "markdown",
   "metadata": {},
   "source": [
    "This is only formatting for the plots. "
   ]
  },
  {
   "cell_type": "code",
   "execution_count": 10,
   "metadata": {},
   "outputs": [],
   "source": [
    "SMALL_SIZE = 11\n",
    "MEDIUM_SIZE = 14\n",
    "BIGGER_SIZE = 20\n",
    "\n",
    "plt.rc('font', size=SMALL_SIZE)          # controls default text sizes\n",
    "plt.rc('axes', titlesize=BIGGER_SIZE)     # fontsize of the axes title\n",
    "plt.rc('axes', labelsize=BIGGER_SIZE)    # fontsize of the x and y labels\n",
    "plt.rc('xtick', labelsize=MEDIUM_SIZE)    # fontsize of the tick labels\n",
    "plt.rc('ytick', labelsize=MEDIUM_SIZE)    # fontsize of the tick labels\n",
    "plt.rc('legend', fontsize=SMALL_SIZE)    # legend fontsize\n",
    "plt.rc('figure', titlesize=BIGGER_SIZE)  # fontsize of the figure title\n",
    "\n"
   ]
  },
  {
   "cell_type": "markdown",
   "metadata": {},
   "source": [
    "_________________________________________________________________"
   ]
  },
  {
   "cell_type": "markdown",
   "metadata": {},
   "source": [
    "This part plots the simulated, initial particle size distribution (the starting point) and is optional."
   ]
  },
  {
   "cell_type": "code",
   "execution_count": 11,
   "metadata": {},
   "outputs": [
    {
     "data": {
      "text/plain": [
       "Text(0.5,0,'Particle size (m)')"
      ]
     },
     "execution_count": 11,
     "metadata": {},
     "output_type": "execute_result"
    },
    {
     "data": {
      "image/png": "[encoded data removed]",
      "text/plain": [
       "<Figure size 576x432 with 1 Axes>"
      ]
     },
     "metadata": {
      "needs_background": "light"
     },
     "output_type": "display_data"
    }
   ],
   "source": [
    "plt.rc('font', family='serif')\n",
    "\n",
    "fig = plt.figure(figsize=(8, 6))\n",
    "ax = fig.add_subplot(1, 1, 1)\n",
    "plt.plot(d, f)\n",
    "ax.set_ylabel('Probability')\n",
    "ax.set_xlabel('Particle size (m)')"
   ]
  },
  {
   "cell_type": "markdown",
   "metadata": {},
   "source": [
    "_____________________________________________________"
   ]
  },
  {
   "cell_type": "markdown",
   "metadata": {},
   "source": [
    "# Step 3:\n",
    "Append $\\beta$ into the array of simulated probability distribution."
   ]
  },
  {
   "cell_type": "code",
   "execution_count": 12,
   "metadata": {},
   "outputs": [],
   "source": [
    "theta_input = np.append(f, beta)\n"
   ]
  },
  {
   "cell_type": "markdown",
   "metadata": {},
   "source": [
    "__________________________________"
   ]
  },
  {
   "cell_type": "markdown",
   "metadata": {},
   "source": [
    "# Step 4:\n",
    "Generate a simulated g2 from the hypothetical size distribution"
   ]
  },
  {
   "cell_type": "code",
   "execution_count": 13,
   "metadata": {},
   "outputs": [],
   "source": [
    "sim_data = dlsinfer.g2(theta_input, d, gamma, time)"
   ]
  },
  {
   "cell_type": "markdown",
   "metadata": {},
   "source": [
    "_______________"
   ]
  },
  {
   "cell_type": "markdown",
   "metadata": {},
   "source": [
    "# Optional: \n",
    "Plot the simulated g2 function to check for sensibility."
   ]
  },
  {
   "cell_type": "code",
   "execution_count": 14,
   "metadata": {},
   "outputs": [
    {
     "data": {
      "text/plain": [
       "Text(0.5,0,'Time (s)')"
      ]
     },
     "execution_count": 14,
     "metadata": {},
     "output_type": "execute_result"
    },
    {
     "data": {
      "image/png": "[encoded data removed]",
      "text/plain": [
       "<Figure size 576x432 with 1 Axes>"
      ]
     },
     "metadata": {
      "needs_background": "light"
     },
     "output_type": "display_data"
    }
   ],
   "source": [
    "plt.rc('font', family='serif')\n",
    "\n",
    "fig = plt.figure(figsize=(8, 6))\n",
    "ax = fig.add_subplot(1, 1, 1)\n",
    "plt.semilogx(time, sim_data)\n",
    "ax.set_ylabel('Autocorrelation function')\n",
    "ax.set_xlabel('Time (s)')"
   ]
  },
  {
   "cell_type": "markdown",
   "metadata": {},
   "source": [
    "____________"
   ]
  },
  {
   "cell_type": "markdown",
   "metadata": {},
   "source": [
    "# Step 5:\n",
    "Generate the number of desired dimensions, walkers and steps."
   ]
  },
  {
   "cell_type": "code",
   "execution_count": 15,
   "metadata": {},
   "outputs": [],
   "source": [
    "ndim = 21\n",
    "nwalkers = 100\n",
    "nsteps = 1000"
   ]
  },
  {
   "cell_type": "markdown",
   "metadata": {},
   "source": [
    "___"
   ]
  },
  {
   "cell_type": "markdown",
   "metadata": {},
   "source": [
    "# Step 7:\n",
    "Create a starting position. \n",
    "Previously I had a function that does this, but when I was generating the slides for my presentation, I found bugs that I managed to get to later after my presentation, so for the presentation I crudely generated the starting position. \n",
    "\n",
    "Otherwise, you can use dlsinfer.create_start_pos"
   ]
  },
  {
   "cell_type": "code",
   "execution_count": 16,
   "metadata": {},
   "outputs": [],
   "source": [
    "start_pos = [theta_input + 1e-4*np.absolute(np.random.randn(ndim)) for i in range(nwalkers)]"
   ]
  },
  {
   "cell_type": "markdown",
   "metadata": {},
   "source": [
    "___"
   ]
  },
  {
   "cell_type": "markdown",
   "metadata": {},
   "source": [
    "# Step 8:\n",
    "Create a sampler, can also use dlsinfer.create_sampler"
   ]
  },
  {
   "cell_type": "code",
   "execution_count": 17,
   "metadata": {},
   "outputs": [],
   "source": [
    "sampler = emcee.EnsembleSampler(nwalkers, ndim, dlsinfer.log_posterior, args=(d, sim_data, m, gamma, time))"
   ]
  },
  {
   "cell_type": "markdown",
   "metadata": {},
   "source": [
    "___"
   ]
  },
  {
   "cell_type": "markdown",
   "metadata": {},
   "source": [
    "# Step 9:\n",
    "Run emcee on the sampler, get the acceptance fraction to check "
   ]
  },
  {
   "cell_type": "code",
   "execution_count": 18,
   "metadata": {},
   "outputs": [],
   "source": [
    "result = sampler.run_mcmc(start_pos, nsteps)"
   ]
  },
  {
   "cell_type": "code",
   "execution_count": 19,
   "metadata": {},
   "outputs": [
    {
     "data": {
      "text/plain": [
       "array([0.316, 0.324, 0.314, 0.358, 0.37 , 0.346, 0.341, 0.32 , 0.346,\n",
       "       0.345, 0.306, 0.316, 0.341, 0.323, 0.329, 0.29 , 0.376, 0.356,\n",
       "       0.305, 0.343, 0.314, 0.338, 0.329, 0.347, 0.332, 0.342, 0.342,\n",
       "       0.325, 0.323, 0.306, 0.347, 0.309, 0.345, 0.338, 0.352, 0.298,\n",
       "       0.304, 0.368, 0.369, 0.343, 0.363, 0.348, 0.325, 0.333, 0.356,\n",
       "       0.363, 0.29 , 0.363, 0.289, 0.33 , 0.341, 0.336, 0.325, 0.329,\n",
       "       0.325, 0.317, 0.375, 0.327, 0.345, 0.315, 0.333, 0.338, 0.338,\n",
       "       0.31 , 0.354, 0.336, 0.337, 0.328, 0.343, 0.336, 0.348, 0.311,\n",
       "       0.322, 0.338, 0.327, 0.355, 0.316, 0.298, 0.314, 0.331, 0.304,\n",
       "       0.299, 0.375, 0.352, 0.363, 0.309, 0.348, 0.323, 0.314, 0.312,\n",
       "       0.336, 0.344, 0.307, 0.379, 0.345, 0.32 , 0.328, 0.349, 0.352,\n",
       "       0.331])"
      ]
     },
     "execution_count": 19,
     "metadata": {},
     "output_type": "execute_result"
    }
   ],
   "source": [
    "sampler.acceptance_fraction"
   ]
  },
  {
   "cell_type": "markdown",
   "metadata": {},
   "source": [
    "___"
   ]
  },
  {
   "cell_type": "markdown",
   "metadata": {},
   "source": [
    "# Step 9:\n",
    "Chain resultant sampler, use it to create dataframe, and quantile dataframe to 50%"
   ]
  },
  {
   "cell_type": "code",
   "execution_count": 20,
   "metadata": {},
   "outputs": [
    {
     "data": {
      "text/html": [
       "<div>\n",
       "<style scoped>\n",
       "    .dataframe tbody tr th:only-of-type {\n",
       "        vertical-align: middle;\n",
       "    }\n",
       "\n",
       "    .dataframe tbody tr th {\n",
       "        vertical-align: top;\n",
       "    }\n",
       "\n",
       "    .dataframe thead th {\n",
       "        text-align: right;\n",
       "    }\n",
       "</style>\n",
       "<table border=\"1\" class=\"dataframe\">\n",
       "  <thead>\n",
       "    <tr style=\"text-align: right;\">\n",
       "      <th></th>\n",
       "      <th>f0</th>\n",
       "      <th>f1</th>\n",
       "      <th>f10</th>\n",
       "      <th>f11</th>\n",
       "      <th>f12</th>\n",
       "      <th>f13</th>\n",
       "      <th>f14</th>\n",
       "      <th>f15</th>\n",
       "      <th>f16</th>\n",
       "      <th>f17</th>\n",
       "      <th>f18</th>\n",
       "      <th>f19</th>\n",
       "      <th>f2</th>\n",
       "      <th>f3</th>\n",
       "      <th>f4</th>\n",
       "      <th>f5</th>\n",
       "      <th>f6</th>\n",
       "      <th>f7</th>\n",
       "      <th>f8</th>\n",
       "      <th>f9</th>\n",
       "    </tr>\n",
       "  </thead>\n",
       "  <tbody>\n",
       "    <tr>\n",
       "      <th>0.5</th>\n",
       "      <td>0.022413</td>\n",
       "      <td>0.263421</td>\n",
       "      <td>0.042134</td>\n",
       "      <td>0.269252</td>\n",
       "      <td>0.349483</td>\n",
       "      <td>0.093316</td>\n",
       "      <td>1.000000e+09</td>\n",
       "      <td>1.535399</td>\n",
       "      <td>0.040796</td>\n",
       "      <td>0.285661</td>\n",
       "      <td>0.252963</td>\n",
       "      <td>0.226909</td>\n",
       "      <td>1.000000e+09</td>\n",
       "      <td>0.426914</td>\n",
       "      <td>0.410318</td>\n",
       "      <td>0.517353</td>\n",
       "      <td>0.184663</td>\n",
       "      <td>0.058169</td>\n",
       "      <td>0.791916</td>\n",
       "      <td>0.431085</td>\n",
       "    </tr>\n",
       "  </tbody>\n",
       "</table>\n",
       "</div>"
      ],
      "text/plain": [
       "           f0        f1       f10       f11       f12       f13           f14  \\\n",
       "0.5  0.022413  0.263421  0.042134  0.269252  0.349483  0.093316  1.000000e+09   \n",
       "\n",
       "          f15       f16       f17       f18       f19            f2        f3  \\\n",
       "0.5  1.535399  0.040796  0.285661  0.252963  0.226909  1.000000e+09  0.426914   \n",
       "\n",
       "           f4        f5        f6        f7        f8        f9  \n",
       "0.5  0.410318  0.517353  0.184663  0.058169  0.791916  0.431085  "
      ]
     },
     "execution_count": 20,
     "metadata": {},
     "output_type": "execute_result"
    }
   ],
   "source": [
    "chained_sampler = post_infer.chain(sampler, 900, ndim)\n",
    "samples_df = post_infer.create_dataframe(chained_sampler, ndim)\n",
    "q = samples_df.quantile([0.5], axis=0)\n",
    "q"
   ]
  },
  {
   "cell_type": "markdown",
   "metadata": {},
   "source": [
    "___"
   ]
  },
  {
   "cell_type": "markdown",
   "metadata": {},
   "source": [
    "# Step 10:\n",
    "Extract the array for probability values from the quantiled dataframe"
   ]
  },
  {
   "cell_type": "code",
   "execution_count": 21,
   "metadata": {},
   "outputs": [
    {
     "data": {
      "text/plain": [
       "array([2.24127657e-02, 2.63420737e-01, 1.00000000e+09, 4.26914026e-01,\n",
       "       4.10317536e-01, 5.17353236e-01, 1.84662908e-01, 5.81688547e-02,\n",
       "       7.91915596e-01, 4.31085025e-01, 4.21342116e-02, 2.69251558e-01,\n",
       "       3.49483314e-01, 9.33158311e-02, 1.00000000e+09, 1.53539868e+00,\n",
       "       4.07958065e-02, 2.85660880e-01, 2.52962709e-01, 2.26908727e-01])"
      ]
     },
     "execution_count": 21,
     "metadata": {},
     "output_type": "execute_result"
    }
   ],
   "source": [
    "inferred = post_infer.get_infer_f(q, m)\n",
    "inferred"
   ]
  },
  {
   "cell_type": "markdown",
   "metadata": {},
   "source": [
    "_______"
   ]
  },
  {
   "cell_type": "markdown",
   "metadata": {},
   "source": [
    "# Step 11:\n",
    "Plot the result against the simulated size distribution"
   ]
  },
  {
   "cell_type": "code",
   "execution_count": 22,
   "metadata": {},
   "outputs": [
    {
     "data": {
      "text/plain": [
       "Text(0.5,0,'Particle size (m)')"
      ]
     },
     "execution_count": 22,
     "metadata": {},
     "output_type": "execute_result"
    },
    {
     "data": {
      "image/png": "[encoded data removed]",
      "text/plain": [
       "<Figure size 576x432 with 1 Axes>"
      ]
     },
     "metadata": {
      "needs_background": "light"
     },
     "output_type": "display_data"
    }
   ],
   "source": [
    "plt.rc('font', family='serif')\n",
    "\n",
    "fig = plt.figure(figsize=(8, 6))\n",
    "ax = fig.add_subplot(1, 1, 1)\n",
    "\n",
    "plt.plot(d, inferred, '--', label='Inferred')\n",
    "plt.plot(d, f, label='Simulated')\n",
    "plt.legend()\n",
    "\n",
    "ax.set_ylabel(\"Probability\")\n",
    "ax.set_xlabel(\"Particle size (m)\")"
   ]
  },
  {
   "cell_type": "markdown",
   "metadata": {},
   "source": [
    "______"
   ]
  },
  {
   "cell_type": "code",
   "execution_count": null,
   "metadata": {},
   "outputs": [],
   "source": []
  }
 ],
 "metadata": {
  "kernelspec": {
   "display_name": "Python 2",
   "language": "python",
   "name": "python2"
  },
  "language_info": {
   "codemirror_mode": {
    "name": "ipython",
    "version": 2
   },
   "file_extension": ".py",
   "mimetype": "text/x-python",
   "name": "python",
   "nbconvert_exporter": "python",
   "pygments_lexer": "ipython2",
   "version": "2.7.16"
  }
 },
 "nbformat": 4,
 "nbformat_minor": 2
}
