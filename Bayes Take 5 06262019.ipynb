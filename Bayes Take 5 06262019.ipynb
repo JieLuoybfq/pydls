{
 "cells": [
  {
   "cell_type": "code",
   "execution_count": 1,
   "metadata": {},
   "outputs": [],
   "source": [
    "import numpy as np\n",
    "import matplotlib.pyplot as plt\n",
    "import emcee\n",
    "import seaborn as sns\n",
    "import pandas as pd\n",
    "import dlsfunctions as dls\n",
    "import scipy\n",
    "import scipy.optimize\n",
    "import scipy.integrate"
   ]
  },
  {
   "cell_type": "code",
   "execution_count": 2,
   "metadata": {},
   "outputs": [],
   "source": [
    "dls_data = np.loadtxt('2015_07_22_Eonly0005_MILLISECONDS.asc', encoding='latin1', skiprows=28, max_rows=214)"
   ]
  },
  {
   "cell_type": "code",
   "execution_count": 3,
   "metadata": {},
   "outputs": [],
   "source": [
    "tau = dls_data[:,0]\n",
    "intensity = dls_data[:,1]"
   ]
  },
  {
   "cell_type": "code",
   "execution_count": 4,
   "metadata": {},
   "outputs": [],
   "source": [
    "popt, pcov = scipy.optimize.curve_fit(dls.single_exponential_fit, tau, intensity)"
   ]
  },
  {
   "cell_type": "code",
   "execution_count": 5,
   "metadata": {},
   "outputs": [
    {
     "data": {
      "text/plain": [
       "<matplotlib.legend.Legend at 0x117910750>"
      ]
     },
     "execution_count": 5,
     "metadata": {},
     "output_type": "execute_result"
    },
    {
     "data": {
      "image/png": "[encoded data removed]",
      "text/plain": [
       "<Figure size 432x288 with 1 Axes>"
      ]
     },
     "metadata": {
      "needs_background": "light"
     },
     "output_type": "display_data"
    }
   ],
   "source": [
    "plt.semilogx(tau, intensity, label='Raw Data')\n",
    "plt.semilogx(tau, dls.single_exponential_fit(tau, popt[0], popt[1], popt[2]), label='Fit')\n",
    "plt.title(\"Single Exponential Fit v. Actual Data\")\n",
    "plt.legend()"
   ]
  },
  {
   "cell_type": "code",
   "execution_count": 6,
   "metadata": {},
   "outputs": [],
   "source": [
    "# determining the most probably radius\n",
    "m = 40\n",
    "c = 1\n",
    "eta = 1e-3\n",
    "n = 1.33\n",
    "theta = np.pi/2\n",
    "k_b = 1.38e-23\n",
    "t = 298.15\n",
    "lambda_0 = 638e-9\n",
    "\n",
    "\n",
    "gamma = dls.calc_gamma(m, c, eta, n, theta, k_b, t, lambda_0)"
   ]
  },
  {
   "cell_type": "code",
   "execution_count": 7,
   "metadata": {},
   "outputs": [
    {
     "data": {
      "text/plain": [
       "2.2439608235145855e-09"
      ]
     },
     "execution_count": 7,
     "metadata": {},
     "output_type": "execute_result"
    }
   ],
   "source": [
    "r = dls.determine_radius(popt[0], n, lambda_0, theta, eta, k_b, t)\n",
    "r"
   ]
  },
  {
   "cell_type": "code",
   "execution_count": 8,
   "metadata": {},
   "outputs": [
    {
     "data": {
      "text/plain": [
       "4.487921647029171e-09"
      ]
     },
     "execution_count": 8,
     "metadata": {},
     "output_type": "execute_result"
    }
   ],
   "source": [
    "diameter = r*2\n",
    "diameter"
   ]
  },
  {
   "cell_type": "code",
   "execution_count": 9,
   "metadata": {},
   "outputs": [],
   "source": [
    "d = np.linspace(1e-9, 9e-9, 40)\n",
    "sigma = 5e-10\n"
   ]
  },
  {
   "cell_type": "code",
   "execution_count": 10,
   "metadata": {},
   "outputs": [
    {
     "data": {
      "text/plain": [
       "[<matplotlib.lines.Line2D at 0x117ac0790>]"
      ]
     },
     "execution_count": 10,
     "metadata": {},
     "output_type": "execute_result"
    },
    {
     "data": {
      "image/png": "[encoded data removed]",
      "text/plain": [
       "<Figure size 432x288 with 1 Axes>"
      ]
     },
     "metadata": {
      "needs_background": "light"
     },
     "output_type": "display_data"
    }
   ],
   "source": [
    "distribution = dls.generate_distribution(d, diameter, sigma, c)\n",
    "plt.plot(d, distribution)"
   ]
  },
  {
   "cell_type": "code",
   "execution_count": 11,
   "metadata": {},
   "outputs": [
    {
     "data": {
      "text/plain": [
       "1.0"
      ]
     },
     "execution_count": 11,
     "metadata": {},
     "output_type": "execute_result"
    }
   ],
   "source": [
    "dls.check_distribution_norm(distribution, d[1] - d[0])"
   ]
  },
  {
   "cell_type": "code",
   "execution_count": 61,
   "metadata": {},
   "outputs": [],
   "source": [
    "ndim = 41\n",
    "nwalkers = 100\n",
    "nsteps = 5000"
   ]
  },
  {
   "cell_type": "code",
   "execution_count": 62,
   "metadata": {},
   "outputs": [],
   "source": [
    "beta = 0.9\n",
    "theta_in = np.append(distribution, beta)"
   ]
  },
  {
   "cell_type": "code",
   "execution_count": 63,
   "metadata": {},
   "outputs": [],
   "source": [
    "start_pos = [theta_in + 1e-4*np.random.randn(ndim) for i in range(nwalkers)]"
   ]
  },
  {
   "cell_type": "code",
   "execution_count": 64,
   "metadata": {},
   "outputs": [],
   "source": [
    "sampler = emcee.EnsembleSampler(nwalkers, ndim, dls.log_posterior, args=(d, intensity, m, gamma, tau*0.001))"
   ]
  },
  {
   "cell_type": "code",
   "execution_count": 65,
   "metadata": {},
   "outputs": [
    {
     "name": "stdout",
     "output_type": "stream",
     "text": [
      "emcee: Exception while calling your likelihood function:\n",
      "  params: [ 1.61856877e+03  8.46424198e+02  5.38943244e+02  7.80048334e+02\n",
      "  5.87435299e+01  4.31301985e+03  3.11266619e+04  1.76650643e+05\n",
      "  8.68643695e+05  3.63659854e+06  1.28585572e+07  3.84243108e+07\n",
      "  9.70334167e+07  2.07069266e+08  3.73434337e+08  5.69137993e+08\n",
      "  7.33039773e+08  7.97884161e+08  7.33933340e+08  5.70526981e+08\n",
      "  3.74803640e+08  2.08080275e+08  9.76226809e+07  3.87072159e+07\n",
      "  1.29705056e+07  3.67209796e+06  8.80846049e+05  1.76606803e+05\n",
      "  3.16118403e+04  3.95466007e+03  2.01420651e+02  4.37081467e+02\n",
      "  3.41879721e+02 -2.66862347e-01  3.43613482e+02  6.27414457e+01\n",
      "  7.88497952e-01  2.74829251e+03  2.57348148e+03  8.59494416e+00\n",
      "  6.97319734e-01]\n",
      "  args: (array([1.00000000e-09, 1.20512821e-09, 1.41025641e-09, 1.61538462e-09,\n",
      "       1.82051282e-09, 2.02564103e-09, 2.23076923e-09, 2.43589744e-09,\n",
      "       2.64102564e-09, 2.84615385e-09, 3.05128205e-09, 3.25641026e-09,\n",
      "       3.46153846e-09, 3.66666667e-09, 3.87179487e-09, 4.07692308e-09,\n",
      "       4.28205128e-09, 4.48717949e-09, 4.69230769e-09, 4.89743590e-09,\n",
      "       5.10256410e-09, 5.30769231e-09, 5.51282051e-09, 5.71794872e-09,\n",
      "       5.92307692e-09, 6.12820513e-09, 6.33333333e-09, 6.53846154e-09,\n",
      "       6.74358974e-09, 6.94871795e-09, 7.15384615e-09, 7.35897436e-09,\n",
      "       7.56410256e-09, 7.76923077e-09, 7.97435897e-09, 8.17948718e-09,\n",
      "       8.38461538e-09, 8.58974359e-09, 8.79487179e-09, 9.00000000e-09]), array([ 9.68614e-01,  9.35747e-01,  9.21714e-01,  9.26145e-01,\n",
      "        9.34455e-01,  9.14513e-01,  8.99002e-01,  9.04449e-01,\n",
      "        8.92263e-01,  8.70474e-01,  8.89770e-01,  8.87462e-01,\n",
      "        8.62535e-01,  8.50810e-01,  8.66551e-01,  8.57735e-01,\n",
      "        8.52241e-01,  8.22283e-01,  8.36962e-01,  8.22698e-01,\n",
      "        8.16050e-01,  7.93662e-01,  7.94215e-01,  8.01416e-01,\n",
      "        7.78543e-01,  7.61948e-01,  7.49069e-01,  7.41337e-01,\n",
      "        7.22895e-01,  7.15371e-01,  7.07223e-01,  6.82331e-01,\n",
      "        6.61419e-01,  6.35592e-01,  6.14796e-01,  5.91657e-01,\n",
      "        5.76955e-01,  5.56909e-01,  5.39587e-01,  5.07020e-01,\n",
      "        4.77067e-01,  4.46531e-01,  4.15545e-01,  3.87652e-01,\n",
      "        3.63670e-01,  3.44300e-01,  3.25226e-01,  2.81820e-01,\n",
      "        2.49154e-01,  2.20035e-01,  1.97352e-01,  1.69147e-01,\n",
      "        1.53946e-01,  1.32570e-01,  1.20207e-01,  9.17445e-02,\n",
      "        7.42793e-02,  5.77795e-02,  4.56378e-02,  3.57799e-02,\n",
      "        2.88052e-02,  2.38745e-02,  1.86783e-02,  1.24559e-02,\n",
      "        9.21306e-03,  6.70159e-03,  5.42278e-03,  3.69409e-03,\n",
      "        2.71985e-03,  2.63868e-03,  9.51959e-04,  1.06176e-03,\n",
      "       -1.89810e-04,  7.20399e-04,  1.80283e-03,  5.71261e-04,\n",
      "       -3.48520e-04,  1.69875e-04, -2.01942e-04, -2.26512e-04,\n",
      "       -1.28031e-03, -4.32616e-04, -2.94445e-04, -8.78912e-06,\n",
      "        3.33863e-04, -1.78931e-04, -2.05295e-05, -7.52136e-04,\n",
      "       -8.24518e-04, -3.74822e-04,  9.57264e-06, -5.23431e-04,\n",
      "        1.19805e-04, -3.33407e-04,  2.12246e-04,  7.82843e-05,\n",
      "       -3.07859e-04,  1.69061e-04,  3.09650e-05,  9.71785e-05,\n",
      "        2.77465e-04, -3.72962e-04,  1.39379e-04,  5.62336e-04,\n",
      "        2.79003e-04,  1.03172e-04, -1.64419e-04,  1.32909e-04,\n",
      "       -9.93793e-05, -1.62840e-04,  1.29912e-05,  2.22209e-04,\n",
      "        1.22186e-04, -1.76915e-05, -9.93023e-05,  3.15646e-04,\n",
      "        4.73866e-04, -1.27406e-05,  1.85689e-05,  5.80266e-05,\n",
      "       -2.10101e-05,  1.18736e-04,  4.43938e-04,  1.86236e-04,\n",
      "        2.71081e-04,  2.01353e-05, -6.80655e-05,  1.37466e-04,\n",
      "        1.03308e-04, -6.93276e-05,  8.53351e-05,  4.51179e-05,\n",
      "       -1.35816e-04,  1.01158e-04,  1.25855e-05,  1.38985e-04,\n",
      "        2.07645e-04,  4.47560e-05,  5.78552e-05, -7.74088e-07,\n",
      "        1.23508e-04,  2.17688e-05,  7.53190e-05,  1.00993e-04,\n",
      "        4.33102e-06,  2.33453e-05, -2.52987e-05,  1.47169e-04,\n",
      "        2.59181e-05,  5.54364e-05,  1.29235e-04,  4.62795e-05,\n",
      "        4.01416e-05,  4.55988e-05,  6.20834e-05,  9.31872e-05,\n",
      "        1.85574e-05, -2.11597e-05,  1.60364e-05,  4.61541e-05,\n",
      "        6.11313e-05,  5.74170e-05,  4.99022e-05,  3.82324e-05,\n",
      "        5.10476e-05,  5.27785e-05,  7.46400e-05,  4.70549e-05,\n",
      "        3.88822e-05,  2.38929e-05,  4.98696e-05,  4.55497e-05,\n",
      "        2.26440e-05,  2.40766e-05,  5.39372e-05,  5.73411e-05,\n",
      "        3.50150e-05,  6.08735e-05,  2.72858e-05,  3.58301e-05,\n",
      "        3.15511e-05,  5.31348e-05,  2.85646e-05,  4.29225e-05,\n",
      "        2.35458e-05,  2.43460e-05,  3.08166e-05,  2.24057e-05,\n",
      "        2.75222e-05,  3.44230e-05,  3.18913e-05,  2.79180e-05,\n",
      "        1.81354e-05,  1.08362e-05,  2.31419e-05,  9.90255e-06,\n",
      "        1.23360e-05,  6.64065e-06,  8.26060e-06,  6.42783e-06,\n",
      "        9.23756e-06,  1.35566e-05,  6.69447e-06, -3.89639e-06,\n",
      "        6.28630e-06, -6.41992e-06, -1.87307e-06, -6.69224e-06,\n",
      "       -1.14495e-05,  1.12016e-06,  1.23636e-05,  9.62364e-06,\n",
      "        9.18700e-06,  1.15745e-06]), 40, 0.0003990545613756757, array([2.50000e-07, 3.75000e-07, 5.00000e-07, 6.25000e-07, 7.50000e-07,\n",
      "       8.75000e-07, 1.00000e-06, 1.12500e-06, 1.25000e-06, 1.37500e-06,\n",
      "       1.50000e-06, 1.62500e-06, 1.75000e-06, 1.87500e-06, 2.00000e-06,\n",
      "       2.25000e-06, 2.50000e-06, 2.75000e-06, 3.00000e-06, 3.25000e-06,\n",
      "       3.50000e-06, 3.75000e-06, 4.00000e-06, 4.50000e-06, 5.00000e-06,\n",
      "       5.50000e-06, 6.00000e-06, 6.50000e-06, 7.00000e-06, 7.50000e-06,\n",
      "       8.00000e-06, 9.00000e-06, 1.00000e-05, 1.10000e-05, 1.20000e-05,\n",
      "       1.30000e-05, 1.40000e-05, 1.50000e-05, 1.60000e-05, 1.80000e-05,\n",
      "       2.00000e-05, 2.20000e-05, 2.40000e-05, 2.60000e-05, 2.80000e-05,\n",
      "       3.00000e-05, 3.20000e-05, 3.60000e-05, 4.00000e-05, 4.40000e-05,\n",
      "       4.80000e-05, 5.20000e-05, 5.60000e-05, 6.00000e-05, 6.40000e-05,\n",
      "       7.20000e-05, 8.00000e-05, 8.80000e-05, 9.60000e-05, 1.04000e-04,\n",
      "       1.12000e-04, 1.20000e-04, 1.28000e-04, 1.44000e-04, 1.60000e-04,\n",
      "       1.76000e-04, 1.92000e-04, 2.08000e-04, 2.24000e-04, 2.40000e-04,\n",
      "       2.56000e-04, 2.88000e-04, 3.20000e-04, 3.52000e-04, 3.84000e-04,\n",
      "       4.16000e-04, 4.48000e-04, 4.80000e-04, 5.12000e-04, 5.76000e-04,\n",
      "       6.40000e-04, 7.04000e-04, 7.68000e-04, 8.32000e-04, 8.96000e-04,\n",
      "       9.60000e-04, 1.02400e-03, 1.15200e-03, 1.28000e-03, 1.40800e-03,\n",
      "       1.53600e-03, 1.66400e-03, 1.79200e-03, 1.92000e-03, 2.01600e-03,\n",
      "       2.27200e-03, 2.52800e-03, 2.78400e-03, 3.04000e-03, 3.29600e-03,\n",
      "       3.55200e-03, 3.80800e-03, 4.06400e-03, 4.57600e-03, 5.08800e-03,\n",
      "       5.60000e-03, 6.11200e-03, 6.62400e-03, 7.13600e-03, 7.64800e-03,\n",
      "       8.16000e-03, 9.18400e-03, 1.02080e-02, 1.12320e-02, 1.22560e-02,\n",
      "       1.32800e-02, 1.43040e-02, 1.53280e-02, 1.63520e-02, 1.84000e-02,\n",
      "       2.04480e-02, 2.24960e-02, 2.45440e-02, 2.65920e-02, 2.86400e-02,\n",
      "       3.06880e-02, 3.27360e-02, 3.68320e-02, 4.09280e-02, 4.50240e-02,\n",
      "       4.91200e-02, 5.32160e-02, 5.73120e-02, 6.14080e-02, 6.55040e-02,\n",
      "       7.36960e-02, 8.18880e-02, 9.00800e-02, 9.82720e-02, 1.06464e-01,\n",
      "       1.14656e-01, 1.22848e-01, 1.31040e-01, 1.47424e-01, 1.63808e-01,\n",
      "       1.80192e-01, 1.96576e-01, 2.12960e-01, 2.29344e-01, 2.45728e-01,\n",
      "       2.62112e-01, 2.94880e-01, 3.27648e-01, 3.60416e-01, 3.93184e-01,\n",
      "       4.25952e-01, 4.58720e-01, 4.91488e-01, 5.24256e-01, 5.89792e-01,\n",
      "       6.55328e-01, 7.20864e-01, 7.86400e-01, 8.51936e-01, 9.17472e-01,\n",
      "       9.83008e-01, 1.04854e+00, 1.17962e+00, 1.31069e+00, 1.44176e+00,\n",
      "       1.57283e+00, 1.70390e+00, 1.83498e+00, 1.96605e+00, 2.09712e+00,\n",
      "       2.35926e+00, 2.62141e+00, 2.88355e+00, 3.14570e+00, 3.40784e+00,\n",
      "       3.66998e+00, 3.93213e+00, 4.19427e+00, 4.71856e+00, 5.24285e+00,\n",
      "       5.76714e+00, 6.29142e+00, 6.81571e+00, 7.34000e+00, 7.86429e+00,\n",
      "       8.38858e+00, 9.43715e+00, 1.04857e+01, 1.15343e+01, 1.25829e+01,\n",
      "       1.36315e+01, 1.46800e+01, 1.57286e+01, 1.67772e+01, 1.88743e+01,\n",
      "       2.09715e+01, 2.30686e+01, 2.51658e+01, 2.72629e+01, 2.93601e+01,\n",
      "       3.14572e+01, 3.35544e+01, 3.77487e+01, 4.19430e+01, 4.61373e+01,\n",
      "       5.03316e+01, 5.45259e+01, 5.87202e+01, 6.29145e+01]))\n",
      "  kwargs: {}\n",
      "  exception:\n"
     ]
    },
    {
     "name": "stderr",
     "output_type": "stream",
     "text": [
      "Traceback (most recent call last):\n",
      "  File \"/usr/local/lib/python2.7/site-packages/emcee/ensemble.py\", line 519, in __call__\n",
      "    return self.f(x, *self.args, **self.kwargs)\n",
      "  File \"dlsfunctions.py\", line 119, in log_posterior\n",
      "    return log_prior(theta, m) + log_likelihood(theta, d, y, m, gamma, time)\n",
      "  File \"dlsfunctions.py\", line 106, in log_likelihood\n",
      "    g2_result = g2(theta, d, m, gamma, time)\n",
      "  File \"dlsfunctions.py\", line 70, in g2\n",
      "    sum_squared = (np.sum(f*expo*delta_d))**2\n",
      "KeyboardInterrupt\n"
     ]
    },
    {
     "ename": "KeyboardInterrupt",
     "evalue": "",
     "output_type": "error",
     "traceback": [
      "\u001b[0;31m---------------------------------------------------------------------------\u001b[0m",
      "\u001b[0;31mKeyboardInterrupt\u001b[0m                         Traceback (most recent call last)",
      "\u001b[0;32m<ipython-input-65-c00938f0753a>\u001b[0m in \u001b[0;36m<module>\u001b[0;34m()\u001b[0m\n\u001b[0;32m----> 1\u001b[0;31m \u001b[0mresult\u001b[0m \u001b[0;34m=\u001b[0m \u001b[0msampler\u001b[0m\u001b[0;34m.\u001b[0m\u001b[0mrun_mcmc\u001b[0m\u001b[0;34m(\u001b[0m\u001b[0mstart_pos\u001b[0m\u001b[0;34m,\u001b[0m \u001b[0mnsteps\u001b[0m\u001b[0;34m)\u001b[0m\u001b[0;34m\u001b[0m\u001b[0m\n\u001b[0m",
      "\u001b[0;32m/usr/local/lib/python2.7/site-packages/emcee/sampler.pyc\u001b[0m in \u001b[0;36mrun_mcmc\u001b[0;34m(self, pos0, N, rstate0, lnprob0, **kwargs)\u001b[0m\n\u001b[1;32m    170\u001b[0m \u001b[0;34m\u001b[0m\u001b[0m\n\u001b[1;32m    171\u001b[0m         for results in self.sample(pos0, lnprob0, rstate0, iterations=N,\n\u001b[0;32m--> 172\u001b[0;31m                                    **kwargs):\n\u001b[0m\u001b[1;32m    173\u001b[0m             \u001b[0;32mpass\u001b[0m\u001b[0;34m\u001b[0m\u001b[0m\n\u001b[1;32m    174\u001b[0m \u001b[0;34m\u001b[0m\u001b[0m\n",
      "\u001b[0;32m/usr/local/lib/python2.7/site-packages/emcee/ensemble.pyc\u001b[0m in \u001b[0;36msample\u001b[0;34m(self, p0, lnprob0, rstate0, blobs0, iterations, thin, storechain, mh_proposal)\u001b[0m\n\u001b[1;32m    257\u001b[0m                 \u001b[0;32mfor\u001b[0m \u001b[0mS0\u001b[0m\u001b[0;34m,\u001b[0m \u001b[0mS1\u001b[0m \u001b[0;32min\u001b[0m \u001b[0;34m[\u001b[0m\u001b[0;34m(\u001b[0m\u001b[0mfirst\u001b[0m\u001b[0;34m,\u001b[0m \u001b[0msecond\u001b[0m\u001b[0;34m)\u001b[0m\u001b[0;34m,\u001b[0m \u001b[0;34m(\u001b[0m\u001b[0msecond\u001b[0m\u001b[0;34m,\u001b[0m \u001b[0mfirst\u001b[0m\u001b[0;34m)\u001b[0m\u001b[0;34m]\u001b[0m\u001b[0;34m:\u001b[0m\u001b[0;34m\u001b[0m\u001b[0m\n\u001b[1;32m    258\u001b[0m                     q, newlnp, acc, blob = self._propose_stretch(p[S0], p[S1],\n\u001b[0;32m--> 259\u001b[0;31m                                                                  lnprob[S0])\n\u001b[0m\u001b[1;32m    260\u001b[0m                     \u001b[0;32mif\u001b[0m \u001b[0mnp\u001b[0m\u001b[0;34m.\u001b[0m\u001b[0many\u001b[0m\u001b[0;34m(\u001b[0m\u001b[0macc\u001b[0m\u001b[0;34m)\u001b[0m\u001b[0;34m:\u001b[0m\u001b[0;34m\u001b[0m\u001b[0m\n\u001b[1;32m    261\u001b[0m                         \u001b[0;31m# Update the positions, log probabilities and\u001b[0m\u001b[0;34m\u001b[0m\u001b[0;34m\u001b[0m\u001b[0m\n",
      "\u001b[0;32m/usr/local/lib/python2.7/site-packages/emcee/ensemble.pyc\u001b[0m in \u001b[0;36m_propose_stretch\u001b[0;34m(self, p0, p1, lnprob0)\u001b[0m\n\u001b[1;32m    330\u001b[0m         \u001b[0;31m# Calculate the proposed positions and the log-probability there.\u001b[0m\u001b[0;34m\u001b[0m\u001b[0;34m\u001b[0m\u001b[0m\n\u001b[1;32m    331\u001b[0m         \u001b[0mq\u001b[0m \u001b[0;34m=\u001b[0m \u001b[0mc\u001b[0m\u001b[0;34m[\u001b[0m\u001b[0mrint\u001b[0m\u001b[0;34m]\u001b[0m \u001b[0;34m-\u001b[0m \u001b[0mzz\u001b[0m\u001b[0;34m[\u001b[0m\u001b[0;34m:\u001b[0m\u001b[0;34m,\u001b[0m \u001b[0mnp\u001b[0m\u001b[0;34m.\u001b[0m\u001b[0mnewaxis\u001b[0m\u001b[0;34m]\u001b[0m \u001b[0;34m*\u001b[0m \u001b[0;34m(\u001b[0m\u001b[0mc\u001b[0m\u001b[0;34m[\u001b[0m\u001b[0mrint\u001b[0m\u001b[0;34m]\u001b[0m \u001b[0;34m-\u001b[0m \u001b[0ms\u001b[0m\u001b[0;34m)\u001b[0m\u001b[0;34m\u001b[0m\u001b[0m\n\u001b[0;32m--> 332\u001b[0;31m         \u001b[0mnewlnprob\u001b[0m\u001b[0;34m,\u001b[0m \u001b[0mblob\u001b[0m \u001b[0;34m=\u001b[0m \u001b[0mself\u001b[0m\u001b[0;34m.\u001b[0m\u001b[0m_get_lnprob\u001b[0m\u001b[0;34m(\u001b[0m\u001b[0mq\u001b[0m\u001b[0;34m)\u001b[0m\u001b[0;34m\u001b[0m\u001b[0m\n\u001b[0m\u001b[1;32m    333\u001b[0m \u001b[0;34m\u001b[0m\u001b[0m\n\u001b[1;32m    334\u001b[0m         \u001b[0;31m# Decide whether or not the proposals should be accepted.\u001b[0m\u001b[0;34m\u001b[0m\u001b[0;34m\u001b[0m\u001b[0m\n",
      "\u001b[0;32m/usr/local/lib/python2.7/site-packages/emcee/ensemble.pyc\u001b[0m in \u001b[0;36m_get_lnprob\u001b[0;34m(self, pos)\u001b[0m\n\u001b[1;32m    380\u001b[0m \u001b[0;34m\u001b[0m\u001b[0m\n\u001b[1;32m    381\u001b[0m         \u001b[0;31m# Run the log-probability calculations (optionally in parallel).\u001b[0m\u001b[0;34m\u001b[0m\u001b[0;34m\u001b[0m\u001b[0m\n\u001b[0;32m--> 382\u001b[0;31m         \u001b[0mresults\u001b[0m \u001b[0;34m=\u001b[0m \u001b[0mlist\u001b[0m\u001b[0;34m(\u001b[0m\u001b[0mM\u001b[0m\u001b[0;34m(\u001b[0m\u001b[0mself\u001b[0m\u001b[0;34m.\u001b[0m\u001b[0mlnprobfn\u001b[0m\u001b[0;34m,\u001b[0m \u001b[0;34m[\u001b[0m\u001b[0mp\u001b[0m\u001b[0;34m[\u001b[0m\u001b[0mi\u001b[0m\u001b[0;34m]\u001b[0m \u001b[0;32mfor\u001b[0m \u001b[0mi\u001b[0m \u001b[0;32min\u001b[0m \u001b[0mrange\u001b[0m\u001b[0;34m(\u001b[0m\u001b[0mlen\u001b[0m\u001b[0;34m(\u001b[0m\u001b[0mp\u001b[0m\u001b[0;34m)\u001b[0m\u001b[0;34m)\u001b[0m\u001b[0;34m]\u001b[0m\u001b[0;34m)\u001b[0m\u001b[0;34m)\u001b[0m\u001b[0;34m\u001b[0m\u001b[0m\n\u001b[0m\u001b[1;32m    383\u001b[0m \u001b[0;34m\u001b[0m\u001b[0m\n\u001b[1;32m    384\u001b[0m         \u001b[0;32mtry\u001b[0m\u001b[0;34m:\u001b[0m\u001b[0;34m\u001b[0m\u001b[0m\n",
      "\u001b[0;32m/usr/local/lib/python2.7/site-packages/emcee/ensemble.pyc\u001b[0m in \u001b[0;36m__call__\u001b[0;34m(self, x)\u001b[0m\n\u001b[1;32m    517\u001b[0m     \u001b[0;32mdef\u001b[0m \u001b[0m__call__\u001b[0m\u001b[0;34m(\u001b[0m\u001b[0mself\u001b[0m\u001b[0;34m,\u001b[0m \u001b[0mx\u001b[0m\u001b[0;34m)\u001b[0m\u001b[0;34m:\u001b[0m\u001b[0;34m\u001b[0m\u001b[0m\n\u001b[1;32m    518\u001b[0m         \u001b[0;32mtry\u001b[0m\u001b[0;34m:\u001b[0m\u001b[0;34m\u001b[0m\u001b[0m\n\u001b[0;32m--> 519\u001b[0;31m             \u001b[0;32mreturn\u001b[0m \u001b[0mself\u001b[0m\u001b[0;34m.\u001b[0m\u001b[0mf\u001b[0m\u001b[0;34m(\u001b[0m\u001b[0mx\u001b[0m\u001b[0;34m,\u001b[0m \u001b[0;34m*\u001b[0m\u001b[0mself\u001b[0m\u001b[0;34m.\u001b[0m\u001b[0margs\u001b[0m\u001b[0;34m,\u001b[0m \u001b[0;34m**\u001b[0m\u001b[0mself\u001b[0m\u001b[0;34m.\u001b[0m\u001b[0mkwargs\u001b[0m\u001b[0;34m)\u001b[0m\u001b[0;34m\u001b[0m\u001b[0m\n\u001b[0m\u001b[1;32m    520\u001b[0m         \u001b[0;32mexcept\u001b[0m\u001b[0;34m:\u001b[0m\u001b[0;34m\u001b[0m\u001b[0m\n\u001b[1;32m    521\u001b[0m             \u001b[0;32mimport\u001b[0m \u001b[0mtraceback\u001b[0m\u001b[0;34m\u001b[0m\u001b[0m\n",
      "\u001b[0;32m/Users/thyle/Desktop/Personal/Research/pydls/dlsfunctions.py\u001b[0m in \u001b[0;36mlog_posterior\u001b[0;34m(theta, d, y, m, gamma, time)\u001b[0m\n\u001b[1;32m    117\u001b[0m     \u001b[0;31m# log_prior and log_likelihood will need to slice theta correctly\u001b[0m\u001b[0;34m\u001b[0m\u001b[0;34m\u001b[0m\u001b[0m\n\u001b[1;32m    118\u001b[0m \u001b[0;34m\u001b[0m\u001b[0m\n\u001b[0;32m--> 119\u001b[0;31m     \u001b[0;32mreturn\u001b[0m \u001b[0mlog_prior\u001b[0m\u001b[0;34m(\u001b[0m\u001b[0mtheta\u001b[0m\u001b[0;34m,\u001b[0m \u001b[0mm\u001b[0m\u001b[0;34m)\u001b[0m \u001b[0;34m+\u001b[0m \u001b[0mlog_likelihood\u001b[0m\u001b[0;34m(\u001b[0m\u001b[0mtheta\u001b[0m\u001b[0;34m,\u001b[0m \u001b[0md\u001b[0m\u001b[0;34m,\u001b[0m \u001b[0my\u001b[0m\u001b[0;34m,\u001b[0m \u001b[0mm\u001b[0m\u001b[0;34m,\u001b[0m \u001b[0mgamma\u001b[0m\u001b[0;34m,\u001b[0m \u001b[0mtime\u001b[0m\u001b[0;34m)\u001b[0m\u001b[0;34m\u001b[0m\u001b[0m\n\u001b[0m\u001b[1;32m    120\u001b[0m \u001b[0;34m\u001b[0m\u001b[0m\n\u001b[1;32m    121\u001b[0m \u001b[0;34m\u001b[0m\u001b[0m\n",
      "\u001b[0;32m/Users/thyle/Desktop/Personal/Research/pydls/dlsfunctions.py\u001b[0m in \u001b[0;36mlog_likelihood\u001b[0;34m(theta, d, y, m, gamma, time)\u001b[0m\n\u001b[1;32m    104\u001b[0m \u001b[0;34m\u001b[0m\u001b[0m\n\u001b[1;32m    105\u001b[0m \u001b[0;32mdef\u001b[0m \u001b[0mlog_likelihood\u001b[0m\u001b[0;34m(\u001b[0m\u001b[0mtheta\u001b[0m\u001b[0;34m,\u001b[0m \u001b[0md\u001b[0m\u001b[0;34m,\u001b[0m \u001b[0my\u001b[0m\u001b[0;34m,\u001b[0m \u001b[0mm\u001b[0m\u001b[0;34m,\u001b[0m \u001b[0mgamma\u001b[0m\u001b[0;34m,\u001b[0m \u001b[0mtime\u001b[0m\u001b[0;34m)\u001b[0m\u001b[0;34m:\u001b[0m\u001b[0;34m\u001b[0m\u001b[0m\n\u001b[0;32m--> 106\u001b[0;31m     \u001b[0mg2_result\u001b[0m \u001b[0;34m=\u001b[0m \u001b[0mg2\u001b[0m\u001b[0;34m(\u001b[0m\u001b[0mtheta\u001b[0m\u001b[0;34m,\u001b[0m \u001b[0md\u001b[0m\u001b[0;34m,\u001b[0m \u001b[0mm\u001b[0m\u001b[0;34m,\u001b[0m \u001b[0mgamma\u001b[0m\u001b[0;34m,\u001b[0m \u001b[0mtime\u001b[0m\u001b[0;34m)\u001b[0m\u001b[0;34m\u001b[0m\u001b[0m\n\u001b[0m\u001b[1;32m    107\u001b[0m     \u001b[0;31m# keep in mind that g2 will require beta factor in the future\u001b[0m\u001b[0;34m\u001b[0m\u001b[0;34m\u001b[0m\u001b[0m\n\u001b[1;32m    108\u001b[0m \u001b[0;34m\u001b[0m\u001b[0m\n",
      "\u001b[0;32m/Users/thyle/Desktop/Personal/Research/pydls/dlsfunctions.py\u001b[0m in \u001b[0;36mg2\u001b[0;34m(theta, d, m, gamma, time)\u001b[0m\n\u001b[1;32m     68\u001b[0m     \u001b[0;32mfor\u001b[0m \u001b[0mi\u001b[0m \u001b[0;32min\u001b[0m \u001b[0mrange\u001b[0m\u001b[0;34m(\u001b[0m\u001b[0msize\u001b[0m\u001b[0;34m)\u001b[0m\u001b[0;34m:\u001b[0m\u001b[0;34m\u001b[0m\u001b[0m\n\u001b[1;32m     69\u001b[0m         \u001b[0mexpo\u001b[0m \u001b[0;34m=\u001b[0m \u001b[0mnp\u001b[0m\u001b[0;34m.\u001b[0m\u001b[0mexp\u001b[0m\u001b[0;34m(\u001b[0m\u001b[0;34m-\u001b[0m\u001b[0;34m(\u001b[0m\u001b[0mgamma\u001b[0m\u001b[0;34m*\u001b[0m\u001b[0mtime\u001b[0m\u001b[0;34m[\u001b[0m\u001b[0mi\u001b[0m\u001b[0;34m]\u001b[0m\u001b[0;34m)\u001b[0m\u001b[0;34m/\u001b[0m\u001b[0md\u001b[0m\u001b[0;34m)\u001b[0m\u001b[0;34m\u001b[0m\u001b[0m\n\u001b[0;32m---> 70\u001b[0;31m         \u001b[0msum_squared\u001b[0m \u001b[0;34m=\u001b[0m \u001b[0;34m(\u001b[0m\u001b[0mnp\u001b[0m\u001b[0;34m.\u001b[0m\u001b[0msum\u001b[0m\u001b[0;34m(\u001b[0m\u001b[0mf\u001b[0m\u001b[0;34m*\u001b[0m\u001b[0mexpo\u001b[0m\u001b[0;34m*\u001b[0m\u001b[0mdelta_d\u001b[0m\u001b[0;34m)\u001b[0m\u001b[0;34m)\u001b[0m\u001b[0;34m**\u001b[0m\u001b[0;36m2\u001b[0m\u001b[0;34m\u001b[0m\u001b[0m\n\u001b[0m\u001b[1;32m     71\u001b[0m         \u001b[0mg2\u001b[0m\u001b[0;34m[\u001b[0m\u001b[0mi\u001b[0m\u001b[0;34m]\u001b[0m \u001b[0;34m=\u001b[0m \u001b[0mbeta\u001b[0m\u001b[0;34m*\u001b[0m\u001b[0msum_squared\u001b[0m\u001b[0;34m\u001b[0m\u001b[0m\n\u001b[1;32m     72\u001b[0m     \u001b[0;32mreturn\u001b[0m \u001b[0mg2\u001b[0m\u001b[0;34m\u001b[0m\u001b[0m\n",
      "\u001b[0;31mKeyboardInterrupt\u001b[0m: "
     ]
    }
   ],
   "source": [
    "result = sampler.run_mcmc(start_pos, nsteps)"
   ]
  },
  {
   "cell_type": "code",
   "execution_count": null,
   "metadata": {},
   "outputs": [],
   "source": [
    "sampler.acceptance_fraction"
   ]
  },
  {
   "cell_type": "code",
   "execution_count": null,
   "metadata": {},
   "outputs": [],
   "source": [
    "plt.style.use('seaborn-deep')\n",
    "plt.rcParams['mathtext.fontset'] = 'stix'\n",
    "plt.rcParams['font.family'] = 'STIXGeneral'\n",
    "params = {'legend.fontsize': 'x-large',\n",
    "          'figure.figsize': (15, 5),\n",
    "         'axes.labelsize': 'x-large',\n",
    "         'axes.titlesize':'x-large',\n",
    "         'xtick.labelsize':'x-large',\n",
    "         'ytick.labelsize':'x-large'}\n",
    "\n",
    "fig, (ax0, ax1) = plt.subplots(2)\n",
    "ax0.set(ylabel='f(d0)')\n",
    "ax1.set(ylabel='f(d1)')\n",
    "\n",
    "for j in range(10):\n",
    "    sns.tsplot(sampler.chain[j, :, 0], ax=ax0)\n",
    "    sns.tsplot(sampler.chain[j, :, 1], ax=ax1)"
   ]
  },
  {
   "cell_type": "code",
   "execution_count": 60,
   "metadata": {},
   "outputs": [
    {
     "data": {
      "image/png": "[encoded data removed]",
      "text/plain": [
       "<Figure size 432x288 with 2 Axes>"
      ]
     },
     "metadata": {
      "needs_background": "light"
     },
     "output_type": "display_data"
    }
   ],
   "source": [
    "plt.style.use('seaborn-deep')\n",
    "plt.rcParams['mathtext.fontset'] = 'stix'\n",
    "plt.rcParams['font.family'] = 'STIXGeneral'\n",
    "params = {'legend.fontsize': 'x-large',\n",
    "          'figure.figsize': (15, 5),\n",
    "         'axes.labelsize': 'x-large',\n",
    "         'axes.titlesize':'x-large',\n",
    "         'xtick.labelsize':'x-large',\n",
    "         'ytick.labelsize':'x-large'}\n",
    "\n",
    "fig, (ax2, ax3) = plt.subplots(2)\n",
    "ax2.set(ylabel='f(d2)')\n",
    "ax3.set(ylabel='f(d3)')\n",
    "\n",
    "for j in range(10):\n",
    "    sns.tsplot(sampler.chain[j, :, 2], ax=ax2)\n",
    "    sns.tsplot(sampler.chain[j, :, 3], ax=ax3)"
   ]
  },
  {
   "cell_type": "code",
   "execution_count": null,
   "metadata": {},
   "outputs": [],
   "source": []
  }
 ],
 "metadata": {
  "kernelspec": {
   "display_name": "Python 2",
   "language": "python",
   "name": "python2"
  },
  "language_info": {
   "codemirror_mode": {
    "name": "ipython",
    "version": 2
   },
   "file_extension": ".py",
   "mimetype": "text/x-python",
   "name": "python",
   "nbconvert_exporter": "python",
   "pygments_lexer": "ipython2",
   "version": "2.7.16"
  }
 },
 "nbformat": 4,
 "nbformat_minor": 2
}
