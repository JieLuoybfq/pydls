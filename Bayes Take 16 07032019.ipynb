{
 "cells": [
  {
   "cell_type": "code",
   "execution_count": 1,
   "metadata": {},
   "outputs": [],
   "source": [
    "import numpy as np\n",
    "import matplotlib.pyplot as plt\n",
    "import emcee\n",
    "import dlsfunctions as dls"
   ]
  },
  {
   "cell_type": "code",
   "execution_count": null,
   "metadata": {},
   "outputs": [],
   "source": [
    "%%latex\n",
    "Goal: test to see if the numericalderiv function is the culprit due to lack of initialization"
   ]
  },
  {
   "cell_type": "code",
   "execution_count": 2,
   "metadata": {},
   "outputs": [],
   "source": [
    "r = 2.24e-09\n",
    "diameter = r * 2 + 3e-9\n",
    "sigma = 2e-10\n",
    "\n",
    "m = 20\n",
    "c = 1\n",
    "eta = 1e-3\n",
    "n = 1.33 \n",
    "theta = np.pi/2\n",
    "k_b = 1.38e-23\n",
    "t = 298.15\n",
    "lambda_0 = 638e-9\n",
    "beta = 1\n",
    "\n",
    "time_in = np.linspace(1e-4, 1e-1, 200)*0.001\n",
    "gamma = dls.calc_gamma(m, c, eta, n, theta, k_b, t, lambda_0)\n",
    "\n",
    "d = np.linspace(5e-10, 9e-9, 20)\n",
    "f_1 = dls.generate_distribution(d, diameter, sigma, c)"
   ]
  },
  {
   "cell_type": "code",
   "execution_count": 3,
   "metadata": {},
   "outputs": [],
   "source": [
    "theta_in = np.append(f_1, beta)\n",
    "sim_data = dls.g2(theta_in, d, m, gamma, time_in)"
   ]
  },
  {
   "cell_type": "code",
   "execution_count": 6,
   "metadata": {},
   "outputs": [],
   "source": [
    "ndim = 21\n",
    "nwalkers = 100\n",
    "nsteps = 2500\n",
    "\n",
    "start_pos = [theta_in + 1e-4*np.random.randn(ndim) for i in range(nwalkers)]\n",
    "sampler = emcee.EnsembleSampler(nwalkers, ndim, dls.log_posterior, args=(d, sim_data, m, gamma, time_in))"
   ]
  },
  {
   "cell_type": "code",
   "execution_count": 7,
   "metadata": {},
   "outputs": [
    {
     "data": {
      "text/plain": [
       "array([0.3232, 0.3472, 0.338 , 0.3572, 0.344 , 0.3392, 0.3372, 0.3536,\n",
       "       0.3244, 0.3304, 0.3424, 0.3348, 0.3308, 0.3132, 0.3496, 0.3304,\n",
       "       0.3384, 0.3476, 0.3476, 0.316 , 0.312 , 0.3444, 0.3276, 0.316 ,\n",
       "       0.3416, 0.3364, 0.328 , 0.328 , 0.3336, 0.336 , 0.3304, 0.3192,\n",
       "       0.3376, 0.3228, 0.3292, 0.3272, 0.36  , 0.306 , 0.324 , 0.3208,\n",
       "       0.3488, 0.3412, 0.3416, 0.3216, 0.3324, 0.3424, 0.3364, 0.3368,\n",
       "       0.34  , 0.3256, 0.3348, 0.3132, 0.3476, 0.3176, 0.3248, 0.348 ,\n",
       "       0.3304, 0.3448, 0.3084, 0.3416, 0.3092, 0.3256, 0.3252, 0.344 ,\n",
       "       0.3732, 0.3216, 0.3416, 0.3208, 0.3396, 0.3368, 0.3188, 0.332 ,\n",
       "       0.3412, 0.3228, 0.3452, 0.332 , 0.3452, 0.316 , 0.3588, 0.3356,\n",
       "       0.3492, 0.33  , 0.3584, 0.3252, 0.3408, 0.3372, 0.3364, 0.344 ,\n",
       "       0.3376, 0.3216, 0.3204, 0.3304, 0.3376, 0.3412, 0.3348, 0.3444,\n",
       "       0.3324, 0.316 , 0.31  , 0.3624])"
      ]
     },
     "execution_count": 7,
     "metadata": {},
     "output_type": "execute_result"
    }
   ],
   "source": [
    "result = sampler.run_mcmc(start_pos, nsteps)\n",
    "sampler.acceptance_fraction"
   ]
  },
  {
   "cell_type": "code",
   "execution_count": 9,
   "metadata": {},
   "outputs": [],
   "source": [
    "import seaborn as sns\n",
    "import pandas as pd"
   ]
  },
  {
   "cell_type": "code",
   "execution_count": 10,
   "metadata": {},
   "outputs": [
    {
     "name": "stderr",
     "output_type": "stream",
     "text": [
      "/home/tle3/anaconda3/lib/python3.7/site-packages/seaborn/timeseries.py:183: UserWarning: The `tsplot` function is deprecated and will be removed in a future release. Please update your code to use the new `lineplot` function.\n",
      "  warnings.warn(msg, UserWarning)\n",
      "/home/tle3/anaconda3/lib/python3.7/site-packages/seaborn/timeseries.py:183: UserWarning: The `tsplot` function is deprecated and will be removed in a future release. Please update your code to use the new `lineplot` function.\n",
      "  warnings.warn(msg, UserWarning)\n",
      "/home/tle3/anaconda3/lib/python3.7/site-packages/seaborn/timeseries.py:183: UserWarning: The `tsplot` function is deprecated and will be removed in a future release. Please update your code to use the new `lineplot` function.\n",
      "  warnings.warn(msg, UserWarning)\n",
      "/home/tle3/anaconda3/lib/python3.7/site-packages/seaborn/timeseries.py:183: UserWarning: The `tsplot` function is deprecated and will be removed in a future release. Please update your code to use the new `lineplot` function.\n",
      "  warnings.warn(msg, UserWarning)\n",
      "/home/tle3/anaconda3/lib/python3.7/site-packages/seaborn/timeseries.py:183: UserWarning: The `tsplot` function is deprecated and will be removed in a future release. Please update your code to use the new `lineplot` function.\n",
      "  warnings.warn(msg, UserWarning)\n",
      "/home/tle3/anaconda3/lib/python3.7/site-packages/seaborn/timeseries.py:183: UserWarning: The `tsplot` function is deprecated and will be removed in a future release. Please update your code to use the new `lineplot` function.\n",
      "  warnings.warn(msg, UserWarning)\n",
      "/home/tle3/anaconda3/lib/python3.7/site-packages/seaborn/timeseries.py:183: UserWarning: The `tsplot` function is deprecated and will be removed in a future release. Please update your code to use the new `lineplot` function.\n",
      "  warnings.warn(msg, UserWarning)\n",
      "/home/tle3/anaconda3/lib/python3.7/site-packages/seaborn/timeseries.py:183: UserWarning: The `tsplot` function is deprecated and will be removed in a future release. Please update your code to use the new `lineplot` function.\n",
      "  warnings.warn(msg, UserWarning)\n",
      "/home/tle3/anaconda3/lib/python3.7/site-packages/seaborn/timeseries.py:183: UserWarning: The `tsplot` function is deprecated and will be removed in a future release. Please update your code to use the new `lineplot` function.\n",
      "  warnings.warn(msg, UserWarning)\n",
      "/home/tle3/anaconda3/lib/python3.7/site-packages/seaborn/timeseries.py:183: UserWarning: The `tsplot` function is deprecated and will be removed in a future release. Please update your code to use the new `lineplot` function.\n",
      "  warnings.warn(msg, UserWarning)\n",
      "/home/tle3/anaconda3/lib/python3.7/site-packages/seaborn/timeseries.py:183: UserWarning: The `tsplot` function is deprecated and will be removed in a future release. Please update your code to use the new `lineplot` function.\n",
      "  warnings.warn(msg, UserWarning)\n",
      "/home/tle3/anaconda3/lib/python3.7/site-packages/seaborn/timeseries.py:183: UserWarning: The `tsplot` function is deprecated and will be removed in a future release. Please update your code to use the new `lineplot` function.\n",
      "  warnings.warn(msg, UserWarning)\n",
      "/home/tle3/anaconda3/lib/python3.7/site-packages/seaborn/timeseries.py:183: UserWarning: The `tsplot` function is deprecated and will be removed in a future release. Please update your code to use the new `lineplot` function.\n",
      "  warnings.warn(msg, UserWarning)\n",
      "/home/tle3/anaconda3/lib/python3.7/site-packages/seaborn/timeseries.py:183: UserWarning: The `tsplot` function is deprecated and will be removed in a future release. Please update your code to use the new `lineplot` function.\n",
      "  warnings.warn(msg, UserWarning)\n",
      "/home/tle3/anaconda3/lib/python3.7/site-packages/seaborn/timeseries.py:183: UserWarning: The `tsplot` function is deprecated and will be removed in a future release. Please update your code to use the new `lineplot` function.\n",
      "  warnings.warn(msg, UserWarning)\n",
      "/home/tle3/anaconda3/lib/python3.7/site-packages/seaborn/timeseries.py:183: UserWarning: The `tsplot` function is deprecated and will be removed in a future release. Please update your code to use the new `lineplot` function.\n",
      "  warnings.warn(msg, UserWarning)\n",
      "/home/tle3/anaconda3/lib/python3.7/site-packages/seaborn/timeseries.py:183: UserWarning: The `tsplot` function is deprecated and will be removed in a future release. Please update your code to use the new `lineplot` function.\n",
      "  warnings.warn(msg, UserWarning)\n",
      "/home/tle3/anaconda3/lib/python3.7/site-packages/seaborn/timeseries.py:183: UserWarning: The `tsplot` function is deprecated and will be removed in a future release. Please update your code to use the new `lineplot` function.\n",
      "  warnings.warn(msg, UserWarning)\n",
      "/home/tle3/anaconda3/lib/python3.7/site-packages/seaborn/timeseries.py:183: UserWarning: The `tsplot` function is deprecated and will be removed in a future release. Please update your code to use the new `lineplot` function.\n",
      "  warnings.warn(msg, UserWarning)\n",
      "/home/tle3/anaconda3/lib/python3.7/site-packages/seaborn/timeseries.py:183: UserWarning: The `tsplot` function is deprecated and will be removed in a future release. Please update your code to use the new `lineplot` function.\n",
      "  warnings.warn(msg, UserWarning)\n"
     ]
    },
    {
     "data": {
      "image/png": "[encoded data removed]",
      "text/plain": [
       "<Figure size 432x288 with 2 Axes>"
      ]
     },
     "metadata": {
      "needs_background": "light"
     },
     "output_type": "display_data"
    }
   ],
   "source": [
    "plt.style.use('seaborn-deep')\n",
    "plt.rcParams['mathtext.fontset'] = 'stix'\n",
    "plt.rcParams['font.family'] = 'STIXGeneral'\n",
    "params = {'legend.fontsize': 'x-large',\n",
    "          'figure.figsize': (15, 5),\n",
    "         'axes.labelsize': 'x-large',\n",
    "         'axes.titlesize':'x-large',\n",
    "         'xtick.labelsize':'x-large',\n",
    "         'ytick.labelsize':'x-large'}\n",
    "\n",
    "fig, (ax0, ax1) = plt.subplots(2)\n",
    "ax0.set(ylabel='f(d0)')\n",
    "ax1.set(ylabel='f(d1)')\n",
    "\n",
    "for j in range(10):\n",
    "    sns.tsplot(sampler.chain[j, :, 0], ax=ax0)\n",
    "    sns.tsplot(sampler.chain[j, :, 1], ax=ax1)"
   ]
  },
  {
   "cell_type": "code",
   "execution_count": 12,
   "metadata": {},
   "outputs": [],
   "source": [
    "samples = sampler.chain[:,2300:,:]\n",
    "\n",
    "# reshape the samples into a 1D array where the colums are the f(d) values\n",
    "traces = samples.reshape(-1, ndim).T\n",
    "\n",
    "parameter_samples = pd.DataFrame({'f(d0)': traces[0], 'f(d1)': traces[1], 'f(d2)': traces[2], 'f(d3)': traces[3], 'f(d4)': traces[4], 'f(d5)': traces[5], 'f(d6)': traces[6], 'f(d7)': traces[7], 'f(d8)': traces[8], 'f(d9)': traces[9], 'f(d10)': traces[10], 'f(d11)': traces[11], 'f(d12)': traces[12], 'f(d13)': traces[13], 'f(d14)': traces[14], 'f(d15)': traces[15], 'f(d16)': traces[16], 'f(d17)': traces[17], 'f(d18)': traces[18], 'f(d19)': traces[19], 'beta': traces[20]})\n",
    "\n",
    "# calculate the MAP and values using pandas\n",
    "q = parameter_samples.quantile([0.16,0.50,0.84], axis=0)"
   ]
  },
  {
   "cell_type": "code",
   "execution_count": 13,
   "metadata": {},
   "outputs": [
    {
     "data": {
      "text/html": [
       "<div>\n",
       "<style scoped>\n",
       "    .dataframe tbody tr th:only-of-type {\n",
       "        vertical-align: middle;\n",
       "    }\n",
       "\n",
       "    .dataframe tbody tr th {\n",
       "        vertical-align: top;\n",
       "    }\n",
       "\n",
       "    .dataframe thead th {\n",
       "        text-align: right;\n",
       "    }\n",
       "</style>\n",
       "<table border=\"1\" class=\"dataframe\">\n",
       "  <thead>\n",
       "    <tr style=\"text-align: right;\">\n",
       "      <th></th>\n",
       "      <th>f(d0)</th>\n",
       "      <th>f(d1)</th>\n",
       "      <th>f(d2)</th>\n",
       "      <th>f(d3)</th>\n",
       "      <th>f(d4)</th>\n",
       "      <th>f(d5)</th>\n",
       "      <th>f(d6)</th>\n",
       "      <th>f(d7)</th>\n",
       "      <th>f(d8)</th>\n",
       "      <th>f(d9)</th>\n",
       "      <th>...</th>\n",
       "      <th>f(d11)</th>\n",
       "      <th>f(d12)</th>\n",
       "      <th>f(d13)</th>\n",
       "      <th>f(d14)</th>\n",
       "      <th>f(d15)</th>\n",
       "      <th>f(d16)</th>\n",
       "      <th>f(d17)</th>\n",
       "      <th>f(d18)</th>\n",
       "      <th>f(d19)</th>\n",
       "      <th>beta</th>\n",
       "    </tr>\n",
       "  </thead>\n",
       "  <tbody>\n",
       "    <tr>\n",
       "      <th>0.16</th>\n",
       "      <td>219.588241</td>\n",
       "      <td>645.157026</td>\n",
       "      <td>20.075301</td>\n",
       "      <td>19.966817</td>\n",
       "      <td>24.213410</td>\n",
       "      <td>3038.558413</td>\n",
       "      <td>252.922682</td>\n",
       "      <td>139.146105</td>\n",
       "      <td>2702.859049</td>\n",
       "      <td>124.964226</td>\n",
       "      <td>...</td>\n",
       "      <td>99.256242</td>\n",
       "      <td>192.122690</td>\n",
       "      <td>793.931256</td>\n",
       "      <td>3.340933e+06</td>\n",
       "      <td>8.304854e+08</td>\n",
       "      <td>1.385934e+09</td>\n",
       "      <td>1.552960e+07</td>\n",
       "      <td>127.925563</td>\n",
       "      <td>5.760562</td>\n",
       "      <td>0.549769</td>\n",
       "    </tr>\n",
       "    <tr>\n",
       "      <th>0.50</th>\n",
       "      <td>271.852942</td>\n",
       "      <td>675.052128</td>\n",
       "      <td>37.275498</td>\n",
       "      <td>28.450174</td>\n",
       "      <td>41.109501</td>\n",
       "      <td>3146.778869</td>\n",
       "      <td>287.978622</td>\n",
       "      <td>212.784395</td>\n",
       "      <td>2777.908096</td>\n",
       "      <td>171.783386</td>\n",
       "      <td>...</td>\n",
       "      <td>146.189104</td>\n",
       "      <td>383.103542</td>\n",
       "      <td>836.537262</td>\n",
       "      <td>3.341091e+06</td>\n",
       "      <td>8.304855e+08</td>\n",
       "      <td>1.385934e+09</td>\n",
       "      <td>1.552985e+07</td>\n",
       "      <td>203.047625</td>\n",
       "      <td>13.330513</td>\n",
       "      <td>0.923271</td>\n",
       "    </tr>\n",
       "    <tr>\n",
       "      <th>0.84</th>\n",
       "      <td>305.430620</td>\n",
       "      <td>700.788723</td>\n",
       "      <td>62.638278</td>\n",
       "      <td>37.661560</td>\n",
       "      <td>58.527178</td>\n",
       "      <td>3259.654094</td>\n",
       "      <td>341.175797</td>\n",
       "      <td>285.754197</td>\n",
       "      <td>2947.815452</td>\n",
       "      <td>218.835284</td>\n",
       "      <td>...</td>\n",
       "      <td>206.738580</td>\n",
       "      <td>567.657662</td>\n",
       "      <td>902.198797</td>\n",
       "      <td>3.341286e+06</td>\n",
       "      <td>8.304855e+08</td>\n",
       "      <td>1.385934e+09</td>\n",
       "      <td>1.553007e+07</td>\n",
       "      <td>256.710829</td>\n",
       "      <td>30.210731</td>\n",
       "      <td>1.321700</td>\n",
       "    </tr>\n",
       "  </tbody>\n",
       "</table>\n",
       "<p>3 rows × 21 columns</p>\n",
       "</div>"
      ],
      "text/plain": [
       "           f(d0)       f(d1)      f(d2)      f(d3)      f(d4)        f(d5)  \\\n",
       "0.16  219.588241  645.157026  20.075301  19.966817  24.213410  3038.558413   \n",
       "0.50  271.852942  675.052128  37.275498  28.450174  41.109501  3146.778869   \n",
       "0.84  305.430620  700.788723  62.638278  37.661560  58.527178  3259.654094   \n",
       "\n",
       "           f(d6)       f(d7)        f(d8)       f(d9)  ...      f(d11)  \\\n",
       "0.16  252.922682  139.146105  2702.859049  124.964226  ...   99.256242   \n",
       "0.50  287.978622  212.784395  2777.908096  171.783386  ...  146.189104   \n",
       "0.84  341.175797  285.754197  2947.815452  218.835284  ...  206.738580   \n",
       "\n",
       "          f(d12)      f(d13)        f(d14)        f(d15)        f(d16)  \\\n",
       "0.16  192.122690  793.931256  3.340933e+06  8.304854e+08  1.385934e+09   \n",
       "0.50  383.103542  836.537262  3.341091e+06  8.304855e+08  1.385934e+09   \n",
       "0.84  567.657662  902.198797  3.341286e+06  8.304855e+08  1.385934e+09   \n",
       "\n",
       "            f(d17)      f(d18)     f(d19)      beta  \n",
       "0.16  1.552960e+07  127.925563   5.760562  0.549769  \n",
       "0.50  1.552985e+07  203.047625  13.330513  0.923271  \n",
       "0.84  1.553007e+07  256.710829  30.210731  1.321700  \n",
       "\n",
       "[3 rows x 21 columns]"
      ]
     },
     "execution_count": 13,
     "metadata": {},
     "output_type": "execute_result"
    }
   ],
   "source": [
    "q"
   ]
  },
  {
   "cell_type": "code",
   "execution_count": 15,
   "metadata": {},
   "outputs": [],
   "source": [
    "infer_f = q.quantile([0.5], axis=0)\n",
    "infer_f = infer_f.values\n",
    "infer_f = infer_f.flatten()"
   ]
  },
  {
   "cell_type": "code",
   "execution_count": 17,
   "metadata": {},
   "outputs": [
    {
     "data": {
      "text/plain": [
       "[<matplotlib.lines.Line2D at 0x7feb215706a0>]"
      ]
     },
     "execution_count": 17,
     "metadata": {},
     "output_type": "execute_result"
    },
    {
     "data": {
      "image/png": "[encoded data removed]",
      "text/plain": [
       "<Figure size 432x288 with 1 Axes>"
      ]
     },
     "metadata": {
      "needs_background": "light"
     },
     "output_type": "display_data"
    }
   ],
   "source": [
    "plt.plot(d, infer_f[0:m])"
   ]
  },
  {
   "cell_type": "code",
   "execution_count": 18,
   "metadata": {},
   "outputs": [
    {
     "data": {
      "text/plain": [
       "[<matplotlib.lines.Line2D at 0x7feb2152a780>]"
      ]
     },
     "execution_count": 18,
     "metadata": {},
     "output_type": "execute_result"
    },
    {
     "data": {
      "image/png": "[encoded data removed]",
      "text/plain": [
       "<Figure size 432x288 with 1 Axes>"
      ]
     },
     "metadata": {
      "needs_background": "light"
     },
     "output_type": "display_data"
    }
   ],
   "source": [
    "infer_g2 = dls.g2(infer_f, d, m, gamma, time_in)\n",
    "plt.semilogx(time_in, infer_g2)"
   ]
  },
  {
   "cell_type": "code",
   "execution_count": 19,
   "metadata": {},
   "outputs": [
    {
     "data": {
      "text/plain": [
       "[<matplotlib.lines.Line2D at 0x7feb214956d8>]"
      ]
     },
     "execution_count": 19,
     "metadata": {},
     "output_type": "execute_result"
    },
    {
     "data": {
      "image/png": "[encoded data removed]",
      "text/plain": [
       "<Figure size 432x288 with 1 Axes>"
      ]
     },
     "metadata": {
      "needs_background": "light"
     },
     "output_type": "display_data"
    }
   ],
   "source": [
    "plt.semilogx(time_in, infer_g2 - sim_data)"
   ]
  },
  {
   "cell_type": "code",
   "execution_count": null,
   "metadata": {},
   "outputs": [],
   "source": []
  }
 ],
 "metadata": {
  "kernelspec": {
   "display_name": "Python 3",
   "language": "python",
   "name": "python3"
  },
  "language_info": {
   "codemirror_mode": {
    "name": "ipython",
    "version": 3
   },
   "file_extension": ".py",
   "mimetype": "text/x-python",
   "name": "python",
   "nbconvert_exporter": "python",
   "pygments_lexer": "ipython3",
   "version": "3.7.3"
  }
 },
 "nbformat": 4,
 "nbformat_minor": 2
}
